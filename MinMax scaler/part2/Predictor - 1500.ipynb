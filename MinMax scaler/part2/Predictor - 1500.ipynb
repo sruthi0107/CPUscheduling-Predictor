{
 "cells": [
  {
   "cell_type": "code",
   "execution_count": 1,
   "metadata": {},
   "outputs": [
    {
     "name": "stderr",
     "output_type": "stream",
     "text": [
      "C:\\Users\\user\\anaconda3\\lib\\site-packages\\tensorflow\\python\\framework\\dtypes.py:516: FutureWarning: Passing (type, 1) or '1type' as a synonym of type is deprecated; in a future version of numpy, it will be understood as (type, (1,)) / '(1,)type'.\n",
      "  _np_qint8 = np.dtype([(\"qint8\", np.int8, 1)])\n",
      "C:\\Users\\user\\anaconda3\\lib\\site-packages\\tensorflow\\python\\framework\\dtypes.py:517: FutureWarning: Passing (type, 1) or '1type' as a synonym of type is deprecated; in a future version of numpy, it will be understood as (type, (1,)) / '(1,)type'.\n",
      "  _np_quint8 = np.dtype([(\"quint8\", np.uint8, 1)])\n",
      "C:\\Users\\user\\anaconda3\\lib\\site-packages\\tensorflow\\python\\framework\\dtypes.py:518: FutureWarning: Passing (type, 1) or '1type' as a synonym of type is deprecated; in a future version of numpy, it will be understood as (type, (1,)) / '(1,)type'.\n",
      "  _np_qint16 = np.dtype([(\"qint16\", np.int16, 1)])\n",
      "C:\\Users\\user\\anaconda3\\lib\\site-packages\\tensorflow\\python\\framework\\dtypes.py:519: FutureWarning: Passing (type, 1) or '1type' as a synonym of type is deprecated; in a future version of numpy, it will be understood as (type, (1,)) / '(1,)type'.\n",
      "  _np_quint16 = np.dtype([(\"quint16\", np.uint16, 1)])\n",
      "C:\\Users\\user\\anaconda3\\lib\\site-packages\\tensorflow\\python\\framework\\dtypes.py:520: FutureWarning: Passing (type, 1) or '1type' as a synonym of type is deprecated; in a future version of numpy, it will be understood as (type, (1,)) / '(1,)type'.\n",
      "  _np_qint32 = np.dtype([(\"qint32\", np.int32, 1)])\n",
      "C:\\Users\\user\\anaconda3\\lib\\site-packages\\tensorflow\\python\\framework\\dtypes.py:525: FutureWarning: Passing (type, 1) or '1type' as a synonym of type is deprecated; in a future version of numpy, it will be understood as (type, (1,)) / '(1,)type'.\n",
      "  np_resource = np.dtype([(\"resource\", np.ubyte, 1)])\n",
      "C:\\Users\\user\\anaconda3\\lib\\site-packages\\tensorboard\\compat\\tensorflow_stub\\dtypes.py:541: FutureWarning: Passing (type, 1) or '1type' as a synonym of type is deprecated; in a future version of numpy, it will be understood as (type, (1,)) / '(1,)type'.\n",
      "  _np_qint8 = np.dtype([(\"qint8\", np.int8, 1)])\n",
      "C:\\Users\\user\\anaconda3\\lib\\site-packages\\tensorboard\\compat\\tensorflow_stub\\dtypes.py:542: FutureWarning: Passing (type, 1) or '1type' as a synonym of type is deprecated; in a future version of numpy, it will be understood as (type, (1,)) / '(1,)type'.\n",
      "  _np_quint8 = np.dtype([(\"quint8\", np.uint8, 1)])\n",
      "C:\\Users\\user\\anaconda3\\lib\\site-packages\\tensorboard\\compat\\tensorflow_stub\\dtypes.py:543: FutureWarning: Passing (type, 1) or '1type' as a synonym of type is deprecated; in a future version of numpy, it will be understood as (type, (1,)) / '(1,)type'.\n",
      "  _np_qint16 = np.dtype([(\"qint16\", np.int16, 1)])\n",
      "C:\\Users\\user\\anaconda3\\lib\\site-packages\\tensorboard\\compat\\tensorflow_stub\\dtypes.py:544: FutureWarning: Passing (type, 1) or '1type' as a synonym of type is deprecated; in a future version of numpy, it will be understood as (type, (1,)) / '(1,)type'.\n",
      "  _np_quint16 = np.dtype([(\"quint16\", np.uint16, 1)])\n",
      "C:\\Users\\user\\anaconda3\\lib\\site-packages\\tensorboard\\compat\\tensorflow_stub\\dtypes.py:545: FutureWarning: Passing (type, 1) or '1type' as a synonym of type is deprecated; in a future version of numpy, it will be understood as (type, (1,)) / '(1,)type'.\n",
      "  _np_qint32 = np.dtype([(\"qint32\", np.int32, 1)])\n",
      "C:\\Users\\user\\anaconda3\\lib\\site-packages\\tensorboard\\compat\\tensorflow_stub\\dtypes.py:550: FutureWarning: Passing (type, 1) or '1type' as a synonym of type is deprecated; in a future version of numpy, it will be understood as (type, (1,)) / '(1,)type'.\n",
      "  np_resource = np.dtype([(\"resource\", np.ubyte, 1)])\n"
     ]
    }
   ],
   "source": [
    "import pandas as pd\n",
    "import numpy as np\n",
    "from sklearn.ensemble import AdaBoostClassifier\n",
    "from sklearn.model_selection import train_test_split\n",
    "from sklearn.metrics import accuracy_score\n",
    "from sklearn.model_selection import GridSearchCV\n",
    "from sklearn.preprocessing import MinMaxScaler\n",
    "from sklearn.ensemble import GradientBoostingClassifier\n",
    "from sklearn.metrics import mean_squared_error\n",
    "from sklearn import model_selection\n",
    "from sklearn.ensemble import BaggingClassifier\n",
    "from sklearn.ensemble import RandomForestClassifier\n",
    "from sklearn.ensemble import ExtraTreesClassifier\n",
    "from sklearn.tree import DecisionTreeClassifier\n",
    "from sklearn.svm import SVC\n",
    "import tensorflow\n",
    "from tensorflow.keras.datasets import mnist\n",
    "from tensorflow.keras.models import Sequential\n",
    "from tensorflow.keras.layers import Dense,Dropout\n",
    "from tensorflow.keras.optimizers import RMSprop\n",
    "from sklearn.neural_network import MLPClassifier\n",
    "from sklearn.metrics import classification_report,confusion_matrix,homogeneity_score,completeness_score,v_measure_score"
   ]
  },
  {
   "cell_type": "code",
   "execution_count": 2,
   "metadata": {},
   "outputs": [],
   "source": [
    "df=pd.read_csv(\"Dataset_1500.csv\")"
   ]
  },
  {
   "cell_type": "code",
   "execution_count": 3,
   "metadata": {},
   "outputs": [
    {
     "data": {
      "text/html": [
       "<div>\n",
       "<style scoped>\n",
       "    .dataframe tbody tr th:only-of-type {\n",
       "        vertical-align: middle;\n",
       "    }\n",
       "\n",
       "    .dataframe tbody tr th {\n",
       "        vertical-align: top;\n",
       "    }\n",
       "\n",
       "    .dataframe thead th {\n",
       "        text-align: right;\n",
       "    }\n",
       "</style>\n",
       "<table border=\"1\" class=\"dataframe\">\n",
       "  <thead>\n",
       "    <tr style=\"text-align: right;\">\n",
       "      <th></th>\n",
       "      <th>Arrival_time1</th>\n",
       "      <th>Burst_time1</th>\n",
       "      <th>Arrival_time2</th>\n",
       "      <th>Burst_time2</th>\n",
       "      <th>Arrival_time3</th>\n",
       "      <th>Burst_time3</th>\n",
       "      <th>Arrival_time4</th>\n",
       "      <th>Burst_time4</th>\n",
       "      <th>Arrival_time5</th>\n",
       "      <th>Burst_time5</th>\n",
       "      <th>Labels</th>\n",
       "    </tr>\n",
       "  </thead>\n",
       "  <tbody>\n",
       "    <tr>\n",
       "      <th>0</th>\n",
       "      <td>0</td>\n",
       "      <td>7</td>\n",
       "      <td>0</td>\n",
       "      <td>5</td>\n",
       "      <td>9</td>\n",
       "      <td>9</td>\n",
       "      <td>0</td>\n",
       "      <td>15</td>\n",
       "      <td>2</td>\n",
       "      <td>1</td>\n",
       "      <td>SRTF</td>\n",
       "    </tr>\n",
       "    <tr>\n",
       "      <th>1</th>\n",
       "      <td>7</td>\n",
       "      <td>9</td>\n",
       "      <td>7</td>\n",
       "      <td>15</td>\n",
       "      <td>3</td>\n",
       "      <td>7</td>\n",
       "      <td>10</td>\n",
       "      <td>4</td>\n",
       "      <td>4</td>\n",
       "      <td>13</td>\n",
       "      <td>SJF</td>\n",
       "    </tr>\n",
       "    <tr>\n",
       "      <th>2</th>\n",
       "      <td>5</td>\n",
       "      <td>4</td>\n",
       "      <td>7</td>\n",
       "      <td>14</td>\n",
       "      <td>3</td>\n",
       "      <td>16</td>\n",
       "      <td>4</td>\n",
       "      <td>4</td>\n",
       "      <td>2</td>\n",
       "      <td>5</td>\n",
       "      <td>SJF</td>\n",
       "    </tr>\n",
       "    <tr>\n",
       "      <th>3</th>\n",
       "      <td>7</td>\n",
       "      <td>16</td>\n",
       "      <td>2</td>\n",
       "      <td>7</td>\n",
       "      <td>6</td>\n",
       "      <td>16</td>\n",
       "      <td>1</td>\n",
       "      <td>19</td>\n",
       "      <td>3</td>\n",
       "      <td>18</td>\n",
       "      <td>SRTF</td>\n",
       "    </tr>\n",
       "    <tr>\n",
       "      <th>4</th>\n",
       "      <td>10</td>\n",
       "      <td>11</td>\n",
       "      <td>1</td>\n",
       "      <td>5</td>\n",
       "      <td>8</td>\n",
       "      <td>8</td>\n",
       "      <td>10</td>\n",
       "      <td>2</td>\n",
       "      <td>9</td>\n",
       "      <td>12</td>\n",
       "      <td>SRTF</td>\n",
       "    </tr>\n",
       "    <tr>\n",
       "      <th>...</th>\n",
       "      <td>...</td>\n",
       "      <td>...</td>\n",
       "      <td>...</td>\n",
       "      <td>...</td>\n",
       "      <td>...</td>\n",
       "      <td>...</td>\n",
       "      <td>...</td>\n",
       "      <td>...</td>\n",
       "      <td>...</td>\n",
       "      <td>...</td>\n",
       "      <td>...</td>\n",
       "    </tr>\n",
       "    <tr>\n",
       "      <th>1495</th>\n",
       "      <td>0</td>\n",
       "      <td>7</td>\n",
       "      <td>0</td>\n",
       "      <td>18</td>\n",
       "      <td>9</td>\n",
       "      <td>11</td>\n",
       "      <td>0</td>\n",
       "      <td>8</td>\n",
       "      <td>10</td>\n",
       "      <td>7</td>\n",
       "      <td>SJF</td>\n",
       "    </tr>\n",
       "    <tr>\n",
       "      <th>1496</th>\n",
       "      <td>8</td>\n",
       "      <td>9</td>\n",
       "      <td>0</td>\n",
       "      <td>13</td>\n",
       "      <td>6</td>\n",
       "      <td>18</td>\n",
       "      <td>1</td>\n",
       "      <td>6</td>\n",
       "      <td>9</td>\n",
       "      <td>17</td>\n",
       "      <td>SRTF</td>\n",
       "    </tr>\n",
       "    <tr>\n",
       "      <th>1497</th>\n",
       "      <td>3</td>\n",
       "      <td>19</td>\n",
       "      <td>8</td>\n",
       "      <td>9</td>\n",
       "      <td>10</td>\n",
       "      <td>19</td>\n",
       "      <td>2</td>\n",
       "      <td>19</td>\n",
       "      <td>0</td>\n",
       "      <td>2</td>\n",
       "      <td>SRTF</td>\n",
       "    </tr>\n",
       "    <tr>\n",
       "      <th>1498</th>\n",
       "      <td>7</td>\n",
       "      <td>11</td>\n",
       "      <td>8</td>\n",
       "      <td>15</td>\n",
       "      <td>9</td>\n",
       "      <td>6</td>\n",
       "      <td>0</td>\n",
       "      <td>15</td>\n",
       "      <td>7</td>\n",
       "      <td>1</td>\n",
       "      <td>SRTF</td>\n",
       "    </tr>\n",
       "    <tr>\n",
       "      <th>1499</th>\n",
       "      <td>3</td>\n",
       "      <td>16</td>\n",
       "      <td>10</td>\n",
       "      <td>10</td>\n",
       "      <td>9</td>\n",
       "      <td>14</td>\n",
       "      <td>4</td>\n",
       "      <td>10</td>\n",
       "      <td>1</td>\n",
       "      <td>14</td>\n",
       "      <td>SRTF</td>\n",
       "    </tr>\n",
       "  </tbody>\n",
       "</table>\n",
       "<p>1500 rows × 11 columns</p>\n",
       "</div>"
      ],
      "text/plain": [
       "      Arrival_time1  Burst_time1  Arrival_time2  Burst_time2  Arrival_time3  \\\n",
       "0                 0            7              0            5              9   \n",
       "1                 7            9              7           15              3   \n",
       "2                 5            4              7           14              3   \n",
       "3                 7           16              2            7              6   \n",
       "4                10           11              1            5              8   \n",
       "...             ...          ...            ...          ...            ...   \n",
       "1495              0            7              0           18              9   \n",
       "1496              8            9              0           13              6   \n",
       "1497              3           19              8            9             10   \n",
       "1498              7           11              8           15              9   \n",
       "1499              3           16             10           10              9   \n",
       "\n",
       "      Burst_time3  Arrival_time4  Burst_time4  Arrival_time5  Burst_time5  \\\n",
       "0               9              0           15              2            1   \n",
       "1               7             10            4              4           13   \n",
       "2              16              4            4              2            5   \n",
       "3              16              1           19              3           18   \n",
       "4               8             10            2              9           12   \n",
       "...           ...            ...          ...            ...          ...   \n",
       "1495           11              0            8             10            7   \n",
       "1496           18              1            6              9           17   \n",
       "1497           19              2           19              0            2   \n",
       "1498            6              0           15              7            1   \n",
       "1499           14              4           10              1           14   \n",
       "\n",
       "     Labels  \n",
       "0      SRTF  \n",
       "1       SJF  \n",
       "2       SJF  \n",
       "3      SRTF  \n",
       "4      SRTF  \n",
       "...     ...  \n",
       "1495    SJF  \n",
       "1496   SRTF  \n",
       "1497   SRTF  \n",
       "1498   SRTF  \n",
       "1499   SRTF  \n",
       "\n",
       "[1500 rows x 11 columns]"
      ]
     },
     "execution_count": 3,
     "metadata": {},
     "output_type": "execute_result"
    }
   ],
   "source": [
    "df"
   ]
  },
  {
   "cell_type": "code",
   "execution_count": 4,
   "metadata": {},
   "outputs": [],
   "source": [
    "dict_diff={\n",
    "    'FCFS':0,\n",
    "    'SJF':1,\n",
    "    'SRTF':2,\n",
    "    'RR':3\n",
    "    }"
   ]
  },
  {
   "cell_type": "code",
   "execution_count": 5,
   "metadata": {},
   "outputs": [],
   "source": [
    "df['Labels']=df['Labels'].apply(lambda x:dict_diff[x])"
   ]
  },
  {
   "cell_type": "code",
   "execution_count": 6,
   "metadata": {},
   "outputs": [
    {
     "data": {
      "text/plain": [
       "array([2, 1, 1, ..., 2, 2, 2], dtype=int64)"
      ]
     },
     "execution_count": 6,
     "metadata": {},
     "output_type": "execute_result"
    }
   ],
   "source": [
    "features=df.loc[:,df.columns!='Labels'].values[:,:]\n",
    "labels=df.loc[:,'Labels'].values\n",
    "labels"
   ]
  },
  {
   "cell_type": "code",
   "execution_count": 7,
   "metadata": {},
   "outputs": [
    {
     "data": {
      "text/plain": [
       "(1500, 10)"
      ]
     },
     "execution_count": 7,
     "metadata": {},
     "output_type": "execute_result"
    }
   ],
   "source": [
    "scaler=MinMaxScaler((-1,1))\n",
    "x=scaler.fit_transform(features)\n",
    "y=labels\n",
    "x.shape"
   ]
  },
  {
   "cell_type": "code",
   "execution_count": 8,
   "metadata": {},
   "outputs": [],
   "source": [
    "x_train,x_test,y_train,y_test=train_test_split(x, y, test_size=0.3, random_state=7)"
   ]
  },
  {
   "cell_type": "markdown",
   "metadata": {},
   "source": [
    "## AdaBoost"
   ]
  },
  {
   "cell_type": "markdown",
   "metadata": {},
   "source": [
    "### Model 1"
   ]
  },
  {
   "cell_type": "code",
   "execution_count": 9,
   "metadata": {},
   "outputs": [],
   "source": [
    "abc = AdaBoostClassifier(n_estimators=50,learning_rate=1)\n",
    "model3 = abc.fit(x_train, y_train)\n",
    "y_pred3 = model3.predict(x_test)"
   ]
  },
  {
   "cell_type": "code",
   "execution_count": 10,
   "metadata": {},
   "outputs": [
    {
     "data": {
      "text/plain": [
       "0.3377777777777778"
      ]
     },
     "execution_count": 10,
     "metadata": {},
     "output_type": "execute_result"
    }
   ],
   "source": [
    "accuracy_score(y_test, y_pred3)"
   ]
  },
  {
   "cell_type": "markdown",
   "metadata": {},
   "source": [
    "### Model 2"
   ]
  },
  {
   "cell_type": "code",
   "execution_count": 11,
   "metadata": {},
   "outputs": [],
   "source": [
    "param_grid = {'n_estimators':[10,20,30,40,50],'learning_rate':[1,2,3,4,5],'algorithm':['SAMME','SAMME.R']}"
   ]
  },
  {
   "cell_type": "code",
   "execution_count": 12,
   "metadata": {},
   "outputs": [],
   "source": [
    "grid = GridSearchCV(AdaBoostClassifier(),param_grid,refit=True,verbose=3)"
   ]
  },
  {
   "cell_type": "code",
   "execution_count": 13,
   "metadata": {},
   "outputs": [
    {
     "name": "stdout",
     "output_type": "stream",
     "text": [
      "Fitting 5 folds for each of 50 candidates, totalling 250 fits\n",
      "[CV 1/5] END algorithm=SAMME, learning_rate=1, n_estimators=10;, score=0.514 total time=   0.0s\n",
      "[CV 2/5] END algorithm=SAMME, learning_rate=1, n_estimators=10;, score=0.552 total time=   0.0s\n",
      "[CV 3/5] END algorithm=SAMME, learning_rate=1, n_estimators=10;, score=0.557 total time=   0.0s\n",
      "[CV 4/5] END algorithm=SAMME, learning_rate=1, n_estimators=10;, score=0.524 total time=   0.0s\n",
      "[CV 5/5] END algorithm=SAMME, learning_rate=1, n_estimators=10;, score=0.576 total time=   0.0s\n",
      "[CV 1/5] END algorithm=SAMME, learning_rate=1, n_estimators=20;, score=0.552 total time=   0.0s\n",
      "[CV 2/5] END algorithm=SAMME, learning_rate=1, n_estimators=20;, score=0.519 total time=   0.0s\n"
     ]
    },
    {
     "name": "stderr",
     "output_type": "stream",
     "text": [
      "C:\\Users\\user\\anaconda3\\lib\\site-packages\\sklearn\\model_selection\\_split.py:668: UserWarning: The least populated class in y has only 3 members, which is less than n_splits=5.\n",
      "  % (min_groups, self.n_splits)), UserWarning)\n"
     ]
    },
    {
     "name": "stdout",
     "output_type": "stream",
     "text": [
      "[CV 3/5] END algorithm=SAMME, learning_rate=1, n_estimators=20;, score=0.486 total time=   0.0s\n",
      "[CV 4/5] END algorithm=SAMME, learning_rate=1, n_estimators=20;, score=0.486 total time=   0.0s\n",
      "[CV 5/5] END algorithm=SAMME, learning_rate=1, n_estimators=20;, score=0.414 total time=   0.0s\n",
      "[CV 1/5] END algorithm=SAMME, learning_rate=1, n_estimators=30;, score=0.581 total time=   0.0s\n",
      "[CV 2/5] END algorithm=SAMME, learning_rate=1, n_estimators=30;, score=0.471 total time=   0.0s\n",
      "[CV 3/5] END algorithm=SAMME, learning_rate=1, n_estimators=30;, score=0.438 total time=   0.0s\n",
      "[CV 4/5] END algorithm=SAMME, learning_rate=1, n_estimators=30;, score=0.505 total time=   0.0s\n",
      "[CV 5/5] END algorithm=SAMME, learning_rate=1, n_estimators=30;, score=0.533 total time=   0.0s\n",
      "[CV 1/5] END algorithm=SAMME, learning_rate=1, n_estimators=40;, score=0.581 total time=   0.0s\n",
      "[CV 2/5] END algorithm=SAMME, learning_rate=1, n_estimators=40;, score=0.533 total time=   0.0s\n",
      "[CV 3/5] END algorithm=SAMME, learning_rate=1, n_estimators=40;, score=0.462 total time=   0.0s\n",
      "[CV 4/5] END algorithm=SAMME, learning_rate=1, n_estimators=40;, score=0.557 total time=   0.0s\n",
      "[CV 5/5] END algorithm=SAMME, learning_rate=1, n_estimators=40;, score=0.495 total time=   0.0s\n",
      "[CV 1/5] END algorithm=SAMME, learning_rate=1, n_estimators=50;, score=0.529 total time=   0.0s\n",
      "[CV 2/5] END algorithm=SAMME, learning_rate=1, n_estimators=50;, score=0.495 total time=   0.0s\n",
      "[CV 3/5] END algorithm=SAMME, learning_rate=1, n_estimators=50;, score=0.462 total time=   0.0s\n",
      "[CV 4/5] END algorithm=SAMME, learning_rate=1, n_estimators=50;, score=0.490 total time=   0.0s\n",
      "[CV 5/5] END algorithm=SAMME, learning_rate=1, n_estimators=50;, score=0.533 total time=   0.0s\n",
      "[CV 1/5] END algorithm=SAMME, learning_rate=2, n_estimators=10;, score=0.486 total time=   0.0s\n",
      "[CV 2/5] END algorithm=SAMME, learning_rate=2, n_estimators=10;, score=0.481 total time=   0.0s\n",
      "[CV 3/5] END algorithm=SAMME, learning_rate=2, n_estimators=10;, score=0.543 total time=   0.0s\n",
      "[CV 4/5] END algorithm=SAMME, learning_rate=2, n_estimators=10;, score=0.414 total time=   0.0s\n",
      "[CV 5/5] END algorithm=SAMME, learning_rate=2, n_estimators=10;, score=0.510 total time=   0.0s\n",
      "[CV 1/5] END algorithm=SAMME, learning_rate=2, n_estimators=20;, score=0.376 total time=   0.0s\n",
      "[CV 2/5] END algorithm=SAMME, learning_rate=2, n_estimators=20;, score=0.462 total time=   0.0s\n",
      "[CV 3/5] END algorithm=SAMME, learning_rate=2, n_estimators=20;, score=0.305 total time=   0.0s\n",
      "[CV 4/5] END algorithm=SAMME, learning_rate=2, n_estimators=20;, score=0.395 total time=   0.0s\n",
      "[CV 5/5] END algorithm=SAMME, learning_rate=2, n_estimators=20;, score=0.405 total time=   0.0s\n",
      "[CV 1/5] END algorithm=SAMME, learning_rate=2, n_estimators=30;, score=0.586 total time=   0.0s\n",
      "[CV 2/5] END algorithm=SAMME, learning_rate=2, n_estimators=30;, score=0.481 total time=   0.0s\n",
      "[CV 3/5] END algorithm=SAMME, learning_rate=2, n_estimators=30;, score=0.452 total time=   0.0s\n",
      "[CV 4/5] END algorithm=SAMME, learning_rate=2, n_estimators=30;, score=0.343 total time=   0.0s\n",
      "[CV 5/5] END algorithm=SAMME, learning_rate=2, n_estimators=30;, score=0.500 total time=   0.0s\n",
      "[CV 1/5] END algorithm=SAMME, learning_rate=2, n_estimators=40;, score=0.419 total time=   0.0s\n",
      "[CV 2/5] END algorithm=SAMME, learning_rate=2, n_estimators=40;, score=0.471 total time=   0.0s\n",
      "[CV 3/5] END algorithm=SAMME, learning_rate=2, n_estimators=40;, score=0.433 total time=   0.0s\n",
      "[CV 4/5] END algorithm=SAMME, learning_rate=2, n_estimators=40;, score=0.419 total time=   0.0s\n",
      "[CV 5/5] END algorithm=SAMME, learning_rate=2, n_estimators=40;, score=0.357 total time=   0.0s\n",
      "[CV 1/5] END algorithm=SAMME, learning_rate=2, n_estimators=50;, score=0.481 total time=   0.0s\n",
      "[CV 2/5] END algorithm=SAMME, learning_rate=2, n_estimators=50;, score=0.510 total time=   0.0s\n",
      "[CV 3/5] END algorithm=SAMME, learning_rate=2, n_estimators=50;, score=0.476 total time=   0.0s\n",
      "[CV 4/5] END algorithm=SAMME, learning_rate=2, n_estimators=50;, score=0.290 total time=   0.0s\n",
      "[CV 5/5] END algorithm=SAMME, learning_rate=2, n_estimators=50;, score=0.376 total time=   0.0s\n",
      "[CV 1/5] END algorithm=SAMME, learning_rate=3, n_estimators=10;, score=0.486 total time=   0.0s\n",
      "[CV 2/5] END algorithm=SAMME, learning_rate=3, n_estimators=10;, score=0.524 total time=   0.0s\n",
      "[CV 3/5] END algorithm=SAMME, learning_rate=3, n_estimators=10;, score=0.224 total time=   0.0s\n",
      "[CV 4/5] END algorithm=SAMME, learning_rate=3, n_estimators=10;, score=0.462 total time=   0.0s\n",
      "[CV 5/5] END algorithm=SAMME, learning_rate=3, n_estimators=10;, score=0.562 total time=   0.0s\n",
      "[CV 1/5] END algorithm=SAMME, learning_rate=3, n_estimators=20;, score=0.319 total time=   0.0s\n",
      "[CV 2/5] END algorithm=SAMME, learning_rate=3, n_estimators=20;, score=0.157 total time=   0.0s\n",
      "[CV 3/5] END algorithm=SAMME, learning_rate=3, n_estimators=20;, score=0.562 total time=   0.0s\n",
      "[CV 4/5] END algorithm=SAMME, learning_rate=3, n_estimators=20;, score=0.276 total time=   0.0s\n",
      "[CV 5/5] END algorithm=SAMME, learning_rate=3, n_estimators=20;, score=0.186 total time=   0.0s\n",
      "[CV 1/5] END algorithm=SAMME, learning_rate=3, n_estimators=30;, score=0.381 total time=   0.0s\n",
      "[CV 2/5] END algorithm=SAMME, learning_rate=3, n_estimators=30;, score=0.310 total time=   0.0s\n",
      "[CV 3/5] END algorithm=SAMME, learning_rate=3, n_estimators=30;, score=0.471 total time=   0.0s\n",
      "[CV 4/5] END algorithm=SAMME, learning_rate=3, n_estimators=30;, score=0.329 total time=   0.0s\n",
      "[CV 5/5] END algorithm=SAMME, learning_rate=3, n_estimators=30;, score=0.338 total time=   0.0s\n",
      "[CV 1/5] END algorithm=SAMME, learning_rate=3, n_estimators=40;, score=0.329 total time=   0.0s\n",
      "[CV 2/5] END algorithm=SAMME, learning_rate=3, n_estimators=40;, score=0.514 total time=   0.0s\n",
      "[CV 3/5] END algorithm=SAMME, learning_rate=3, n_estimators=40;, score=0.400 total time=   0.0s\n",
      "[CV 4/5] END algorithm=SAMME, learning_rate=3, n_estimators=40;, score=0.295 total time=   0.0s\n",
      "[CV 5/5] END algorithm=SAMME, learning_rate=3, n_estimators=40;, score=0.295 total time=   0.0s\n",
      "[CV 1/5] END algorithm=SAMME, learning_rate=3, n_estimators=50;, score=0.300 total time=   0.0s\n",
      "[CV 2/5] END algorithm=SAMME, learning_rate=3, n_estimators=50;, score=0.386 total time=   0.0s\n",
      "[CV 3/5] END algorithm=SAMME, learning_rate=3, n_estimators=50;, score=0.410 total time=   0.0s\n",
      "[CV 4/5] END algorithm=SAMME, learning_rate=3, n_estimators=50;, score=0.357 total time=   0.0s\n",
      "[CV 5/5] END algorithm=SAMME, learning_rate=3, n_estimators=50;, score=0.352 total time=   0.0s\n",
      "[CV 1/5] END algorithm=SAMME, learning_rate=4, n_estimators=10;, score=0.438 total time=   0.0s\n",
      "[CV 2/5] END algorithm=SAMME, learning_rate=4, n_estimators=10;, score=0.543 total time=   0.0s\n",
      "[CV 3/5] END algorithm=SAMME, learning_rate=4, n_estimators=10;, score=0.562 total time=   0.0s\n",
      "[CV 4/5] END algorithm=SAMME, learning_rate=4, n_estimators=10;, score=0.281 total time=   0.0s\n",
      "[CV 5/5] END algorithm=SAMME, learning_rate=4, n_estimators=10;, score=0.486 total time=   0.0s\n",
      "[CV 1/5] END algorithm=SAMME, learning_rate=4, n_estimators=20;, score=0.519 total time=   0.0s\n",
      "[CV 2/5] END algorithm=SAMME, learning_rate=4, n_estimators=20;, score=0.562 total time=   0.0s\n",
      "[CV 3/5] END algorithm=SAMME, learning_rate=4, n_estimators=20;, score=0.386 total time=   0.0s\n",
      "[CV 4/5] END algorithm=SAMME, learning_rate=4, n_estimators=20;, score=0.267 total time=   0.0s\n",
      "[CV 5/5] END algorithm=SAMME, learning_rate=4, n_estimators=20;, score=0.238 total time=   0.0s\n",
      "[CV 1/5] END algorithm=SAMME, learning_rate=4, n_estimators=30;, score=0.381 total time=   0.0s\n",
      "[CV 2/5] END algorithm=SAMME, learning_rate=4, n_estimators=30;, score=0.276 total time=   0.0s\n",
      "[CV 3/5] END algorithm=SAMME, learning_rate=4, n_estimators=30;, score=0.271 total time=   0.0s\n",
      "[CV 4/5] END algorithm=SAMME, learning_rate=4, n_estimators=30;, score=0.543 total time=   0.0s\n",
      "[CV 5/5] END algorithm=SAMME, learning_rate=4, n_estimators=30;, score=0.300 total time=   0.0s\n",
      "[CV 1/5] END algorithm=SAMME, learning_rate=4, n_estimators=40;, score=0.400 total time=   0.0s\n",
      "[CV 2/5] END algorithm=SAMME, learning_rate=4, n_estimators=40;, score=0.281 total time=   0.0s\n",
      "[CV 3/5] END algorithm=SAMME, learning_rate=4, n_estimators=40;, score=0.376 total time=   0.0s\n",
      "[CV 4/5] END algorithm=SAMME, learning_rate=4, n_estimators=40;, score=0.319 total time=   0.0s\n"
     ]
    },
    {
     "name": "stdout",
     "output_type": "stream",
     "text": [
      "[CV 5/5] END algorithm=SAMME, learning_rate=4, n_estimators=40;, score=0.367 total time=   0.0s\n",
      "[CV 1/5] END algorithm=SAMME, learning_rate=4, n_estimators=50;, score=0.505 total time=   0.0s\n",
      "[CV 2/5] END algorithm=SAMME, learning_rate=4, n_estimators=50;, score=0.343 total time=   0.0s\n",
      "[CV 3/5] END algorithm=SAMME, learning_rate=4, n_estimators=50;, score=0.481 total time=   0.0s\n",
      "[CV 4/5] END algorithm=SAMME, learning_rate=4, n_estimators=50;, score=0.267 total time=   0.0s\n",
      "[CV 5/5] END algorithm=SAMME, learning_rate=4, n_estimators=50;, score=0.114 total time=   0.0s\n",
      "[CV 1/5] END algorithm=SAMME, learning_rate=5, n_estimators=10;, score=0.448 total time=   0.0s\n",
      "[CV 2/5] END algorithm=SAMME, learning_rate=5, n_estimators=10;, score=0.057 total time=   0.0s\n",
      "[CV 3/5] END algorithm=SAMME, learning_rate=5, n_estimators=10;, score=0.295 total time=   0.0s\n",
      "[CV 4/5] END algorithm=SAMME, learning_rate=5, n_estimators=10;, score=0.505 total time=   0.0s\n",
      "[CV 5/5] END algorithm=SAMME, learning_rate=5, n_estimators=10;, score=0.071 total time=   0.0s\n",
      "[CV 1/5] END algorithm=SAMME, learning_rate=5, n_estimators=20;, score=0.300 total time=   0.0s\n",
      "[CV 2/5] END algorithm=SAMME, learning_rate=5, n_estimators=20;, score=0.381 total time=   0.0s\n",
      "[CV 3/5] END algorithm=SAMME, learning_rate=5, n_estimators=20;, score=0.300 total time=   0.0s\n",
      "[CV 4/5] END algorithm=SAMME, learning_rate=5, n_estimators=20;, score=0.119 total time=   0.0s\n",
      "[CV 5/5] END algorithm=SAMME, learning_rate=5, n_estimators=20;, score=0.571 total time=   0.0s\n",
      "[CV 1/5] END algorithm=SAMME, learning_rate=5, n_estimators=30;, score=nan total time=   0.0s\n",
      "[CV 2/5] END algorithm=SAMME, learning_rate=5, n_estimators=30;, score=nan total time=   0.0s\n"
     ]
    },
    {
     "name": "stderr",
     "output_type": "stream",
     "text": [
      "C:\\Users\\user\\anaconda3\\lib\\site-packages\\sklearn\\ensemble\\_weight_boosting.py:610: RuntimeWarning: overflow encountered in exp\n",
      "  (sample_weight > 0))\n",
      "C:\\Users\\user\\anaconda3\\lib\\site-packages\\sklearn\\ensemble\\_weight_boosting.py:155: RuntimeWarning: invalid value encountered in true_divide\n",
      "  sample_weight /= sample_weight_sum\n",
      "C:\\Users\\user\\anaconda3\\lib\\site-packages\\sklearn\\model_selection\\_validation.py:619: FitFailedWarning: Estimator fit failed. The score on this train-test partition for these parameters will be set to nan. Details: \n",
      "Traceback (most recent call last):\n",
      "  File \"C:\\Users\\user\\anaconda3\\lib\\site-packages\\sklearn\\model_selection\\_validation.py\", line 598, in _fit_and_score\n",
      "    estimator.fit(X_train, y_train, **fit_params)\n",
      "  File \"C:\\Users\\user\\anaconda3\\lib\\site-packages\\sklearn\\ensemble\\_weight_boosting.py\", line 443, in fit\n",
      "    return super().fit(X, y, sample_weight)\n",
      "  File \"C:\\Users\\user\\anaconda3\\lib\\site-packages\\sklearn\\ensemble\\_weight_boosting.py\", line 134, in fit\n",
      "    random_state)\n",
      "  File \"C:\\Users\\user\\anaconda3\\lib\\site-packages\\sklearn\\ensemble\\_weight_boosting.py\", line 507, in _boost\n",
      "    random_state)\n",
      "  File \"C:\\Users\\user\\anaconda3\\lib\\site-packages\\sklearn\\ensemble\\_weight_boosting.py\", line 571, in _boost_discrete\n",
      "    estimator.fit(X, y, sample_weight=sample_weight)\n",
      "  File \"C:\\Users\\user\\anaconda3\\lib\\site-packages\\sklearn\\tree\\_classes.py\", line 907, in fit\n",
      "    X_idx_sorted=X_idx_sorted)\n",
      "  File \"C:\\Users\\user\\anaconda3\\lib\\site-packages\\sklearn\\tree\\_classes.py\", line 298, in fit\n",
      "    sample_weight = _check_sample_weight(sample_weight, X, DOUBLE)\n",
      "  File \"C:\\Users\\user\\anaconda3\\lib\\site-packages\\sklearn\\utils\\validation.py\", line 1378, in _check_sample_weight\n",
      "    order=\"C\", copy=copy\n",
      "  File \"C:\\Users\\user\\anaconda3\\lib\\site-packages\\sklearn\\utils\\validation.py\", line 63, in inner_f\n",
      "    return f(*args, **kwargs)\n",
      "  File \"C:\\Users\\user\\anaconda3\\lib\\site-packages\\sklearn\\utils\\validation.py\", line 721, in check_array\n",
      "    allow_nan=force_all_finite == 'allow-nan')\n",
      "  File \"C:\\Users\\user\\anaconda3\\lib\\site-packages\\sklearn\\utils\\validation.py\", line 106, in _assert_all_finite\n",
      "    msg_dtype if msg_dtype is not None else X.dtype)\n",
      "ValueError: Input contains NaN, infinity or a value too large for dtype('float64').\n",
      "\n",
      "  FitFailedWarning)\n",
      "C:\\Users\\user\\anaconda3\\lib\\site-packages\\sklearn\\ensemble\\_weight_boosting.py:610: RuntimeWarning: overflow encountered in exp\n",
      "  (sample_weight > 0))\n",
      "C:\\Users\\user\\anaconda3\\lib\\site-packages\\sklearn\\ensemble\\_weight_boosting.py:155: RuntimeWarning: invalid value encountered in true_divide\n",
      "  sample_weight /= sample_weight_sum\n",
      "C:\\Users\\user\\anaconda3\\lib\\site-packages\\sklearn\\model_selection\\_validation.py:619: FitFailedWarning: Estimator fit failed. The score on this train-test partition for these parameters will be set to nan. Details: \n",
      "Traceback (most recent call last):\n",
      "  File \"C:\\Users\\user\\anaconda3\\lib\\site-packages\\sklearn\\model_selection\\_validation.py\", line 598, in _fit_and_score\n",
      "    estimator.fit(X_train, y_train, **fit_params)\n",
      "  File \"C:\\Users\\user\\anaconda3\\lib\\site-packages\\sklearn\\ensemble\\_weight_boosting.py\", line 443, in fit\n",
      "    return super().fit(X, y, sample_weight)\n",
      "  File \"C:\\Users\\user\\anaconda3\\lib\\site-packages\\sklearn\\ensemble\\_weight_boosting.py\", line 134, in fit\n",
      "    random_state)\n",
      "  File \"C:\\Users\\user\\anaconda3\\lib\\site-packages\\sklearn\\ensemble\\_weight_boosting.py\", line 507, in _boost\n",
      "    random_state)\n",
      "  File \"C:\\Users\\user\\anaconda3\\lib\\site-packages\\sklearn\\ensemble\\_weight_boosting.py\", line 571, in _boost_discrete\n",
      "    estimator.fit(X, y, sample_weight=sample_weight)\n",
      "  File \"C:\\Users\\user\\anaconda3\\lib\\site-packages\\sklearn\\tree\\_classes.py\", line 907, in fit\n",
      "    X_idx_sorted=X_idx_sorted)\n",
      "  File \"C:\\Users\\user\\anaconda3\\lib\\site-packages\\sklearn\\tree\\_classes.py\", line 298, in fit\n",
      "    sample_weight = _check_sample_weight(sample_weight, X, DOUBLE)\n",
      "  File \"C:\\Users\\user\\anaconda3\\lib\\site-packages\\sklearn\\utils\\validation.py\", line 1378, in _check_sample_weight\n",
      "    order=\"C\", copy=copy\n",
      "  File \"C:\\Users\\user\\anaconda3\\lib\\site-packages\\sklearn\\utils\\validation.py\", line 63, in inner_f\n",
      "    return f(*args, **kwargs)\n",
      "  File \"C:\\Users\\user\\anaconda3\\lib\\site-packages\\sklearn\\utils\\validation.py\", line 721, in check_array\n",
      "    allow_nan=force_all_finite == 'allow-nan')\n",
      "  File \"C:\\Users\\user\\anaconda3\\lib\\site-packages\\sklearn\\utils\\validation.py\", line 106, in _assert_all_finite\n",
      "    msg_dtype if msg_dtype is not None else X.dtype)\n",
      "ValueError: Input contains NaN, infinity or a value too large for dtype('float64').\n",
      "\n",
      "  FitFailedWarning)\n",
      "C:\\Users\\user\\anaconda3\\lib\\site-packages\\sklearn\\ensemble\\_weight_boosting.py:610: RuntimeWarning: overflow encountered in exp\n",
      "  (sample_weight > 0))\n",
      "C:\\Users\\user\\anaconda3\\lib\\site-packages\\sklearn\\ensemble\\_weight_boosting.py:155: RuntimeWarning: invalid value encountered in true_divide\n",
      "  sample_weight /= sample_weight_sum\n",
      "C:\\Users\\user\\anaconda3\\lib\\site-packages\\sklearn\\model_selection\\_validation.py:619: FitFailedWarning: Estimator fit failed. The score on this train-test partition for these parameters will be set to nan. Details: \n",
      "Traceback (most recent call last):\n",
      "  File \"C:\\Users\\user\\anaconda3\\lib\\site-packages\\sklearn\\model_selection\\_validation.py\", line 598, in _fit_and_score\n",
      "    estimator.fit(X_train, y_train, **fit_params)\n",
      "  File \"C:\\Users\\user\\anaconda3\\lib\\site-packages\\sklearn\\ensemble\\_weight_boosting.py\", line 443, in fit\n",
      "    return super().fit(X, y, sample_weight)\n",
      "  File \"C:\\Users\\user\\anaconda3\\lib\\site-packages\\sklearn\\ensemble\\_weight_boosting.py\", line 134, in fit\n",
      "    random_state)\n",
      "  File \"C:\\Users\\user\\anaconda3\\lib\\site-packages\\sklearn\\ensemble\\_weight_boosting.py\", line 507, in _boost\n",
      "    random_state)\n",
      "  File \"C:\\Users\\user\\anaconda3\\lib\\site-packages\\sklearn\\ensemble\\_weight_boosting.py\", line 571, in _boost_discrete\n",
      "    estimator.fit(X, y, sample_weight=sample_weight)\n",
      "  File \"C:\\Users\\user\\anaconda3\\lib\\site-packages\\sklearn\\tree\\_classes.py\", line 907, in fit\n",
      "    X_idx_sorted=X_idx_sorted)\n",
      "  File \"C:\\Users\\user\\anaconda3\\lib\\site-packages\\sklearn\\tree\\_classes.py\", line 298, in fit\n",
      "    sample_weight = _check_sample_weight(sample_weight, X, DOUBLE)\n",
      "  File \"C:\\Users\\user\\anaconda3\\lib\\site-packages\\sklearn\\utils\\validation.py\", line 1378, in _check_sample_weight\n",
      "    order=\"C\", copy=copy\n",
      "  File \"C:\\Users\\user\\anaconda3\\lib\\site-packages\\sklearn\\utils\\validation.py\", line 63, in inner_f\n",
      "    return f(*args, **kwargs)\n",
      "  File \"C:\\Users\\user\\anaconda3\\lib\\site-packages\\sklearn\\utils\\validation.py\", line 721, in check_array\n",
      "    allow_nan=force_all_finite == 'allow-nan')\n",
      "  File \"C:\\Users\\user\\anaconda3\\lib\\site-packages\\sklearn\\utils\\validation.py\", line 106, in _assert_all_finite\n",
      "    msg_dtype if msg_dtype is not None else X.dtype)\n",
      "ValueError: Input contains NaN, infinity or a value too large for dtype('float64').\n",
      "\n",
      "  FitFailedWarning)\n",
      "C:\\Users\\user\\anaconda3\\lib\\site-packages\\sklearn\\ensemble\\_weight_boosting.py:610: RuntimeWarning: overflow encountered in exp\n",
      "  (sample_weight > 0))\n",
      "C:\\Users\\user\\anaconda3\\lib\\site-packages\\sklearn\\ensemble\\_weight_boosting.py:155: RuntimeWarning: invalid value encountered in true_divide\n",
      "  sample_weight /= sample_weight_sum\n",
      "C:\\Users\\user\\anaconda3\\lib\\site-packages\\sklearn\\model_selection\\_validation.py:619: FitFailedWarning: Estimator fit failed. The score on this train-test partition for these parameters will be set to nan. Details: \n",
      "Traceback (most recent call last):\n",
      "  File \"C:\\Users\\user\\anaconda3\\lib\\site-packages\\sklearn\\model_selection\\_validation.py\", line 598, in _fit_and_score\n",
      "    estimator.fit(X_train, y_train, **fit_params)\n",
      "  File \"C:\\Users\\user\\anaconda3\\lib\\site-packages\\sklearn\\ensemble\\_weight_boosting.py\", line 443, in fit\n",
      "    return super().fit(X, y, sample_weight)\n",
      "  File \"C:\\Users\\user\\anaconda3\\lib\\site-packages\\sklearn\\ensemble\\_weight_boosting.py\", line 134, in fit\n",
      "    random_state)\n",
      "  File \"C:\\Users\\user\\anaconda3\\lib\\site-packages\\sklearn\\ensemble\\_weight_boosting.py\", line 507, in _boost\n",
      "    random_state)\n",
      "  File \"C:\\Users\\user\\anaconda3\\lib\\site-packages\\sklearn\\ensemble\\_weight_boosting.py\", line 571, in _boost_discrete\n",
      "    estimator.fit(X, y, sample_weight=sample_weight)\n",
      "  File \"C:\\Users\\user\\anaconda3\\lib\\site-packages\\sklearn\\tree\\_classes.py\", line 907, in fit\n",
      "    X_idx_sorted=X_idx_sorted)\n",
      "  File \"C:\\Users\\user\\anaconda3\\lib\\site-packages\\sklearn\\tree\\_classes.py\", line 298, in fit\n",
      "    sample_weight = _check_sample_weight(sample_weight, X, DOUBLE)\n",
      "  File \"C:\\Users\\user\\anaconda3\\lib\\site-packages\\sklearn\\utils\\validation.py\", line 1378, in _check_sample_weight\n",
      "    order=\"C\", copy=copy\n",
      "  File \"C:\\Users\\user\\anaconda3\\lib\\site-packages\\sklearn\\utils\\validation.py\", line 63, in inner_f\n",
      "    return f(*args, **kwargs)\n",
      "  File \"C:\\Users\\user\\anaconda3\\lib\\site-packages\\sklearn\\utils\\validation.py\", line 721, in check_array\n",
      "    allow_nan=force_all_finite == 'allow-nan')\n",
      "  File \"C:\\Users\\user\\anaconda3\\lib\\site-packages\\sklearn\\utils\\validation.py\", line 106, in _assert_all_finite\n",
      "    msg_dtype if msg_dtype is not None else X.dtype)\n",
      "ValueError: Input contains NaN, infinity or a value too large for dtype('float64').\n",
      "\n",
      "  FitFailedWarning)\n"
     ]
    },
    {
     "name": "stdout",
     "output_type": "stream",
     "text": [
      "[CV 3/5] END algorithm=SAMME, learning_rate=5, n_estimators=30;, score=nan total time=   0.0s\n",
      "[CV 4/5] END algorithm=SAMME, learning_rate=5, n_estimators=30;, score=nan total time=   0.0s\n",
      "[CV 5/5] END algorithm=SAMME, learning_rate=5, n_estimators=30;, score=0.495 total time=   0.0s\n",
      "[CV 1/5] END algorithm=SAMME, learning_rate=5, n_estimators=40;, score=nan total time=   0.0s\n"
     ]
    },
    {
     "name": "stderr",
     "output_type": "stream",
     "text": [
      "C:\\Users\\user\\anaconda3\\lib\\site-packages\\sklearn\\ensemble\\_weight_boosting.py:610: RuntimeWarning: overflow encountered in exp\n",
      "  (sample_weight > 0))\n",
      "C:\\Users\\user\\anaconda3\\lib\\site-packages\\sklearn\\ensemble\\_weight_boosting.py:155: RuntimeWarning: invalid value encountered in true_divide\n",
      "  sample_weight /= sample_weight_sum\n",
      "C:\\Users\\user\\anaconda3\\lib\\site-packages\\sklearn\\model_selection\\_validation.py:619: FitFailedWarning: Estimator fit failed. The score on this train-test partition for these parameters will be set to nan. Details: \n",
      "Traceback (most recent call last):\n",
      "  File \"C:\\Users\\user\\anaconda3\\lib\\site-packages\\sklearn\\model_selection\\_validation.py\", line 598, in _fit_and_score\n",
      "    estimator.fit(X_train, y_train, **fit_params)\n",
      "  File \"C:\\Users\\user\\anaconda3\\lib\\site-packages\\sklearn\\ensemble\\_weight_boosting.py\", line 443, in fit\n",
      "    return super().fit(X, y, sample_weight)\n",
      "  File \"C:\\Users\\user\\anaconda3\\lib\\site-packages\\sklearn\\ensemble\\_weight_boosting.py\", line 134, in fit\n",
      "    random_state)\n",
      "  File \"C:\\Users\\user\\anaconda3\\lib\\site-packages\\sklearn\\ensemble\\_weight_boosting.py\", line 507, in _boost\n",
      "    random_state)\n",
      "  File \"C:\\Users\\user\\anaconda3\\lib\\site-packages\\sklearn\\ensemble\\_weight_boosting.py\", line 571, in _boost_discrete\n",
      "    estimator.fit(X, y, sample_weight=sample_weight)\n",
      "  File \"C:\\Users\\user\\anaconda3\\lib\\site-packages\\sklearn\\tree\\_classes.py\", line 907, in fit\n",
      "    X_idx_sorted=X_idx_sorted)\n",
      "  File \"C:\\Users\\user\\anaconda3\\lib\\site-packages\\sklearn\\tree\\_classes.py\", line 298, in fit\n",
      "    sample_weight = _check_sample_weight(sample_weight, X, DOUBLE)\n",
      "  File \"C:\\Users\\user\\anaconda3\\lib\\site-packages\\sklearn\\utils\\validation.py\", line 1378, in _check_sample_weight\n",
      "    order=\"C\", copy=copy\n",
      "  File \"C:\\Users\\user\\anaconda3\\lib\\site-packages\\sklearn\\utils\\validation.py\", line 63, in inner_f\n",
      "    return f(*args, **kwargs)\n",
      "  File \"C:\\Users\\user\\anaconda3\\lib\\site-packages\\sklearn\\utils\\validation.py\", line 721, in check_array\n",
      "    allow_nan=force_all_finite == 'allow-nan')\n",
      "  File \"C:\\Users\\user\\anaconda3\\lib\\site-packages\\sklearn\\utils\\validation.py\", line 106, in _assert_all_finite\n",
      "    msg_dtype if msg_dtype is not None else X.dtype)\n",
      "ValueError: Input contains NaN, infinity or a value too large for dtype('float64').\n",
      "\n",
      "  FitFailedWarning)\n",
      "C:\\Users\\user\\anaconda3\\lib\\site-packages\\sklearn\\ensemble\\_weight_boosting.py:610: RuntimeWarning: overflow encountered in exp\n",
      "  (sample_weight > 0))\n",
      "C:\\Users\\user\\anaconda3\\lib\\site-packages\\sklearn\\ensemble\\_weight_boosting.py:155: RuntimeWarning: invalid value encountered in true_divide\n",
      "  sample_weight /= sample_weight_sum\n",
      "C:\\Users\\user\\anaconda3\\lib\\site-packages\\sklearn\\model_selection\\_validation.py:619: FitFailedWarning: Estimator fit failed. The score on this train-test partition for these parameters will be set to nan. Details: \n",
      "Traceback (most recent call last):\n",
      "  File \"C:\\Users\\user\\anaconda3\\lib\\site-packages\\sklearn\\model_selection\\_validation.py\", line 598, in _fit_and_score\n",
      "    estimator.fit(X_train, y_train, **fit_params)\n",
      "  File \"C:\\Users\\user\\anaconda3\\lib\\site-packages\\sklearn\\ensemble\\_weight_boosting.py\", line 443, in fit\n",
      "    return super().fit(X, y, sample_weight)\n",
      "  File \"C:\\Users\\user\\anaconda3\\lib\\site-packages\\sklearn\\ensemble\\_weight_boosting.py\", line 134, in fit\n",
      "    random_state)\n",
      "  File \"C:\\Users\\user\\anaconda3\\lib\\site-packages\\sklearn\\ensemble\\_weight_boosting.py\", line 507, in _boost\n",
      "    random_state)\n",
      "  File \"C:\\Users\\user\\anaconda3\\lib\\site-packages\\sklearn\\ensemble\\_weight_boosting.py\", line 571, in _boost_discrete\n",
      "    estimator.fit(X, y, sample_weight=sample_weight)\n",
      "  File \"C:\\Users\\user\\anaconda3\\lib\\site-packages\\sklearn\\tree\\_classes.py\", line 907, in fit\n",
      "    X_idx_sorted=X_idx_sorted)\n",
      "  File \"C:\\Users\\user\\anaconda3\\lib\\site-packages\\sklearn\\tree\\_classes.py\", line 298, in fit\n",
      "    sample_weight = _check_sample_weight(sample_weight, X, DOUBLE)\n",
      "  File \"C:\\Users\\user\\anaconda3\\lib\\site-packages\\sklearn\\utils\\validation.py\", line 1378, in _check_sample_weight\n",
      "    order=\"C\", copy=copy\n",
      "  File \"C:\\Users\\user\\anaconda3\\lib\\site-packages\\sklearn\\utils\\validation.py\", line 63, in inner_f\n",
      "    return f(*args, **kwargs)\n",
      "  File \"C:\\Users\\user\\anaconda3\\lib\\site-packages\\sklearn\\utils\\validation.py\", line 721, in check_array\n",
      "    allow_nan=force_all_finite == 'allow-nan')\n",
      "  File \"C:\\Users\\user\\anaconda3\\lib\\site-packages\\sklearn\\utils\\validation.py\", line 106, in _assert_all_finite\n",
      "    msg_dtype if msg_dtype is not None else X.dtype)\n",
      "ValueError: Input contains NaN, infinity or a value too large for dtype('float64').\n",
      "\n",
      "  FitFailedWarning)\n",
      "C:\\Users\\user\\anaconda3\\lib\\site-packages\\sklearn\\ensemble\\_weight_boosting.py:610: RuntimeWarning: overflow encountered in exp\n",
      "  (sample_weight > 0))\n",
      "C:\\Users\\user\\anaconda3\\lib\\site-packages\\sklearn\\ensemble\\_weight_boosting.py:155: RuntimeWarning: invalid value encountered in true_divide\n",
      "  sample_weight /= sample_weight_sum\n",
      "C:\\Users\\user\\anaconda3\\lib\\site-packages\\sklearn\\model_selection\\_validation.py:619: FitFailedWarning: Estimator fit failed. The score on this train-test partition for these parameters will be set to nan. Details: \n",
      "Traceback (most recent call last):\n",
      "  File \"C:\\Users\\user\\anaconda3\\lib\\site-packages\\sklearn\\model_selection\\_validation.py\", line 598, in _fit_and_score\n",
      "    estimator.fit(X_train, y_train, **fit_params)\n",
      "  File \"C:\\Users\\user\\anaconda3\\lib\\site-packages\\sklearn\\ensemble\\_weight_boosting.py\", line 443, in fit\n",
      "    return super().fit(X, y, sample_weight)\n",
      "  File \"C:\\Users\\user\\anaconda3\\lib\\site-packages\\sklearn\\ensemble\\_weight_boosting.py\", line 134, in fit\n",
      "    random_state)\n",
      "  File \"C:\\Users\\user\\anaconda3\\lib\\site-packages\\sklearn\\ensemble\\_weight_boosting.py\", line 507, in _boost\n",
      "    random_state)\n",
      "  File \"C:\\Users\\user\\anaconda3\\lib\\site-packages\\sklearn\\ensemble\\_weight_boosting.py\", line 571, in _boost_discrete\n",
      "    estimator.fit(X, y, sample_weight=sample_weight)\n",
      "  File \"C:\\Users\\user\\anaconda3\\lib\\site-packages\\sklearn\\tree\\_classes.py\", line 907, in fit\n",
      "    X_idx_sorted=X_idx_sorted)\n",
      "  File \"C:\\Users\\user\\anaconda3\\lib\\site-packages\\sklearn\\tree\\_classes.py\", line 298, in fit\n",
      "    sample_weight = _check_sample_weight(sample_weight, X, DOUBLE)\n",
      "  File \"C:\\Users\\user\\anaconda3\\lib\\site-packages\\sklearn\\utils\\validation.py\", line 1378, in _check_sample_weight\n",
      "    order=\"C\", copy=copy\n",
      "  File \"C:\\Users\\user\\anaconda3\\lib\\site-packages\\sklearn\\utils\\validation.py\", line 63, in inner_f\n",
      "    return f(*args, **kwargs)\n",
      "  File \"C:\\Users\\user\\anaconda3\\lib\\site-packages\\sklearn\\utils\\validation.py\", line 721, in check_array\n",
      "    allow_nan=force_all_finite == 'allow-nan')\n",
      "  File \"C:\\Users\\user\\anaconda3\\lib\\site-packages\\sklearn\\utils\\validation.py\", line 106, in _assert_all_finite\n",
      "    msg_dtype if msg_dtype is not None else X.dtype)\n",
      "ValueError: Input contains NaN, infinity or a value too large for dtype('float64').\n",
      "\n",
      "  FitFailedWarning)\n",
      "C:\\Users\\user\\anaconda3\\lib\\site-packages\\sklearn\\ensemble\\_weight_boosting.py:610: RuntimeWarning: overflow encountered in exp\n",
      "  (sample_weight > 0))\n",
      "C:\\Users\\user\\anaconda3\\lib\\site-packages\\sklearn\\ensemble\\_weight_boosting.py:155: RuntimeWarning: invalid value encountered in true_divide\n",
      "  sample_weight /= sample_weight_sum\n",
      "C:\\Users\\user\\anaconda3\\lib\\site-packages\\sklearn\\model_selection\\_validation.py:619: FitFailedWarning: Estimator fit failed. The score on this train-test partition for these parameters will be set to nan. Details: \n",
      "Traceback (most recent call last):\n",
      "  File \"C:\\Users\\user\\anaconda3\\lib\\site-packages\\sklearn\\model_selection\\_validation.py\", line 598, in _fit_and_score\n",
      "    estimator.fit(X_train, y_train, **fit_params)\n",
      "  File \"C:\\Users\\user\\anaconda3\\lib\\site-packages\\sklearn\\ensemble\\_weight_boosting.py\", line 443, in fit\n",
      "    return super().fit(X, y, sample_weight)\n",
      "  File \"C:\\Users\\user\\anaconda3\\lib\\site-packages\\sklearn\\ensemble\\_weight_boosting.py\", line 134, in fit\n",
      "    random_state)\n",
      "  File \"C:\\Users\\user\\anaconda3\\lib\\site-packages\\sklearn\\ensemble\\_weight_boosting.py\", line 507, in _boost\n",
      "    random_state)\n",
      "  File \"C:\\Users\\user\\anaconda3\\lib\\site-packages\\sklearn\\ensemble\\_weight_boosting.py\", line 571, in _boost_discrete\n",
      "    estimator.fit(X, y, sample_weight=sample_weight)\n",
      "  File \"C:\\Users\\user\\anaconda3\\lib\\site-packages\\sklearn\\tree\\_classes.py\", line 907, in fit\n",
      "    X_idx_sorted=X_idx_sorted)\n",
      "  File \"C:\\Users\\user\\anaconda3\\lib\\site-packages\\sklearn\\tree\\_classes.py\", line 298, in fit\n",
      "    sample_weight = _check_sample_weight(sample_weight, X, DOUBLE)\n",
      "  File \"C:\\Users\\user\\anaconda3\\lib\\site-packages\\sklearn\\utils\\validation.py\", line 1378, in _check_sample_weight\n",
      "    order=\"C\", copy=copy\n",
      "  File \"C:\\Users\\user\\anaconda3\\lib\\site-packages\\sklearn\\utils\\validation.py\", line 63, in inner_f\n",
      "    return f(*args, **kwargs)\n",
      "  File \"C:\\Users\\user\\anaconda3\\lib\\site-packages\\sklearn\\utils\\validation.py\", line 721, in check_array\n",
      "    allow_nan=force_all_finite == 'allow-nan')\n",
      "  File \"C:\\Users\\user\\anaconda3\\lib\\site-packages\\sklearn\\utils\\validation.py\", line 106, in _assert_all_finite\n",
      "    msg_dtype if msg_dtype is not None else X.dtype)\n",
      "ValueError: Input contains NaN, infinity or a value too large for dtype('float64').\n",
      "\n",
      "  FitFailedWarning)\n"
     ]
    },
    {
     "name": "stdout",
     "output_type": "stream",
     "text": [
      "[CV 2/5] END algorithm=SAMME, learning_rate=5, n_estimators=40;, score=nan total time=   0.0s\n",
      "[CV 3/5] END algorithm=SAMME, learning_rate=5, n_estimators=40;, score=nan total time=   0.0s\n",
      "[CV 4/5] END algorithm=SAMME, learning_rate=5, n_estimators=40;, score=nan total time=   0.0s\n",
      "[CV 5/5] END algorithm=SAMME, learning_rate=5, n_estimators=40;, score=nan total time=   0.0s\n"
     ]
    },
    {
     "name": "stderr",
     "output_type": "stream",
     "text": [
      "C:\\Users\\user\\anaconda3\\lib\\site-packages\\sklearn\\ensemble\\_weight_boosting.py:610: RuntimeWarning: overflow encountered in exp\n",
      "  (sample_weight > 0))\n",
      "C:\\Users\\user\\anaconda3\\lib\\site-packages\\sklearn\\ensemble\\_weight_boosting.py:155: RuntimeWarning: invalid value encountered in true_divide\n",
      "  sample_weight /= sample_weight_sum\n",
      "C:\\Users\\user\\anaconda3\\lib\\site-packages\\sklearn\\model_selection\\_validation.py:619: FitFailedWarning: Estimator fit failed. The score on this train-test partition for these parameters will be set to nan. Details: \n",
      "Traceback (most recent call last):\n",
      "  File \"C:\\Users\\user\\anaconda3\\lib\\site-packages\\sklearn\\model_selection\\_validation.py\", line 598, in _fit_and_score\n",
      "    estimator.fit(X_train, y_train, **fit_params)\n",
      "  File \"C:\\Users\\user\\anaconda3\\lib\\site-packages\\sklearn\\ensemble\\_weight_boosting.py\", line 443, in fit\n",
      "    return super().fit(X, y, sample_weight)\n",
      "  File \"C:\\Users\\user\\anaconda3\\lib\\site-packages\\sklearn\\ensemble\\_weight_boosting.py\", line 134, in fit\n",
      "    random_state)\n",
      "  File \"C:\\Users\\user\\anaconda3\\lib\\site-packages\\sklearn\\ensemble\\_weight_boosting.py\", line 507, in _boost\n",
      "    random_state)\n",
      "  File \"C:\\Users\\user\\anaconda3\\lib\\site-packages\\sklearn\\ensemble\\_weight_boosting.py\", line 571, in _boost_discrete\n",
      "    estimator.fit(X, y, sample_weight=sample_weight)\n",
      "  File \"C:\\Users\\user\\anaconda3\\lib\\site-packages\\sklearn\\tree\\_classes.py\", line 907, in fit\n",
      "    X_idx_sorted=X_idx_sorted)\n",
      "  File \"C:\\Users\\user\\anaconda3\\lib\\site-packages\\sklearn\\tree\\_classes.py\", line 298, in fit\n",
      "    sample_weight = _check_sample_weight(sample_weight, X, DOUBLE)\n",
      "  File \"C:\\Users\\user\\anaconda3\\lib\\site-packages\\sklearn\\utils\\validation.py\", line 1378, in _check_sample_weight\n",
      "    order=\"C\", copy=copy\n",
      "  File \"C:\\Users\\user\\anaconda3\\lib\\site-packages\\sklearn\\utils\\validation.py\", line 63, in inner_f\n",
      "    return f(*args, **kwargs)\n",
      "  File \"C:\\Users\\user\\anaconda3\\lib\\site-packages\\sklearn\\utils\\validation.py\", line 721, in check_array\n",
      "    allow_nan=force_all_finite == 'allow-nan')\n",
      "  File \"C:\\Users\\user\\anaconda3\\lib\\site-packages\\sklearn\\utils\\validation.py\", line 106, in _assert_all_finite\n",
      "    msg_dtype if msg_dtype is not None else X.dtype)\n",
      "ValueError: Input contains NaN, infinity or a value too large for dtype('float64').\n",
      "\n",
      "  FitFailedWarning)\n",
      "C:\\Users\\user\\anaconda3\\lib\\site-packages\\sklearn\\ensemble\\_weight_boosting.py:610: RuntimeWarning: overflow encountered in exp\n",
      "  (sample_weight > 0))\n",
      "C:\\Users\\user\\anaconda3\\lib\\site-packages\\sklearn\\ensemble\\_weight_boosting.py:155: RuntimeWarning: invalid value encountered in true_divide\n",
      "  sample_weight /= sample_weight_sum\n",
      "C:\\Users\\user\\anaconda3\\lib\\site-packages\\sklearn\\model_selection\\_validation.py:619: FitFailedWarning: Estimator fit failed. The score on this train-test partition for these parameters will be set to nan. Details: \n",
      "Traceback (most recent call last):\n",
      "  File \"C:\\Users\\user\\anaconda3\\lib\\site-packages\\sklearn\\model_selection\\_validation.py\", line 598, in _fit_and_score\n",
      "    estimator.fit(X_train, y_train, **fit_params)\n",
      "  File \"C:\\Users\\user\\anaconda3\\lib\\site-packages\\sklearn\\ensemble\\_weight_boosting.py\", line 443, in fit\n",
      "    return super().fit(X, y, sample_weight)\n",
      "  File \"C:\\Users\\user\\anaconda3\\lib\\site-packages\\sklearn\\ensemble\\_weight_boosting.py\", line 134, in fit\n",
      "    random_state)\n",
      "  File \"C:\\Users\\user\\anaconda3\\lib\\site-packages\\sklearn\\ensemble\\_weight_boosting.py\", line 507, in _boost\n",
      "    random_state)\n",
      "  File \"C:\\Users\\user\\anaconda3\\lib\\site-packages\\sklearn\\ensemble\\_weight_boosting.py\", line 571, in _boost_discrete\n",
      "    estimator.fit(X, y, sample_weight=sample_weight)\n",
      "  File \"C:\\Users\\user\\anaconda3\\lib\\site-packages\\sklearn\\tree\\_classes.py\", line 907, in fit\n",
      "    X_idx_sorted=X_idx_sorted)\n",
      "  File \"C:\\Users\\user\\anaconda3\\lib\\site-packages\\sklearn\\tree\\_classes.py\", line 298, in fit\n",
      "    sample_weight = _check_sample_weight(sample_weight, X, DOUBLE)\n",
      "  File \"C:\\Users\\user\\anaconda3\\lib\\site-packages\\sklearn\\utils\\validation.py\", line 1378, in _check_sample_weight\n",
      "    order=\"C\", copy=copy\n",
      "  File \"C:\\Users\\user\\anaconda3\\lib\\site-packages\\sklearn\\utils\\validation.py\", line 63, in inner_f\n",
      "    return f(*args, **kwargs)\n",
      "  File \"C:\\Users\\user\\anaconda3\\lib\\site-packages\\sklearn\\utils\\validation.py\", line 721, in check_array\n",
      "    allow_nan=force_all_finite == 'allow-nan')\n",
      "  File \"C:\\Users\\user\\anaconda3\\lib\\site-packages\\sklearn\\utils\\validation.py\", line 106, in _assert_all_finite\n",
      "    msg_dtype if msg_dtype is not None else X.dtype)\n",
      "ValueError: Input contains NaN, infinity or a value too large for dtype('float64').\n",
      "\n",
      "  FitFailedWarning)\n",
      "C:\\Users\\user\\anaconda3\\lib\\site-packages\\sklearn\\ensemble\\_weight_boosting.py:610: RuntimeWarning: overflow encountered in exp\n",
      "  (sample_weight > 0))\n",
      "C:\\Users\\user\\anaconda3\\lib\\site-packages\\sklearn\\ensemble\\_weight_boosting.py:155: RuntimeWarning: invalid value encountered in true_divide\n",
      "  sample_weight /= sample_weight_sum\n",
      "C:\\Users\\user\\anaconda3\\lib\\site-packages\\sklearn\\model_selection\\_validation.py:619: FitFailedWarning: Estimator fit failed. The score on this train-test partition for these parameters will be set to nan. Details: \n",
      "Traceback (most recent call last):\n",
      "  File \"C:\\Users\\user\\anaconda3\\lib\\site-packages\\sklearn\\model_selection\\_validation.py\", line 598, in _fit_and_score\n",
      "    estimator.fit(X_train, y_train, **fit_params)\n",
      "  File \"C:\\Users\\user\\anaconda3\\lib\\site-packages\\sklearn\\ensemble\\_weight_boosting.py\", line 443, in fit\n",
      "    return super().fit(X, y, sample_weight)\n",
      "  File \"C:\\Users\\user\\anaconda3\\lib\\site-packages\\sklearn\\ensemble\\_weight_boosting.py\", line 134, in fit\n",
      "    random_state)\n",
      "  File \"C:\\Users\\user\\anaconda3\\lib\\site-packages\\sklearn\\ensemble\\_weight_boosting.py\", line 507, in _boost\n",
      "    random_state)\n",
      "  File \"C:\\Users\\user\\anaconda3\\lib\\site-packages\\sklearn\\ensemble\\_weight_boosting.py\", line 571, in _boost_discrete\n",
      "    estimator.fit(X, y, sample_weight=sample_weight)\n",
      "  File \"C:\\Users\\user\\anaconda3\\lib\\site-packages\\sklearn\\tree\\_classes.py\", line 907, in fit\n",
      "    X_idx_sorted=X_idx_sorted)\n",
      "  File \"C:\\Users\\user\\anaconda3\\lib\\site-packages\\sklearn\\tree\\_classes.py\", line 298, in fit\n",
      "    sample_weight = _check_sample_weight(sample_weight, X, DOUBLE)\n",
      "  File \"C:\\Users\\user\\anaconda3\\lib\\site-packages\\sklearn\\utils\\validation.py\", line 1378, in _check_sample_weight\n",
      "    order=\"C\", copy=copy\n",
      "  File \"C:\\Users\\user\\anaconda3\\lib\\site-packages\\sklearn\\utils\\validation.py\", line 63, in inner_f\n",
      "    return f(*args, **kwargs)\n",
      "  File \"C:\\Users\\user\\anaconda3\\lib\\site-packages\\sklearn\\utils\\validation.py\", line 721, in check_array\n",
      "    allow_nan=force_all_finite == 'allow-nan')\n",
      "  File \"C:\\Users\\user\\anaconda3\\lib\\site-packages\\sklearn\\utils\\validation.py\", line 106, in _assert_all_finite\n",
      "    msg_dtype if msg_dtype is not None else X.dtype)\n",
      "ValueError: Input contains NaN, infinity or a value too large for dtype('float64').\n",
      "\n",
      "  FitFailedWarning)\n",
      "C:\\Users\\user\\anaconda3\\lib\\site-packages\\sklearn\\ensemble\\_weight_boosting.py:610: RuntimeWarning: overflow encountered in exp\n",
      "  (sample_weight > 0))\n",
      "C:\\Users\\user\\anaconda3\\lib\\site-packages\\sklearn\\ensemble\\_weight_boosting.py:155: RuntimeWarning: invalid value encountered in true_divide\n",
      "  sample_weight /= sample_weight_sum\n",
      "C:\\Users\\user\\anaconda3\\lib\\site-packages\\sklearn\\model_selection\\_validation.py:619: FitFailedWarning: Estimator fit failed. The score on this train-test partition for these parameters will be set to nan. Details: \n",
      "Traceback (most recent call last):\n",
      "  File \"C:\\Users\\user\\anaconda3\\lib\\site-packages\\sklearn\\model_selection\\_validation.py\", line 598, in _fit_and_score\n",
      "    estimator.fit(X_train, y_train, **fit_params)\n",
      "  File \"C:\\Users\\user\\anaconda3\\lib\\site-packages\\sklearn\\ensemble\\_weight_boosting.py\", line 443, in fit\n",
      "    return super().fit(X, y, sample_weight)\n",
      "  File \"C:\\Users\\user\\anaconda3\\lib\\site-packages\\sklearn\\ensemble\\_weight_boosting.py\", line 134, in fit\n",
      "    random_state)\n",
      "  File \"C:\\Users\\user\\anaconda3\\lib\\site-packages\\sklearn\\ensemble\\_weight_boosting.py\", line 507, in _boost\n",
      "    random_state)\n",
      "  File \"C:\\Users\\user\\anaconda3\\lib\\site-packages\\sklearn\\ensemble\\_weight_boosting.py\", line 571, in _boost_discrete\n",
      "    estimator.fit(X, y, sample_weight=sample_weight)\n",
      "  File \"C:\\Users\\user\\anaconda3\\lib\\site-packages\\sklearn\\tree\\_classes.py\", line 907, in fit\n",
      "    X_idx_sorted=X_idx_sorted)\n",
      "  File \"C:\\Users\\user\\anaconda3\\lib\\site-packages\\sklearn\\tree\\_classes.py\", line 298, in fit\n",
      "    sample_weight = _check_sample_weight(sample_weight, X, DOUBLE)\n",
      "  File \"C:\\Users\\user\\anaconda3\\lib\\site-packages\\sklearn\\utils\\validation.py\", line 1378, in _check_sample_weight\n",
      "    order=\"C\", copy=copy\n",
      "  File \"C:\\Users\\user\\anaconda3\\lib\\site-packages\\sklearn\\utils\\validation.py\", line 63, in inner_f\n",
      "    return f(*args, **kwargs)\n",
      "  File \"C:\\Users\\user\\anaconda3\\lib\\site-packages\\sklearn\\utils\\validation.py\", line 721, in check_array\n",
      "    allow_nan=force_all_finite == 'allow-nan')\n",
      "  File \"C:\\Users\\user\\anaconda3\\lib\\site-packages\\sklearn\\utils\\validation.py\", line 106, in _assert_all_finite\n",
      "    msg_dtype if msg_dtype is not None else X.dtype)\n",
      "ValueError: Input contains NaN, infinity or a value too large for dtype('float64').\n",
      "\n",
      "  FitFailedWarning)\n",
      "C:\\Users\\user\\anaconda3\\lib\\site-packages\\sklearn\\ensemble\\_weight_boosting.py:610: RuntimeWarning: overflow encountered in exp\n",
      "  (sample_weight > 0))\n",
      "C:\\Users\\user\\anaconda3\\lib\\site-packages\\sklearn\\ensemble\\_weight_boosting.py:155: RuntimeWarning: invalid value encountered in true_divide\n",
      "  sample_weight /= sample_weight_sum\n"
     ]
    },
    {
     "name": "stdout",
     "output_type": "stream",
     "text": [
      "[CV 1/5] END algorithm=SAMME, learning_rate=5, n_estimators=50;, score=nan total time=   0.0s\n",
      "[CV 2/5] END algorithm=SAMME, learning_rate=5, n_estimators=50;, score=nan total time=   0.0s\n",
      "[CV 3/5] END algorithm=SAMME, learning_rate=5, n_estimators=50;, score=nan total time=   0.0s\n",
      "[CV 4/5] END algorithm=SAMME, learning_rate=5, n_estimators=50;, score=nan total time=   0.0s\n"
     ]
    },
    {
     "name": "stderr",
     "output_type": "stream",
     "text": [
      "C:\\Users\\user\\anaconda3\\lib\\site-packages\\sklearn\\model_selection\\_validation.py:619: FitFailedWarning: Estimator fit failed. The score on this train-test partition for these parameters will be set to nan. Details: \n",
      "Traceback (most recent call last):\n",
      "  File \"C:\\Users\\user\\anaconda3\\lib\\site-packages\\sklearn\\model_selection\\_validation.py\", line 598, in _fit_and_score\n",
      "    estimator.fit(X_train, y_train, **fit_params)\n",
      "  File \"C:\\Users\\user\\anaconda3\\lib\\site-packages\\sklearn\\ensemble\\_weight_boosting.py\", line 443, in fit\n",
      "    return super().fit(X, y, sample_weight)\n",
      "  File \"C:\\Users\\user\\anaconda3\\lib\\site-packages\\sklearn\\ensemble\\_weight_boosting.py\", line 134, in fit\n",
      "    random_state)\n",
      "  File \"C:\\Users\\user\\anaconda3\\lib\\site-packages\\sklearn\\ensemble\\_weight_boosting.py\", line 507, in _boost\n",
      "    random_state)\n",
      "  File \"C:\\Users\\user\\anaconda3\\lib\\site-packages\\sklearn\\ensemble\\_weight_boosting.py\", line 571, in _boost_discrete\n",
      "    estimator.fit(X, y, sample_weight=sample_weight)\n",
      "  File \"C:\\Users\\user\\anaconda3\\lib\\site-packages\\sklearn\\tree\\_classes.py\", line 907, in fit\n",
      "    X_idx_sorted=X_idx_sorted)\n",
      "  File \"C:\\Users\\user\\anaconda3\\lib\\site-packages\\sklearn\\tree\\_classes.py\", line 298, in fit\n",
      "    sample_weight = _check_sample_weight(sample_weight, X, DOUBLE)\n",
      "  File \"C:\\Users\\user\\anaconda3\\lib\\site-packages\\sklearn\\utils\\validation.py\", line 1378, in _check_sample_weight\n",
      "    order=\"C\", copy=copy\n",
      "  File \"C:\\Users\\user\\anaconda3\\lib\\site-packages\\sklearn\\utils\\validation.py\", line 63, in inner_f\n",
      "    return f(*args, **kwargs)\n",
      "  File \"C:\\Users\\user\\anaconda3\\lib\\site-packages\\sklearn\\utils\\validation.py\", line 721, in check_array\n",
      "    allow_nan=force_all_finite == 'allow-nan')\n",
      "  File \"C:\\Users\\user\\anaconda3\\lib\\site-packages\\sklearn\\utils\\validation.py\", line 106, in _assert_all_finite\n",
      "    msg_dtype if msg_dtype is not None else X.dtype)\n",
      "ValueError: Input contains NaN, infinity or a value too large for dtype('float64').\n",
      "\n",
      "  FitFailedWarning)\n",
      "C:\\Users\\user\\anaconda3\\lib\\site-packages\\sklearn\\ensemble\\_weight_boosting.py:610: RuntimeWarning: overflow encountered in exp\n",
      "  (sample_weight > 0))\n",
      "C:\\Users\\user\\anaconda3\\lib\\site-packages\\sklearn\\ensemble\\_weight_boosting.py:155: RuntimeWarning: invalid value encountered in true_divide\n",
      "  sample_weight /= sample_weight_sum\n",
      "C:\\Users\\user\\anaconda3\\lib\\site-packages\\sklearn\\model_selection\\_validation.py:619: FitFailedWarning: Estimator fit failed. The score on this train-test partition for these parameters will be set to nan. Details: \n",
      "Traceback (most recent call last):\n",
      "  File \"C:\\Users\\user\\anaconda3\\lib\\site-packages\\sklearn\\model_selection\\_validation.py\", line 598, in _fit_and_score\n",
      "    estimator.fit(X_train, y_train, **fit_params)\n",
      "  File \"C:\\Users\\user\\anaconda3\\lib\\site-packages\\sklearn\\ensemble\\_weight_boosting.py\", line 443, in fit\n",
      "    return super().fit(X, y, sample_weight)\n",
      "  File \"C:\\Users\\user\\anaconda3\\lib\\site-packages\\sklearn\\ensemble\\_weight_boosting.py\", line 134, in fit\n",
      "    random_state)\n",
      "  File \"C:\\Users\\user\\anaconda3\\lib\\site-packages\\sklearn\\ensemble\\_weight_boosting.py\", line 507, in _boost\n",
      "    random_state)\n",
      "  File \"C:\\Users\\user\\anaconda3\\lib\\site-packages\\sklearn\\ensemble\\_weight_boosting.py\", line 571, in _boost_discrete\n",
      "    estimator.fit(X, y, sample_weight=sample_weight)\n",
      "  File \"C:\\Users\\user\\anaconda3\\lib\\site-packages\\sklearn\\tree\\_classes.py\", line 907, in fit\n",
      "    X_idx_sorted=X_idx_sorted)\n",
      "  File \"C:\\Users\\user\\anaconda3\\lib\\site-packages\\sklearn\\tree\\_classes.py\", line 298, in fit\n",
      "    sample_weight = _check_sample_weight(sample_weight, X, DOUBLE)\n",
      "  File \"C:\\Users\\user\\anaconda3\\lib\\site-packages\\sklearn\\utils\\validation.py\", line 1378, in _check_sample_weight\n",
      "    order=\"C\", copy=copy\n",
      "  File \"C:\\Users\\user\\anaconda3\\lib\\site-packages\\sklearn\\utils\\validation.py\", line 63, in inner_f\n",
      "    return f(*args, **kwargs)\n",
      "  File \"C:\\Users\\user\\anaconda3\\lib\\site-packages\\sklearn\\utils\\validation.py\", line 721, in check_array\n",
      "    allow_nan=force_all_finite == 'allow-nan')\n",
      "  File \"C:\\Users\\user\\anaconda3\\lib\\site-packages\\sklearn\\utils\\validation.py\", line 106, in _assert_all_finite\n",
      "    msg_dtype if msg_dtype is not None else X.dtype)\n",
      "ValueError: Input contains NaN, infinity or a value too large for dtype('float64').\n",
      "\n",
      "  FitFailedWarning)\n"
     ]
    },
    {
     "name": "stdout",
     "output_type": "stream",
     "text": [
      "[CV 5/5] END algorithm=SAMME, learning_rate=5, n_estimators=50;, score=nan total time=   0.0s\n",
      "[CV 1/5] END algorithm=SAMME.R, learning_rate=1, n_estimators=10;, score=0.443 total time=   0.0s\n",
      "[CV 2/5] END algorithm=SAMME.R, learning_rate=1, n_estimators=10;, score=0.324 total time=   0.0s\n",
      "[CV 3/5] END algorithm=SAMME.R, learning_rate=1, n_estimators=10;, score=0.414 total time=   0.0s\n",
      "[CV 4/5] END algorithm=SAMME.R, learning_rate=1, n_estimators=10;, score=0.538 total time=   0.0s\n",
      "[CV 5/5] END algorithm=SAMME.R, learning_rate=1, n_estimators=10;, score=0.419 total time=   0.0s\n",
      "[CV 1/5] END algorithm=SAMME.R, learning_rate=1, n_estimators=20;, score=0.443 total time=   0.0s\n",
      "[CV 2/5] END algorithm=SAMME.R, learning_rate=1, n_estimators=20;, score=0.324 total time=   0.0s\n",
      "[CV 3/5] END algorithm=SAMME.R, learning_rate=1, n_estimators=20;, score=0.414 total time=   0.0s\n",
      "[CV 4/5] END algorithm=SAMME.R, learning_rate=1, n_estimators=20;, score=0.471 total time=   0.0s\n",
      "[CV 5/5] END algorithm=SAMME.R, learning_rate=1, n_estimators=20;, score=0.419 total time=   0.0s\n",
      "[CV 1/5] END algorithm=SAMME.R, learning_rate=1, n_estimators=30;, score=0.443 total time=   0.0s\n",
      "[CV 2/5] END algorithm=SAMME.R, learning_rate=1, n_estimators=30;, score=0.324 total time=   0.0s\n",
      "[CV 3/5] END algorithm=SAMME.R, learning_rate=1, n_estimators=30;, score=0.414 total time=   0.0s\n",
      "[CV 4/5] END algorithm=SAMME.R, learning_rate=1, n_estimators=30;, score=0.362 total time=   0.0s\n",
      "[CV 5/5] END algorithm=SAMME.R, learning_rate=1, n_estimators=30;, score=0.419 total time=   0.0s\n",
      "[CV 1/5] END algorithm=SAMME.R, learning_rate=1, n_estimators=40;, score=0.443 total time=   0.0s\n",
      "[CV 2/5] END algorithm=SAMME.R, learning_rate=1, n_estimators=40;, score=0.324 total time=   0.0s\n",
      "[CV 3/5] END algorithm=SAMME.R, learning_rate=1, n_estimators=40;, score=0.414 total time=   0.0s\n",
      "[CV 4/5] END algorithm=SAMME.R, learning_rate=1, n_estimators=40;, score=0.395 total time=   0.0s\n",
      "[CV 5/5] END algorithm=SAMME.R, learning_rate=1, n_estimators=40;, score=0.390 total time=   0.0s\n",
      "[CV 1/5] END algorithm=SAMME.R, learning_rate=1, n_estimators=50;, score=0.443 total time=   0.0s\n",
      "[CV 2/5] END algorithm=SAMME.R, learning_rate=1, n_estimators=50;, score=0.324 total time=   0.0s\n",
      "[CV 3/5] END algorithm=SAMME.R, learning_rate=1, n_estimators=50;, score=0.414 total time=   0.0s\n",
      "[CV 4/5] END algorithm=SAMME.R, learning_rate=1, n_estimators=50;, score=0.367 total time=   0.0s\n",
      "[CV 5/5] END algorithm=SAMME.R, learning_rate=1, n_estimators=50;, score=0.390 total time=   0.0s\n",
      "[CV 1/5] END algorithm=SAMME.R, learning_rate=2, n_estimators=10;, score=0.290 total time=   0.0s\n",
      "[CV 2/5] END algorithm=SAMME.R, learning_rate=2, n_estimators=10;, score=0.433 total time=   0.0s\n",
      "[CV 3/5] END algorithm=SAMME.R, learning_rate=2, n_estimators=10;, score=0.200 total time=   0.0s\n",
      "[CV 4/5] END algorithm=SAMME.R, learning_rate=2, n_estimators=10;, score=0.310 total time=   0.0s\n",
      "[CV 5/5] END algorithm=SAMME.R, learning_rate=2, n_estimators=10;, score=0.438 total time=   0.0s\n",
      "[CV 1/5] END algorithm=SAMME.R, learning_rate=2, n_estimators=20;, score=0.390 total time=   0.0s\n",
      "[CV 2/5] END algorithm=SAMME.R, learning_rate=2, n_estimators=20;, score=0.333 total time=   0.0s\n",
      "[CV 3/5] END algorithm=SAMME.R, learning_rate=2, n_estimators=20;, score=0.352 total time=   0.0s\n",
      "[CV 4/5] END algorithm=SAMME.R, learning_rate=2, n_estimators=20;, score=0.310 total time=   0.0s\n",
      "[CV 5/5] END algorithm=SAMME.R, learning_rate=2, n_estimators=20;, score=0.438 total time=   0.0s\n",
      "[CV 1/5] END algorithm=SAMME.R, learning_rate=2, n_estimators=30;, score=0.319 total time=   0.0s\n",
      "[CV 2/5] END algorithm=SAMME.R, learning_rate=2, n_estimators=30;, score=0.329 total time=   0.0s\n",
      "[CV 3/5] END algorithm=SAMME.R, learning_rate=2, n_estimators=30;, score=0.381 total time=   0.0s\n",
      "[CV 4/5] END algorithm=SAMME.R, learning_rate=2, n_estimators=30;, score=0.310 total time=   0.0s\n",
      "[CV 5/5] END algorithm=SAMME.R, learning_rate=2, n_estimators=30;, score=0.438 total time=   0.0s\n",
      "[CV 1/5] END algorithm=SAMME.R, learning_rate=2, n_estimators=40;, score=0.319 total time=   0.0s\n",
      "[CV 2/5] END algorithm=SAMME.R, learning_rate=2, n_estimators=40;, score=0.333 total time=   0.0s\n",
      "[CV 3/5] END algorithm=SAMME.R, learning_rate=2, n_estimators=40;, score=0.548 total time=   0.0s\n",
      "[CV 4/5] END algorithm=SAMME.R, learning_rate=2, n_estimators=40;, score=0.310 total time=   0.0s\n",
      "[CV 5/5] END algorithm=SAMME.R, learning_rate=2, n_estimators=40;, score=0.438 total time=   0.0s\n",
      "[CV 1/5] END algorithm=SAMME.R, learning_rate=2, n_estimators=50;, score=0.329 total time=   0.0s\n",
      "[CV 2/5] END algorithm=SAMME.R, learning_rate=2, n_estimators=50;, score=0.333 total time=   0.0s\n",
      "[CV 3/5] END algorithm=SAMME.R, learning_rate=2, n_estimators=50;, score=0.529 total time=   0.0s\n",
      "[CV 4/5] END algorithm=SAMME.R, learning_rate=2, n_estimators=50;, score=0.310 total time=   0.0s\n",
      "[CV 5/5] END algorithm=SAMME.R, learning_rate=2, n_estimators=50;, score=0.438 total time=   0.0s\n",
      "[CV 1/5] END algorithm=SAMME.R, learning_rate=3, n_estimators=10;, score=0.314 total time=   0.0s\n",
      "[CV 2/5] END algorithm=SAMME.R, learning_rate=3, n_estimators=10;, score=0.252 total time=   0.0s\n",
      "[CV 3/5] END algorithm=SAMME.R, learning_rate=3, n_estimators=10;, score=0.452 total time=   0.0s\n",
      "[CV 4/5] END algorithm=SAMME.R, learning_rate=3, n_estimators=10;, score=0.133 total time=   0.0s\n",
      "[CV 5/5] END algorithm=SAMME.R, learning_rate=3, n_estimators=10;, score=0.352 total time=   0.0s\n",
      "[CV 1/5] END algorithm=SAMME.R, learning_rate=3, n_estimators=20;, score=0.300 total time=   0.0s\n",
      "[CV 2/5] END algorithm=SAMME.R, learning_rate=3, n_estimators=20;, score=0.490 total time=   0.0s\n",
      "[CV 3/5] END algorithm=SAMME.R, learning_rate=3, n_estimators=20;, score=0.481 total time=   0.0s\n",
      "[CV 4/5] END algorithm=SAMME.R, learning_rate=3, n_estimators=20;, score=0.252 total time=   0.0s\n",
      "[CV 5/5] END algorithm=SAMME.R, learning_rate=3, n_estimators=20;, score=0.257 total time=   0.0s\n",
      "[CV 1/5] END algorithm=SAMME.R, learning_rate=3, n_estimators=30;, score=0.481 total time=   0.0s\n",
      "[CV 2/5] END algorithm=SAMME.R, learning_rate=3, n_estimators=30;, score=0.476 total time=   0.0s\n",
      "[CV 3/5] END algorithm=SAMME.R, learning_rate=3, n_estimators=30;, score=0.419 total time=   0.0s\n",
      "[CV 4/5] END algorithm=SAMME.R, learning_rate=3, n_estimators=30;, score=0.414 total time=   0.0s\n",
      "[CV 5/5] END algorithm=SAMME.R, learning_rate=3, n_estimators=30;, score=0.295 total time=   0.0s\n",
      "[CV 1/5] END algorithm=SAMME.R, learning_rate=3, n_estimators=40;, score=0.305 total time=   0.0s\n",
      "[CV 2/5] END algorithm=SAMME.R, learning_rate=3, n_estimators=40;, score=0.467 total time=   0.0s\n",
      "[CV 3/5] END algorithm=SAMME.R, learning_rate=3, n_estimators=40;, score=0.414 total time=   0.0s\n",
      "[CV 4/5] END algorithm=SAMME.R, learning_rate=3, n_estimators=40;, score=0.424 total time=   0.0s\n",
      "[CV 5/5] END algorithm=SAMME.R, learning_rate=3, n_estimators=40;, score=0.310 total time=   0.0s\n",
      "[CV 1/5] END algorithm=SAMME.R, learning_rate=3, n_estimators=50;, score=0.371 total time=   0.0s\n",
      "[CV 2/5] END algorithm=SAMME.R, learning_rate=3, n_estimators=50;, score=0.500 total time=   0.0s\n",
      "[CV 3/5] END algorithm=SAMME.R, learning_rate=3, n_estimators=50;, score=0.433 total time=   0.0s\n",
      "[CV 4/5] END algorithm=SAMME.R, learning_rate=3, n_estimators=50;, score=0.471 total time=   0.0s\n",
      "[CV 5/5] END algorithm=SAMME.R, learning_rate=3, n_estimators=50;, score=0.300 total time=   0.0s\n",
      "[CV 1/5] END algorithm=SAMME.R, learning_rate=4, n_estimators=10;, score=0.367 total time=   0.0s\n",
      "[CV 2/5] END algorithm=SAMME.R, learning_rate=4, n_estimators=10;, score=0.571 total time=   0.0s\n",
      "[CV 3/5] END algorithm=SAMME.R, learning_rate=4, n_estimators=10;, score=0.286 total time=   0.0s\n",
      "[CV 4/5] END algorithm=SAMME.R, learning_rate=4, n_estimators=10;, score=0.405 total time=   0.0s\n",
      "[CV 5/5] END algorithm=SAMME.R, learning_rate=4, n_estimators=10;, score=0.333 total time=   0.0s\n",
      "[CV 1/5] END algorithm=SAMME.R, learning_rate=4, n_estimators=20;, score=0.357 total time=   0.0s\n",
      "[CV 2/5] END algorithm=SAMME.R, learning_rate=4, n_estimators=20;, score=0.176 total time=   0.0s\n",
      "[CV 3/5] END algorithm=SAMME.R, learning_rate=4, n_estimators=20;, score=0.400 total time=   0.0s\n"
     ]
    },
    {
     "name": "stdout",
     "output_type": "stream",
     "text": [
      "[CV 4/5] END algorithm=SAMME.R, learning_rate=4, n_estimators=20;, score=0.405 total time=   0.0s\n",
      "[CV 5/5] END algorithm=SAMME.R, learning_rate=4, n_estimators=20;, score=0.243 total time=   0.0s\n",
      "[CV 1/5] END algorithm=SAMME.R, learning_rate=4, n_estimators=30;, score=0.286 total time=   0.0s\n",
      "[CV 2/5] END algorithm=SAMME.R, learning_rate=4, n_estimators=30;, score=0.281 total time=   0.0s\n",
      "[CV 3/5] END algorithm=SAMME.R, learning_rate=4, n_estimators=30;, score=0.305 total time=   0.0s\n",
      "[CV 4/5] END algorithm=SAMME.R, learning_rate=4, n_estimators=30;, score=0.524 total time=   0.0s\n",
      "[CV 5/5] END algorithm=SAMME.R, learning_rate=4, n_estimators=30;, score=0.400 total time=   0.0s\n",
      "[CV 1/5] END algorithm=SAMME.R, learning_rate=4, n_estimators=40;, score=0.324 total time=   0.0s\n",
      "[CV 2/5] END algorithm=SAMME.R, learning_rate=4, n_estimators=40;, score=0.405 total time=   0.0s\n",
      "[CV 3/5] END algorithm=SAMME.R, learning_rate=4, n_estimators=40;, score=0.319 total time=   0.0s\n",
      "[CV 4/5] END algorithm=SAMME.R, learning_rate=4, n_estimators=40;, score=0.467 total time=   0.0s\n",
      "[CV 5/5] END algorithm=SAMME.R, learning_rate=4, n_estimators=40;, score=0.343 total time=   0.0s\n",
      "[CV 1/5] END algorithm=SAMME.R, learning_rate=4, n_estimators=50;, score=0.305 total time=   0.0s\n",
      "[CV 2/5] END algorithm=SAMME.R, learning_rate=4, n_estimators=50;, score=0.295 total time=   0.0s\n",
      "[CV 3/5] END algorithm=SAMME.R, learning_rate=4, n_estimators=50;, score=0.376 total time=   0.0s\n",
      "[CV 4/5] END algorithm=SAMME.R, learning_rate=4, n_estimators=50;, score=0.500 total time=   0.0s\n",
      "[CV 5/5] END algorithm=SAMME.R, learning_rate=4, n_estimators=50;, score=0.390 total time=   0.0s\n",
      "[CV 1/5] END algorithm=SAMME.R, learning_rate=5, n_estimators=10;, score=0.138 total time=   0.0s\n",
      "[CV 2/5] END algorithm=SAMME.R, learning_rate=5, n_estimators=10;, score=0.352 total time=   0.0s\n",
      "[CV 3/5] END algorithm=SAMME.R, learning_rate=5, n_estimators=10;, score=0.562 total time=   0.0s\n",
      "[CV 4/5] END algorithm=SAMME.R, learning_rate=5, n_estimators=10;, score=0.429 total time=   0.0s\n",
      "[CV 5/5] END algorithm=SAMME.R, learning_rate=5, n_estimators=10;, score=0.314 total time=   0.0s\n",
      "[CV 1/5] END algorithm=SAMME.R, learning_rate=5, n_estimators=20;, score=0.238 total time=   0.0s\n",
      "[CV 2/5] END algorithm=SAMME.R, learning_rate=5, n_estimators=20;, score=0.267 total time=   0.0s\n",
      "[CV 3/5] END algorithm=SAMME.R, learning_rate=5, n_estimators=20;, score=0.405 total time=   0.0s\n",
      "[CV 4/5] END algorithm=SAMME.R, learning_rate=5, n_estimators=20;, score=0.286 total time=   0.0s\n",
      "[CV 5/5] END algorithm=SAMME.R, learning_rate=5, n_estimators=20;, score=0.281 total time=   0.0s\n",
      "[CV 1/5] END algorithm=SAMME.R, learning_rate=5, n_estimators=30;, score=0.186 total time=   0.0s\n",
      "[CV 2/5] END algorithm=SAMME.R, learning_rate=5, n_estimators=30;, score=0.300 total time=   0.0s\n",
      "[CV 3/5] END algorithm=SAMME.R, learning_rate=5, n_estimators=30;, score=0.367 total time=   0.0s\n",
      "[CV 4/5] END algorithm=SAMME.R, learning_rate=5, n_estimators=30;, score=0.433 total time=   0.0s\n",
      "[CV 5/5] END algorithm=SAMME.R, learning_rate=5, n_estimators=30;, score=0.367 total time=   0.0s\n",
      "[CV 1/5] END algorithm=SAMME.R, learning_rate=5, n_estimators=40;, score=0.305 total time=   0.0s\n",
      "[CV 2/5] END algorithm=SAMME.R, learning_rate=5, n_estimators=40;, score=0.286 total time=   0.0s\n",
      "[CV 3/5] END algorithm=SAMME.R, learning_rate=5, n_estimators=40;, score=0.376 total time=   0.0s\n",
      "[CV 4/5] END algorithm=SAMME.R, learning_rate=5, n_estimators=40;, score=0.400 total time=   0.0s\n",
      "[CV 5/5] END algorithm=SAMME.R, learning_rate=5, n_estimators=40;, score=0.386 total time=   0.0s\n",
      "[CV 1/5] END algorithm=SAMME.R, learning_rate=5, n_estimators=50;, score=0.390 total time=   0.0s\n",
      "[CV 2/5] END algorithm=SAMME.R, learning_rate=5, n_estimators=50;, score=0.467 total time=   0.0s\n",
      "[CV 3/5] END algorithm=SAMME.R, learning_rate=5, n_estimators=50;, score=0.400 total time=   0.0s\n",
      "[CV 4/5] END algorithm=SAMME.R, learning_rate=5, n_estimators=50;, score=0.352 total time=   0.0s\n",
      "[CV 5/5] END algorithm=SAMME.R, learning_rate=5, n_estimators=50;, score=0.567 total time=   0.0s\n"
     ]
    },
    {
     "name": "stderr",
     "output_type": "stream",
     "text": [
      "C:\\Users\\user\\anaconda3\\lib\\site-packages\\sklearn\\model_selection\\_search.py:925: UserWarning: One or more of the test scores are non-finite: [0.5447619  0.49142857 0.50571429 0.52571429 0.50190476 0.48666667\n",
      " 0.38857143 0.47238095 0.42       0.42666667 0.45142857 0.3\n",
      " 0.36571429 0.36666667 0.36095238 0.46190476 0.39428571 0.35428571\n",
      " 0.34857143 0.34190476 0.2752381  0.33428571        nan        nan\n",
      "        nan 0.42761905 0.41428571 0.39238095 0.39333333 0.38761905\n",
      " 0.33428571 0.3647619  0.3552381  0.38952381 0.38761905 0.30095238\n",
      " 0.35619048 0.41714286 0.38380952 0.4152381  0.39238095 0.31619048\n",
      " 0.35904762 0.37142857 0.37333333 0.35904762 0.2952381  0.33047619\n",
      " 0.35047619 0.4352381 ]\n",
      "  category=UserWarning\n"
     ]
    },
    {
     "data": {
      "text/plain": [
       "GridSearchCV(estimator=AdaBoostClassifier(),\n",
       "             param_grid={'algorithm': ['SAMME', 'SAMME.R'],\n",
       "                         'learning_rate': [1, 2, 3, 4, 5],\n",
       "                         'n_estimators': [10, 20, 30, 40, 50]},\n",
       "             verbose=3)"
      ]
     },
     "execution_count": 13,
     "metadata": {},
     "output_type": "execute_result"
    }
   ],
   "source": [
    "grid.fit(x_train,y_train)"
   ]
  },
  {
   "cell_type": "code",
   "execution_count": 14,
   "metadata": {},
   "outputs": [
    {
     "data": {
      "text/plain": [
       "{'algorithm': 'SAMME', 'learning_rate': 1, 'n_estimators': 10}"
      ]
     },
     "execution_count": 14,
     "metadata": {},
     "output_type": "execute_result"
    }
   ],
   "source": [
    "grid.best_params_"
   ]
  },
  {
   "cell_type": "code",
   "execution_count": 15,
   "metadata": {},
   "outputs": [],
   "source": [
    "model1=grid.best_estimator_"
   ]
  },
  {
   "cell_type": "code",
   "execution_count": 16,
   "metadata": {},
   "outputs": [],
   "source": [
    "y_pred1= model1.predict(x_test)"
   ]
  },
  {
   "cell_type": "code",
   "execution_count": 17,
   "metadata": {},
   "outputs": [
    {
     "data": {
      "text/plain": [
       "0.5955555555555555"
      ]
     },
     "execution_count": 17,
     "metadata": {},
     "output_type": "execute_result"
    }
   ],
   "source": [
    "accuracy_score(y_test, y_pred1)"
   ]
  },
  {
   "cell_type": "markdown",
   "metadata": {},
   "source": [
    "## Gradient Boosting"
   ]
  },
  {
   "cell_type": "markdown",
   "metadata": {},
   "source": [
    "### Model 1"
   ]
  },
  {
   "cell_type": "code",
   "execution_count": 18,
   "metadata": {},
   "outputs": [
    {
     "data": {
      "text/plain": [
       "GradientBoostingClassifier(learning_rate=1.0, max_depth=1)"
      ]
     },
     "execution_count": 18,
     "metadata": {},
     "output_type": "execute_result"
    }
   ],
   "source": [
    "clf = GradientBoostingClassifier(n_estimators=100, learning_rate=1.0, max_depth=1)\n",
    "clf.fit(x_train, y_train)"
   ]
  },
  {
   "cell_type": "code",
   "execution_count": 19,
   "metadata": {},
   "outputs": [],
   "source": [
    "y_pred1= clf.predict(x_test)"
   ]
  },
  {
   "cell_type": "code",
   "execution_count": 20,
   "metadata": {},
   "outputs": [
    {
     "data": {
      "text/plain": [
       "0.5955555555555555"
      ]
     },
     "execution_count": 20,
     "metadata": {},
     "output_type": "execute_result"
    }
   ],
   "source": [
    "accuracy_score(y_test, y_pred1)"
   ]
  },
  {
   "cell_type": "markdown",
   "metadata": {},
   "source": [
    "## Bagging Classifier"
   ]
  },
  {
   "cell_type": "markdown",
   "metadata": {},
   "source": [
    "### Model 1"
   ]
  },
  {
   "cell_type": "code",
   "execution_count": 21,
   "metadata": {},
   "outputs": [],
   "source": [
    "seed = 8\n",
    "kfold = model_selection.KFold(n_splits = 3,shuffle=True,\n",
    "                       random_state = seed)"
   ]
  },
  {
   "cell_type": "code",
   "execution_count": 22,
   "metadata": {},
   "outputs": [],
   "source": [
    "base_cls = DecisionTreeClassifier()\n",
    "num_trees = 500\n",
    "model = BaggingClassifier(base_estimator = base_cls,\n",
    "                          n_estimators = num_trees,\n",
    "                          random_state = seed)"
   ]
  },
  {
   "cell_type": "code",
   "execution_count": 23,
   "metadata": {},
   "outputs": [
    {
     "data": {
      "text/plain": [
       "0.6314285714285713"
      ]
     },
     "execution_count": 23,
     "metadata": {},
     "output_type": "execute_result"
    }
   ],
   "source": [
    "model_selection.cross_val_score(model, x_train, y_train, cv = kfold).mean()"
   ]
  },
  {
   "cell_type": "code",
   "execution_count": 24,
   "metadata": {},
   "outputs": [
    {
     "data": {
      "text/plain": [
       "BaggingClassifier(base_estimator=DecisionTreeClassifier(), n_estimators=500,\n",
       "                  random_state=8)"
      ]
     },
     "execution_count": 24,
     "metadata": {},
     "output_type": "execute_result"
    }
   ],
   "source": [
    "model.fit(x_train,y_train)"
   ]
  },
  {
   "cell_type": "code",
   "execution_count": 25,
   "metadata": {},
   "outputs": [],
   "source": [
    "ypred=model.predict(x_test)"
   ]
  },
  {
   "cell_type": "code",
   "execution_count": 26,
   "metadata": {},
   "outputs": [
    {
     "data": {
      "text/plain": [
       "0.68"
      ]
     },
     "execution_count": 26,
     "metadata": {},
     "output_type": "execute_result"
    }
   ],
   "source": [
    "accuracy_score(y_test, ypred)"
   ]
  },
  {
   "cell_type": "markdown",
   "metadata": {},
   "source": [
    "## Random Forests"
   ]
  },
  {
   "cell_type": "markdown",
   "metadata": {},
   "source": [
    "### Model 1"
   ]
  },
  {
   "cell_type": "code",
   "execution_count": 27,
   "metadata": {},
   "outputs": [],
   "source": [
    "clf = RandomForestClassifier(max_depth=2, random_state=0)"
   ]
  },
  {
   "cell_type": "code",
   "execution_count": 28,
   "metadata": {},
   "outputs": [
    {
     "data": {
      "text/plain": [
       "RandomForestClassifier(max_depth=2, random_state=0)"
      ]
     },
     "execution_count": 28,
     "metadata": {},
     "output_type": "execute_result"
    }
   ],
   "source": [
    "clf.fit(x_train, y_train)"
   ]
  },
  {
   "cell_type": "code",
   "execution_count": 29,
   "metadata": {},
   "outputs": [],
   "source": [
    "ypred=clf.predict(x_test)"
   ]
  },
  {
   "cell_type": "code",
   "execution_count": 30,
   "metadata": {},
   "outputs": [
    {
     "data": {
      "text/plain": [
       "0.5777777777777777"
      ]
     },
     "execution_count": 30,
     "metadata": {},
     "output_type": "execute_result"
    }
   ],
   "source": [
    "accuracy_score(y_test, ypred)"
   ]
  },
  {
   "cell_type": "markdown",
   "metadata": {},
   "source": [
    "### Model 2"
   ]
  },
  {
   "cell_type": "code",
   "execution_count": 31,
   "metadata": {},
   "outputs": [],
   "source": [
    "param_grid={'n_estimators':[100,200,300,400],'criterion':['gini', 'entropy'],'max_depth':[2,3,4,5],'max_features':['auto','sqrt','log2']}"
   ]
  },
  {
   "cell_type": "code",
   "execution_count": 32,
   "metadata": {},
   "outputs": [],
   "source": [
    "grid = GridSearchCV(RandomForestClassifier(),param_grid,refit=True,verbose=3)"
   ]
  },
  {
   "cell_type": "code",
   "execution_count": 33,
   "metadata": {},
   "outputs": [
    {
     "name": "stdout",
     "output_type": "stream",
     "text": [
      "Fitting 5 folds for each of 96 candidates, totalling 480 fits\n"
     ]
    },
    {
     "name": "stderr",
     "output_type": "stream",
     "text": [
      "C:\\Users\\user\\anaconda3\\lib\\site-packages\\sklearn\\model_selection\\_split.py:668: UserWarning: The least populated class in y has only 3 members, which is less than n_splits=5.\n",
      "  % (min_groups, self.n_splits)), UserWarning)\n"
     ]
    },
    {
     "name": "stdout",
     "output_type": "stream",
     "text": [
      "[CV 1/5] END criterion=gini, max_depth=2, max_features=auto, n_estimators=100;, score=0.595 total time=   0.1s\n",
      "[CV 2/5] END criterion=gini, max_depth=2, max_features=auto, n_estimators=100;, score=0.595 total time=   0.1s\n",
      "[CV 3/5] END criterion=gini, max_depth=2, max_features=auto, n_estimators=100;, score=0.590 total time=   0.1s\n",
      "[CV 4/5] END criterion=gini, max_depth=2, max_features=auto, n_estimators=100;, score=0.590 total time=   0.1s\n",
      "[CV 5/5] END criterion=gini, max_depth=2, max_features=auto, n_estimators=100;, score=0.590 total time=   0.1s\n",
      "[CV 1/5] END criterion=gini, max_depth=2, max_features=auto, n_estimators=200;, score=0.595 total time=   0.3s\n",
      "[CV 2/5] END criterion=gini, max_depth=2, max_features=auto, n_estimators=200;, score=0.595 total time=   0.3s\n",
      "[CV 3/5] END criterion=gini, max_depth=2, max_features=auto, n_estimators=200;, score=0.590 total time=   0.3s\n",
      "[CV 4/5] END criterion=gini, max_depth=2, max_features=auto, n_estimators=200;, score=0.590 total time=   0.3s\n",
      "[CV 5/5] END criterion=gini, max_depth=2, max_features=auto, n_estimators=200;, score=0.590 total time=   0.3s\n",
      "[CV 1/5] END criterion=gini, max_depth=2, max_features=auto, n_estimators=300;, score=0.595 total time=   0.7s\n",
      "[CV 2/5] END criterion=gini, max_depth=2, max_features=auto, n_estimators=300;, score=0.595 total time=   0.6s\n",
      "[CV 3/5] END criterion=gini, max_depth=2, max_features=auto, n_estimators=300;, score=0.590 total time=   0.6s\n",
      "[CV 4/5] END criterion=gini, max_depth=2, max_features=auto, n_estimators=300;, score=0.590 total time=   0.6s\n",
      "[CV 5/5] END criterion=gini, max_depth=2, max_features=auto, n_estimators=300;, score=0.590 total time=   0.6s\n",
      "[CV 1/5] END criterion=gini, max_depth=2, max_features=auto, n_estimators=400;, score=0.595 total time=   0.8s\n",
      "[CV 2/5] END criterion=gini, max_depth=2, max_features=auto, n_estimators=400;, score=0.595 total time=   0.7s\n",
      "[CV 3/5] END criterion=gini, max_depth=2, max_features=auto, n_estimators=400;, score=0.590 total time=   0.6s\n",
      "[CV 4/5] END criterion=gini, max_depth=2, max_features=auto, n_estimators=400;, score=0.590 total time=   0.7s\n",
      "[CV 5/5] END criterion=gini, max_depth=2, max_features=auto, n_estimators=400;, score=0.590 total time=   0.7s\n",
      "[CV 1/5] END criterion=gini, max_depth=2, max_features=sqrt, n_estimators=100;, score=0.595 total time=   0.1s\n",
      "[CV 2/5] END criterion=gini, max_depth=2, max_features=sqrt, n_estimators=100;, score=0.595 total time=   0.1s\n",
      "[CV 3/5] END criterion=gini, max_depth=2, max_features=sqrt, n_estimators=100;, score=0.590 total time=   0.1s\n",
      "[CV 4/5] END criterion=gini, max_depth=2, max_features=sqrt, n_estimators=100;, score=0.590 total time=   0.1s\n",
      "[CV 5/5] END criterion=gini, max_depth=2, max_features=sqrt, n_estimators=100;, score=0.590 total time=   0.1s\n",
      "[CV 1/5] END criterion=gini, max_depth=2, max_features=sqrt, n_estimators=200;, score=0.595 total time=   0.3s\n",
      "[CV 2/5] END criterion=gini, max_depth=2, max_features=sqrt, n_estimators=200;, score=0.595 total time=   0.3s\n",
      "[CV 3/5] END criterion=gini, max_depth=2, max_features=sqrt, n_estimators=200;, score=0.590 total time=   0.3s\n",
      "[CV 4/5] END criterion=gini, max_depth=2, max_features=sqrt, n_estimators=200;, score=0.590 total time=   0.3s\n",
      "[CV 5/5] END criterion=gini, max_depth=2, max_features=sqrt, n_estimators=200;, score=0.590 total time=   0.3s\n",
      "[CV 1/5] END criterion=gini, max_depth=2, max_features=sqrt, n_estimators=300;, score=0.595 total time=   0.5s\n",
      "[CV 2/5] END criterion=gini, max_depth=2, max_features=sqrt, n_estimators=300;, score=0.595 total time=   0.5s\n",
      "[CV 3/5] END criterion=gini, max_depth=2, max_features=sqrt, n_estimators=300;, score=0.590 total time=   0.5s\n",
      "[CV 4/5] END criterion=gini, max_depth=2, max_features=sqrt, n_estimators=300;, score=0.590 total time=   0.5s\n",
      "[CV 5/5] END criterion=gini, max_depth=2, max_features=sqrt, n_estimators=300;, score=0.590 total time=   0.5s\n",
      "[CV 1/5] END criterion=gini, max_depth=2, max_features=sqrt, n_estimators=400;, score=0.595 total time=   0.6s\n",
      "[CV 2/5] END criterion=gini, max_depth=2, max_features=sqrt, n_estimators=400;, score=0.595 total time=   0.7s\n",
      "[CV 3/5] END criterion=gini, max_depth=2, max_features=sqrt, n_estimators=400;, score=0.590 total time=   0.6s\n",
      "[CV 4/5] END criterion=gini, max_depth=2, max_features=sqrt, n_estimators=400;, score=0.590 total time=   0.6s\n",
      "[CV 5/5] END criterion=gini, max_depth=2, max_features=sqrt, n_estimators=400;, score=0.590 total time=   0.7s\n",
      "[CV 1/5] END criterion=gini, max_depth=2, max_features=log2, n_estimators=100;, score=0.595 total time=   0.1s\n",
      "[CV 2/5] END criterion=gini, max_depth=2, max_features=log2, n_estimators=100;, score=0.595 total time=   0.1s\n",
      "[CV 3/5] END criterion=gini, max_depth=2, max_features=log2, n_estimators=100;, score=0.590 total time=   0.1s\n",
      "[CV 4/5] END criterion=gini, max_depth=2, max_features=log2, n_estimators=100;, score=0.590 total time=   0.1s\n",
      "[CV 5/5] END criterion=gini, max_depth=2, max_features=log2, n_estimators=100;, score=0.590 total time=   0.1s\n",
      "[CV 1/5] END criterion=gini, max_depth=2, max_features=log2, n_estimators=200;, score=0.595 total time=   0.3s\n",
      "[CV 2/5] END criterion=gini, max_depth=2, max_features=log2, n_estimators=200;, score=0.595 total time=   0.3s\n",
      "[CV 3/5] END criterion=gini, max_depth=2, max_features=log2, n_estimators=200;, score=0.590 total time=   0.3s\n",
      "[CV 4/5] END criterion=gini, max_depth=2, max_features=log2, n_estimators=200;, score=0.590 total time=   0.3s\n",
      "[CV 5/5] END criterion=gini, max_depth=2, max_features=log2, n_estimators=200;, score=0.590 total time=   0.3s\n",
      "[CV 1/5] END criterion=gini, max_depth=2, max_features=log2, n_estimators=300;, score=0.595 total time=   0.5s\n",
      "[CV 2/5] END criterion=gini, max_depth=2, max_features=log2, n_estimators=300;, score=0.595 total time=   0.5s\n",
      "[CV 3/5] END criterion=gini, max_depth=2, max_features=log2, n_estimators=300;, score=0.590 total time=   0.5s\n",
      "[CV 4/5] END criterion=gini, max_depth=2, max_features=log2, n_estimators=300;, score=0.590 total time=   0.5s\n",
      "[CV 5/5] END criterion=gini, max_depth=2, max_features=log2, n_estimators=300;, score=0.590 total time=   0.5s\n",
      "[CV 1/5] END criterion=gini, max_depth=2, max_features=log2, n_estimators=400;, score=0.595 total time=   0.6s\n",
      "[CV 2/5] END criterion=gini, max_depth=2, max_features=log2, n_estimators=400;, score=0.595 total time=   0.7s\n",
      "[CV 3/5] END criterion=gini, max_depth=2, max_features=log2, n_estimators=400;, score=0.590 total time=   0.6s\n",
      "[CV 4/5] END criterion=gini, max_depth=2, max_features=log2, n_estimators=400;, score=0.590 total time=   0.6s\n",
      "[CV 5/5] END criterion=gini, max_depth=2, max_features=log2, n_estimators=400;, score=0.590 total time=   0.6s\n",
      "[CV 1/5] END criterion=gini, max_depth=3, max_features=auto, n_estimators=100;, score=0.595 total time=   0.1s\n",
      "[CV 2/5] END criterion=gini, max_depth=3, max_features=auto, n_estimators=100;, score=0.595 total time=   0.1s\n",
      "[CV 3/5] END criterion=gini, max_depth=3, max_features=auto, n_estimators=100;, score=0.590 total time=   0.1s\n",
      "[CV 4/5] END criterion=gini, max_depth=3, max_features=auto, n_estimators=100;, score=0.590 total time=   0.1s\n",
      "[CV 5/5] END criterion=gini, max_depth=3, max_features=auto, n_estimators=100;, score=0.590 total time=   0.1s\n",
      "[CV 1/5] END criterion=gini, max_depth=3, max_features=auto, n_estimators=200;, score=0.595 total time=   0.3s\n",
      "[CV 2/5] END criterion=gini, max_depth=3, max_features=auto, n_estimators=200;, score=0.595 total time=   0.3s\n",
      "[CV 3/5] END criterion=gini, max_depth=3, max_features=auto, n_estimators=200;, score=0.590 total time=   0.3s\n",
      "[CV 4/5] END criterion=gini, max_depth=3, max_features=auto, n_estimators=200;, score=0.590 total time=   0.3s\n",
      "[CV 5/5] END criterion=gini, max_depth=3, max_features=auto, n_estimators=200;, score=0.590 total time=   0.3s\n",
      "[CV 1/5] END criterion=gini, max_depth=3, max_features=auto, n_estimators=300;, score=0.595 total time=   0.5s\n",
      "[CV 2/5] END criterion=gini, max_depth=3, max_features=auto, n_estimators=300;, score=0.595 total time=   0.5s\n",
      "[CV 3/5] END criterion=gini, max_depth=3, max_features=auto, n_estimators=300;, score=0.590 total time=   0.5s\n",
      "[CV 4/5] END criterion=gini, max_depth=3, max_features=auto, n_estimators=300;, score=0.590 total time=   0.5s\n"
     ]
    },
    {
     "name": "stdout",
     "output_type": "stream",
     "text": [
      "[CV 5/5] END criterion=gini, max_depth=3, max_features=auto, n_estimators=300;, score=0.590 total time=   0.5s\n",
      "[CV 1/5] END criterion=gini, max_depth=3, max_features=auto, n_estimators=400;, score=0.595 total time=   0.7s\n",
      "[CV 2/5] END criterion=gini, max_depth=3, max_features=auto, n_estimators=400;, score=0.595 total time=   0.7s\n",
      "[CV 3/5] END criterion=gini, max_depth=3, max_features=auto, n_estimators=400;, score=0.590 total time=   0.7s\n",
      "[CV 4/5] END criterion=gini, max_depth=3, max_features=auto, n_estimators=400;, score=0.590 total time=   0.7s\n",
      "[CV 5/5] END criterion=gini, max_depth=3, max_features=auto, n_estimators=400;, score=0.590 total time=   0.7s\n",
      "[CV 1/5] END criterion=gini, max_depth=3, max_features=sqrt, n_estimators=100;, score=0.595 total time=   0.1s\n",
      "[CV 2/5] END criterion=gini, max_depth=3, max_features=sqrt, n_estimators=100;, score=0.595 total time=   0.1s\n",
      "[CV 3/5] END criterion=gini, max_depth=3, max_features=sqrt, n_estimators=100;, score=0.590 total time=   0.1s\n",
      "[CV 4/5] END criterion=gini, max_depth=3, max_features=sqrt, n_estimators=100;, score=0.590 total time=   0.1s\n",
      "[CV 5/5] END criterion=gini, max_depth=3, max_features=sqrt, n_estimators=100;, score=0.590 total time=   0.1s\n",
      "[CV 1/5] END criterion=gini, max_depth=3, max_features=sqrt, n_estimators=200;, score=0.595 total time=   0.3s\n",
      "[CV 2/5] END criterion=gini, max_depth=3, max_features=sqrt, n_estimators=200;, score=0.595 total time=   0.3s\n",
      "[CV 3/5] END criterion=gini, max_depth=3, max_features=sqrt, n_estimators=200;, score=0.590 total time=   0.3s\n",
      "[CV 4/5] END criterion=gini, max_depth=3, max_features=sqrt, n_estimators=200;, score=0.590 total time=   0.3s\n",
      "[CV 5/5] END criterion=gini, max_depth=3, max_features=sqrt, n_estimators=200;, score=0.590 total time=   0.3s\n",
      "[CV 1/5] END criterion=gini, max_depth=3, max_features=sqrt, n_estimators=300;, score=0.595 total time=   0.5s\n",
      "[CV 2/5] END criterion=gini, max_depth=3, max_features=sqrt, n_estimators=300;, score=0.595 total time=   0.5s\n",
      "[CV 3/5] END criterion=gini, max_depth=3, max_features=sqrt, n_estimators=300;, score=0.590 total time=   0.5s\n",
      "[CV 4/5] END criterion=gini, max_depth=3, max_features=sqrt, n_estimators=300;, score=0.590 total time=   0.5s\n",
      "[CV 5/5] END criterion=gini, max_depth=3, max_features=sqrt, n_estimators=300;, score=0.590 total time=   0.5s\n",
      "[CV 1/5] END criterion=gini, max_depth=3, max_features=sqrt, n_estimators=400;, score=0.595 total time=   0.7s\n",
      "[CV 2/5] END criterion=gini, max_depth=3, max_features=sqrt, n_estimators=400;, score=0.595 total time=   0.7s\n",
      "[CV 3/5] END criterion=gini, max_depth=3, max_features=sqrt, n_estimators=400;, score=0.590 total time=   0.7s\n",
      "[CV 4/5] END criterion=gini, max_depth=3, max_features=sqrt, n_estimators=400;, score=0.590 total time=   0.7s\n",
      "[CV 5/5] END criterion=gini, max_depth=3, max_features=sqrt, n_estimators=400;, score=0.590 total time=   0.7s\n",
      "[CV 1/5] END criterion=gini, max_depth=3, max_features=log2, n_estimators=100;, score=0.595 total time=   0.1s\n",
      "[CV 2/5] END criterion=gini, max_depth=3, max_features=log2, n_estimators=100;, score=0.595 total time=   0.1s\n",
      "[CV 3/5] END criterion=gini, max_depth=3, max_features=log2, n_estimators=100;, score=0.590 total time=   0.1s\n",
      "[CV 4/5] END criterion=gini, max_depth=3, max_features=log2, n_estimators=100;, score=0.590 total time=   0.1s\n",
      "[CV 5/5] END criterion=gini, max_depth=3, max_features=log2, n_estimators=100;, score=0.590 total time=   0.1s\n",
      "[CV 1/5] END criterion=gini, max_depth=3, max_features=log2, n_estimators=200;, score=0.595 total time=   0.3s\n",
      "[CV 2/5] END criterion=gini, max_depth=3, max_features=log2, n_estimators=200;, score=0.595 total time=   0.3s\n",
      "[CV 3/5] END criterion=gini, max_depth=3, max_features=log2, n_estimators=200;, score=0.590 total time=   0.3s\n",
      "[CV 4/5] END criterion=gini, max_depth=3, max_features=log2, n_estimators=200;, score=0.590 total time=   0.3s\n",
      "[CV 5/5] END criterion=gini, max_depth=3, max_features=log2, n_estimators=200;, score=0.590 total time=   0.3s\n",
      "[CV 1/5] END criterion=gini, max_depth=3, max_features=log2, n_estimators=300;, score=0.595 total time=   0.5s\n",
      "[CV 2/5] END criterion=gini, max_depth=3, max_features=log2, n_estimators=300;, score=0.595 total time=   0.5s\n",
      "[CV 3/5] END criterion=gini, max_depth=3, max_features=log2, n_estimators=300;, score=0.590 total time=   0.5s\n",
      "[CV 4/5] END criterion=gini, max_depth=3, max_features=log2, n_estimators=300;, score=0.590 total time=   0.5s\n",
      "[CV 5/5] END criterion=gini, max_depth=3, max_features=log2, n_estimators=300;, score=0.590 total time=   0.5s\n",
      "[CV 1/5] END criterion=gini, max_depth=3, max_features=log2, n_estimators=400;, score=0.595 total time=   0.7s\n",
      "[CV 2/5] END criterion=gini, max_depth=3, max_features=log2, n_estimators=400;, score=0.595 total time=   0.8s\n",
      "[CV 3/5] END criterion=gini, max_depth=3, max_features=log2, n_estimators=400;, score=0.590 total time=   0.9s\n",
      "[CV 4/5] END criterion=gini, max_depth=3, max_features=log2, n_estimators=400;, score=0.590 total time=   0.8s\n",
      "[CV 5/5] END criterion=gini, max_depth=3, max_features=log2, n_estimators=400;, score=0.590 total time=   0.7s\n",
      "[CV 1/5] END criterion=gini, max_depth=4, max_features=auto, n_estimators=100;, score=0.595 total time=   0.1s\n",
      "[CV 2/5] END criterion=gini, max_depth=4, max_features=auto, n_estimators=100;, score=0.595 total time=   0.1s\n",
      "[CV 3/5] END criterion=gini, max_depth=4, max_features=auto, n_estimators=100;, score=0.590 total time=   0.1s\n",
      "[CV 4/5] END criterion=gini, max_depth=4, max_features=auto, n_estimators=100;, score=0.590 total time=   0.1s\n",
      "[CV 5/5] END criterion=gini, max_depth=4, max_features=auto, n_estimators=100;, score=0.590 total time=   0.1s\n",
      "[CV 1/5] END criterion=gini, max_depth=4, max_features=auto, n_estimators=200;, score=0.595 total time=   0.4s\n",
      "[CV 2/5] END criterion=gini, max_depth=4, max_features=auto, n_estimators=200;, score=0.595 total time=   0.3s\n",
      "[CV 3/5] END criterion=gini, max_depth=4, max_features=auto, n_estimators=200;, score=0.590 total time=   0.3s\n",
      "[CV 4/5] END criterion=gini, max_depth=4, max_features=auto, n_estimators=200;, score=0.590 total time=   0.3s\n",
      "[CV 5/5] END criterion=gini, max_depth=4, max_features=auto, n_estimators=200;, score=0.590 total time=   0.4s\n",
      "[CV 1/5] END criterion=gini, max_depth=4, max_features=auto, n_estimators=300;, score=0.595 total time=   0.6s\n",
      "[CV 2/5] END criterion=gini, max_depth=4, max_features=auto, n_estimators=300;, score=0.595 total time=   0.6s\n",
      "[CV 3/5] END criterion=gini, max_depth=4, max_features=auto, n_estimators=300;, score=0.590 total time=   0.6s\n",
      "[CV 4/5] END criterion=gini, max_depth=4, max_features=auto, n_estimators=300;, score=0.590 total time=   0.6s\n",
      "[CV 5/5] END criterion=gini, max_depth=4, max_features=auto, n_estimators=300;, score=0.595 total time=   0.6s\n",
      "[CV 1/5] END criterion=gini, max_depth=4, max_features=auto, n_estimators=400;, score=0.595 total time=   0.8s\n",
      "[CV 2/5] END criterion=gini, max_depth=4, max_features=auto, n_estimators=400;, score=0.595 total time=   0.8s\n",
      "[CV 3/5] END criterion=gini, max_depth=4, max_features=auto, n_estimators=400;, score=0.590 total time=   0.7s\n",
      "[CV 4/5] END criterion=gini, max_depth=4, max_features=auto, n_estimators=400;, score=0.590 total time=   0.8s\n",
      "[CV 5/5] END criterion=gini, max_depth=4, max_features=auto, n_estimators=400;, score=0.595 total time=   0.8s\n",
      "[CV 1/5] END criterion=gini, max_depth=4, max_features=sqrt, n_estimators=100;, score=0.595 total time=   0.1s\n",
      "[CV 2/5] END criterion=gini, max_depth=4, max_features=sqrt, n_estimators=100;, score=0.595 total time=   0.1s\n",
      "[CV 3/5] END criterion=gini, max_depth=4, max_features=sqrt, n_estimators=100;, score=0.590 total time=   0.1s\n",
      "[CV 4/5] END criterion=gini, max_depth=4, max_features=sqrt, n_estimators=100;, score=0.590 total time=   0.1s\n",
      "[CV 5/5] END criterion=gini, max_depth=4, max_features=sqrt, n_estimators=100;, score=0.590 total time=   0.1s\n",
      "[CV 1/5] END criterion=gini, max_depth=4, max_features=sqrt, n_estimators=200;, score=0.595 total time=   0.3s\n",
      "[CV 2/5] END criterion=gini, max_depth=4, max_features=sqrt, n_estimators=200;, score=0.595 total time=   0.3s\n",
      "[CV 3/5] END criterion=gini, max_depth=4, max_features=sqrt, n_estimators=200;, score=0.590 total time=   0.3s\n"
     ]
    },
    {
     "name": "stdout",
     "output_type": "stream",
     "text": [
      "[CV 4/5] END criterion=gini, max_depth=4, max_features=sqrt, n_estimators=200;, score=0.590 total time=   0.3s\n",
      "[CV 5/5] END criterion=gini, max_depth=4, max_features=sqrt, n_estimators=200;, score=0.595 total time=   0.3s\n",
      "[CV 1/5] END criterion=gini, max_depth=4, max_features=sqrt, n_estimators=300;, score=0.595 total time=   0.5s\n",
      "[CV 2/5] END criterion=gini, max_depth=4, max_features=sqrt, n_estimators=300;, score=0.595 total time=   0.5s\n",
      "[CV 3/5] END criterion=gini, max_depth=4, max_features=sqrt, n_estimators=300;, score=0.590 total time=   0.5s\n",
      "[CV 4/5] END criterion=gini, max_depth=4, max_features=sqrt, n_estimators=300;, score=0.590 total time=   0.5s\n",
      "[CV 5/5] END criterion=gini, max_depth=4, max_features=sqrt, n_estimators=300;, score=0.590 total time=   0.5s\n",
      "[CV 1/5] END criterion=gini, max_depth=4, max_features=sqrt, n_estimators=400;, score=0.595 total time=   0.7s\n",
      "[CV 2/5] END criterion=gini, max_depth=4, max_features=sqrt, n_estimators=400;, score=0.595 total time=   0.7s\n",
      "[CV 3/5] END criterion=gini, max_depth=4, max_features=sqrt, n_estimators=400;, score=0.590 total time=   0.7s\n",
      "[CV 4/5] END criterion=gini, max_depth=4, max_features=sqrt, n_estimators=400;, score=0.590 total time=   0.7s\n",
      "[CV 5/5] END criterion=gini, max_depth=4, max_features=sqrt, n_estimators=400;, score=0.590 total time=   0.7s\n",
      "[CV 1/5] END criterion=gini, max_depth=4, max_features=log2, n_estimators=100;, score=0.595 total time=   0.1s\n",
      "[CV 2/5] END criterion=gini, max_depth=4, max_features=log2, n_estimators=100;, score=0.595 total time=   0.1s\n",
      "[CV 3/5] END criterion=gini, max_depth=4, max_features=log2, n_estimators=100;, score=0.590 total time=   0.1s\n",
      "[CV 4/5] END criterion=gini, max_depth=4, max_features=log2, n_estimators=100;, score=0.590 total time=   0.1s\n",
      "[CV 5/5] END criterion=gini, max_depth=4, max_features=log2, n_estimators=100;, score=0.595 total time=   0.1s\n",
      "[CV 1/5] END criterion=gini, max_depth=4, max_features=log2, n_estimators=200;, score=0.595 total time=   0.3s\n",
      "[CV 2/5] END criterion=gini, max_depth=4, max_features=log2, n_estimators=200;, score=0.595 total time=   0.3s\n",
      "[CV 3/5] END criterion=gini, max_depth=4, max_features=log2, n_estimators=200;, score=0.590 total time=   0.3s\n",
      "[CV 4/5] END criterion=gini, max_depth=4, max_features=log2, n_estimators=200;, score=0.590 total time=   0.3s\n",
      "[CV 5/5] END criterion=gini, max_depth=4, max_features=log2, n_estimators=200;, score=0.595 total time=   0.3s\n",
      "[CV 1/5] END criterion=gini, max_depth=4, max_features=log2, n_estimators=300;, score=0.595 total time=   0.5s\n",
      "[CV 2/5] END criterion=gini, max_depth=4, max_features=log2, n_estimators=300;, score=0.595 total time=   0.5s\n",
      "[CV 3/5] END criterion=gini, max_depth=4, max_features=log2, n_estimators=300;, score=0.590 total time=   0.5s\n",
      "[CV 4/5] END criterion=gini, max_depth=4, max_features=log2, n_estimators=300;, score=0.590 total time=   0.5s\n",
      "[CV 5/5] END criterion=gini, max_depth=4, max_features=log2, n_estimators=300;, score=0.595 total time=   0.5s\n",
      "[CV 1/5] END criterion=gini, max_depth=4, max_features=log2, n_estimators=400;, score=0.595 total time=   0.7s\n",
      "[CV 2/5] END criterion=gini, max_depth=4, max_features=log2, n_estimators=400;, score=0.595 total time=   0.7s\n",
      "[CV 3/5] END criterion=gini, max_depth=4, max_features=log2, n_estimators=400;, score=0.590 total time=   0.7s\n",
      "[CV 4/5] END criterion=gini, max_depth=4, max_features=log2, n_estimators=400;, score=0.590 total time=   0.7s\n",
      "[CV 5/5] END criterion=gini, max_depth=4, max_features=log2, n_estimators=400;, score=0.595 total time=   0.7s\n",
      "[CV 1/5] END criterion=gini, max_depth=5, max_features=auto, n_estimators=100;, score=0.614 total time=   0.1s\n",
      "[CV 2/5] END criterion=gini, max_depth=5, max_features=auto, n_estimators=100;, score=0.605 total time=   0.1s\n",
      "[CV 3/5] END criterion=gini, max_depth=5, max_features=auto, n_estimators=100;, score=0.595 total time=   0.1s\n",
      "[CV 4/5] END criterion=gini, max_depth=5, max_features=auto, n_estimators=100;, score=0.590 total time=   0.1s\n",
      "[CV 5/5] END criterion=gini, max_depth=5, max_features=auto, n_estimators=100;, score=0.605 total time=   0.1s\n",
      "[CV 1/5] END criterion=gini, max_depth=5, max_features=auto, n_estimators=200;, score=0.614 total time=   0.3s\n",
      "[CV 2/5] END criterion=gini, max_depth=5, max_features=auto, n_estimators=200;, score=0.614 total time=   0.3s\n",
      "[CV 3/5] END criterion=gini, max_depth=5, max_features=auto, n_estimators=200;, score=0.590 total time=   0.3s\n",
      "[CV 4/5] END criterion=gini, max_depth=5, max_features=auto, n_estimators=200;, score=0.600 total time=   0.3s\n",
      "[CV 5/5] END criterion=gini, max_depth=5, max_features=auto, n_estimators=200;, score=0.600 total time=   0.3s\n",
      "[CV 1/5] END criterion=gini, max_depth=5, max_features=auto, n_estimators=300;, score=0.619 total time=   0.5s\n",
      "[CV 2/5] END criterion=gini, max_depth=5, max_features=auto, n_estimators=300;, score=0.610 total time=   0.5s\n",
      "[CV 3/5] END criterion=gini, max_depth=5, max_features=auto, n_estimators=300;, score=0.590 total time=   0.5s\n",
      "[CV 4/5] END criterion=gini, max_depth=5, max_features=auto, n_estimators=300;, score=0.590 total time=   0.5s\n",
      "[CV 5/5] END criterion=gini, max_depth=5, max_features=auto, n_estimators=300;, score=0.600 total time=   0.5s\n",
      "[CV 1/5] END criterion=gini, max_depth=5, max_features=auto, n_estimators=400;, score=0.610 total time=   0.7s\n",
      "[CV 2/5] END criterion=gini, max_depth=5, max_features=auto, n_estimators=400;, score=0.610 total time=   0.7s\n",
      "[CV 3/5] END criterion=gini, max_depth=5, max_features=auto, n_estimators=400;, score=0.600 total time=   0.7s\n",
      "[CV 4/5] END criterion=gini, max_depth=5, max_features=auto, n_estimators=400;, score=0.600 total time=   0.7s\n",
      "[CV 5/5] END criterion=gini, max_depth=5, max_features=auto, n_estimators=400;, score=0.605 total time=   0.7s\n",
      "[CV 1/5] END criterion=gini, max_depth=5, max_features=sqrt, n_estimators=100;, score=0.610 total time=   0.1s\n",
      "[CV 2/5] END criterion=gini, max_depth=5, max_features=sqrt, n_estimators=100;, score=0.610 total time=   0.1s\n",
      "[CV 3/5] END criterion=gini, max_depth=5, max_features=sqrt, n_estimators=100;, score=0.595 total time=   0.1s\n",
      "[CV 4/5] END criterion=gini, max_depth=5, max_features=sqrt, n_estimators=100;, score=0.595 total time=   0.1s\n",
      "[CV 5/5] END criterion=gini, max_depth=5, max_features=sqrt, n_estimators=100;, score=0.600 total time=   0.1s\n",
      "[CV 1/5] END criterion=gini, max_depth=5, max_features=sqrt, n_estimators=200;, score=0.619 total time=   0.3s\n",
      "[CV 2/5] END criterion=gini, max_depth=5, max_features=sqrt, n_estimators=200;, score=0.605 total time=   0.3s\n",
      "[CV 3/5] END criterion=gini, max_depth=5, max_features=sqrt, n_estimators=200;, score=0.600 total time=   0.3s\n",
      "[CV 4/5] END criterion=gini, max_depth=5, max_features=sqrt, n_estimators=200;, score=0.590 total time=   0.3s\n",
      "[CV 5/5] END criterion=gini, max_depth=5, max_features=sqrt, n_estimators=200;, score=0.605 total time=   0.3s\n",
      "[CV 1/5] END criterion=gini, max_depth=5, max_features=sqrt, n_estimators=300;, score=0.619 total time=   0.5s\n",
      "[CV 2/5] END criterion=gini, max_depth=5, max_features=sqrt, n_estimators=300;, score=0.610 total time=   0.5s\n",
      "[CV 3/5] END criterion=gini, max_depth=5, max_features=sqrt, n_estimators=300;, score=0.600 total time=   0.5s\n",
      "[CV 4/5] END criterion=gini, max_depth=5, max_features=sqrt, n_estimators=300;, score=0.590 total time=   0.5s\n",
      "[CV 5/5] END criterion=gini, max_depth=5, max_features=sqrt, n_estimators=300;, score=0.590 total time=   0.5s\n",
      "[CV 1/5] END criterion=gini, max_depth=5, max_features=sqrt, n_estimators=400;, score=0.619 total time=   0.7s\n",
      "[CV 2/5] END criterion=gini, max_depth=5, max_features=sqrt, n_estimators=400;, score=0.614 total time=   0.7s\n",
      "[CV 3/5] END criterion=gini, max_depth=5, max_features=sqrt, n_estimators=400;, score=0.590 total time=   0.7s\n",
      "[CV 4/5] END criterion=gini, max_depth=5, max_features=sqrt, n_estimators=400;, score=0.586 total time=   0.7s\n",
      "[CV 5/5] END criterion=gini, max_depth=5, max_features=sqrt, n_estimators=400;, score=0.600 total time=   0.7s\n",
      "[CV 1/5] END criterion=gini, max_depth=5, max_features=log2, n_estimators=100;, score=0.619 total time=   0.1s\n",
      "[CV 2/5] END criterion=gini, max_depth=5, max_features=log2, n_estimators=100;, score=0.614 total time=   0.1s\n"
     ]
    },
    {
     "name": "stdout",
     "output_type": "stream",
     "text": [
      "[CV 3/5] END criterion=gini, max_depth=5, max_features=log2, n_estimators=100;, score=0.590 total time=   0.1s\n",
      "[CV 4/5] END criterion=gini, max_depth=5, max_features=log2, n_estimators=100;, score=0.590 total time=   0.1s\n",
      "[CV 5/5] END criterion=gini, max_depth=5, max_features=log2, n_estimators=100;, score=0.595 total time=   0.1s\n",
      "[CV 1/5] END criterion=gini, max_depth=5, max_features=log2, n_estimators=200;, score=0.619 total time=   0.3s\n",
      "[CV 2/5] END criterion=gini, max_depth=5, max_features=log2, n_estimators=200;, score=0.610 total time=   0.3s\n",
      "[CV 3/5] END criterion=gini, max_depth=5, max_features=log2, n_estimators=200;, score=0.600 total time=   0.3s\n",
      "[CV 4/5] END criterion=gini, max_depth=5, max_features=log2, n_estimators=200;, score=0.595 total time=   0.3s\n",
      "[CV 5/5] END criterion=gini, max_depth=5, max_features=log2, n_estimators=200;, score=0.600 total time=   0.3s\n",
      "[CV 1/5] END criterion=gini, max_depth=5, max_features=log2, n_estimators=300;, score=0.610 total time=   0.7s\n",
      "[CV 2/5] END criterion=gini, max_depth=5, max_features=log2, n_estimators=300;, score=0.610 total time=   0.7s\n",
      "[CV 3/5] END criterion=gini, max_depth=5, max_features=log2, n_estimators=300;, score=0.605 total time=   0.6s\n",
      "[CV 4/5] END criterion=gini, max_depth=5, max_features=log2, n_estimators=300;, score=0.600 total time=   0.6s\n",
      "[CV 5/5] END criterion=gini, max_depth=5, max_features=log2, n_estimators=300;, score=0.595 total time=   0.6s\n",
      "[CV 1/5] END criterion=gini, max_depth=5, max_features=log2, n_estimators=400;, score=0.614 total time=   0.8s\n",
      "[CV 2/5] END criterion=gini, max_depth=5, max_features=log2, n_estimators=400;, score=0.610 total time=   0.8s\n",
      "[CV 3/5] END criterion=gini, max_depth=5, max_features=log2, n_estimators=400;, score=0.600 total time=   0.8s\n",
      "[CV 4/5] END criterion=gini, max_depth=5, max_features=log2, n_estimators=400;, score=0.595 total time=   0.8s\n",
      "[CV 5/5] END criterion=gini, max_depth=5, max_features=log2, n_estimators=400;, score=0.600 total time=   0.8s\n",
      "[CV 1/5] END criterion=entropy, max_depth=2, max_features=auto, n_estimators=100;, score=0.595 total time=   0.1s\n",
      "[CV 2/5] END criterion=entropy, max_depth=2, max_features=auto, n_estimators=100;, score=0.595 total time=   0.1s\n",
      "[CV 3/5] END criterion=entropy, max_depth=2, max_features=auto, n_estimators=100;, score=0.590 total time=   0.1s\n",
      "[CV 4/5] END criterion=entropy, max_depth=2, max_features=auto, n_estimators=100;, score=0.590 total time=   0.1s\n",
      "[CV 5/5] END criterion=entropy, max_depth=2, max_features=auto, n_estimators=100;, score=0.590 total time=   0.1s\n",
      "[CV 1/5] END criterion=entropy, max_depth=2, max_features=auto, n_estimators=200;, score=0.595 total time=   0.3s\n",
      "[CV 2/5] END criterion=entropy, max_depth=2, max_features=auto, n_estimators=200;, score=0.595 total time=   0.3s\n",
      "[CV 3/5] END criterion=entropy, max_depth=2, max_features=auto, n_estimators=200;, score=0.590 total time=   0.3s\n",
      "[CV 4/5] END criterion=entropy, max_depth=2, max_features=auto, n_estimators=200;, score=0.590 total time=   0.3s\n",
      "[CV 5/5] END criterion=entropy, max_depth=2, max_features=auto, n_estimators=200;, score=0.590 total time=   0.4s\n",
      "[CV 1/5] END criterion=entropy, max_depth=2, max_features=auto, n_estimators=300;, score=0.595 total time=   0.5s\n",
      "[CV 2/5] END criterion=entropy, max_depth=2, max_features=auto, n_estimators=300;, score=0.595 total time=   0.5s\n",
      "[CV 3/5] END criterion=entropy, max_depth=2, max_features=auto, n_estimators=300;, score=0.590 total time=   0.5s\n",
      "[CV 4/5] END criterion=entropy, max_depth=2, max_features=auto, n_estimators=300;, score=0.590 total time=   0.5s\n",
      "[CV 5/5] END criterion=entropy, max_depth=2, max_features=auto, n_estimators=300;, score=0.590 total time=   0.5s\n",
      "[CV 1/5] END criterion=entropy, max_depth=2, max_features=auto, n_estimators=400;, score=0.595 total time=   0.7s\n",
      "[CV 2/5] END criterion=entropy, max_depth=2, max_features=auto, n_estimators=400;, score=0.595 total time=   0.7s\n",
      "[CV 3/5] END criterion=entropy, max_depth=2, max_features=auto, n_estimators=400;, score=0.590 total time=   0.7s\n",
      "[CV 4/5] END criterion=entropy, max_depth=2, max_features=auto, n_estimators=400;, score=0.590 total time=   0.7s\n",
      "[CV 5/5] END criterion=entropy, max_depth=2, max_features=auto, n_estimators=400;, score=0.590 total time=   0.7s\n",
      "[CV 1/5] END criterion=entropy, max_depth=2, max_features=sqrt, n_estimators=100;, score=0.595 total time=   0.1s\n",
      "[CV 2/5] END criterion=entropy, max_depth=2, max_features=sqrt, n_estimators=100;, score=0.595 total time=   0.1s\n",
      "[CV 3/5] END criterion=entropy, max_depth=2, max_features=sqrt, n_estimators=100;, score=0.590 total time=   0.1s\n",
      "[CV 4/5] END criterion=entropy, max_depth=2, max_features=sqrt, n_estimators=100;, score=0.590 total time=   0.1s\n",
      "[CV 5/5] END criterion=entropy, max_depth=2, max_features=sqrt, n_estimators=100;, score=0.590 total time=   0.1s\n",
      "[CV 1/5] END criterion=entropy, max_depth=2, max_features=sqrt, n_estimators=200;, score=0.595 total time=   0.3s\n",
      "[CV 2/5] END criterion=entropy, max_depth=2, max_features=sqrt, n_estimators=200;, score=0.595 total time=   0.3s\n",
      "[CV 3/5] END criterion=entropy, max_depth=2, max_features=sqrt, n_estimators=200;, score=0.590 total time=   0.3s\n",
      "[CV 4/5] END criterion=entropy, max_depth=2, max_features=sqrt, n_estimators=200;, score=0.590 total time=   0.3s\n",
      "[CV 5/5] END criterion=entropy, max_depth=2, max_features=sqrt, n_estimators=200;, score=0.590 total time=   0.3s\n",
      "[CV 1/5] END criterion=entropy, max_depth=2, max_features=sqrt, n_estimators=300;, score=0.595 total time=   0.5s\n",
      "[CV 2/5] END criterion=entropy, max_depth=2, max_features=sqrt, n_estimators=300;, score=0.595 total time=   0.5s\n",
      "[CV 3/5] END criterion=entropy, max_depth=2, max_features=sqrt, n_estimators=300;, score=0.590 total time=   0.5s\n",
      "[CV 4/5] END criterion=entropy, max_depth=2, max_features=sqrt, n_estimators=300;, score=0.590 total time=   0.5s\n",
      "[CV 5/5] END criterion=entropy, max_depth=2, max_features=sqrt, n_estimators=300;, score=0.590 total time=   0.5s\n",
      "[CV 1/5] END criterion=entropy, max_depth=2, max_features=sqrt, n_estimators=400;, score=0.595 total time=   0.7s\n",
      "[CV 2/5] END criterion=entropy, max_depth=2, max_features=sqrt, n_estimators=400;, score=0.595 total time=   0.7s\n",
      "[CV 3/5] END criterion=entropy, max_depth=2, max_features=sqrt, n_estimators=400;, score=0.590 total time=   0.7s\n",
      "[CV 4/5] END criterion=entropy, max_depth=2, max_features=sqrt, n_estimators=400;, score=0.590 total time=   0.7s\n",
      "[CV 5/5] END criterion=entropy, max_depth=2, max_features=sqrt, n_estimators=400;, score=0.590 total time=   0.7s\n",
      "[CV 1/5] END criterion=entropy, max_depth=2, max_features=log2, n_estimators=100;, score=0.595 total time=   0.1s\n",
      "[CV 2/5] END criterion=entropy, max_depth=2, max_features=log2, n_estimators=100;, score=0.595 total time=   0.1s\n",
      "[CV 3/5] END criterion=entropy, max_depth=2, max_features=log2, n_estimators=100;, score=0.590 total time=   0.1s\n",
      "[CV 4/5] END criterion=entropy, max_depth=2, max_features=log2, n_estimators=100;, score=0.590 total time=   0.1s\n",
      "[CV 5/5] END criterion=entropy, max_depth=2, max_features=log2, n_estimators=100;, score=0.590 total time=   0.1s\n",
      "[CV 1/5] END criterion=entropy, max_depth=2, max_features=log2, n_estimators=200;, score=0.595 total time=   0.3s\n",
      "[CV 2/5] END criterion=entropy, max_depth=2, max_features=log2, n_estimators=200;, score=0.595 total time=   0.3s\n",
      "[CV 3/5] END criterion=entropy, max_depth=2, max_features=log2, n_estimators=200;, score=0.590 total time=   0.3s\n",
      "[CV 4/5] END criterion=entropy, max_depth=2, max_features=log2, n_estimators=200;, score=0.590 total time=   0.3s\n",
      "[CV 5/5] END criterion=entropy, max_depth=2, max_features=log2, n_estimators=200;, score=0.590 total time=   0.3s\n",
      "[CV 1/5] END criterion=entropy, max_depth=2, max_features=log2, n_estimators=300;, score=0.595 total time=   0.5s\n",
      "[CV 2/5] END criterion=entropy, max_depth=2, max_features=log2, n_estimators=300;, score=0.595 total time=   0.5s\n",
      "[CV 3/5] END criterion=entropy, max_depth=2, max_features=log2, n_estimators=300;, score=0.590 total time=   0.5s\n",
      "[CV 4/5] END criterion=entropy, max_depth=2, max_features=log2, n_estimators=300;, score=0.590 total time=   0.5s\n",
      "[CV 5/5] END criterion=entropy, max_depth=2, max_features=log2, n_estimators=300;, score=0.590 total time=   0.5s\n"
     ]
    },
    {
     "name": "stdout",
     "output_type": "stream",
     "text": [
      "[CV 1/5] END criterion=entropy, max_depth=2, max_features=log2, n_estimators=400;, score=0.595 total time=   0.7s\n",
      "[CV 2/5] END criterion=entropy, max_depth=2, max_features=log2, n_estimators=400;, score=0.595 total time=   0.7s\n",
      "[CV 3/5] END criterion=entropy, max_depth=2, max_features=log2, n_estimators=400;, score=0.590 total time=   0.7s\n",
      "[CV 4/5] END criterion=entropy, max_depth=2, max_features=log2, n_estimators=400;, score=0.590 total time=   0.7s\n",
      "[CV 5/5] END criterion=entropy, max_depth=2, max_features=log2, n_estimators=400;, score=0.590 total time=   0.7s\n",
      "[CV 1/5] END criterion=entropy, max_depth=3, max_features=auto, n_estimators=100;, score=0.595 total time=   0.1s\n",
      "[CV 2/5] END criterion=entropy, max_depth=3, max_features=auto, n_estimators=100;, score=0.595 total time=   0.1s\n",
      "[CV 3/5] END criterion=entropy, max_depth=3, max_features=auto, n_estimators=100;, score=0.590 total time=   0.1s\n",
      "[CV 4/5] END criterion=entropy, max_depth=3, max_features=auto, n_estimators=100;, score=0.590 total time=   0.1s\n",
      "[CV 5/5] END criterion=entropy, max_depth=3, max_features=auto, n_estimators=100;, score=0.590 total time=   0.1s\n",
      "[CV 1/5] END criterion=entropy, max_depth=3, max_features=auto, n_estimators=200;, score=0.595 total time=   0.3s\n",
      "[CV 2/5] END criterion=entropy, max_depth=3, max_features=auto, n_estimators=200;, score=0.595 total time=   0.3s\n",
      "[CV 3/5] END criterion=entropy, max_depth=3, max_features=auto, n_estimators=200;, score=0.590 total time=   0.3s\n",
      "[CV 4/5] END criterion=entropy, max_depth=3, max_features=auto, n_estimators=200;, score=0.590 total time=   0.3s\n",
      "[CV 5/5] END criterion=entropy, max_depth=3, max_features=auto, n_estimators=200;, score=0.590 total time=   0.3s\n",
      "[CV 1/5] END criterion=entropy, max_depth=3, max_features=auto, n_estimators=300;, score=0.595 total time=   0.5s\n",
      "[CV 2/5] END criterion=entropy, max_depth=3, max_features=auto, n_estimators=300;, score=0.595 total time=   0.5s\n",
      "[CV 3/5] END criterion=entropy, max_depth=3, max_features=auto, n_estimators=300;, score=0.590 total time=   0.5s\n",
      "[CV 4/5] END criterion=entropy, max_depth=3, max_features=auto, n_estimators=300;, score=0.590 total time=   0.5s\n",
      "[CV 5/5] END criterion=entropy, max_depth=3, max_features=auto, n_estimators=300;, score=0.590 total time=   0.5s\n",
      "[CV 1/5] END criterion=entropy, max_depth=3, max_features=auto, n_estimators=400;, score=0.595 total time=   0.7s\n",
      "[CV 2/5] END criterion=entropy, max_depth=3, max_features=auto, n_estimators=400;, score=0.595 total time=   0.7s\n",
      "[CV 3/5] END criterion=entropy, max_depth=3, max_features=auto, n_estimators=400;, score=0.590 total time=   0.7s\n",
      "[CV 4/5] END criterion=entropy, max_depth=3, max_features=auto, n_estimators=400;, score=0.590 total time=   0.7s\n",
      "[CV 5/5] END criterion=entropy, max_depth=3, max_features=auto, n_estimators=400;, score=0.590 total time=   0.7s\n",
      "[CV 1/5] END criterion=entropy, max_depth=3, max_features=sqrt, n_estimators=100;, score=0.595 total time=   0.1s\n",
      "[CV 2/5] END criterion=entropy, max_depth=3, max_features=sqrt, n_estimators=100;, score=0.595 total time=   0.1s\n",
      "[CV 3/5] END criterion=entropy, max_depth=3, max_features=sqrt, n_estimators=100;, score=0.590 total time=   0.1s\n",
      "[CV 4/5] END criterion=entropy, max_depth=3, max_features=sqrt, n_estimators=100;, score=0.590 total time=   0.1s\n",
      "[CV 5/5] END criterion=entropy, max_depth=3, max_features=sqrt, n_estimators=100;, score=0.590 total time=   0.1s\n",
      "[CV 1/5] END criterion=entropy, max_depth=3, max_features=sqrt, n_estimators=200;, score=0.595 total time=   0.3s\n",
      "[CV 2/5] END criterion=entropy, max_depth=3, max_features=sqrt, n_estimators=200;, score=0.595 total time=   0.3s\n",
      "[CV 3/5] END criterion=entropy, max_depth=3, max_features=sqrt, n_estimators=200;, score=0.590 total time=   0.3s\n",
      "[CV 4/5] END criterion=entropy, max_depth=3, max_features=sqrt, n_estimators=200;, score=0.590 total time=   0.3s\n",
      "[CV 5/5] END criterion=entropy, max_depth=3, max_features=sqrt, n_estimators=200;, score=0.590 total time=   0.3s\n",
      "[CV 1/5] END criterion=entropy, max_depth=3, max_features=sqrt, n_estimators=300;, score=0.595 total time=   0.5s\n",
      "[CV 2/5] END criterion=entropy, max_depth=3, max_features=sqrt, n_estimators=300;, score=0.595 total time=   0.5s\n",
      "[CV 3/5] END criterion=entropy, max_depth=3, max_features=sqrt, n_estimators=300;, score=0.590 total time=   0.5s\n",
      "[CV 4/5] END criterion=entropy, max_depth=3, max_features=sqrt, n_estimators=300;, score=0.590 total time=   0.5s\n",
      "[CV 5/5] END criterion=entropy, max_depth=3, max_features=sqrt, n_estimators=300;, score=0.590 total time=   0.5s\n",
      "[CV 1/5] END criterion=entropy, max_depth=3, max_features=sqrt, n_estimators=400;, score=0.595 total time=   0.7s\n",
      "[CV 2/5] END criterion=entropy, max_depth=3, max_features=sqrt, n_estimators=400;, score=0.595 total time=   0.7s\n",
      "[CV 3/5] END criterion=entropy, max_depth=3, max_features=sqrt, n_estimators=400;, score=0.590 total time=   0.7s\n",
      "[CV 4/5] END criterion=entropy, max_depth=3, max_features=sqrt, n_estimators=400;, score=0.590 total time=   0.7s\n",
      "[CV 5/5] END criterion=entropy, max_depth=3, max_features=sqrt, n_estimators=400;, score=0.590 total time=   0.7s\n",
      "[CV 1/5] END criterion=entropy, max_depth=3, max_features=log2, n_estimators=100;, score=0.595 total time=   0.1s\n",
      "[CV 2/5] END criterion=entropy, max_depth=3, max_features=log2, n_estimators=100;, score=0.595 total time=   0.1s\n",
      "[CV 3/5] END criterion=entropy, max_depth=3, max_features=log2, n_estimators=100;, score=0.590 total time=   0.1s\n",
      "[CV 4/5] END criterion=entropy, max_depth=3, max_features=log2, n_estimators=100;, score=0.590 total time=   0.1s\n",
      "[CV 5/5] END criterion=entropy, max_depth=3, max_features=log2, n_estimators=100;, score=0.590 total time=   0.1s\n",
      "[CV 1/5] END criterion=entropy, max_depth=3, max_features=log2, n_estimators=200;, score=0.595 total time=   0.3s\n",
      "[CV 2/5] END criterion=entropy, max_depth=3, max_features=log2, n_estimators=200;, score=0.595 total time=   0.3s\n",
      "[CV 3/5] END criterion=entropy, max_depth=3, max_features=log2, n_estimators=200;, score=0.590 total time=   0.4s\n",
      "[CV 4/5] END criterion=entropy, max_depth=3, max_features=log2, n_estimators=200;, score=0.590 total time=   0.4s\n",
      "[CV 5/5] END criterion=entropy, max_depth=3, max_features=log2, n_estimators=200;, score=0.590 total time=   0.4s\n",
      "[CV 1/5] END criterion=entropy, max_depth=3, max_features=log2, n_estimators=300;, score=0.595 total time=   0.6s\n",
      "[CV 2/5] END criterion=entropy, max_depth=3, max_features=log2, n_estimators=300;, score=0.595 total time=   0.6s\n",
      "[CV 3/5] END criterion=entropy, max_depth=3, max_features=log2, n_estimators=300;, score=0.590 total time=   0.6s\n",
      "[CV 4/5] END criterion=entropy, max_depth=3, max_features=log2, n_estimators=300;, score=0.590 total time=   0.5s\n",
      "[CV 5/5] END criterion=entropy, max_depth=3, max_features=log2, n_estimators=300;, score=0.590 total time=   0.6s\n",
      "[CV 1/5] END criterion=entropy, max_depth=3, max_features=log2, n_estimators=400;, score=0.595 total time=   0.8s\n",
      "[CV 2/5] END criterion=entropy, max_depth=3, max_features=log2, n_estimators=400;, score=0.595 total time=   0.8s\n",
      "[CV 3/5] END criterion=entropy, max_depth=3, max_features=log2, n_estimators=400;, score=0.590 total time=   0.8s\n",
      "[CV 4/5] END criterion=entropy, max_depth=3, max_features=log2, n_estimators=400;, score=0.590 total time=   0.8s\n",
      "[CV 5/5] END criterion=entropy, max_depth=3, max_features=log2, n_estimators=400;, score=0.590 total time=   0.8s\n",
      "[CV 1/5] END criterion=entropy, max_depth=4, max_features=auto, n_estimators=100;, score=0.595 total time=   0.1s\n",
      "[CV 2/5] END criterion=entropy, max_depth=4, max_features=auto, n_estimators=100;, score=0.595 total time=   0.2s\n",
      "[CV 3/5] END criterion=entropy, max_depth=4, max_features=auto, n_estimators=100;, score=0.590 total time=   0.1s\n",
      "[CV 4/5] END criterion=entropy, max_depth=4, max_features=auto, n_estimators=100;, score=0.590 total time=   0.1s\n",
      "[CV 5/5] END criterion=entropy, max_depth=4, max_features=auto, n_estimators=100;, score=0.590 total time=   0.1s\n",
      "[CV 1/5] END criterion=entropy, max_depth=4, max_features=auto, n_estimators=200;, score=0.595 total time=   0.4s\n",
      "[CV 2/5] END criterion=entropy, max_depth=4, max_features=auto, n_estimators=200;, score=0.595 total time=   0.4s\n"
     ]
    },
    {
     "name": "stdout",
     "output_type": "stream",
     "text": [
      "[CV 3/5] END criterion=entropy, max_depth=4, max_features=auto, n_estimators=200;, score=0.590 total time=   0.4s\n",
      "[CV 4/5] END criterion=entropy, max_depth=4, max_features=auto, n_estimators=200;, score=0.590 total time=   0.3s\n",
      "[CV 5/5] END criterion=entropy, max_depth=4, max_features=auto, n_estimators=200;, score=0.595 total time=   0.3s\n",
      "[CV 1/5] END criterion=entropy, max_depth=4, max_features=auto, n_estimators=300;, score=0.595 total time=   0.5s\n",
      "[CV 2/5] END criterion=entropy, max_depth=4, max_features=auto, n_estimators=300;, score=0.595 total time=   0.5s\n",
      "[CV 3/5] END criterion=entropy, max_depth=4, max_features=auto, n_estimators=300;, score=0.590 total time=   0.6s\n",
      "[CV 4/5] END criterion=entropy, max_depth=4, max_features=auto, n_estimators=300;, score=0.590 total time=   0.5s\n",
      "[CV 5/5] END criterion=entropy, max_depth=4, max_features=auto, n_estimators=300;, score=0.590 total time=   0.6s\n",
      "[CV 1/5] END criterion=entropy, max_depth=4, max_features=auto, n_estimators=400;, score=0.595 total time=   0.7s\n",
      "[CV 2/5] END criterion=entropy, max_depth=4, max_features=auto, n_estimators=400;, score=0.595 total time=   0.8s\n",
      "[CV 3/5] END criterion=entropy, max_depth=4, max_features=auto, n_estimators=400;, score=0.590 total time=   0.7s\n",
      "[CV 4/5] END criterion=entropy, max_depth=4, max_features=auto, n_estimators=400;, score=0.590 total time=   0.7s\n",
      "[CV 5/5] END criterion=entropy, max_depth=4, max_features=auto, n_estimators=400;, score=0.595 total time=   0.7s\n",
      "[CV 1/5] END criterion=entropy, max_depth=4, max_features=sqrt, n_estimators=100;, score=0.595 total time=   0.1s\n",
      "[CV 2/5] END criterion=entropy, max_depth=4, max_features=sqrt, n_estimators=100;, score=0.595 total time=   0.1s\n",
      "[CV 3/5] END criterion=entropy, max_depth=4, max_features=sqrt, n_estimators=100;, score=0.590 total time=   0.1s\n",
      "[CV 4/5] END criterion=entropy, max_depth=4, max_features=sqrt, n_estimators=100;, score=0.590 total time=   0.1s\n",
      "[CV 5/5] END criterion=entropy, max_depth=4, max_features=sqrt, n_estimators=100;, score=0.595 total time=   0.1s\n",
      "[CV 1/5] END criterion=entropy, max_depth=4, max_features=sqrt, n_estimators=200;, score=0.595 total time=   0.3s\n",
      "[CV 2/5] END criterion=entropy, max_depth=4, max_features=sqrt, n_estimators=200;, score=0.595 total time=   0.3s\n",
      "[CV 3/5] END criterion=entropy, max_depth=4, max_features=sqrt, n_estimators=200;, score=0.590 total time=   0.3s\n",
      "[CV 4/5] END criterion=entropy, max_depth=4, max_features=sqrt, n_estimators=200;, score=0.590 total time=   0.3s\n",
      "[CV 5/5] END criterion=entropy, max_depth=4, max_features=sqrt, n_estimators=200;, score=0.595 total time=   0.3s\n",
      "[CV 1/5] END criterion=entropy, max_depth=4, max_features=sqrt, n_estimators=300;, score=0.595 total time=   0.5s\n",
      "[CV 2/5] END criterion=entropy, max_depth=4, max_features=sqrt, n_estimators=300;, score=0.595 total time=   0.5s\n",
      "[CV 3/5] END criterion=entropy, max_depth=4, max_features=sqrt, n_estimators=300;, score=0.590 total time=   0.6s\n",
      "[CV 4/5] END criterion=entropy, max_depth=4, max_features=sqrt, n_estimators=300;, score=0.590 total time=   0.6s\n",
      "[CV 5/5] END criterion=entropy, max_depth=4, max_features=sqrt, n_estimators=300;, score=0.595 total time=   0.6s\n",
      "[CV 1/5] END criterion=entropy, max_depth=4, max_features=sqrt, n_estimators=400;, score=0.600 total time=   0.8s\n",
      "[CV 2/5] END criterion=entropy, max_depth=4, max_features=sqrt, n_estimators=400;, score=0.595 total time=   0.8s\n",
      "[CV 3/5] END criterion=entropy, max_depth=4, max_features=sqrt, n_estimators=400;, score=0.590 total time=   0.8s\n",
      "[CV 4/5] END criterion=entropy, max_depth=4, max_features=sqrt, n_estimators=400;, score=0.590 total time=   0.8s\n",
      "[CV 5/5] END criterion=entropy, max_depth=4, max_features=sqrt, n_estimators=400;, score=0.595 total time=   0.7s\n",
      "[CV 1/5] END criterion=entropy, max_depth=4, max_features=log2, n_estimators=100;, score=0.600 total time=   0.1s\n",
      "[CV 2/5] END criterion=entropy, max_depth=4, max_features=log2, n_estimators=100;, score=0.595 total time=   0.1s\n",
      "[CV 3/5] END criterion=entropy, max_depth=4, max_features=log2, n_estimators=100;, score=0.590 total time=   0.1s\n",
      "[CV 4/5] END criterion=entropy, max_depth=4, max_features=log2, n_estimators=100;, score=0.590 total time=   0.1s\n",
      "[CV 5/5] END criterion=entropy, max_depth=4, max_features=log2, n_estimators=100;, score=0.595 total time=   0.1s\n",
      "[CV 1/5] END criterion=entropy, max_depth=4, max_features=log2, n_estimators=200;, score=0.595 total time=   0.3s\n",
      "[CV 2/5] END criterion=entropy, max_depth=4, max_features=log2, n_estimators=200;, score=0.595 total time=   0.3s\n",
      "[CV 3/5] END criterion=entropy, max_depth=4, max_features=log2, n_estimators=200;, score=0.590 total time=   0.3s\n",
      "[CV 4/5] END criterion=entropy, max_depth=4, max_features=log2, n_estimators=200;, score=0.590 total time=   0.3s\n",
      "[CV 5/5] END criterion=entropy, max_depth=4, max_features=log2, n_estimators=200;, score=0.595 total time=   0.3s\n",
      "[CV 1/5] END criterion=entropy, max_depth=4, max_features=log2, n_estimators=300;, score=0.595 total time=   0.5s\n",
      "[CV 2/5] END criterion=entropy, max_depth=4, max_features=log2, n_estimators=300;, score=0.595 total time=   0.5s\n",
      "[CV 3/5] END criterion=entropy, max_depth=4, max_features=log2, n_estimators=300;, score=0.590 total time=   0.5s\n",
      "[CV 4/5] END criterion=entropy, max_depth=4, max_features=log2, n_estimators=300;, score=0.590 total time=   0.5s\n",
      "[CV 5/5] END criterion=entropy, max_depth=4, max_features=log2, n_estimators=300;, score=0.595 total time=   0.5s\n",
      "[CV 1/5] END criterion=entropy, max_depth=4, max_features=log2, n_estimators=400;, score=0.600 total time=   0.7s\n",
      "[CV 2/5] END criterion=entropy, max_depth=4, max_features=log2, n_estimators=400;, score=0.595 total time=   0.7s\n",
      "[CV 3/5] END criterion=entropy, max_depth=4, max_features=log2, n_estimators=400;, score=0.590 total time=   0.7s\n",
      "[CV 4/5] END criterion=entropy, max_depth=4, max_features=log2, n_estimators=400;, score=0.590 total time=   0.8s\n",
      "[CV 5/5] END criterion=entropy, max_depth=4, max_features=log2, n_estimators=400;, score=0.590 total time=   0.7s\n",
      "[CV 1/5] END criterion=entropy, max_depth=5, max_features=auto, n_estimators=100;, score=0.629 total time=   0.1s\n",
      "[CV 2/5] END criterion=entropy, max_depth=5, max_features=auto, n_estimators=100;, score=0.619 total time=   0.1s\n",
      "[CV 3/5] END criterion=entropy, max_depth=5, max_features=auto, n_estimators=100;, score=0.610 total time=   0.2s\n",
      "[CV 4/5] END criterion=entropy, max_depth=5, max_features=auto, n_estimators=100;, score=0.605 total time=   0.1s\n",
      "[CV 5/5] END criterion=entropy, max_depth=5, max_features=auto, n_estimators=100;, score=0.590 total time=   0.1s\n",
      "[CV 1/5] END criterion=entropy, max_depth=5, max_features=auto, n_estimators=200;, score=0.629 total time=   0.4s\n",
      "[CV 2/5] END criterion=entropy, max_depth=5, max_features=auto, n_estimators=200;, score=0.624 total time=   0.4s\n",
      "[CV 3/5] END criterion=entropy, max_depth=5, max_features=auto, n_estimators=200;, score=0.610 total time=   0.4s\n",
      "[CV 4/5] END criterion=entropy, max_depth=5, max_features=auto, n_estimators=200;, score=0.595 total time=   0.4s\n",
      "[CV 5/5] END criterion=entropy, max_depth=5, max_features=auto, n_estimators=200;, score=0.590 total time=   0.4s\n",
      "[CV 1/5] END criterion=entropy, max_depth=5, max_features=auto, n_estimators=300;, score=0.629 total time=   0.6s\n",
      "[CV 2/5] END criterion=entropy, max_depth=5, max_features=auto, n_estimators=300;, score=0.624 total time=   0.6s\n",
      "[CV 3/5] END criterion=entropy, max_depth=5, max_features=auto, n_estimators=300;, score=0.600 total time=   0.6s\n",
      "[CV 4/5] END criterion=entropy, max_depth=5, max_features=auto, n_estimators=300;, score=0.605 total time=   0.6s\n",
      "[CV 5/5] END criterion=entropy, max_depth=5, max_features=auto, n_estimators=300;, score=0.605 total time=   0.6s\n",
      "[CV 1/5] END criterion=entropy, max_depth=5, max_features=auto, n_estimators=400;, score=0.619 total time=   0.8s\n",
      "[CV 2/5] END criterion=entropy, max_depth=5, max_features=auto, n_estimators=400;, score=0.614 total time=   0.8s\n",
      "[CV 3/5] END criterion=entropy, max_depth=5, max_features=auto, n_estimators=400;, score=0.600 total time=   0.8s\n",
      "[CV 4/5] END criterion=entropy, max_depth=5, max_features=auto, n_estimators=400;, score=0.605 total time=   0.8s\n"
     ]
    },
    {
     "name": "stdout",
     "output_type": "stream",
     "text": [
      "[CV 5/5] END criterion=entropy, max_depth=5, max_features=auto, n_estimators=400;, score=0.605 total time=   0.8s\n",
      "[CV 1/5] END criterion=entropy, max_depth=5, max_features=sqrt, n_estimators=100;, score=0.624 total time=   0.1s\n",
      "[CV 2/5] END criterion=entropy, max_depth=5, max_features=sqrt, n_estimators=100;, score=0.624 total time=   0.1s\n",
      "[CV 3/5] END criterion=entropy, max_depth=5, max_features=sqrt, n_estimators=100;, score=0.600 total time=   0.1s\n",
      "[CV 4/5] END criterion=entropy, max_depth=5, max_features=sqrt, n_estimators=100;, score=0.600 total time=   0.1s\n",
      "[CV 5/5] END criterion=entropy, max_depth=5, max_features=sqrt, n_estimators=100;, score=0.600 total time=   0.1s\n",
      "[CV 1/5] END criterion=entropy, max_depth=5, max_features=sqrt, n_estimators=200;, score=0.624 total time=   0.3s\n",
      "[CV 2/5] END criterion=entropy, max_depth=5, max_features=sqrt, n_estimators=200;, score=0.614 total time=   0.4s\n",
      "[CV 3/5] END criterion=entropy, max_depth=5, max_features=sqrt, n_estimators=200;, score=0.610 total time=   0.4s\n",
      "[CV 4/5] END criterion=entropy, max_depth=5, max_features=sqrt, n_estimators=200;, score=0.605 total time=   0.4s\n",
      "[CV 5/5] END criterion=entropy, max_depth=5, max_features=sqrt, n_estimators=200;, score=0.605 total time=   0.4s\n",
      "[CV 1/5] END criterion=entropy, max_depth=5, max_features=sqrt, n_estimators=300;, score=0.619 total time=   0.6s\n",
      "[CV 2/5] END criterion=entropy, max_depth=5, max_features=sqrt, n_estimators=300;, score=0.614 total time=   0.6s\n",
      "[CV 3/5] END criterion=entropy, max_depth=5, max_features=sqrt, n_estimators=300;, score=0.605 total time=   0.6s\n",
      "[CV 4/5] END criterion=entropy, max_depth=5, max_features=sqrt, n_estimators=300;, score=0.610 total time=   0.6s\n",
      "[CV 5/5] END criterion=entropy, max_depth=5, max_features=sqrt, n_estimators=300;, score=0.605 total time=   0.6s\n",
      "[CV 1/5] END criterion=entropy, max_depth=5, max_features=sqrt, n_estimators=400;, score=0.629 total time=   1.0s\n",
      "[CV 2/5] END criterion=entropy, max_depth=5, max_features=sqrt, n_estimators=400;, score=0.614 total time=   1.0s\n",
      "[CV 3/5] END criterion=entropy, max_depth=5, max_features=sqrt, n_estimators=400;, score=0.610 total time=   0.9s\n",
      "[CV 4/5] END criterion=entropy, max_depth=5, max_features=sqrt, n_estimators=400;, score=0.595 total time=   0.9s\n",
      "[CV 5/5] END criterion=entropy, max_depth=5, max_features=sqrt, n_estimators=400;, score=0.600 total time=   0.9s\n",
      "[CV 1/5] END criterion=entropy, max_depth=5, max_features=log2, n_estimators=100;, score=0.638 total time=   0.2s\n",
      "[CV 2/5] END criterion=entropy, max_depth=5, max_features=log2, n_estimators=100;, score=0.605 total time=   0.2s\n",
      "[CV 3/5] END criterion=entropy, max_depth=5, max_features=log2, n_estimators=100;, score=0.614 total time=   0.1s\n",
      "[CV 4/5] END criterion=entropy, max_depth=5, max_features=log2, n_estimators=100;, score=0.595 total time=   0.2s\n",
      "[CV 5/5] END criterion=entropy, max_depth=5, max_features=log2, n_estimators=100;, score=0.610 total time=   0.2s\n",
      "[CV 1/5] END criterion=entropy, max_depth=5, max_features=log2, n_estimators=200;, score=0.619 total time=   0.4s\n",
      "[CV 2/5] END criterion=entropy, max_depth=5, max_features=log2, n_estimators=200;, score=0.624 total time=   0.4s\n",
      "[CV 3/5] END criterion=entropy, max_depth=5, max_features=log2, n_estimators=200;, score=0.614 total time=   0.4s\n",
      "[CV 4/5] END criterion=entropy, max_depth=5, max_features=log2, n_estimators=200;, score=0.605 total time=   0.4s\n",
      "[CV 5/5] END criterion=entropy, max_depth=5, max_features=log2, n_estimators=200;, score=0.600 total time=   0.4s\n",
      "[CV 1/5] END criterion=entropy, max_depth=5, max_features=log2, n_estimators=300;, score=0.629 total time=   0.7s\n",
      "[CV 2/5] END criterion=entropy, max_depth=5, max_features=log2, n_estimators=300;, score=0.610 total time=   0.7s\n",
      "[CV 3/5] END criterion=entropy, max_depth=5, max_features=log2, n_estimators=300;, score=0.600 total time=   0.7s\n",
      "[CV 4/5] END criterion=entropy, max_depth=5, max_features=log2, n_estimators=300;, score=0.595 total time=   0.6s\n",
      "[CV 5/5] END criterion=entropy, max_depth=5, max_features=log2, n_estimators=300;, score=0.600 total time=   0.6s\n",
      "[CV 1/5] END criterion=entropy, max_depth=5, max_features=log2, n_estimators=400;, score=0.624 total time=   0.8s\n",
      "[CV 2/5] END criterion=entropy, max_depth=5, max_features=log2, n_estimators=400;, score=0.624 total time=   0.9s\n",
      "[CV 3/5] END criterion=entropy, max_depth=5, max_features=log2, n_estimators=400;, score=0.595 total time=   0.8s\n",
      "[CV 4/5] END criterion=entropy, max_depth=5, max_features=log2, n_estimators=400;, score=0.600 total time=   0.9s\n",
      "[CV 5/5] END criterion=entropy, max_depth=5, max_features=log2, n_estimators=400;, score=0.600 total time=   0.8s\n"
     ]
    },
    {
     "data": {
      "text/plain": [
       "GridSearchCV(estimator=RandomForestClassifier(),\n",
       "             param_grid={'criterion': ['gini', 'entropy'],\n",
       "                         'max_depth': [2, 3, 4, 5],\n",
       "                         'max_features': ['auto', 'sqrt', 'log2'],\n",
       "                         'n_estimators': [100, 200, 300, 400]},\n",
       "             verbose=3)"
      ]
     },
     "execution_count": 33,
     "metadata": {},
     "output_type": "execute_result"
    }
   ],
   "source": [
    "grid.fit(x_train,y_train)"
   ]
  },
  {
   "cell_type": "code",
   "execution_count": 34,
   "metadata": {},
   "outputs": [
    {
     "data": {
      "text/plain": [
       "{'criterion': 'entropy',\n",
       " 'max_depth': 5,\n",
       " 'max_features': 'auto',\n",
       " 'n_estimators': 300}"
      ]
     },
     "execution_count": 34,
     "metadata": {},
     "output_type": "execute_result"
    }
   ],
   "source": [
    "grid.best_params_"
   ]
  },
  {
   "cell_type": "code",
   "execution_count": 35,
   "metadata": {},
   "outputs": [],
   "source": [
    "y_pred1=grid.predict(x_test)"
   ]
  },
  {
   "cell_type": "code",
   "execution_count": 36,
   "metadata": {},
   "outputs": [
    {
     "data": {
      "text/plain": [
       "0.5977777777777777"
      ]
     },
     "execution_count": 36,
     "metadata": {},
     "output_type": "execute_result"
    }
   ],
   "source": [
    "accuracy_score(y_test, y_pred1)"
   ]
  },
  {
   "cell_type": "markdown",
   "metadata": {},
   "source": [
    "## Extra trees Classifier"
   ]
  },
  {
   "cell_type": "markdown",
   "metadata": {},
   "source": [
    "### Model 1"
   ]
  },
  {
   "cell_type": "code",
   "execution_count": 37,
   "metadata": {},
   "outputs": [],
   "source": [
    "extra_tree_forest = ExtraTreesClassifier(n_estimators = 5,\n",
    "                                        criterion ='entropy', max_features = 2)\n",
    "extra_tree_forest.fit(x_train, y_train)\n",
    "feature_importance = extra_tree_forest.feature_importances_\n",
    "feature_importance_normalized = np.std([tree.feature_importances_ for tree in \n",
    "                                        extra_tree_forest.estimators_],\n",
    "                                        axis = 0)"
   ]
  },
  {
   "cell_type": "code",
   "execution_count": 38,
   "metadata": {},
   "outputs": [],
   "source": [
    "ypred=extra_tree_forest.predict(x_test)"
   ]
  },
  {
   "cell_type": "code",
   "execution_count": 39,
   "metadata": {},
   "outputs": [
    {
     "data": {
      "text/plain": [
       "0.5955555555555555"
      ]
     },
     "execution_count": 39,
     "metadata": {},
     "output_type": "execute_result"
    }
   ],
   "source": [
    "accuracy_score(ypred,y_test)"
   ]
  },
  {
   "cell_type": "markdown",
   "metadata": {},
   "source": [
    "### Model 2"
   ]
  },
  {
   "cell_type": "code",
   "execution_count": 40,
   "metadata": {},
   "outputs": [],
   "source": [
    "param_grid={'n_estimators':[5,6,7,8,9],'criterion':['gini', 'entropy'],'max_depth':[2,3,4,5],'max_features':['auto','sqrt','log2']}"
   ]
  },
  {
   "cell_type": "code",
   "execution_count": 41,
   "metadata": {},
   "outputs": [],
   "source": [
    "grid = GridSearchCV(ExtraTreesClassifier(),param_grid,refit=True,verbose=3)"
   ]
  },
  {
   "cell_type": "code",
   "execution_count": 42,
   "metadata": {},
   "outputs": [
    {
     "name": "stdout",
     "output_type": "stream",
     "text": [
      "Fitting 5 folds for each of 120 candidates, totalling 600 fits\n",
      "[CV 1/5] END criterion=gini, max_depth=2, max_features=auto, n_estimators=5;, score=0.595 total time=   0.0s\n",
      "[CV 2/5] END criterion=gini, max_depth=2, max_features=auto, n_estimators=5;, score=0.595 total time=   0.0s\n",
      "[CV 3/5] END criterion=gini, max_depth=2, max_features=auto, n_estimators=5;, score=0.590 total time=   0.0s\n",
      "[CV 4/5] END criterion=gini, max_depth=2, max_features=auto, n_estimators=5;, score=0.590 total time=   0.0s\n",
      "[CV 5/5] END criterion=gini, max_depth=2, max_features=auto, n_estimators=5;, score=0.590 total time=   0.0s\n",
      "[CV 1/5] END criterion=gini, max_depth=2, max_features=auto, n_estimators=6;, score=0.595 total time=   0.0s\n",
      "[CV 2/5] END criterion=gini, max_depth=2, max_features=auto, n_estimators=6;, score=0.595 total time=   0.0s\n",
      "[CV 3/5] END criterion=gini, max_depth=2, max_features=auto, n_estimators=6;, score=0.590 total time=   0.0s\n",
      "[CV 4/5] END criterion=gini, max_depth=2, max_features=auto, n_estimators=6;, score=0.590 total time=   0.0s\n",
      "[CV 5/5] END criterion=gini, max_depth=2, max_features=auto, n_estimators=6;, score=0.590 total time=   0.0s\n",
      "[CV 1/5] END criterion=gini, max_depth=2, max_features=auto, n_estimators=7;, score=0.595 total time=   0.0s\n",
      "[CV 2/5] END criterion=gini, max_depth=2, max_features=auto, n_estimators=7;, score=0.595 total time=   0.0s\n",
      "[CV 3/5] END criterion=gini, max_depth=2, max_features=auto, n_estimators=7;, score=0.590 total time=   0.0s\n",
      "[CV 4/5] END criterion=gini, max_depth=2, max_features=auto, n_estimators=7;, score=0.590 total time=   0.0s\n",
      "[CV 5/5] END criterion=gini, max_depth=2, max_features=auto, n_estimators=7;, score=0.590 total time=   0.0s\n",
      "[CV 1/5] END criterion=gini, max_depth=2, max_features=auto, n_estimators=8;, score=0.595 total time=   0.0s\n"
     ]
    },
    {
     "name": "stderr",
     "output_type": "stream",
     "text": [
      "C:\\Users\\user\\anaconda3\\lib\\site-packages\\sklearn\\model_selection\\_split.py:668: UserWarning: The least populated class in y has only 3 members, which is less than n_splits=5.\n",
      "  % (min_groups, self.n_splits)), UserWarning)\n"
     ]
    },
    {
     "name": "stdout",
     "output_type": "stream",
     "text": [
      "[CV 2/5] END criterion=gini, max_depth=2, max_features=auto, n_estimators=8;, score=0.595 total time=   0.0s\n",
      "[CV 3/5] END criterion=gini, max_depth=2, max_features=auto, n_estimators=8;, score=0.590 total time=   0.0s\n",
      "[CV 4/5] END criterion=gini, max_depth=2, max_features=auto, n_estimators=8;, score=0.590 total time=   0.0s\n",
      "[CV 5/5] END criterion=gini, max_depth=2, max_features=auto, n_estimators=8;, score=0.590 total time=   0.0s\n",
      "[CV 1/5] END criterion=gini, max_depth=2, max_features=auto, n_estimators=9;, score=0.595 total time=   0.0s\n",
      "[CV 2/5] END criterion=gini, max_depth=2, max_features=auto, n_estimators=9;, score=0.595 total time=   0.0s\n",
      "[CV 3/5] END criterion=gini, max_depth=2, max_features=auto, n_estimators=9;, score=0.590 total time=   0.0s\n",
      "[CV 4/5] END criterion=gini, max_depth=2, max_features=auto, n_estimators=9;, score=0.590 total time=   0.0s\n",
      "[CV 5/5] END criterion=gini, max_depth=2, max_features=auto, n_estimators=9;, score=0.590 total time=   0.0s\n",
      "[CV 1/5] END criterion=gini, max_depth=2, max_features=sqrt, n_estimators=5;, score=0.595 total time=   0.0s\n",
      "[CV 2/5] END criterion=gini, max_depth=2, max_features=sqrt, n_estimators=5;, score=0.595 total time=   0.0s\n",
      "[CV 3/5] END criterion=gini, max_depth=2, max_features=sqrt, n_estimators=5;, score=0.590 total time=   0.0s\n",
      "[CV 4/5] END criterion=gini, max_depth=2, max_features=sqrt, n_estimators=5;, score=0.590 total time=   0.0s\n",
      "[CV 5/5] END criterion=gini, max_depth=2, max_features=sqrt, n_estimators=5;, score=0.590 total time=   0.0s\n",
      "[CV 1/5] END criterion=gini, max_depth=2, max_features=sqrt, n_estimators=6;, score=0.595 total time=   0.0s\n",
      "[CV 2/5] END criterion=gini, max_depth=2, max_features=sqrt, n_estimators=6;, score=0.595 total time=   0.0s\n",
      "[CV 3/5] END criterion=gini, max_depth=2, max_features=sqrt, n_estimators=6;, score=0.590 total time=   0.0s\n",
      "[CV 4/5] END criterion=gini, max_depth=2, max_features=sqrt, n_estimators=6;, score=0.590 total time=   0.0s\n",
      "[CV 5/5] END criterion=gini, max_depth=2, max_features=sqrt, n_estimators=6;, score=0.590 total time=   0.0s\n",
      "[CV 1/5] END criterion=gini, max_depth=2, max_features=sqrt, n_estimators=7;, score=0.595 total time=   0.0s\n",
      "[CV 2/5] END criterion=gini, max_depth=2, max_features=sqrt, n_estimators=7;, score=0.595 total time=   0.0s\n",
      "[CV 3/5] END criterion=gini, max_depth=2, max_features=sqrt, n_estimators=7;, score=0.590 total time=   0.0s\n",
      "[CV 4/5] END criterion=gini, max_depth=2, max_features=sqrt, n_estimators=7;, score=0.590 total time=   0.0s\n",
      "[CV 5/5] END criterion=gini, max_depth=2, max_features=sqrt, n_estimators=7;, score=0.590 total time=   0.0s\n",
      "[CV 1/5] END criterion=gini, max_depth=2, max_features=sqrt, n_estimators=8;, score=0.595 total time=   0.0s\n",
      "[CV 2/5] END criterion=gini, max_depth=2, max_features=sqrt, n_estimators=8;, score=0.595 total time=   0.0s\n",
      "[CV 3/5] END criterion=gini, max_depth=2, max_features=sqrt, n_estimators=8;, score=0.590 total time=   0.0s\n",
      "[CV 4/5] END criterion=gini, max_depth=2, max_features=sqrt, n_estimators=8;, score=0.590 total time=   0.0s\n",
      "[CV 5/5] END criterion=gini, max_depth=2, max_features=sqrt, n_estimators=8;, score=0.590 total time=   0.0s\n",
      "[CV 1/5] END criterion=gini, max_depth=2, max_features=sqrt, n_estimators=9;, score=0.595 total time=   0.0s\n",
      "[CV 2/5] END criterion=gini, max_depth=2, max_features=sqrt, n_estimators=9;, score=0.595 total time=   0.0s\n",
      "[CV 3/5] END criterion=gini, max_depth=2, max_features=sqrt, n_estimators=9;, score=0.590 total time=   0.0s\n",
      "[CV 4/5] END criterion=gini, max_depth=2, max_features=sqrt, n_estimators=9;, score=0.590 total time=   0.0s\n",
      "[CV 5/5] END criterion=gini, max_depth=2, max_features=sqrt, n_estimators=9;, score=0.590 total time=   0.0s\n",
      "[CV 1/5] END criterion=gini, max_depth=2, max_features=log2, n_estimators=5;, score=0.595 total time=   0.0s\n",
      "[CV 2/5] END criterion=gini, max_depth=2, max_features=log2, n_estimators=5;, score=0.595 total time=   0.0s\n",
      "[CV 3/5] END criterion=gini, max_depth=2, max_features=log2, n_estimators=5;, score=0.590 total time=   0.0s\n",
      "[CV 4/5] END criterion=gini, max_depth=2, max_features=log2, n_estimators=5;, score=0.590 total time=   0.0s\n",
      "[CV 5/5] END criterion=gini, max_depth=2, max_features=log2, n_estimators=5;, score=0.590 total time=   0.0s\n",
      "[CV 1/5] END criterion=gini, max_depth=2, max_features=log2, n_estimators=6;, score=0.595 total time=   0.0s\n",
      "[CV 2/5] END criterion=gini, max_depth=2, max_features=log2, n_estimators=6;, score=0.595 total time=   0.0s\n",
      "[CV 3/5] END criterion=gini, max_depth=2, max_features=log2, n_estimators=6;, score=0.590 total time=   0.0s\n",
      "[CV 4/5] END criterion=gini, max_depth=2, max_features=log2, n_estimators=6;, score=0.590 total time=   0.0s\n",
      "[CV 5/5] END criterion=gini, max_depth=2, max_features=log2, n_estimators=6;, score=0.590 total time=   0.0s\n",
      "[CV 1/5] END criterion=gini, max_depth=2, max_features=log2, n_estimators=7;, score=0.595 total time=   0.0s\n",
      "[CV 2/5] END criterion=gini, max_depth=2, max_features=log2, n_estimators=7;, score=0.595 total time=   0.0s\n",
      "[CV 3/5] END criterion=gini, max_depth=2, max_features=log2, n_estimators=7;, score=0.590 total time=   0.0s\n",
      "[CV 4/5] END criterion=gini, max_depth=2, max_features=log2, n_estimators=7;, score=0.590 total time=   0.0s\n",
      "[CV 5/5] END criterion=gini, max_depth=2, max_features=log2, n_estimators=7;, score=0.590 total time=   0.0s\n",
      "[CV 1/5] END criterion=gini, max_depth=2, max_features=log2, n_estimators=8;, score=0.595 total time=   0.0s\n",
      "[CV 2/5] END criterion=gini, max_depth=2, max_features=log2, n_estimators=8;, score=0.595 total time=   0.0s\n",
      "[CV 3/5] END criterion=gini, max_depth=2, max_features=log2, n_estimators=8;, score=0.590 total time=   0.0s\n",
      "[CV 4/5] END criterion=gini, max_depth=2, max_features=log2, n_estimators=8;, score=0.590 total time=   0.0s\n",
      "[CV 5/5] END criterion=gini, max_depth=2, max_features=log2, n_estimators=8;, score=0.590 total time=   0.0s\n",
      "[CV 1/5] END criterion=gini, max_depth=2, max_features=log2, n_estimators=9;, score=0.595 total time=   0.0s\n",
      "[CV 2/5] END criterion=gini, max_depth=2, max_features=log2, n_estimators=9;, score=0.595 total time=   0.0s\n",
      "[CV 3/5] END criterion=gini, max_depth=2, max_features=log2, n_estimators=9;, score=0.590 total time=   0.0s\n",
      "[CV 4/5] END criterion=gini, max_depth=2, max_features=log2, n_estimators=9;, score=0.590 total time=   0.0s\n",
      "[CV 5/5] END criterion=gini, max_depth=2, max_features=log2, n_estimators=9;, score=0.590 total time=   0.0s\n",
      "[CV 1/5] END criterion=gini, max_depth=3, max_features=auto, n_estimators=5;, score=0.595 total time=   0.0s\n",
      "[CV 2/5] END criterion=gini, max_depth=3, max_features=auto, n_estimators=5;, score=0.595 total time=   0.0s\n",
      "[CV 3/5] END criterion=gini, max_depth=3, max_features=auto, n_estimators=5;, score=0.590 total time=   0.0s\n",
      "[CV 4/5] END criterion=gini, max_depth=3, max_features=auto, n_estimators=5;, score=0.590 total time=   0.0s\n",
      "[CV 5/5] END criterion=gini, max_depth=3, max_features=auto, n_estimators=5;, score=0.590 total time=   0.0s\n",
      "[CV 1/5] END criterion=gini, max_depth=3, max_features=auto, n_estimators=6;, score=0.595 total time=   0.0s\n",
      "[CV 2/5] END criterion=gini, max_depth=3, max_features=auto, n_estimators=6;, score=0.595 total time=   0.0s\n",
      "[CV 3/5] END criterion=gini, max_depth=3, max_features=auto, n_estimators=6;, score=0.590 total time=   0.0s\n",
      "[CV 4/5] END criterion=gini, max_depth=3, max_features=auto, n_estimators=6;, score=0.590 total time=   0.0s\n",
      "[CV 5/5] END criterion=gini, max_depth=3, max_features=auto, n_estimators=6;, score=0.590 total time=   0.0s\n",
      "[CV 1/5] END criterion=gini, max_depth=3, max_features=auto, n_estimators=7;, score=0.595 total time=   0.0s\n",
      "[CV 2/5] END criterion=gini, max_depth=3, max_features=auto, n_estimators=7;, score=0.595 total time=   0.0s\n",
      "[CV 3/5] END criterion=gini, max_depth=3, max_features=auto, n_estimators=7;, score=0.590 total time=   0.0s\n",
      "[CV 4/5] END criterion=gini, max_depth=3, max_features=auto, n_estimators=7;, score=0.590 total time=   0.0s\n",
      "[CV 5/5] END criterion=gini, max_depth=3, max_features=auto, n_estimators=7;, score=0.590 total time=   0.0s\n",
      "[CV 1/5] END criterion=gini, max_depth=3, max_features=auto, n_estimators=8;, score=0.595 total time=   0.0s\n",
      "[CV 2/5] END criterion=gini, max_depth=3, max_features=auto, n_estimators=8;, score=0.595 total time=   0.0s\n",
      "[CV 3/5] END criterion=gini, max_depth=3, max_features=auto, n_estimators=8;, score=0.590 total time=   0.0s\n"
     ]
    },
    {
     "name": "stdout",
     "output_type": "stream",
     "text": [
      "[CV 4/5] END criterion=gini, max_depth=3, max_features=auto, n_estimators=8;, score=0.590 total time=   0.0s\n",
      "[CV 5/5] END criterion=gini, max_depth=3, max_features=auto, n_estimators=8;, score=0.590 total time=   0.0s\n",
      "[CV 1/5] END criterion=gini, max_depth=3, max_features=auto, n_estimators=9;, score=0.595 total time=   0.0s\n",
      "[CV 2/5] END criterion=gini, max_depth=3, max_features=auto, n_estimators=9;, score=0.595 total time=   0.0s\n",
      "[CV 3/5] END criterion=gini, max_depth=3, max_features=auto, n_estimators=9;, score=0.590 total time=   0.0s\n",
      "[CV 4/5] END criterion=gini, max_depth=3, max_features=auto, n_estimators=9;, score=0.590 total time=   0.0s\n",
      "[CV 5/5] END criterion=gini, max_depth=3, max_features=auto, n_estimators=9;, score=0.590 total time=   0.0s\n",
      "[CV 1/5] END criterion=gini, max_depth=3, max_features=sqrt, n_estimators=5;, score=0.595 total time=   0.0s\n",
      "[CV 2/5] END criterion=gini, max_depth=3, max_features=sqrt, n_estimators=5;, score=0.595 total time=   0.0s\n",
      "[CV 3/5] END criterion=gini, max_depth=3, max_features=sqrt, n_estimators=5;, score=0.590 total time=   0.0s\n",
      "[CV 4/5] END criterion=gini, max_depth=3, max_features=sqrt, n_estimators=5;, score=0.590 total time=   0.0s\n",
      "[CV 5/5] END criterion=gini, max_depth=3, max_features=sqrt, n_estimators=5;, score=0.590 total time=   0.0s\n",
      "[CV 1/5] END criterion=gini, max_depth=3, max_features=sqrt, n_estimators=6;, score=0.595 total time=   0.0s\n",
      "[CV 2/5] END criterion=gini, max_depth=3, max_features=sqrt, n_estimators=6;, score=0.600 total time=   0.0s\n",
      "[CV 3/5] END criterion=gini, max_depth=3, max_features=sqrt, n_estimators=6;, score=0.590 total time=   0.0s\n",
      "[CV 4/5] END criterion=gini, max_depth=3, max_features=sqrt, n_estimators=6;, score=0.590 total time=   0.0s\n",
      "[CV 5/5] END criterion=gini, max_depth=3, max_features=sqrt, n_estimators=6;, score=0.590 total time=   0.0s\n",
      "[CV 1/5] END criterion=gini, max_depth=3, max_features=sqrt, n_estimators=7;, score=0.595 total time=   0.0s\n",
      "[CV 2/5] END criterion=gini, max_depth=3, max_features=sqrt, n_estimators=7;, score=0.595 total time=   0.0s\n",
      "[CV 3/5] END criterion=gini, max_depth=3, max_features=sqrt, n_estimators=7;, score=0.590 total time=   0.0s\n",
      "[CV 4/5] END criterion=gini, max_depth=3, max_features=sqrt, n_estimators=7;, score=0.590 total time=   0.0s\n",
      "[CV 5/5] END criterion=gini, max_depth=3, max_features=sqrt, n_estimators=7;, score=0.590 total time=   0.0s\n",
      "[CV 1/5] END criterion=gini, max_depth=3, max_features=sqrt, n_estimators=8;, score=0.595 total time=   0.0s\n",
      "[CV 2/5] END criterion=gini, max_depth=3, max_features=sqrt, n_estimators=8;, score=0.595 total time=   0.0s\n",
      "[CV 3/5] END criterion=gini, max_depth=3, max_features=sqrt, n_estimators=8;, score=0.590 total time=   0.0s\n",
      "[CV 4/5] END criterion=gini, max_depth=3, max_features=sqrt, n_estimators=8;, score=0.590 total time=   0.0s\n",
      "[CV 5/5] END criterion=gini, max_depth=3, max_features=sqrt, n_estimators=8;, score=0.590 total time=   0.0s\n",
      "[CV 1/5] END criterion=gini, max_depth=3, max_features=sqrt, n_estimators=9;, score=0.595 total time=   0.0s\n",
      "[CV 2/5] END criterion=gini, max_depth=3, max_features=sqrt, n_estimators=9;, score=0.595 total time=   0.0s\n",
      "[CV 3/5] END criterion=gini, max_depth=3, max_features=sqrt, n_estimators=9;, score=0.590 total time=   0.0s\n",
      "[CV 4/5] END criterion=gini, max_depth=3, max_features=sqrt, n_estimators=9;, score=0.590 total time=   0.0s\n",
      "[CV 5/5] END criterion=gini, max_depth=3, max_features=sqrt, n_estimators=9;, score=0.590 total time=   0.0s\n",
      "[CV 1/5] END criterion=gini, max_depth=3, max_features=log2, n_estimators=5;, score=0.595 total time=   0.0s\n",
      "[CV 2/5] END criterion=gini, max_depth=3, max_features=log2, n_estimators=5;, score=0.595 total time=   0.0s\n",
      "[CV 3/5] END criterion=gini, max_depth=3, max_features=log2, n_estimators=5;, score=0.590 total time=   0.0s\n",
      "[CV 4/5] END criterion=gini, max_depth=3, max_features=log2, n_estimators=5;, score=0.590 total time=   0.0s\n",
      "[CV 5/5] END criterion=gini, max_depth=3, max_features=log2, n_estimators=5;, score=0.590 total time=   0.0s\n",
      "[CV 1/5] END criterion=gini, max_depth=3, max_features=log2, n_estimators=6;, score=0.595 total time=   0.0s\n",
      "[CV 2/5] END criterion=gini, max_depth=3, max_features=log2, n_estimators=6;, score=0.595 total time=   0.0s\n",
      "[CV 3/5] END criterion=gini, max_depth=3, max_features=log2, n_estimators=6;, score=0.590 total time=   0.0s\n",
      "[CV 4/5] END criterion=gini, max_depth=3, max_features=log2, n_estimators=6;, score=0.590 total time=   0.0s\n",
      "[CV 5/5] END criterion=gini, max_depth=3, max_features=log2, n_estimators=6;, score=0.590 total time=   0.0s\n",
      "[CV 1/5] END criterion=gini, max_depth=3, max_features=log2, n_estimators=7;, score=0.595 total time=   0.0s\n",
      "[CV 2/5] END criterion=gini, max_depth=3, max_features=log2, n_estimators=7;, score=0.595 total time=   0.0s\n",
      "[CV 3/5] END criterion=gini, max_depth=3, max_features=log2, n_estimators=7;, score=0.590 total time=   0.0s\n",
      "[CV 4/5] END criterion=gini, max_depth=3, max_features=log2, n_estimators=7;, score=0.590 total time=   0.0s\n",
      "[CV 5/5] END criterion=gini, max_depth=3, max_features=log2, n_estimators=7;, score=0.590 total time=   0.0s\n",
      "[CV 1/5] END criterion=gini, max_depth=3, max_features=log2, n_estimators=8;, score=0.595 total time=   0.0s\n",
      "[CV 2/5] END criterion=gini, max_depth=3, max_features=log2, n_estimators=8;, score=0.595 total time=   0.0s\n",
      "[CV 3/5] END criterion=gini, max_depth=3, max_features=log2, n_estimators=8;, score=0.590 total time=   0.0s\n",
      "[CV 4/5] END criterion=gini, max_depth=3, max_features=log2, n_estimators=8;, score=0.590 total time=   0.0s\n",
      "[CV 5/5] END criterion=gini, max_depth=3, max_features=log2, n_estimators=8;, score=0.590 total time=   0.0s\n",
      "[CV 1/5] END criterion=gini, max_depth=3, max_features=log2, n_estimators=9;, score=0.595 total time=   0.0s\n",
      "[CV 2/5] END criterion=gini, max_depth=3, max_features=log2, n_estimators=9;, score=0.595 total time=   0.0s\n",
      "[CV 3/5] END criterion=gini, max_depth=3, max_features=log2, n_estimators=9;, score=0.590 total time=   0.0s\n",
      "[CV 4/5] END criterion=gini, max_depth=3, max_features=log2, n_estimators=9;, score=0.590 total time=   0.0s\n",
      "[CV 5/5] END criterion=gini, max_depth=3, max_features=log2, n_estimators=9;, score=0.590 total time=   0.0s\n",
      "[CV 1/5] END criterion=gini, max_depth=4, max_features=auto, n_estimators=5;, score=0.595 total time=   0.0s\n",
      "[CV 2/5] END criterion=gini, max_depth=4, max_features=auto, n_estimators=5;, score=0.586 total time=   0.0s\n",
      "[CV 3/5] END criterion=gini, max_depth=4, max_features=auto, n_estimators=5;, score=0.590 total time=   0.0s\n",
      "[CV 4/5] END criterion=gini, max_depth=4, max_features=auto, n_estimators=5;, score=0.595 total time=   0.0s\n",
      "[CV 5/5] END criterion=gini, max_depth=4, max_features=auto, n_estimators=5;, score=0.595 total time=   0.0s\n",
      "[CV 1/5] END criterion=gini, max_depth=4, max_features=auto, n_estimators=6;, score=0.595 total time=   0.0s\n",
      "[CV 2/5] END criterion=gini, max_depth=4, max_features=auto, n_estimators=6;, score=0.600 total time=   0.0s\n",
      "[CV 3/5] END criterion=gini, max_depth=4, max_features=auto, n_estimators=6;, score=0.590 total time=   0.0s\n",
      "[CV 4/5] END criterion=gini, max_depth=4, max_features=auto, n_estimators=6;, score=0.590 total time=   0.0s\n",
      "[CV 5/5] END criterion=gini, max_depth=4, max_features=auto, n_estimators=6;, score=0.590 total time=   0.0s\n",
      "[CV 1/5] END criterion=gini, max_depth=4, max_features=auto, n_estimators=7;, score=0.595 total time=   0.0s\n",
      "[CV 2/5] END criterion=gini, max_depth=4, max_features=auto, n_estimators=7;, score=0.600 total time=   0.0s\n",
      "[CV 3/5] END criterion=gini, max_depth=4, max_features=auto, n_estimators=7;, score=0.595 total time=   0.0s\n",
      "[CV 4/5] END criterion=gini, max_depth=4, max_features=auto, n_estimators=7;, score=0.590 total time=   0.0s\n",
      "[CV 5/5] END criterion=gini, max_depth=4, max_features=auto, n_estimators=7;, score=0.586 total time=   0.0s\n",
      "[CV 1/5] END criterion=gini, max_depth=4, max_features=auto, n_estimators=8;, score=0.595 total time=   0.0s\n",
      "[CV 2/5] END criterion=gini, max_depth=4, max_features=auto, n_estimators=8;, score=0.595 total time=   0.0s\n",
      "[CV 3/5] END criterion=gini, max_depth=4, max_features=auto, n_estimators=8;, score=0.590 total time=   0.0s\n",
      "[CV 4/5] END criterion=gini, max_depth=4, max_features=auto, n_estimators=8;, score=0.595 total time=   0.0s\n",
      "[CV 5/5] END criterion=gini, max_depth=4, max_features=auto, n_estimators=8;, score=0.590 total time=   0.0s\n",
      "[CV 1/5] END criterion=gini, max_depth=4, max_features=auto, n_estimators=9;, score=0.595 total time=   0.0s\n",
      "[CV 2/5] END criterion=gini, max_depth=4, max_features=auto, n_estimators=9;, score=0.595 total time=   0.0s\n",
      "[CV 3/5] END criterion=gini, max_depth=4, max_features=auto, n_estimators=9;, score=0.590 total time=   0.0s\n",
      "[CV 4/5] END criterion=gini, max_depth=4, max_features=auto, n_estimators=9;, score=0.590 total time=   0.0s\n",
      "[CV 5/5] END criterion=gini, max_depth=4, max_features=auto, n_estimators=9;, score=0.590 total time=   0.0s\n",
      "[CV 1/5] END criterion=gini, max_depth=4, max_features=sqrt, n_estimators=5;, score=0.595 total time=   0.0s\n",
      "[CV 2/5] END criterion=gini, max_depth=4, max_features=sqrt, n_estimators=5;, score=0.595 total time=   0.0s\n",
      "[CV 3/5] END criterion=gini, max_depth=4, max_features=sqrt, n_estimators=5;, score=0.586 total time=   0.0s\n",
      "[CV 4/5] END criterion=gini, max_depth=4, max_features=sqrt, n_estimators=5;, score=0.595 total time=   0.0s\n",
      "[CV 5/5] END criterion=gini, max_depth=4, max_features=sqrt, n_estimators=5;, score=0.600 total time=   0.0s\n",
      "[CV 1/5] END criterion=gini, max_depth=4, max_features=sqrt, n_estimators=6;, score=0.581 total time=   0.0s\n",
      "[CV 2/5] END criterion=gini, max_depth=4, max_features=sqrt, n_estimators=6;, score=0.595 total time=   0.0s\n",
      "[CV 3/5] END criterion=gini, max_depth=4, max_features=sqrt, n_estimators=6;, score=0.590 total time=   0.0s\n",
      "[CV 4/5] END criterion=gini, max_depth=4, max_features=sqrt, n_estimators=6;, score=0.590 total time=   0.0s\n"
     ]
    },
    {
     "name": "stdout",
     "output_type": "stream",
     "text": [
      "[CV 5/5] END criterion=gini, max_depth=4, max_features=sqrt, n_estimators=6;, score=0.595 total time=   0.0s\n",
      "[CV 1/5] END criterion=gini, max_depth=4, max_features=sqrt, n_estimators=7;, score=0.595 total time=   0.0s\n",
      "[CV 2/5] END criterion=gini, max_depth=4, max_features=sqrt, n_estimators=7;, score=0.595 total time=   0.0s\n",
      "[CV 3/5] END criterion=gini, max_depth=4, max_features=sqrt, n_estimators=7;, score=0.590 total time=   0.0s\n",
      "[CV 4/5] END criterion=gini, max_depth=4, max_features=sqrt, n_estimators=7;, score=0.590 total time=   0.0s\n",
      "[CV 5/5] END criterion=gini, max_depth=4, max_features=sqrt, n_estimators=7;, score=0.590 total time=   0.0s\n",
      "[CV 1/5] END criterion=gini, max_depth=4, max_features=sqrt, n_estimators=8;, score=0.595 total time=   0.0s\n",
      "[CV 2/5] END criterion=gini, max_depth=4, max_features=sqrt, n_estimators=8;, score=0.595 total time=   0.0s\n",
      "[CV 3/5] END criterion=gini, max_depth=4, max_features=sqrt, n_estimators=8;, score=0.590 total time=   0.0s\n",
      "[CV 4/5] END criterion=gini, max_depth=4, max_features=sqrt, n_estimators=8;, score=0.590 total time=   0.0s\n",
      "[CV 5/5] END criterion=gini, max_depth=4, max_features=sqrt, n_estimators=8;, score=0.590 total time=   0.0s\n",
      "[CV 1/5] END criterion=gini, max_depth=4, max_features=sqrt, n_estimators=9;, score=0.595 total time=   0.0s\n",
      "[CV 2/5] END criterion=gini, max_depth=4, max_features=sqrt, n_estimators=9;, score=0.595 total time=   0.0s\n",
      "[CV 3/5] END criterion=gini, max_depth=4, max_features=sqrt, n_estimators=9;, score=0.595 total time=   0.0s\n",
      "[CV 4/5] END criterion=gini, max_depth=4, max_features=sqrt, n_estimators=9;, score=0.590 total time=   0.0s\n",
      "[CV 5/5] END criterion=gini, max_depth=4, max_features=sqrt, n_estimators=9;, score=0.590 total time=   0.0s\n",
      "[CV 1/5] END criterion=gini, max_depth=4, max_features=log2, n_estimators=5;, score=0.595 total time=   0.0s\n",
      "[CV 2/5] END criterion=gini, max_depth=4, max_features=log2, n_estimators=5;, score=0.595 total time=   0.0s\n",
      "[CV 3/5] END criterion=gini, max_depth=4, max_features=log2, n_estimators=5;, score=0.595 total time=   0.0s\n",
      "[CV 4/5] END criterion=gini, max_depth=4, max_features=log2, n_estimators=5;, score=0.581 total time=   0.0s\n",
      "[CV 5/5] END criterion=gini, max_depth=4, max_features=log2, n_estimators=5;, score=0.586 total time=   0.0s\n",
      "[CV 1/5] END criterion=gini, max_depth=4, max_features=log2, n_estimators=6;, score=0.595 total time=   0.0s\n",
      "[CV 2/5] END criterion=gini, max_depth=4, max_features=log2, n_estimators=6;, score=0.595 total time=   0.0s\n",
      "[CV 3/5] END criterion=gini, max_depth=4, max_features=log2, n_estimators=6;, score=0.590 total time=   0.0s\n",
      "[CV 4/5] END criterion=gini, max_depth=4, max_features=log2, n_estimators=6;, score=0.586 total time=   0.0s\n",
      "[CV 5/5] END criterion=gini, max_depth=4, max_features=log2, n_estimators=6;, score=0.590 total time=   0.0s\n",
      "[CV 1/5] END criterion=gini, max_depth=4, max_features=log2, n_estimators=7;, score=0.595 total time=   0.0s\n",
      "[CV 2/5] END criterion=gini, max_depth=4, max_features=log2, n_estimators=7;, score=0.595 total time=   0.0s\n",
      "[CV 3/5] END criterion=gini, max_depth=4, max_features=log2, n_estimators=7;, score=0.590 total time=   0.0s\n",
      "[CV 4/5] END criterion=gini, max_depth=4, max_features=log2, n_estimators=7;, score=0.590 total time=   0.0s\n",
      "[CV 5/5] END criterion=gini, max_depth=4, max_features=log2, n_estimators=7;, score=0.590 total time=   0.0s\n",
      "[CV 1/5] END criterion=gini, max_depth=4, max_features=log2, n_estimators=8;, score=0.595 total time=   0.0s\n",
      "[CV 2/5] END criterion=gini, max_depth=4, max_features=log2, n_estimators=8;, score=0.595 total time=   0.0s\n",
      "[CV 3/5] END criterion=gini, max_depth=4, max_features=log2, n_estimators=8;, score=0.590 total time=   0.0s\n",
      "[CV 4/5] END criterion=gini, max_depth=4, max_features=log2, n_estimators=8;, score=0.590 total time=   0.0s\n",
      "[CV 5/5] END criterion=gini, max_depth=4, max_features=log2, n_estimators=8;, score=0.590 total time=   0.0s\n",
      "[CV 1/5] END criterion=gini, max_depth=4, max_features=log2, n_estimators=9;, score=0.595 total time=   0.0s\n",
      "[CV 2/5] END criterion=gini, max_depth=4, max_features=log2, n_estimators=9;, score=0.600 total time=   0.0s\n",
      "[CV 3/5] END criterion=gini, max_depth=4, max_features=log2, n_estimators=9;, score=0.590 total time=   0.0s\n",
      "[CV 4/5] END criterion=gini, max_depth=4, max_features=log2, n_estimators=9;, score=0.590 total time=   0.0s\n",
      "[CV 5/5] END criterion=gini, max_depth=4, max_features=log2, n_estimators=9;, score=0.595 total time=   0.0s\n",
      "[CV 1/5] END criterion=gini, max_depth=5, max_features=auto, n_estimators=5;, score=0.595 total time=   0.0s\n",
      "[CV 2/5] END criterion=gini, max_depth=5, max_features=auto, n_estimators=5;, score=0.610 total time=   0.0s\n",
      "[CV 3/5] END criterion=gini, max_depth=5, max_features=auto, n_estimators=5;, score=0.586 total time=   0.0s\n",
      "[CV 4/5] END criterion=gini, max_depth=5, max_features=auto, n_estimators=5;, score=0.586 total time=   0.0s\n",
      "[CV 5/5] END criterion=gini, max_depth=5, max_features=auto, n_estimators=5;, score=0.595 total time=   0.0s\n",
      "[CV 1/5] END criterion=gini, max_depth=5, max_features=auto, n_estimators=6;, score=0.586 total time=   0.0s\n",
      "[CV 2/5] END criterion=gini, max_depth=5, max_features=auto, n_estimators=6;, score=0.590 total time=   0.0s\n",
      "[CV 3/5] END criterion=gini, max_depth=5, max_features=auto, n_estimators=6;, score=0.586 total time=   0.0s\n",
      "[CV 4/5] END criterion=gini, max_depth=5, max_features=auto, n_estimators=6;, score=0.590 total time=   0.0s\n",
      "[CV 5/5] END criterion=gini, max_depth=5, max_features=auto, n_estimators=6;, score=0.590 total time=   0.0s\n",
      "[CV 1/5] END criterion=gini, max_depth=5, max_features=auto, n_estimators=7;, score=0.600 total time=   0.0s\n",
      "[CV 2/5] END criterion=gini, max_depth=5, max_features=auto, n_estimators=7;, score=0.600 total time=   0.0s\n",
      "[CV 3/5] END criterion=gini, max_depth=5, max_features=auto, n_estimators=7;, score=0.586 total time=   0.0s\n",
      "[CV 4/5] END criterion=gini, max_depth=5, max_features=auto, n_estimators=7;, score=0.586 total time=   0.0s\n",
      "[CV 5/5] END criterion=gini, max_depth=5, max_features=auto, n_estimators=7;, score=0.590 total time=   0.0s\n",
      "[CV 1/5] END criterion=gini, max_depth=5, max_features=auto, n_estimators=8;, score=0.600 total time=   0.0s\n",
      "[CV 2/5] END criterion=gini, max_depth=5, max_features=auto, n_estimators=8;, score=0.595 total time=   0.0s\n",
      "[CV 3/5] END criterion=gini, max_depth=5, max_features=auto, n_estimators=8;, score=0.576 total time=   0.0s\n",
      "[CV 4/5] END criterion=gini, max_depth=5, max_features=auto, n_estimators=8;, score=0.590 total time=   0.0s\n",
      "[CV 5/5] END criterion=gini, max_depth=5, max_features=auto, n_estimators=8;, score=0.600 total time=   0.0s\n",
      "[CV 1/5] END criterion=gini, max_depth=5, max_features=auto, n_estimators=9;, score=0.595 total time=   0.0s\n",
      "[CV 2/5] END criterion=gini, max_depth=5, max_features=auto, n_estimators=9;, score=0.595 total time=   0.0s\n",
      "[CV 3/5] END criterion=gini, max_depth=5, max_features=auto, n_estimators=9;, score=0.600 total time=   0.0s\n",
      "[CV 4/5] END criterion=gini, max_depth=5, max_features=auto, n_estimators=9;, score=0.586 total time=   0.0s\n",
      "[CV 5/5] END criterion=gini, max_depth=5, max_features=auto, n_estimators=9;, score=0.590 total time=   0.0s\n",
      "[CV 1/5] END criterion=gini, max_depth=5, max_features=sqrt, n_estimators=5;, score=0.595 total time=   0.0s\n",
      "[CV 2/5] END criterion=gini, max_depth=5, max_features=sqrt, n_estimators=5;, score=0.624 total time=   0.0s\n",
      "[CV 3/5] END criterion=gini, max_depth=5, max_features=sqrt, n_estimators=5;, score=0.600 total time=   0.0s\n",
      "[CV 4/5] END criterion=gini, max_depth=5, max_features=sqrt, n_estimators=5;, score=0.610 total time=   0.0s\n",
      "[CV 5/5] END criterion=gini, max_depth=5, max_features=sqrt, n_estimators=5;, score=0.576 total time=   0.0s\n",
      "[CV 1/5] END criterion=gini, max_depth=5, max_features=sqrt, n_estimators=6;, score=0.600 total time=   0.0s\n",
      "[CV 2/5] END criterion=gini, max_depth=5, max_features=sqrt, n_estimators=6;, score=0.600 total time=   0.0s\n",
      "[CV 3/5] END criterion=gini, max_depth=5, max_features=sqrt, n_estimators=6;, score=0.595 total time=   0.0s\n",
      "[CV 4/5] END criterion=gini, max_depth=5, max_features=sqrt, n_estimators=6;, score=0.595 total time=   0.0s\n",
      "[CV 5/5] END criterion=gini, max_depth=5, max_features=sqrt, n_estimators=6;, score=0.600 total time=   0.0s\n",
      "[CV 1/5] END criterion=gini, max_depth=5, max_features=sqrt, n_estimators=7;, score=0.600 total time=   0.0s\n",
      "[CV 2/5] END criterion=gini, max_depth=5, max_features=sqrt, n_estimators=7;, score=0.595 total time=   0.0s\n",
      "[CV 3/5] END criterion=gini, max_depth=5, max_features=sqrt, n_estimators=7;, score=0.595 total time=   0.0s\n",
      "[CV 4/5] END criterion=gini, max_depth=5, max_features=sqrt, n_estimators=7;, score=0.590 total time=   0.0s\n",
      "[CV 5/5] END criterion=gini, max_depth=5, max_features=sqrt, n_estimators=7;, score=0.590 total time=   0.0s\n",
      "[CV 1/5] END criterion=gini, max_depth=5, max_features=sqrt, n_estimators=8;, score=0.590 total time=   0.0s\n",
      "[CV 2/5] END criterion=gini, max_depth=5, max_features=sqrt, n_estimators=8;, score=0.600 total time=   0.0s\n",
      "[CV 3/5] END criterion=gini, max_depth=5, max_features=sqrt, n_estimators=8;, score=0.590 total time=   0.0s\n",
      "[CV 4/5] END criterion=gini, max_depth=5, max_features=sqrt, n_estimators=8;, score=0.581 total time=   0.0s\n",
      "[CV 5/5] END criterion=gini, max_depth=5, max_features=sqrt, n_estimators=8;, score=0.600 total time=   0.0s\n",
      "[CV 1/5] END criterion=gini, max_depth=5, max_features=sqrt, n_estimators=9;, score=0.595 total time=   0.0s\n",
      "[CV 2/5] END criterion=gini, max_depth=5, max_features=sqrt, n_estimators=9;, score=0.586 total time=   0.0s\n"
     ]
    },
    {
     "name": "stdout",
     "output_type": "stream",
     "text": [
      "[CV 3/5] END criterion=gini, max_depth=5, max_features=sqrt, n_estimators=9;, score=0.586 total time=   0.0s\n",
      "[CV 4/5] END criterion=gini, max_depth=5, max_features=sqrt, n_estimators=9;, score=0.595 total time=   0.0s\n",
      "[CV 5/5] END criterion=gini, max_depth=5, max_features=sqrt, n_estimators=9;, score=0.590 total time=   0.0s\n",
      "[CV 1/5] END criterion=gini, max_depth=5, max_features=log2, n_estimators=5;, score=0.614 total time=   0.0s\n",
      "[CV 2/5] END criterion=gini, max_depth=5, max_features=log2, n_estimators=5;, score=0.610 total time=   0.0s\n",
      "[CV 3/5] END criterion=gini, max_depth=5, max_features=log2, n_estimators=5;, score=0.562 total time=   0.0s\n",
      "[CV 4/5] END criterion=gini, max_depth=5, max_features=log2, n_estimators=5;, score=0.600 total time=   0.0s\n",
      "[CV 5/5] END criterion=gini, max_depth=5, max_features=log2, n_estimators=5;, score=0.581 total time=   0.0s\n",
      "[CV 1/5] END criterion=gini, max_depth=5, max_features=log2, n_estimators=6;, score=0.595 total time=   0.0s\n",
      "[CV 2/5] END criterion=gini, max_depth=5, max_features=log2, n_estimators=6;, score=0.605 total time=   0.0s\n",
      "[CV 3/5] END criterion=gini, max_depth=5, max_features=log2, n_estimators=6;, score=0.571 total time=   0.0s\n",
      "[CV 4/5] END criterion=gini, max_depth=5, max_features=log2, n_estimators=6;, score=0.581 total time=   0.0s\n",
      "[CV 5/5] END criterion=gini, max_depth=5, max_features=log2, n_estimators=6;, score=0.586 total time=   0.0s\n",
      "[CV 1/5] END criterion=gini, max_depth=5, max_features=log2, n_estimators=7;, score=0.600 total time=   0.0s\n",
      "[CV 2/5] END criterion=gini, max_depth=5, max_features=log2, n_estimators=7;, score=0.610 total time=   0.0s\n",
      "[CV 3/5] END criterion=gini, max_depth=5, max_features=log2, n_estimators=7;, score=0.590 total time=   0.0s\n",
      "[CV 4/5] END criterion=gini, max_depth=5, max_features=log2, n_estimators=7;, score=0.586 total time=   0.0s\n",
      "[CV 5/5] END criterion=gini, max_depth=5, max_features=log2, n_estimators=7;, score=0.590 total time=   0.0s\n",
      "[CV 1/5] END criterion=gini, max_depth=5, max_features=log2, n_estimators=8;, score=0.600 total time=   0.0s\n",
      "[CV 2/5] END criterion=gini, max_depth=5, max_features=log2, n_estimators=8;, score=0.605 total time=   0.0s\n",
      "[CV 3/5] END criterion=gini, max_depth=5, max_features=log2, n_estimators=8;, score=0.590 total time=   0.0s\n",
      "[CV 4/5] END criterion=gini, max_depth=5, max_features=log2, n_estimators=8;, score=0.595 total time=   0.0s\n",
      "[CV 5/5] END criterion=gini, max_depth=5, max_features=log2, n_estimators=8;, score=0.600 total time=   0.0s\n",
      "[CV 1/5] END criterion=gini, max_depth=5, max_features=log2, n_estimators=9;, score=0.595 total time=   0.0s\n",
      "[CV 2/5] END criterion=gini, max_depth=5, max_features=log2, n_estimators=9;, score=0.600 total time=   0.0s\n",
      "[CV 3/5] END criterion=gini, max_depth=5, max_features=log2, n_estimators=9;, score=0.586 total time=   0.0s\n",
      "[CV 4/5] END criterion=gini, max_depth=5, max_features=log2, n_estimators=9;, score=0.595 total time=   0.0s\n",
      "[CV 5/5] END criterion=gini, max_depth=5, max_features=log2, n_estimators=9;, score=0.595 total time=   0.0s\n",
      "[CV 1/5] END criterion=entropy, max_depth=2, max_features=auto, n_estimators=5;, score=0.595 total time=   0.0s\n",
      "[CV 2/5] END criterion=entropy, max_depth=2, max_features=auto, n_estimators=5;, score=0.595 total time=   0.0s\n",
      "[CV 3/5] END criterion=entropy, max_depth=2, max_features=auto, n_estimators=5;, score=0.590 total time=   0.0s\n",
      "[CV 4/5] END criterion=entropy, max_depth=2, max_features=auto, n_estimators=5;, score=0.590 total time=   0.0s\n",
      "[CV 5/5] END criterion=entropy, max_depth=2, max_features=auto, n_estimators=5;, score=0.590 total time=   0.0s\n",
      "[CV 1/5] END criterion=entropy, max_depth=2, max_features=auto, n_estimators=6;, score=0.595 total time=   0.0s\n",
      "[CV 2/5] END criterion=entropy, max_depth=2, max_features=auto, n_estimators=6;, score=0.595 total time=   0.0s\n",
      "[CV 3/5] END criterion=entropy, max_depth=2, max_features=auto, n_estimators=6;, score=0.590 total time=   0.0s\n",
      "[CV 4/5] END criterion=entropy, max_depth=2, max_features=auto, n_estimators=6;, score=0.590 total time=   0.0s\n",
      "[CV 5/5] END criterion=entropy, max_depth=2, max_features=auto, n_estimators=6;, score=0.590 total time=   0.0s\n",
      "[CV 1/5] END criterion=entropy, max_depth=2, max_features=auto, n_estimators=7;, score=0.595 total time=   0.0s\n",
      "[CV 2/5] END criterion=entropy, max_depth=2, max_features=auto, n_estimators=7;, score=0.595 total time=   0.0s\n",
      "[CV 3/5] END criterion=entropy, max_depth=2, max_features=auto, n_estimators=7;, score=0.590 total time=   0.0s\n",
      "[CV 4/5] END criterion=entropy, max_depth=2, max_features=auto, n_estimators=7;, score=0.590 total time=   0.0s\n",
      "[CV 5/5] END criterion=entropy, max_depth=2, max_features=auto, n_estimators=7;, score=0.590 total time=   0.0s\n",
      "[CV 1/5] END criterion=entropy, max_depth=2, max_features=auto, n_estimators=8;, score=0.595 total time=   0.0s\n",
      "[CV 2/5] END criterion=entropy, max_depth=2, max_features=auto, n_estimators=8;, score=0.595 total time=   0.0s\n",
      "[CV 3/5] END criterion=entropy, max_depth=2, max_features=auto, n_estimators=8;, score=0.590 total time=   0.0s\n",
      "[CV 4/5] END criterion=entropy, max_depth=2, max_features=auto, n_estimators=8;, score=0.590 total time=   0.0s\n",
      "[CV 5/5] END criterion=entropy, max_depth=2, max_features=auto, n_estimators=8;, score=0.590 total time=   0.0s\n",
      "[CV 1/5] END criterion=entropy, max_depth=2, max_features=auto, n_estimators=9;, score=0.595 total time=   0.0s\n",
      "[CV 2/5] END criterion=entropy, max_depth=2, max_features=auto, n_estimators=9;, score=0.595 total time=   0.0s\n",
      "[CV 3/5] END criterion=entropy, max_depth=2, max_features=auto, n_estimators=9;, score=0.590 total time=   0.0s\n",
      "[CV 4/5] END criterion=entropy, max_depth=2, max_features=auto, n_estimators=9;, score=0.590 total time=   0.0s\n",
      "[CV 5/5] END criterion=entropy, max_depth=2, max_features=auto, n_estimators=9;, score=0.590 total time=   0.0s\n",
      "[CV 1/5] END criterion=entropy, max_depth=2, max_features=sqrt, n_estimators=5;, score=0.595 total time=   0.0s\n",
      "[CV 2/5] END criterion=entropy, max_depth=2, max_features=sqrt, n_estimators=5;, score=0.595 total time=   0.0s\n",
      "[CV 3/5] END criterion=entropy, max_depth=2, max_features=sqrt, n_estimators=5;, score=0.590 total time=   0.0s\n",
      "[CV 4/5] END criterion=entropy, max_depth=2, max_features=sqrt, n_estimators=5;, score=0.590 total time=   0.0s\n",
      "[CV 5/5] END criterion=entropy, max_depth=2, max_features=sqrt, n_estimators=5;, score=0.590 total time=   0.0s\n",
      "[CV 1/5] END criterion=entropy, max_depth=2, max_features=sqrt, n_estimators=6;, score=0.595 total time=   0.0s\n",
      "[CV 2/5] END criterion=entropy, max_depth=2, max_features=sqrt, n_estimators=6;, score=0.595 total time=   0.0s\n",
      "[CV 3/5] END criterion=entropy, max_depth=2, max_features=sqrt, n_estimators=6;, score=0.590 total time=   0.0s\n",
      "[CV 4/5] END criterion=entropy, max_depth=2, max_features=sqrt, n_estimators=6;, score=0.590 total time=   0.0s\n",
      "[CV 5/5] END criterion=entropy, max_depth=2, max_features=sqrt, n_estimators=6;, score=0.590 total time=   0.0s\n",
      "[CV 1/5] END criterion=entropy, max_depth=2, max_features=sqrt, n_estimators=7;, score=0.595 total time=   0.0s\n",
      "[CV 2/5] END criterion=entropy, max_depth=2, max_features=sqrt, n_estimators=7;, score=0.595 total time=   0.0s\n",
      "[CV 3/5] END criterion=entropy, max_depth=2, max_features=sqrt, n_estimators=7;, score=0.590 total time=   0.0s\n",
      "[CV 4/5] END criterion=entropy, max_depth=2, max_features=sqrt, n_estimators=7;, score=0.590 total time=   0.0s\n",
      "[CV 5/5] END criterion=entropy, max_depth=2, max_features=sqrt, n_estimators=7;, score=0.590 total time=   0.0s\n",
      "[CV 1/5] END criterion=entropy, max_depth=2, max_features=sqrt, n_estimators=8;, score=0.595 total time=   0.0s\n",
      "[CV 2/5] END criterion=entropy, max_depth=2, max_features=sqrt, n_estimators=8;, score=0.595 total time=   0.0s\n",
      "[CV 3/5] END criterion=entropy, max_depth=2, max_features=sqrt, n_estimators=8;, score=0.590 total time=   0.0s\n",
      "[CV 4/5] END criterion=entropy, max_depth=2, max_features=sqrt, n_estimators=8;, score=0.590 total time=   0.0s\n",
      "[CV 5/5] END criterion=entropy, max_depth=2, max_features=sqrt, n_estimators=8;, score=0.590 total time=   0.0s\n",
      "[CV 1/5] END criterion=entropy, max_depth=2, max_features=sqrt, n_estimators=9;, score=0.595 total time=   0.0s\n",
      "[CV 2/5] END criterion=entropy, max_depth=2, max_features=sqrt, n_estimators=9;, score=0.595 total time=   0.0s\n",
      "[CV 3/5] END criterion=entropy, max_depth=2, max_features=sqrt, n_estimators=9;, score=0.590 total time=   0.0s\n"
     ]
    },
    {
     "name": "stdout",
     "output_type": "stream",
     "text": [
      "[CV 4/5] END criterion=entropy, max_depth=2, max_features=sqrt, n_estimators=9;, score=0.590 total time=   0.0s\n",
      "[CV 5/5] END criterion=entropy, max_depth=2, max_features=sqrt, n_estimators=9;, score=0.590 total time=   0.0s\n",
      "[CV 1/5] END criterion=entropy, max_depth=2, max_features=log2, n_estimators=5;, score=0.595 total time=   0.0s\n",
      "[CV 2/5] END criterion=entropy, max_depth=2, max_features=log2, n_estimators=5;, score=0.595 total time=   0.0s\n",
      "[CV 3/5] END criterion=entropy, max_depth=2, max_features=log2, n_estimators=5;, score=0.590 total time=   0.0s\n",
      "[CV 4/5] END criterion=entropy, max_depth=2, max_features=log2, n_estimators=5;, score=0.590 total time=   0.0s\n",
      "[CV 5/5] END criterion=entropy, max_depth=2, max_features=log2, n_estimators=5;, score=0.590 total time=   0.0s\n",
      "[CV 1/5] END criterion=entropy, max_depth=2, max_features=log2, n_estimators=6;, score=0.595 total time=   0.0s\n",
      "[CV 2/5] END criterion=entropy, max_depth=2, max_features=log2, n_estimators=6;, score=0.595 total time=   0.0s\n",
      "[CV 3/5] END criterion=entropy, max_depth=2, max_features=log2, n_estimators=6;, score=0.590 total time=   0.0s\n",
      "[CV 4/5] END criterion=entropy, max_depth=2, max_features=log2, n_estimators=6;, score=0.590 total time=   0.0s\n",
      "[CV 5/5] END criterion=entropy, max_depth=2, max_features=log2, n_estimators=6;, score=0.590 total time=   0.0s\n",
      "[CV 1/5] END criterion=entropy, max_depth=2, max_features=log2, n_estimators=7;, score=0.595 total time=   0.0s\n",
      "[CV 2/5] END criterion=entropy, max_depth=2, max_features=log2, n_estimators=7;, score=0.595 total time=   0.0s\n",
      "[CV 3/5] END criterion=entropy, max_depth=2, max_features=log2, n_estimators=7;, score=0.590 total time=   0.0s\n",
      "[CV 4/5] END criterion=entropy, max_depth=2, max_features=log2, n_estimators=7;, score=0.590 total time=   0.0s\n",
      "[CV 5/5] END criterion=entropy, max_depth=2, max_features=log2, n_estimators=7;, score=0.590 total time=   0.0s\n",
      "[CV 1/5] END criterion=entropy, max_depth=2, max_features=log2, n_estimators=8;, score=0.595 total time=   0.0s\n",
      "[CV 2/5] END criterion=entropy, max_depth=2, max_features=log2, n_estimators=8;, score=0.595 total time=   0.0s\n",
      "[CV 3/5] END criterion=entropy, max_depth=2, max_features=log2, n_estimators=8;, score=0.590 total time=   0.0s\n",
      "[CV 4/5] END criterion=entropy, max_depth=2, max_features=log2, n_estimators=8;, score=0.590 total time=   0.0s\n",
      "[CV 5/5] END criterion=entropy, max_depth=2, max_features=log2, n_estimators=8;, score=0.590 total time=   0.0s\n",
      "[CV 1/5] END criterion=entropy, max_depth=2, max_features=log2, n_estimators=9;, score=0.595 total time=   0.0s\n",
      "[CV 2/5] END criterion=entropy, max_depth=2, max_features=log2, n_estimators=9;, score=0.595 total time=   0.0s\n",
      "[CV 3/5] END criterion=entropy, max_depth=2, max_features=log2, n_estimators=9;, score=0.590 total time=   0.0s\n",
      "[CV 4/5] END criterion=entropy, max_depth=2, max_features=log2, n_estimators=9;, score=0.590 total time=   0.0s\n",
      "[CV 5/5] END criterion=entropy, max_depth=2, max_features=log2, n_estimators=9;, score=0.590 total time=   0.0s\n",
      "[CV 1/5] END criterion=entropy, max_depth=3, max_features=auto, n_estimators=5;, score=0.595 total time=   0.0s\n",
      "[CV 2/5] END criterion=entropy, max_depth=3, max_features=auto, n_estimators=5;, score=0.595 total time=   0.0s\n",
      "[CV 3/5] END criterion=entropy, max_depth=3, max_features=auto, n_estimators=5;, score=0.590 total time=   0.0s\n",
      "[CV 4/5] END criterion=entropy, max_depth=3, max_features=auto, n_estimators=5;, score=0.590 total time=   0.0s\n",
      "[CV 5/5] END criterion=entropy, max_depth=3, max_features=auto, n_estimators=5;, score=0.590 total time=   0.0s\n",
      "[CV 1/5] END criterion=entropy, max_depth=3, max_features=auto, n_estimators=6;, score=0.595 total time=   0.0s\n",
      "[CV 2/5] END criterion=entropy, max_depth=3, max_features=auto, n_estimators=6;, score=0.595 total time=   0.0s\n",
      "[CV 3/5] END criterion=entropy, max_depth=3, max_features=auto, n_estimators=6;, score=0.590 total time=   0.0s\n",
      "[CV 4/5] END criterion=entropy, max_depth=3, max_features=auto, n_estimators=6;, score=0.590 total time=   0.0s\n",
      "[CV 5/5] END criterion=entropy, max_depth=3, max_features=auto, n_estimators=6;, score=0.590 total time=   0.0s\n",
      "[CV 1/5] END criterion=entropy, max_depth=3, max_features=auto, n_estimators=7;, score=0.595 total time=   0.0s\n",
      "[CV 2/5] END criterion=entropy, max_depth=3, max_features=auto, n_estimators=7;, score=0.595 total time=   0.0s\n",
      "[CV 3/5] END criterion=entropy, max_depth=3, max_features=auto, n_estimators=7;, score=0.590 total time=   0.0s\n",
      "[CV 4/5] END criterion=entropy, max_depth=3, max_features=auto, n_estimators=7;, score=0.590 total time=   0.0s\n",
      "[CV 5/5] END criterion=entropy, max_depth=3, max_features=auto, n_estimators=7;, score=0.590 total time=   0.0s\n",
      "[CV 1/5] END criterion=entropy, max_depth=3, max_features=auto, n_estimators=8;, score=0.595 total time=   0.0s\n",
      "[CV 2/5] END criterion=entropy, max_depth=3, max_features=auto, n_estimators=8;, score=0.595 total time=   0.0s\n",
      "[CV 3/5] END criterion=entropy, max_depth=3, max_features=auto, n_estimators=8;, score=0.590 total time=   0.0s\n",
      "[CV 4/5] END criterion=entropy, max_depth=3, max_features=auto, n_estimators=8;, score=0.590 total time=   0.0s\n",
      "[CV 5/5] END criterion=entropy, max_depth=3, max_features=auto, n_estimators=8;, score=0.590 total time=   0.0s\n",
      "[CV 1/5] END criterion=entropy, max_depth=3, max_features=auto, n_estimators=9;, score=0.595 total time=   0.0s\n",
      "[CV 2/5] END criterion=entropy, max_depth=3, max_features=auto, n_estimators=9;, score=0.595 total time=   0.0s\n",
      "[CV 3/5] END criterion=entropy, max_depth=3, max_features=auto, n_estimators=9;, score=0.590 total time=   0.0s\n",
      "[CV 4/5] END criterion=entropy, max_depth=3, max_features=auto, n_estimators=9;, score=0.590 total time=   0.0s\n",
      "[CV 5/5] END criterion=entropy, max_depth=3, max_features=auto, n_estimators=9;, score=0.590 total time=   0.0s\n",
      "[CV 1/5] END criterion=entropy, max_depth=3, max_features=sqrt, n_estimators=5;, score=0.595 total time=   0.0s\n",
      "[CV 2/5] END criterion=entropy, max_depth=3, max_features=sqrt, n_estimators=5;, score=0.595 total time=   0.0s\n",
      "[CV 3/5] END criterion=entropy, max_depth=3, max_features=sqrt, n_estimators=5;, score=0.590 total time=   0.0s\n",
      "[CV 4/5] END criterion=entropy, max_depth=3, max_features=sqrt, n_estimators=5;, score=0.590 total time=   0.0s\n",
      "[CV 5/5] END criterion=entropy, max_depth=3, max_features=sqrt, n_estimators=5;, score=0.595 total time=   0.0s\n",
      "[CV 1/5] END criterion=entropy, max_depth=3, max_features=sqrt, n_estimators=6;, score=0.595 total time=   0.0s\n",
      "[CV 2/5] END criterion=entropy, max_depth=3, max_features=sqrt, n_estimators=6;, score=0.595 total time=   0.0s\n",
      "[CV 3/5] END criterion=entropy, max_depth=3, max_features=sqrt, n_estimators=6;, score=0.590 total time=   0.0s\n",
      "[CV 4/5] END criterion=entropy, max_depth=3, max_features=sqrt, n_estimators=6;, score=0.590 total time=   0.0s\n",
      "[CV 5/5] END criterion=entropy, max_depth=3, max_features=sqrt, n_estimators=6;, score=0.590 total time=   0.0s\n",
      "[CV 1/5] END criterion=entropy, max_depth=3, max_features=sqrt, n_estimators=7;, score=0.595 total time=   0.0s\n",
      "[CV 2/5] END criterion=entropy, max_depth=3, max_features=sqrt, n_estimators=7;, score=0.595 total time=   0.0s\n",
      "[CV 3/5] END criterion=entropy, max_depth=3, max_features=sqrt, n_estimators=7;, score=0.590 total time=   0.0s\n",
      "[CV 4/5] END criterion=entropy, max_depth=3, max_features=sqrt, n_estimators=7;, score=0.590 total time=   0.0s\n",
      "[CV 5/5] END criterion=entropy, max_depth=3, max_features=sqrt, n_estimators=7;, score=0.590 total time=   0.0s\n",
      "[CV 1/5] END criterion=entropy, max_depth=3, max_features=sqrt, n_estimators=8;, score=0.595 total time=   0.0s\n",
      "[CV 2/5] END criterion=entropy, max_depth=3, max_features=sqrt, n_estimators=8;, score=0.595 total time=   0.0s\n",
      "[CV 3/5] END criterion=entropy, max_depth=3, max_features=sqrt, n_estimators=8;, score=0.590 total time=   0.0s\n",
      "[CV 4/5] END criterion=entropy, max_depth=3, max_features=sqrt, n_estimators=8;, score=0.590 total time=   0.0s\n",
      "[CV 5/5] END criterion=entropy, max_depth=3, max_features=sqrt, n_estimators=8;, score=0.590 total time=   0.0s\n",
      "[CV 1/5] END criterion=entropy, max_depth=3, max_features=sqrt, n_estimators=9;, score=0.595 total time=   0.0s\n",
      "[CV 2/5] END criterion=entropy, max_depth=3, max_features=sqrt, n_estimators=9;, score=0.595 total time=   0.0s\n",
      "[CV 3/5] END criterion=entropy, max_depth=3, max_features=sqrt, n_estimators=9;, score=0.590 total time=   0.0s\n",
      "[CV 4/5] END criterion=entropy, max_depth=3, max_features=sqrt, n_estimators=9;, score=0.590 total time=   0.0s\n",
      "[CV 5/5] END criterion=entropy, max_depth=3, max_features=sqrt, n_estimators=9;, score=0.590 total time=   0.0s\n"
     ]
    },
    {
     "name": "stdout",
     "output_type": "stream",
     "text": [
      "[CV 1/5] END criterion=entropy, max_depth=3, max_features=log2, n_estimators=5;, score=0.595 total time=   0.0s\n",
      "[CV 2/5] END criterion=entropy, max_depth=3, max_features=log2, n_estimators=5;, score=0.595 total time=   0.0s\n",
      "[CV 3/5] END criterion=entropy, max_depth=3, max_features=log2, n_estimators=5;, score=0.590 total time=   0.0s\n",
      "[CV 4/5] END criterion=entropy, max_depth=3, max_features=log2, n_estimators=5;, score=0.590 total time=   0.0s\n",
      "[CV 5/5] END criterion=entropy, max_depth=3, max_features=log2, n_estimators=5;, score=0.590 total time=   0.0s\n",
      "[CV 1/5] END criterion=entropy, max_depth=3, max_features=log2, n_estimators=6;, score=0.595 total time=   0.0s\n",
      "[CV 2/5] END criterion=entropy, max_depth=3, max_features=log2, n_estimators=6;, score=0.595 total time=   0.0s\n",
      "[CV 3/5] END criterion=entropy, max_depth=3, max_features=log2, n_estimators=6;, score=0.590 total time=   0.0s\n",
      "[CV 4/5] END criterion=entropy, max_depth=3, max_features=log2, n_estimators=6;, score=0.590 total time=   0.0s\n",
      "[CV 5/5] END criterion=entropy, max_depth=3, max_features=log2, n_estimators=6;, score=0.590 total time=   0.0s\n",
      "[CV 1/5] END criterion=entropy, max_depth=3, max_features=log2, n_estimators=7;, score=0.595 total time=   0.0s\n",
      "[CV 2/5] END criterion=entropy, max_depth=3, max_features=log2, n_estimators=7;, score=0.595 total time=   0.0s\n",
      "[CV 3/5] END criterion=entropy, max_depth=3, max_features=log2, n_estimators=7;, score=0.590 total time=   0.0s\n",
      "[CV 4/5] END criterion=entropy, max_depth=3, max_features=log2, n_estimators=7;, score=0.590 total time=   0.0s\n",
      "[CV 5/5] END criterion=entropy, max_depth=3, max_features=log2, n_estimators=7;, score=0.590 total time=   0.0s\n",
      "[CV 1/5] END criterion=entropy, max_depth=3, max_features=log2, n_estimators=8;, score=0.595 total time=   0.0s\n",
      "[CV 2/5] END criterion=entropy, max_depth=3, max_features=log2, n_estimators=8;, score=0.595 total time=   0.0s\n",
      "[CV 3/5] END criterion=entropy, max_depth=3, max_features=log2, n_estimators=8;, score=0.590 total time=   0.0s\n",
      "[CV 4/5] END criterion=entropy, max_depth=3, max_features=log2, n_estimators=8;, score=0.590 total time=   0.0s\n",
      "[CV 5/5] END criterion=entropy, max_depth=3, max_features=log2, n_estimators=8;, score=0.590 total time=   0.0s\n",
      "[CV 1/5] END criterion=entropy, max_depth=3, max_features=log2, n_estimators=9;, score=0.595 total time=   0.0s\n",
      "[CV 2/5] END criterion=entropy, max_depth=3, max_features=log2, n_estimators=9;, score=0.595 total time=   0.0s\n",
      "[CV 3/5] END criterion=entropy, max_depth=3, max_features=log2, n_estimators=9;, score=0.590 total time=   0.0s\n",
      "[CV 4/5] END criterion=entropy, max_depth=3, max_features=log2, n_estimators=9;, score=0.590 total time=   0.0s\n",
      "[CV 5/5] END criterion=entropy, max_depth=3, max_features=log2, n_estimators=9;, score=0.590 total time=   0.0s\n",
      "[CV 1/5] END criterion=entropy, max_depth=4, max_features=auto, n_estimators=5;, score=0.600 total time=   0.0s\n",
      "[CV 2/5] END criterion=entropy, max_depth=4, max_features=auto, n_estimators=5;, score=0.590 total time=   0.0s\n",
      "[CV 3/5] END criterion=entropy, max_depth=4, max_features=auto, n_estimators=5;, score=0.590 total time=   0.0s\n",
      "[CV 4/5] END criterion=entropy, max_depth=4, max_features=auto, n_estimators=5;, score=0.590 total time=   0.0s\n",
      "[CV 5/5] END criterion=entropy, max_depth=4, max_features=auto, n_estimators=5;, score=0.590 total time=   0.0s\n",
      "[CV 1/5] END criterion=entropy, max_depth=4, max_features=auto, n_estimators=6;, score=0.586 total time=   0.0s\n",
      "[CV 2/5] END criterion=entropy, max_depth=4, max_features=auto, n_estimators=6;, score=0.595 total time=   0.0s\n",
      "[CV 3/5] END criterion=entropy, max_depth=4, max_features=auto, n_estimators=6;, score=0.586 total time=   0.0s\n",
      "[CV 4/5] END criterion=entropy, max_depth=4, max_features=auto, n_estimators=6;, score=0.590 total time=   0.0s\n",
      "[CV 5/5] END criterion=entropy, max_depth=4, max_features=auto, n_estimators=6;, score=0.595 total time=   0.0s\n",
      "[CV 1/5] END criterion=entropy, max_depth=4, max_features=auto, n_estimators=7;, score=0.595 total time=   0.0s\n",
      "[CV 2/5] END criterion=entropy, max_depth=4, max_features=auto, n_estimators=7;, score=0.595 total time=   0.0s\n",
      "[CV 3/5] END criterion=entropy, max_depth=4, max_features=auto, n_estimators=7;, score=0.595 total time=   0.0s\n",
      "[CV 4/5] END criterion=entropy, max_depth=4, max_features=auto, n_estimators=7;, score=0.595 total time=   0.0s\n",
      "[CV 5/5] END criterion=entropy, max_depth=4, max_features=auto, n_estimators=7;, score=0.590 total time=   0.0s\n",
      "[CV 1/5] END criterion=entropy, max_depth=4, max_features=auto, n_estimators=8;, score=0.590 total time=   0.0s\n",
      "[CV 2/5] END criterion=entropy, max_depth=4, max_features=auto, n_estimators=8;, score=0.595 total time=   0.0s\n",
      "[CV 3/5] END criterion=entropy, max_depth=4, max_features=auto, n_estimators=8;, score=0.590 total time=   0.0s\n",
      "[CV 4/5] END criterion=entropy, max_depth=4, max_features=auto, n_estimators=8;, score=0.590 total time=   0.0s\n",
      "[CV 5/5] END criterion=entropy, max_depth=4, max_features=auto, n_estimators=8;, score=0.590 total time=   0.0s\n",
      "[CV 1/5] END criterion=entropy, max_depth=4, max_features=auto, n_estimators=9;, score=0.595 total time=   0.0s\n",
      "[CV 2/5] END criterion=entropy, max_depth=4, max_features=auto, n_estimators=9;, score=0.595 total time=   0.0s\n",
      "[CV 3/5] END criterion=entropy, max_depth=4, max_features=auto, n_estimators=9;, score=0.590 total time=   0.0s\n",
      "[CV 4/5] END criterion=entropy, max_depth=4, max_features=auto, n_estimators=9;, score=0.586 total time=   0.0s\n",
      "[CV 5/5] END criterion=entropy, max_depth=4, max_features=auto, n_estimators=9;, score=0.590 total time=   0.0s\n",
      "[CV 1/5] END criterion=entropy, max_depth=4, max_features=sqrt, n_estimators=5;, score=0.576 total time=   0.0s\n",
      "[CV 2/5] END criterion=entropy, max_depth=4, max_features=sqrt, n_estimators=5;, score=0.600 total time=   0.0s\n",
      "[CV 3/5] END criterion=entropy, max_depth=4, max_features=sqrt, n_estimators=5;, score=0.600 total time=   0.0s\n",
      "[CV 4/5] END criterion=entropy, max_depth=4, max_features=sqrt, n_estimators=5;, score=0.600 total time=   0.0s\n",
      "[CV 5/5] END criterion=entropy, max_depth=4, max_features=sqrt, n_estimators=5;, score=0.586 total time=   0.0s\n",
      "[CV 1/5] END criterion=entropy, max_depth=4, max_features=sqrt, n_estimators=6;, score=0.595 total time=   0.0s\n",
      "[CV 2/5] END criterion=entropy, max_depth=4, max_features=sqrt, n_estimators=6;, score=0.600 total time=   0.0s\n",
      "[CV 3/5] END criterion=entropy, max_depth=4, max_features=sqrt, n_estimators=6;, score=0.590 total time=   0.0s\n",
      "[CV 4/5] END criterion=entropy, max_depth=4, max_features=sqrt, n_estimators=6;, score=0.590 total time=   0.0s\n",
      "[CV 5/5] END criterion=entropy, max_depth=4, max_features=sqrt, n_estimators=6;, score=0.590 total time=   0.0s\n",
      "[CV 1/5] END criterion=entropy, max_depth=4, max_features=sqrt, n_estimators=7;, score=0.595 total time=   0.0s\n",
      "[CV 2/5] END criterion=entropy, max_depth=4, max_features=sqrt, n_estimators=7;, score=0.595 total time=   0.0s\n",
      "[CV 3/5] END criterion=entropy, max_depth=4, max_features=sqrt, n_estimators=7;, score=0.586 total time=   0.0s\n",
      "[CV 4/5] END criterion=entropy, max_depth=4, max_features=sqrt, n_estimators=7;, score=0.590 total time=   0.0s\n",
      "[CV 5/5] END criterion=entropy, max_depth=4, max_features=sqrt, n_estimators=7;, score=0.590 total time=   0.0s\n",
      "[CV 1/5] END criterion=entropy, max_depth=4, max_features=sqrt, n_estimators=8;, score=0.600 total time=   0.0s\n",
      "[CV 2/5] END criterion=entropy, max_depth=4, max_features=sqrt, n_estimators=8;, score=0.595 total time=   0.0s\n",
      "[CV 3/5] END criterion=entropy, max_depth=4, max_features=sqrt, n_estimators=8;, score=0.590 total time=   0.0s\n",
      "[CV 4/5] END criterion=entropy, max_depth=4, max_features=sqrt, n_estimators=8;, score=0.590 total time=   0.0s\n",
      "[CV 5/5] END criterion=entropy, max_depth=4, max_features=sqrt, n_estimators=8;, score=0.590 total time=   0.0s\n",
      "[CV 1/5] END criterion=entropy, max_depth=4, max_features=sqrt, n_estimators=9;, score=0.595 total time=   0.0s\n",
      "[CV 2/5] END criterion=entropy, max_depth=4, max_features=sqrt, n_estimators=9;, score=0.595 total time=   0.0s\n",
      "[CV 3/5] END criterion=entropy, max_depth=4, max_features=sqrt, n_estimators=9;, score=0.590 total time=   0.0s\n",
      "[CV 4/5] END criterion=entropy, max_depth=4, max_features=sqrt, n_estimators=9;, score=0.595 total time=   0.0s\n",
      "[CV 5/5] END criterion=entropy, max_depth=4, max_features=sqrt, n_estimators=9;, score=0.590 total time=   0.0s\n"
     ]
    },
    {
     "name": "stdout",
     "output_type": "stream",
     "text": [
      "[CV 1/5] END criterion=entropy, max_depth=4, max_features=log2, n_estimators=5;, score=0.595 total time=   0.0s\n",
      "[CV 2/5] END criterion=entropy, max_depth=4, max_features=log2, n_estimators=5;, score=0.595 total time=   0.0s\n",
      "[CV 3/5] END criterion=entropy, max_depth=4, max_features=log2, n_estimators=5;, score=0.590 total time=   0.0s\n",
      "[CV 4/5] END criterion=entropy, max_depth=4, max_features=log2, n_estimators=5;, score=0.590 total time=   0.0s\n",
      "[CV 5/5] END criterion=entropy, max_depth=4, max_features=log2, n_estimators=5;, score=0.590 total time=   0.0s\n",
      "[CV 1/5] END criterion=entropy, max_depth=4, max_features=log2, n_estimators=6;, score=0.595 total time=   0.0s\n",
      "[CV 2/5] END criterion=entropy, max_depth=4, max_features=log2, n_estimators=6;, score=0.595 total time=   0.0s\n",
      "[CV 3/5] END criterion=entropy, max_depth=4, max_features=log2, n_estimators=6;, score=0.590 total time=   0.0s\n",
      "[CV 4/5] END criterion=entropy, max_depth=4, max_features=log2, n_estimators=6;, score=0.590 total time=   0.0s\n",
      "[CV 5/5] END criterion=entropy, max_depth=4, max_features=log2, n_estimators=6;, score=0.600 total time=   0.0s\n",
      "[CV 1/5] END criterion=entropy, max_depth=4, max_features=log2, n_estimators=7;, score=0.595 total time=   0.0s\n",
      "[CV 2/5] END criterion=entropy, max_depth=4, max_features=log2, n_estimators=7;, score=0.590 total time=   0.0s\n",
      "[CV 3/5] END criterion=entropy, max_depth=4, max_features=log2, n_estimators=7;, score=0.590 total time=   0.0s\n",
      "[CV 4/5] END criterion=entropy, max_depth=4, max_features=log2, n_estimators=7;, score=0.590 total time=   0.0s\n",
      "[CV 5/5] END criterion=entropy, max_depth=4, max_features=log2, n_estimators=7;, score=0.590 total time=   0.0s\n",
      "[CV 1/5] END criterion=entropy, max_depth=4, max_features=log2, n_estimators=8;, score=0.595 total time=   0.0s\n",
      "[CV 2/5] END criterion=entropy, max_depth=4, max_features=log2, n_estimators=8;, score=0.595 total time=   0.0s\n",
      "[CV 3/5] END criterion=entropy, max_depth=4, max_features=log2, n_estimators=8;, score=0.590 total time=   0.0s\n",
      "[CV 4/5] END criterion=entropy, max_depth=4, max_features=log2, n_estimators=8;, score=0.590 total time=   0.0s\n",
      "[CV 5/5] END criterion=entropy, max_depth=4, max_features=log2, n_estimators=8;, score=0.590 total time=   0.0s\n",
      "[CV 1/5] END criterion=entropy, max_depth=4, max_features=log2, n_estimators=9;, score=0.595 total time=   0.0s\n",
      "[CV 2/5] END criterion=entropy, max_depth=4, max_features=log2, n_estimators=9;, score=0.595 total time=   0.0s\n",
      "[CV 3/5] END criterion=entropy, max_depth=4, max_features=log2, n_estimators=9;, score=0.595 total time=   0.0s\n",
      "[CV 4/5] END criterion=entropy, max_depth=4, max_features=log2, n_estimators=9;, score=0.590 total time=   0.0s\n",
      "[CV 5/5] END criterion=entropy, max_depth=4, max_features=log2, n_estimators=9;, score=0.590 total time=   0.0s\n",
      "[CV 1/5] END criterion=entropy, max_depth=5, max_features=auto, n_estimators=5;, score=0.610 total time=   0.0s\n",
      "[CV 2/5] END criterion=entropy, max_depth=5, max_features=auto, n_estimators=5;, score=0.600 total time=   0.0s\n",
      "[CV 3/5] END criterion=entropy, max_depth=5, max_features=auto, n_estimators=5;, score=0.600 total time=   0.0s\n",
      "[CV 4/5] END criterion=entropy, max_depth=5, max_features=auto, n_estimators=5;, score=0.581 total time=   0.0s\n",
      "[CV 5/5] END criterion=entropy, max_depth=5, max_features=auto, n_estimators=5;, score=0.590 total time=   0.0s\n",
      "[CV 1/5] END criterion=entropy, max_depth=5, max_features=auto, n_estimators=6;, score=0.600 total time=   0.0s\n",
      "[CV 2/5] END criterion=entropy, max_depth=5, max_features=auto, n_estimators=6;, score=0.605 total time=   0.0s\n",
      "[CV 3/5] END criterion=entropy, max_depth=5, max_features=auto, n_estimators=6;, score=0.600 total time=   0.0s\n",
      "[CV 4/5] END criterion=entropy, max_depth=5, max_features=auto, n_estimators=6;, score=0.586 total time=   0.0s\n",
      "[CV 5/5] END criterion=entropy, max_depth=5, max_features=auto, n_estimators=6;, score=0.590 total time=   0.0s\n",
      "[CV 1/5] END criterion=entropy, max_depth=5, max_features=auto, n_estimators=7;, score=0.595 total time=   0.0s\n",
      "[CV 2/5] END criterion=entropy, max_depth=5, max_features=auto, n_estimators=7;, score=0.595 total time=   0.0s\n",
      "[CV 3/5] END criterion=entropy, max_depth=5, max_features=auto, n_estimators=7;, score=0.605 total time=   0.0s\n",
      "[CV 4/5] END criterion=entropy, max_depth=5, max_features=auto, n_estimators=7;, score=0.586 total time=   0.0s\n",
      "[CV 5/5] END criterion=entropy, max_depth=5, max_features=auto, n_estimators=7;, score=0.600 total time=   0.0s\n",
      "[CV 1/5] END criterion=entropy, max_depth=5, max_features=auto, n_estimators=8;, score=0.581 total time=   0.0s\n",
      "[CV 2/5] END criterion=entropy, max_depth=5, max_features=auto, n_estimators=8;, score=0.605 total time=   0.0s\n",
      "[CV 3/5] END criterion=entropy, max_depth=5, max_features=auto, n_estimators=8;, score=0.595 total time=   0.0s\n",
      "[CV 4/5] END criterion=entropy, max_depth=5, max_features=auto, n_estimators=8;, score=0.595 total time=   0.0s\n",
      "[CV 5/5] END criterion=entropy, max_depth=5, max_features=auto, n_estimators=8;, score=0.581 total time=   0.0s\n",
      "[CV 1/5] END criterion=entropy, max_depth=5, max_features=auto, n_estimators=9;, score=0.595 total time=   0.0s\n",
      "[CV 2/5] END criterion=entropy, max_depth=5, max_features=auto, n_estimators=9;, score=0.595 total time=   0.0s\n",
      "[CV 3/5] END criterion=entropy, max_depth=5, max_features=auto, n_estimators=9;, score=0.581 total time=   0.0s\n",
      "[CV 4/5] END criterion=entropy, max_depth=5, max_features=auto, n_estimators=9;, score=0.590 total time=   0.0s\n",
      "[CV 5/5] END criterion=entropy, max_depth=5, max_features=auto, n_estimators=9;, score=0.590 total time=   0.0s\n",
      "[CV 1/5] END criterion=entropy, max_depth=5, max_features=sqrt, n_estimators=5;, score=0.600 total time=   0.0s\n",
      "[CV 2/5] END criterion=entropy, max_depth=5, max_features=sqrt, n_estimators=5;, score=0.590 total time=   0.0s\n",
      "[CV 3/5] END criterion=entropy, max_depth=5, max_features=sqrt, n_estimators=5;, score=0.595 total time=   0.0s\n",
      "[CV 4/5] END criterion=entropy, max_depth=5, max_features=sqrt, n_estimators=5;, score=0.595 total time=   0.0s\n",
      "[CV 5/5] END criterion=entropy, max_depth=5, max_features=sqrt, n_estimators=5;, score=0.590 total time=   0.0s\n",
      "[CV 1/5] END criterion=entropy, max_depth=5, max_features=sqrt, n_estimators=6;, score=0.595 total time=   0.0s\n",
      "[CV 2/5] END criterion=entropy, max_depth=5, max_features=sqrt, n_estimators=6;, score=0.600 total time=   0.0s\n",
      "[CV 3/5] END criterion=entropy, max_depth=5, max_features=sqrt, n_estimators=6;, score=0.590 total time=   0.0s\n",
      "[CV 4/5] END criterion=entropy, max_depth=5, max_features=sqrt, n_estimators=6;, score=0.590 total time=   0.0s\n",
      "[CV 5/5] END criterion=entropy, max_depth=5, max_features=sqrt, n_estimators=6;, score=0.605 total time=   0.0s\n",
      "[CV 1/5] END criterion=entropy, max_depth=5, max_features=sqrt, n_estimators=7;, score=0.595 total time=   0.0s\n",
      "[CV 2/5] END criterion=entropy, max_depth=5, max_features=sqrt, n_estimators=7;, score=0.600 total time=   0.0s\n",
      "[CV 3/5] END criterion=entropy, max_depth=5, max_features=sqrt, n_estimators=7;, score=0.581 total time=   0.0s\n",
      "[CV 4/5] END criterion=entropy, max_depth=5, max_features=sqrt, n_estimators=7;, score=0.590 total time=   0.0s\n",
      "[CV 5/5] END criterion=entropy, max_depth=5, max_features=sqrt, n_estimators=7;, score=0.595 total time=   0.0s\n",
      "[CV 1/5] END criterion=entropy, max_depth=5, max_features=sqrt, n_estimators=8;, score=0.595 total time=   0.0s\n",
      "[CV 2/5] END criterion=entropy, max_depth=5, max_features=sqrt, n_estimators=8;, score=0.595 total time=   0.0s\n",
      "[CV 3/5] END criterion=entropy, max_depth=5, max_features=sqrt, n_estimators=8;, score=0.595 total time=   0.0s\n",
      "[CV 4/5] END criterion=entropy, max_depth=5, max_features=sqrt, n_estimators=8;, score=0.586 total time=   0.0s\n",
      "[CV 5/5] END criterion=entropy, max_depth=5, max_features=sqrt, n_estimators=8;, score=0.590 total time=   0.0s\n",
      "[CV 1/5] END criterion=entropy, max_depth=5, max_features=sqrt, n_estimators=9;, score=0.595 total time=   0.0s\n",
      "[CV 2/5] END criterion=entropy, max_depth=5, max_features=sqrt, n_estimators=9;, score=0.595 total time=   0.0s\n",
      "[CV 3/5] END criterion=entropy, max_depth=5, max_features=sqrt, n_estimators=9;, score=0.590 total time=   0.0s\n",
      "[CV 4/5] END criterion=entropy, max_depth=5, max_features=sqrt, n_estimators=9;, score=0.586 total time=   0.0s\n",
      "[CV 5/5] END criterion=entropy, max_depth=5, max_features=sqrt, n_estimators=9;, score=0.600 total time=   0.0s\n"
     ]
    },
    {
     "name": "stdout",
     "output_type": "stream",
     "text": [
      "[CV 1/5] END criterion=entropy, max_depth=5, max_features=log2, n_estimators=5;, score=0.595 total time=   0.0s\n",
      "[CV 2/5] END criterion=entropy, max_depth=5, max_features=log2, n_estimators=5;, score=0.624 total time=   0.0s\n",
      "[CV 3/5] END criterion=entropy, max_depth=5, max_features=log2, n_estimators=5;, score=0.605 total time=   0.0s\n",
      "[CV 4/5] END criterion=entropy, max_depth=5, max_features=log2, n_estimators=5;, score=0.586 total time=   0.0s\n",
      "[CV 5/5] END criterion=entropy, max_depth=5, max_features=log2, n_estimators=5;, score=0.600 total time=   0.0s\n",
      "[CV 1/5] END criterion=entropy, max_depth=5, max_features=log2, n_estimators=6;, score=0.605 total time=   0.0s\n",
      "[CV 2/5] END criterion=entropy, max_depth=5, max_features=log2, n_estimators=6;, score=0.605 total time=   0.0s\n",
      "[CV 3/5] END criterion=entropy, max_depth=5, max_features=log2, n_estimators=6;, score=0.586 total time=   0.0s\n",
      "[CV 4/5] END criterion=entropy, max_depth=5, max_features=log2, n_estimators=6;, score=0.590 total time=   0.0s\n",
      "[CV 5/5] END criterion=entropy, max_depth=5, max_features=log2, n_estimators=6;, score=0.595 total time=   0.0s\n",
      "[CV 1/5] END criterion=entropy, max_depth=5, max_features=log2, n_estimators=7;, score=0.576 total time=   0.0s\n",
      "[CV 2/5] END criterion=entropy, max_depth=5, max_features=log2, n_estimators=7;, score=0.605 total time=   0.0s\n",
      "[CV 3/5] END criterion=entropy, max_depth=5, max_features=log2, n_estimators=7;, score=0.595 total time=   0.0s\n",
      "[CV 4/5] END criterion=entropy, max_depth=5, max_features=log2, n_estimators=7;, score=0.590 total time=   0.0s\n",
      "[CV 5/5] END criterion=entropy, max_depth=5, max_features=log2, n_estimators=7;, score=0.590 total time=   0.0s\n",
      "[CV 1/5] END criterion=entropy, max_depth=5, max_features=log2, n_estimators=8;, score=0.586 total time=   0.0s\n",
      "[CV 2/5] END criterion=entropy, max_depth=5, max_features=log2, n_estimators=8;, score=0.595 total time=   0.0s\n",
      "[CV 3/5] END criterion=entropy, max_depth=5, max_features=log2, n_estimators=8;, score=0.605 total time=   0.0s\n",
      "[CV 4/5] END criterion=entropy, max_depth=5, max_features=log2, n_estimators=8;, score=0.586 total time=   0.0s\n",
      "[CV 5/5] END criterion=entropy, max_depth=5, max_features=log2, n_estimators=8;, score=0.590 total time=   0.0s\n",
      "[CV 1/5] END criterion=entropy, max_depth=5, max_features=log2, n_estimators=9;, score=0.600 total time=   0.0s\n",
      "[CV 2/5] END criterion=entropy, max_depth=5, max_features=log2, n_estimators=9;, score=0.605 total time=   0.0s\n",
      "[CV 3/5] END criterion=entropy, max_depth=5, max_features=log2, n_estimators=9;, score=0.590 total time=   0.0s\n",
      "[CV 4/5] END criterion=entropy, max_depth=5, max_features=log2, n_estimators=9;, score=0.595 total time=   0.0s\n",
      "[CV 5/5] END criterion=entropy, max_depth=5, max_features=log2, n_estimators=9;, score=0.590 total time=   0.0s\n"
     ]
    },
    {
     "data": {
      "text/plain": [
       "GridSearchCV(estimator=ExtraTreesClassifier(),\n",
       "             param_grid={'criterion': ['gini', 'entropy'],\n",
       "                         'max_depth': [2, 3, 4, 5],\n",
       "                         'max_features': ['auto', 'sqrt', 'log2'],\n",
       "                         'n_estimators': [5, 6, 7, 8, 9]},\n",
       "             verbose=3)"
      ]
     },
     "execution_count": 42,
     "metadata": {},
     "output_type": "execute_result"
    }
   ],
   "source": [
    "grid.fit(x_train,y_train)"
   ]
  },
  {
   "cell_type": "code",
   "execution_count": 43,
   "metadata": {},
   "outputs": [
    {
     "data": {
      "text/plain": [
       "{'criterion': 'entropy',\n",
       " 'max_depth': 5,\n",
       " 'max_features': 'log2',\n",
       " 'n_estimators': 5}"
      ]
     },
     "execution_count": 43,
     "metadata": {},
     "output_type": "execute_result"
    }
   ],
   "source": [
    "grid.best_params_"
   ]
  },
  {
   "cell_type": "code",
   "execution_count": 44,
   "metadata": {},
   "outputs": [],
   "source": [
    "y_pred1=grid.predict(x_test)"
   ]
  },
  {
   "cell_type": "code",
   "execution_count": 45,
   "metadata": {},
   "outputs": [
    {
     "data": {
      "text/plain": [
       "0.5711111111111111"
      ]
     },
     "execution_count": 45,
     "metadata": {},
     "output_type": "execute_result"
    }
   ],
   "source": [
    "accuracy_score(y_test, y_pred1)"
   ]
  },
  {
   "cell_type": "markdown",
   "metadata": {},
   "source": [
    "## Convolutional Neural Networks"
   ]
  },
  {
   "cell_type": "code",
   "execution_count": 46,
   "metadata": {},
   "outputs": [
    {
     "name": "stdout",
     "output_type": "stream",
     "text": [
      "WARNING:tensorflow:From C:\\Users\\user\\anaconda3\\lib\\site-packages\\tensorflow\\python\\ops\\init_ops.py:1251: calling VarianceScaling.__init__ (from tensorflow.python.ops.init_ops) with dtype is deprecated and will be removed in a future version.\n",
      "Instructions for updating:\n",
      "Call initializer instance with the dtype argument instead of passing it to the constructor\n"
     ]
    }
   ],
   "source": [
    "model = Sequential([\n",
    "    Dense(10, activation='relu', input_shape=(10,)),\n",
    "    Dropout(0.25),\n",
    "    Dense(7, activation='relu'),\n",
    "    Dropout(0.25),\n",
    "    Dense(1, activation='sigmoid')])"
   ]
  },
  {
   "cell_type": "code",
   "execution_count": 47,
   "metadata": {},
   "outputs": [
    {
     "name": "stdout",
     "output_type": "stream",
     "text": [
      "WARNING:tensorflow:From C:\\Users\\user\\anaconda3\\lib\\site-packages\\tensorflow\\python\\ops\\nn_impl.py:180: add_dispatch_support.<locals>.wrapper (from tensorflow.python.ops.array_ops) is deprecated and will be removed in a future version.\n",
      "Instructions for updating:\n",
      "Use tf.where in 2.0, which has the same broadcast rule as np.where\n"
     ]
    }
   ],
   "source": [
    "model.compile(loss='binary_crossentropy',\n",
    "              optimizer='adam',\n",
    "              metrics=['accuracy'])"
   ]
  },
  {
   "cell_type": "code",
   "execution_count": 48,
   "metadata": {},
   "outputs": [
    {
     "data": {
      "text/plain": [
       "(1050,)"
      ]
     },
     "execution_count": 48,
     "metadata": {},
     "output_type": "execute_result"
    }
   ],
   "source": [
    "y_train.shape"
   ]
  },
  {
   "cell_type": "code",
   "execution_count": 49,
   "metadata": {},
   "outputs": [
    {
     "name": "stdout",
     "output_type": "stream",
     "text": [
      "Train on 1050 samples, validate on 450 samples\n",
      "Epoch 1/45\n",
      "1050/1050 - 0s - loss: 0.1976 - acc: 0.2724 - val_loss: 0.0129 - val_acc: 0.3133\n",
      "Epoch 2/45\n",
      "1050/1050 - 0s - loss: -6.2305e-02 - acc: 0.2924 - val_loss: -2.7692e-01 - val_acc: 0.3133\n",
      "Epoch 3/45\n",
      "1050/1050 - 0s - loss: -4.1060e-01 - acc: 0.2971 - val_loss: -6.0547e-01 - val_acc: 0.3133\n",
      "Epoch 4/45\n",
      "1050/1050 - 0s - loss: -7.2153e-01 - acc: 0.2981 - val_loss: -9.8931e-01 - val_acc: 0.3133\n",
      "Epoch 5/45\n",
      "1050/1050 - 0s - loss: -1.0992e+00 - acc: 0.3010 - val_loss: -1.4371e+00 - val_acc: 0.3133\n",
      "Epoch 6/45\n",
      "1050/1050 - 0s - loss: -1.6116e+00 - acc: 0.3010 - val_loss: -1.9914e+00 - val_acc: 0.3133\n",
      "Epoch 7/45\n",
      "1050/1050 - 0s - loss: -2.1245e+00 - acc: 0.3000 - val_loss: -2.6412e+00 - val_acc: 0.3133\n",
      "Epoch 8/45\n",
      "1050/1050 - 0s - loss: -2.9142e+00 - acc: 0.3000 - val_loss: -3.4930e+00 - val_acc: 0.3133\n",
      "Epoch 9/45\n",
      "1050/1050 - 0s - loss: -3.9044e+00 - acc: 0.3000 - val_loss: -4.5698e+00 - val_acc: 0.3133\n",
      "Epoch 10/45\n",
      "1050/1050 - 0s - loss: -5.2877e+00 - acc: 0.3000 - val_loss: -5.9709e+00 - val_acc: 0.3133\n",
      "Epoch 11/45\n",
      "1050/1050 - 0s - loss: -6.7043e+00 - acc: 0.3000 - val_loss: -7.7056e+00 - val_acc: 0.3133\n",
      "Epoch 12/45\n",
      "1050/1050 - 0s - loss: -8.6174e+00 - acc: 0.3000 - val_loss: -9.9151e+00 - val_acc: 0.3133\n",
      "Epoch 13/45\n",
      "1050/1050 - 0s - loss: -1.1161e+01 - acc: 0.3000 - val_loss: -1.2642e+01 - val_acc: 0.3133\n",
      "Epoch 14/45\n",
      "1050/1050 - 0s - loss: -1.3881e+01 - acc: 0.3000 - val_loss: -1.6033e+01 - val_acc: 0.3133\n",
      "Epoch 15/45\n",
      "1050/1050 - 0s - loss: -1.7760e+01 - acc: 0.3000 - val_loss: -2.0205e+01 - val_acc: 0.3133\n",
      "Epoch 16/45\n",
      "1050/1050 - 0s - loss: -2.2464e+01 - acc: 0.3000 - val_loss: -2.5214e+01 - val_acc: 0.3133\n",
      "Epoch 17/45\n",
      "1050/1050 - 0s - loss: -2.7843e+01 - acc: 0.3000 - val_loss: -3.1219e+01 - val_acc: 0.3133\n",
      "Epoch 18/45\n",
      "1050/1050 - 0s - loss: -3.3689e+01 - acc: 0.3000 - val_loss: -3.7992e+01 - val_acc: 0.3133\n",
      "Epoch 19/45\n",
      "1050/1050 - 0s - loss: -4.0241e+01 - acc: 0.3000 - val_loss: -4.5698e+01 - val_acc: 0.3133\n",
      "Epoch 20/45\n",
      "1050/1050 - 0s - loss: -4.7285e+01 - acc: 0.3000 - val_loss: -5.4438e+01 - val_acc: 0.3133\n",
      "Epoch 21/45\n",
      "1050/1050 - 0s - loss: -5.6505e+01 - acc: 0.3000 - val_loss: -6.4003e+01 - val_acc: 0.3133\n",
      "Epoch 22/45\n",
      "1050/1050 - 0s - loss: -6.8182e+01 - acc: 0.3000 - val_loss: -7.5149e+01 - val_acc: 0.3133\n",
      "Epoch 23/45\n",
      "1050/1050 - 0s - loss: -8.0628e+01 - acc: 0.3000 - val_loss: -8.7492e+01 - val_acc: 0.3133\n",
      "Epoch 24/45\n",
      "1050/1050 - 0s - loss: -9.1585e+01 - acc: 0.3000 - val_loss: -1.0087e+02 - val_acc: 0.3133\n",
      "Epoch 25/45\n",
      "1050/1050 - 0s - loss: -1.0847e+02 - acc: 0.3000 - val_loss: -1.1569e+02 - val_acc: 0.3133\n",
      "Epoch 26/45\n",
      "1050/1050 - 0s - loss: -1.1726e+02 - acc: 0.3000 - val_loss: -1.3118e+02 - val_acc: 0.3133\n",
      "Epoch 27/45\n",
      "1050/1050 - 0s - loss: -1.3529e+02 - acc: 0.3000 - val_loss: -1.4839e+02 - val_acc: 0.3133\n",
      "Epoch 28/45\n",
      "1050/1050 - 0s - loss: -1.5154e+02 - acc: 0.3000 - val_loss: -1.6644e+02 - val_acc: 0.3133\n",
      "Epoch 29/45\n",
      "1050/1050 - 0s - loss: -1.7591e+02 - acc: 0.3000 - val_loss: -1.8656e+02 - val_acc: 0.3133\n",
      "Epoch 30/45\n",
      "1050/1050 - 0s - loss: -1.8831e+02 - acc: 0.3000 - val_loss: -2.0743e+02 - val_acc: 0.3133\n",
      "Epoch 31/45\n",
      "1050/1050 - 0s - loss: -2.1474e+02 - acc: 0.3000 - val_loss: -2.3029e+02 - val_acc: 0.3133\n",
      "Epoch 32/45\n",
      "1050/1050 - 0s - loss: -2.2961e+02 - acc: 0.3000 - val_loss: -2.5416e+02 - val_acc: 0.3133\n",
      "Epoch 33/45\n",
      "1050/1050 - 0s - loss: -2.5581e+02 - acc: 0.3000 - val_loss: -2.7954e+02 - val_acc: 0.3133\n",
      "Epoch 34/45\n",
      "1050/1050 - 0s - loss: -2.9047e+02 - acc: 0.3000 - val_loss: -3.0671e+02 - val_acc: 0.3133\n",
      "Epoch 35/45\n",
      "1050/1050 - 0s - loss: -3.0578e+02 - acc: 0.3000 - val_loss: -3.3536e+02 - val_acc: 0.3133\n",
      "Epoch 36/45\n",
      "1050/1050 - 0s - loss: -3.4205e+02 - acc: 0.3000 - val_loss: -3.6548e+02 - val_acc: 0.3133\n",
      "Epoch 37/45\n",
      "1050/1050 - 0s - loss: -3.7988e+02 - acc: 0.3000 - val_loss: -3.9741e+02 - val_acc: 0.3133\n",
      "Epoch 38/45\n",
      "1050/1050 - 0s - loss: -4.0272e+02 - acc: 0.3000 - val_loss: -4.3232e+02 - val_acc: 0.3133\n",
      "Epoch 39/45\n",
      "1050/1050 - 0s - loss: -4.3891e+02 - acc: 0.3000 - val_loss: -4.6763e+02 - val_acc: 0.3133\n",
      "Epoch 40/45\n",
      "1050/1050 - 0s - loss: -4.6163e+02 - acc: 0.3000 - val_loss: -5.0333e+02 - val_acc: 0.3133\n",
      "Epoch 41/45\n",
      "1050/1050 - 0s - loss: -5.1215e+02 - acc: 0.3000 - val_loss: -5.4173e+02 - val_acc: 0.3133\n",
      "Epoch 42/45\n",
      "1050/1050 - 0s - loss: -5.2617e+02 - acc: 0.3000 - val_loss: -5.8060e+02 - val_acc: 0.3133\n",
      "Epoch 43/45\n",
      "1050/1050 - 0s - loss: -5.7355e+02 - acc: 0.3000 - val_loss: -6.2221e+02 - val_acc: 0.3133\n",
      "Epoch 44/45\n",
      "1050/1050 - 0s - loss: -6.2073e+02 - acc: 0.3000 - val_loss: -6.6555e+02 - val_acc: 0.3133\n",
      "Epoch 45/45\n",
      "1050/1050 - 0s - loss: -6.6348e+02 - acc: 0.3000 - val_loss: -7.1018e+02 - val_acc: 0.3133\n"
     ]
    }
   ],
   "source": [
    "history = model.fit(x_train, y_train,\n",
    "                    batch_size=32,\n",
    "                    epochs=45,\n",
    "                    verbose=2,\n",
    "                    validation_data=(x_test, y_test))"
   ]
  },
  {
   "cell_type": "code",
   "execution_count": 50,
   "metadata": {},
   "outputs": [],
   "source": [
    "ypred=model.predict(x_test)"
   ]
  },
  {
   "cell_type": "code",
   "execution_count": 51,
   "metadata": {},
   "outputs": [
    {
     "data": {
      "text/plain": [
       "[-710.1760318162707, 0.31333333]"
      ]
     },
     "execution_count": 51,
     "metadata": {},
     "output_type": "execute_result"
    }
   ],
   "source": [
    "model.evaluate(x_test, y_test, verbose=0)"
   ]
  },
  {
   "cell_type": "markdown",
   "metadata": {},
   "source": [
    "## Multi Layer Perceptron"
   ]
  },
  {
   "cell_type": "markdown",
   "metadata": {},
   "source": [
    "### Model 1"
   ]
  },
  {
   "cell_type": "code",
   "execution_count": 52,
   "metadata": {},
   "outputs": [
    {
     "data": {
      "text/plain": [
       "MLPClassifier(max_iter=500)"
      ]
     },
     "execution_count": 52,
     "metadata": {},
     "output_type": "execute_result"
    }
   ],
   "source": [
    "mlp=MLPClassifier(max_iter=500,activation='relu')\n",
    "mlp"
   ]
  },
  {
   "cell_type": "code",
   "execution_count": 53,
   "metadata": {},
   "outputs": [
    {
     "name": "stderr",
     "output_type": "stream",
     "text": [
      "C:\\Users\\user\\anaconda3\\lib\\site-packages\\sklearn\\neural_network\\_multilayer_perceptron.py:617: ConvergenceWarning: Stochastic Optimizer: Maximum iterations (500) reached and the optimization hasn't converged yet.\n",
      "  % self.max_iter, ConvergenceWarning)\n"
     ]
    },
    {
     "data": {
      "text/plain": [
       "MLPClassifier(max_iter=500)"
      ]
     },
     "execution_count": 53,
     "metadata": {},
     "output_type": "execute_result"
    }
   ],
   "source": [
    "mlp.fit(x_train,y_train)"
   ]
  },
  {
   "cell_type": "code",
   "execution_count": 54,
   "metadata": {},
   "outputs": [],
   "source": [
    "prediction=mlp.predict(x_test)"
   ]
  },
  {
   "cell_type": "code",
   "execution_count": 55,
   "metadata": {},
   "outputs": [
    {
     "data": {
      "text/plain": [
       "0.6688888888888889"
      ]
     },
     "execution_count": 55,
     "metadata": {},
     "output_type": "execute_result"
    }
   ],
   "source": [
    "accuracy_score(prediction,y_test)"
   ]
  },
  {
   "cell_type": "markdown",
   "metadata": {},
   "source": [
    "### Model 2"
   ]
  },
  {
   "cell_type": "code",
   "execution_count": 56,
   "metadata": {},
   "outputs": [],
   "source": [
    "param_grid={'activation':['identity', 'logistic', 'tanh', 'relu'],'max_iter':[300,400,500,600],'solver':['lbfgs', 'sgd', 'adam']}"
   ]
  },
  {
   "cell_type": "code",
   "execution_count": 57,
   "metadata": {},
   "outputs": [],
   "source": [
    "grid = GridSearchCV(MLPClassifier(),param_grid,refit=True,verbose=3)"
   ]
  },
  {
   "cell_type": "code",
   "execution_count": 58,
   "metadata": {},
   "outputs": [
    {
     "name": "stderr",
     "output_type": "stream",
     "text": [
      "C:\\Users\\user\\anaconda3\\lib\\site-packages\\sklearn\\model_selection\\_split.py:668: UserWarning: The least populated class in y has only 3 members, which is less than n_splits=5.\n",
      "  % (min_groups, self.n_splits)), UserWarning)\n"
     ]
    },
    {
     "name": "stdout",
     "output_type": "stream",
     "text": [
      "Fitting 5 folds for each of 48 candidates, totalling 240 fits\n",
      "[CV 1/5] END activation=identity, max_iter=300, solver=lbfgs;, score=0.624 total time=   0.0s\n",
      "[CV 2/5] END activation=identity, max_iter=300, solver=lbfgs;, score=0.629 total time=   0.0s\n",
      "[CV 3/5] END activation=identity, max_iter=300, solver=lbfgs;, score=0.581 total time=   0.1s\n",
      "[CV 4/5] END activation=identity, max_iter=300, solver=lbfgs;, score=0.590 total time=   0.0s\n",
      "[CV 5/5] END activation=identity, max_iter=300, solver=lbfgs;, score=0.619 total time=   0.0s\n"
     ]
    },
    {
     "name": "stderr",
     "output_type": "stream",
     "text": [
      "C:\\Users\\user\\anaconda3\\lib\\site-packages\\sklearn\\neural_network\\_multilayer_perceptron.py:617: ConvergenceWarning: Stochastic Optimizer: Maximum iterations (300) reached and the optimization hasn't converged yet.\n",
      "  % self.max_iter, ConvergenceWarning)\n"
     ]
    },
    {
     "name": "stdout",
     "output_type": "stream",
     "text": [
      "[CV 1/5] END activation=identity, max_iter=300, solver=sgd;, score=0.633 total time=   1.3s\n",
      "[CV 2/5] END activation=identity, max_iter=300, solver=sgd;, score=0.643 total time=   1.2s\n",
      "[CV 3/5] END activation=identity, max_iter=300, solver=sgd;, score=0.590 total time=   1.2s\n"
     ]
    },
    {
     "name": "stderr",
     "output_type": "stream",
     "text": [
      "C:\\Users\\user\\anaconda3\\lib\\site-packages\\sklearn\\neural_network\\_multilayer_perceptron.py:617: ConvergenceWarning: Stochastic Optimizer: Maximum iterations (300) reached and the optimization hasn't converged yet.\n",
      "  % self.max_iter, ConvergenceWarning)\n"
     ]
    },
    {
     "name": "stdout",
     "output_type": "stream",
     "text": [
      "[CV 4/5] END activation=identity, max_iter=300, solver=sgd;, score=0.586 total time=   1.2s\n"
     ]
    },
    {
     "name": "stderr",
     "output_type": "stream",
     "text": [
      "C:\\Users\\user\\anaconda3\\lib\\site-packages\\sklearn\\neural_network\\_multilayer_perceptron.py:617: ConvergenceWarning: Stochastic Optimizer: Maximum iterations (300) reached and the optimization hasn't converged yet.\n",
      "  % self.max_iter, ConvergenceWarning)\n"
     ]
    },
    {
     "name": "stdout",
     "output_type": "stream",
     "text": [
      "[CV 5/5] END activation=identity, max_iter=300, solver=sgd;, score=0.619 total time=   1.2s\n",
      "[CV 1/5] END activation=identity, max_iter=300, solver=adam;, score=0.624 total time=   0.4s\n",
      "[CV 2/5] END activation=identity, max_iter=300, solver=adam;, score=0.629 total time=   0.5s\n",
      "[CV 3/5] END activation=identity, max_iter=300, solver=adam;, score=0.595 total time=   0.5s\n",
      "[CV 4/5] END activation=identity, max_iter=300, solver=adam;, score=0.590 total time=   0.5s\n",
      "[CV 5/5] END activation=identity, max_iter=300, solver=adam;, score=0.614 total time=   0.4s\n",
      "[CV 1/5] END activation=identity, max_iter=400, solver=lbfgs;, score=0.624 total time=   0.0s\n",
      "[CV 2/5] END activation=identity, max_iter=400, solver=lbfgs;, score=0.629 total time=   0.0s\n",
      "[CV 3/5] END activation=identity, max_iter=400, solver=lbfgs;, score=0.586 total time=   0.1s\n",
      "[CV 4/5] END activation=identity, max_iter=400, solver=lbfgs;, score=0.590 total time=   0.0s\n",
      "[CV 5/5] END activation=identity, max_iter=400, solver=lbfgs;, score=0.619 total time=   0.0s\n",
      "[CV 1/5] END activation=identity, max_iter=400, solver=sgd;, score=0.638 total time=   1.1s\n",
      "[CV 2/5] END activation=identity, max_iter=400, solver=sgd;, score=0.638 total time=   1.3s\n",
      "[CV 3/5] END activation=identity, max_iter=400, solver=sgd;, score=0.590 total time=   1.3s\n",
      "[CV 4/5] END activation=identity, max_iter=400, solver=sgd;, score=0.586 total time=   1.2s\n",
      "[CV 5/5] END activation=identity, max_iter=400, solver=sgd;, score=0.619 total time=   1.3s\n",
      "[CV 1/5] END activation=identity, max_iter=400, solver=adam;, score=0.600 total time=   0.4s\n",
      "[CV 2/5] END activation=identity, max_iter=400, solver=adam;, score=0.629 total time=   0.5s\n",
      "[CV 3/5] END activation=identity, max_iter=400, solver=adam;, score=0.590 total time=   0.5s\n",
      "[CV 4/5] END activation=identity, max_iter=400, solver=adam;, score=0.595 total time=   0.6s\n",
      "[CV 5/5] END activation=identity, max_iter=400, solver=adam;, score=0.619 total time=   0.5s\n",
      "[CV 1/5] END activation=identity, max_iter=500, solver=lbfgs;, score=0.624 total time=   0.0s\n",
      "[CV 2/5] END activation=identity, max_iter=500, solver=lbfgs;, score=0.629 total time=   0.0s\n",
      "[CV 3/5] END activation=identity, max_iter=500, solver=lbfgs;, score=0.586 total time=   0.1s\n",
      "[CV 4/5] END activation=identity, max_iter=500, solver=lbfgs;, score=0.590 total time=   0.0s\n",
      "[CV 5/5] END activation=identity, max_iter=500, solver=lbfgs;, score=0.619 total time=   0.0s\n",
      "[CV 1/5] END activation=identity, max_iter=500, solver=sgd;, score=0.638 total time=   1.1s\n",
      "[CV 2/5] END activation=identity, max_iter=500, solver=sgd;, score=0.638 total time=   1.3s\n",
      "[CV 3/5] END activation=identity, max_iter=500, solver=sgd;, score=0.586 total time=   1.4s\n",
      "[CV 4/5] END activation=identity, max_iter=500, solver=sgd;, score=0.595 total time=   1.4s\n",
      "[CV 5/5] END activation=identity, max_iter=500, solver=sgd;, score=0.619 total time=   1.7s\n",
      "[CV 1/5] END activation=identity, max_iter=500, solver=adam;, score=0.614 total time=   0.6s\n",
      "[CV 2/5] END activation=identity, max_iter=500, solver=adam;, score=0.624 total time=   0.6s\n",
      "[CV 3/5] END activation=identity, max_iter=500, solver=adam;, score=0.571 total time=   0.9s\n",
      "[CV 4/5] END activation=identity, max_iter=500, solver=adam;, score=0.590 total time=   0.5s\n",
      "[CV 5/5] END activation=identity, max_iter=500, solver=adam;, score=0.619 total time=   0.6s\n",
      "[CV 1/5] END activation=identity, max_iter=600, solver=lbfgs;, score=0.624 total time=   0.0s\n",
      "[CV 2/5] END activation=identity, max_iter=600, solver=lbfgs;, score=0.629 total time=   0.0s\n",
      "[CV 3/5] END activation=identity, max_iter=600, solver=lbfgs;, score=0.581 total time=   0.1s\n",
      "[CV 4/5] END activation=identity, max_iter=600, solver=lbfgs;, score=0.590 total time=   0.0s\n",
      "[CV 5/5] END activation=identity, max_iter=600, solver=lbfgs;, score=0.619 total time=   0.0s\n",
      "[CV 1/5] END activation=identity, max_iter=600, solver=sgd;, score=0.643 total time=   1.4s\n",
      "[CV 2/5] END activation=identity, max_iter=600, solver=sgd;, score=0.638 total time=   1.4s\n",
      "[CV 3/5] END activation=identity, max_iter=600, solver=sgd;, score=0.586 total time=   1.3s\n",
      "[CV 4/5] END activation=identity, max_iter=600, solver=sgd;, score=0.586 total time=   1.4s\n",
      "[CV 5/5] END activation=identity, max_iter=600, solver=sgd;, score=0.619 total time=   1.5s\n",
      "[CV 1/5] END activation=identity, max_iter=600, solver=adam;, score=0.629 total time=   0.6s\n",
      "[CV 2/5] END activation=identity, max_iter=600, solver=adam;, score=0.629 total time=   0.4s\n",
      "[CV 3/5] END activation=identity, max_iter=600, solver=adam;, score=0.600 total time=   0.6s\n",
      "[CV 4/5] END activation=identity, max_iter=600, solver=adam;, score=0.586 total time=   0.5s\n",
      "[CV 5/5] END activation=identity, max_iter=600, solver=adam;, score=0.610 total time=   0.4s\n",
      "[CV 1/5] END activation=logistic, max_iter=300, solver=lbfgs;, score=0.610 total time=   0.8s\n",
      "[CV 2/5] END activation=logistic, max_iter=300, solver=lbfgs;, score=0.662 total time=   0.8s\n",
      "[CV 3/5] END activation=logistic, max_iter=300, solver=lbfgs;, score=0.657 total time=   0.8s\n",
      "[CV 4/5] END activation=logistic, max_iter=300, solver=lbfgs;, score=0.548 total time=   0.8s\n",
      "[CV 5/5] END activation=logistic, max_iter=300, solver=lbfgs;, score=0.581 total time=   0.8s\n"
     ]
    },
    {
     "name": "stderr",
     "output_type": "stream",
     "text": [
      "C:\\Users\\user\\anaconda3\\lib\\site-packages\\sklearn\\neural_network\\_multilayer_perceptron.py:617: ConvergenceWarning: Stochastic Optimizer: Maximum iterations (300) reached and the optimization hasn't converged yet.\n",
      "  % self.max_iter, ConvergenceWarning)\n"
     ]
    },
    {
     "name": "stdout",
     "output_type": "stream",
     "text": [
      "[CV 1/5] END activation=logistic, max_iter=300, solver=sgd;, score=0.595 total time=   1.9s\n",
      "[CV 2/5] END activation=logistic, max_iter=300, solver=sgd;, score=0.595 total time=   0.7s\n"
     ]
    },
    {
     "name": "stderr",
     "output_type": "stream",
     "text": [
      "C:\\Users\\user\\anaconda3\\lib\\site-packages\\sklearn\\neural_network\\_multilayer_perceptron.py:617: ConvergenceWarning: Stochastic Optimizer: Maximum iterations (300) reached and the optimization hasn't converged yet.\n",
      "  % self.max_iter, ConvergenceWarning)\n"
     ]
    },
    {
     "name": "stdout",
     "output_type": "stream",
     "text": [
      "[CV 3/5] END activation=logistic, max_iter=300, solver=sgd;, score=0.590 total time=   1.9s\n"
     ]
    },
    {
     "name": "stderr",
     "output_type": "stream",
     "text": [
      "C:\\Users\\user\\anaconda3\\lib\\site-packages\\sklearn\\neural_network\\_multilayer_perceptron.py:617: ConvergenceWarning: Stochastic Optimizer: Maximum iterations (300) reached and the optimization hasn't converged yet.\n",
      "  % self.max_iter, ConvergenceWarning)\n"
     ]
    },
    {
     "name": "stdout",
     "output_type": "stream",
     "text": [
      "[CV 4/5] END activation=logistic, max_iter=300, solver=sgd;, score=0.590 total time=   1.9s\n",
      "[CV 5/5] END activation=logistic, max_iter=300, solver=sgd;, score=0.590 total time=   0.9s\n",
      "[CV 1/5] END activation=logistic, max_iter=300, solver=adam;, score=0.614 total time=   1.5s\n",
      "[CV 2/5] END activation=logistic, max_iter=300, solver=adam;, score=0.633 total time=   0.9s\n",
      "[CV 3/5] END activation=logistic, max_iter=300, solver=adam;, score=0.586 total time=   1.2s\n",
      "[CV 4/5] END activation=logistic, max_iter=300, solver=adam;, score=0.595 total time=   1.2s\n",
      "[CV 5/5] END activation=logistic, max_iter=300, solver=adam;, score=0.610 total time=   1.3s\n",
      "[CV 1/5] END activation=logistic, max_iter=400, solver=lbfgs;, score=0.605 total time=   0.7s\n",
      "[CV 2/5] END activation=logistic, max_iter=400, solver=lbfgs;, score=0.662 total time=   0.7s\n",
      "[CV 3/5] END activation=logistic, max_iter=400, solver=lbfgs;, score=0.586 total time=   0.7s\n",
      "[CV 4/5] END activation=logistic, max_iter=400, solver=lbfgs;, score=0.595 total time=   0.8s\n",
      "[CV 5/5] END activation=logistic, max_iter=400, solver=lbfgs;, score=0.662 total time=   0.8s\n",
      "[CV 1/5] END activation=logistic, max_iter=400, solver=sgd;, score=0.595 total time=   0.9s\n",
      "[CV 2/5] END activation=logistic, max_iter=400, solver=sgd;, score=0.595 total time=   1.4s\n",
      "[CV 3/5] END activation=logistic, max_iter=400, solver=sgd;, score=0.590 total time=   1.7s\n"
     ]
    },
    {
     "name": "stderr",
     "output_type": "stream",
     "text": [
      "C:\\Users\\user\\anaconda3\\lib\\site-packages\\sklearn\\neural_network\\_multilayer_perceptron.py:617: ConvergenceWarning: Stochastic Optimizer: Maximum iterations (400) reached and the optimization hasn't converged yet.\n",
      "  % self.max_iter, ConvergenceWarning)\n"
     ]
    },
    {
     "name": "stdout",
     "output_type": "stream",
     "text": [
      "[CV 4/5] END activation=logistic, max_iter=400, solver=sgd;, score=0.590 total time=   2.6s\n",
      "[CV 5/5] END activation=logistic, max_iter=400, solver=sgd;, score=0.590 total time=   1.0s\n",
      "[CV 1/5] END activation=logistic, max_iter=400, solver=adam;, score=0.624 total time=   1.3s\n",
      "[CV 2/5] END activation=logistic, max_iter=400, solver=adam;, score=0.638 total time=   1.1s\n",
      "[CV 3/5] END activation=logistic, max_iter=400, solver=adam;, score=0.586 total time=   1.3s\n",
      "[CV 4/5] END activation=logistic, max_iter=400, solver=adam;, score=0.590 total time=   1.2s\n",
      "[CV 5/5] END activation=logistic, max_iter=400, solver=adam;, score=0.610 total time=   1.1s\n",
      "[CV 1/5] END activation=logistic, max_iter=500, solver=lbfgs;, score=0.590 total time=   0.8s\n",
      "[CV 2/5] END activation=logistic, max_iter=500, solver=lbfgs;, score=0.629 total time=   0.8s\n",
      "[CV 3/5] END activation=logistic, max_iter=500, solver=lbfgs;, score=0.638 total time=   0.8s\n",
      "[CV 4/5] END activation=logistic, max_iter=500, solver=lbfgs;, score=0.586 total time=   0.8s\n",
      "[CV 5/5] END activation=logistic, max_iter=500, solver=lbfgs;, score=0.648 total time=   0.8s\n",
      "[CV 1/5] END activation=logistic, max_iter=500, solver=sgd;, score=0.595 total time=   1.5s\n"
     ]
    },
    {
     "name": "stderr",
     "output_type": "stream",
     "text": [
      "C:\\Users\\user\\anaconda3\\lib\\site-packages\\sklearn\\neural_network\\_multilayer_perceptron.py:617: ConvergenceWarning: Stochastic Optimizer: Maximum iterations (500) reached and the optimization hasn't converged yet.\n",
      "  % self.max_iter, ConvergenceWarning)\n"
     ]
    },
    {
     "name": "stdout",
     "output_type": "stream",
     "text": [
      "[CV 2/5] END activation=logistic, max_iter=500, solver=sgd;, score=0.595 total time=   3.6s\n",
      "[CV 3/5] END activation=logistic, max_iter=500, solver=sgd;, score=0.590 total time=   2.5s\n"
     ]
    },
    {
     "name": "stderr",
     "output_type": "stream",
     "text": [
      "C:\\Users\\user\\anaconda3\\lib\\site-packages\\sklearn\\neural_network\\_multilayer_perceptron.py:617: ConvergenceWarning: Stochastic Optimizer: Maximum iterations (500) reached and the optimization hasn't converged yet.\n",
      "  % self.max_iter, ConvergenceWarning)\n"
     ]
    },
    {
     "name": "stdout",
     "output_type": "stream",
     "text": [
      "[CV 4/5] END activation=logistic, max_iter=500, solver=sgd;, score=0.590 total time=   3.6s\n"
     ]
    },
    {
     "name": "stderr",
     "output_type": "stream",
     "text": [
      "C:\\Users\\user\\anaconda3\\lib\\site-packages\\sklearn\\neural_network\\_multilayer_perceptron.py:617: ConvergenceWarning: Stochastic Optimizer: Maximum iterations (500) reached and the optimization hasn't converged yet.\n",
      "  % self.max_iter, ConvergenceWarning)\n"
     ]
    },
    {
     "name": "stdout",
     "output_type": "stream",
     "text": [
      "[CV 5/5] END activation=logistic, max_iter=500, solver=sgd;, score=0.590 total time=   3.6s\n",
      "[CV 1/5] END activation=logistic, max_iter=500, solver=adam;, score=0.624 total time=   1.5s\n",
      "[CV 2/5] END activation=logistic, max_iter=500, solver=adam;, score=0.629 total time=   1.0s\n",
      "[CV 3/5] END activation=logistic, max_iter=500, solver=adam;, score=0.590 total time=   1.2s\n",
      "[CV 4/5] END activation=logistic, max_iter=500, solver=adam;, score=0.581 total time=   1.2s\n",
      "[CV 5/5] END activation=logistic, max_iter=500, solver=adam;, score=0.610 total time=   1.2s\n",
      "[CV 1/5] END activation=logistic, max_iter=600, solver=lbfgs;, score=0.614 total time=   0.7s\n",
      "[CV 2/5] END activation=logistic, max_iter=600, solver=lbfgs;, score=0.667 total time=   0.8s\n",
      "[CV 3/5] END activation=logistic, max_iter=600, solver=lbfgs;, score=0.581 total time=   0.7s\n",
      "[CV 4/5] END activation=logistic, max_iter=600, solver=lbfgs;, score=0.552 total time=   0.7s\n",
      "[CV 5/5] END activation=logistic, max_iter=600, solver=lbfgs;, score=0.600 total time=   0.7s\n",
      "[CV 1/5] END activation=logistic, max_iter=600, solver=sgd;, score=0.595 total time=   2.2s\n"
     ]
    },
    {
     "name": "stderr",
     "output_type": "stream",
     "text": [
      "C:\\Users\\user\\anaconda3\\lib\\site-packages\\sklearn\\neural_network\\_multilayer_perceptron.py:617: ConvergenceWarning: Stochastic Optimizer: Maximum iterations (600) reached and the optimization hasn't converged yet.\n",
      "  % self.max_iter, ConvergenceWarning)\n"
     ]
    },
    {
     "name": "stdout",
     "output_type": "stream",
     "text": [
      "[CV 2/5] END activation=logistic, max_iter=600, solver=sgd;, score=0.595 total time=   3.9s\n"
     ]
    },
    {
     "name": "stderr",
     "output_type": "stream",
     "text": [
      "C:\\Users\\user\\anaconda3\\lib\\site-packages\\sklearn\\neural_network\\_multilayer_perceptron.py:617: ConvergenceWarning: Stochastic Optimizer: Maximum iterations (600) reached and the optimization hasn't converged yet.\n",
      "  % self.max_iter, ConvergenceWarning)\n"
     ]
    },
    {
     "name": "stdout",
     "output_type": "stream",
     "text": [
      "[CV 3/5] END activation=logistic, max_iter=600, solver=sgd;, score=0.590 total time=   3.9s\n",
      "[CV 4/5] END activation=logistic, max_iter=600, solver=sgd;, score=0.590 total time=   2.1s\n",
      "[CV 5/5] END activation=logistic, max_iter=600, solver=sgd;, score=0.590 total time=   1.5s\n",
      "[CV 1/5] END activation=logistic, max_iter=600, solver=adam;, score=0.624 total time=   1.3s\n",
      "[CV 2/5] END activation=logistic, max_iter=600, solver=adam;, score=0.633 total time=   1.3s\n",
      "[CV 3/5] END activation=logistic, max_iter=600, solver=adam;, score=0.590 total time=   1.2s\n",
      "[CV 4/5] END activation=logistic, max_iter=600, solver=adam;, score=0.590 total time=   1.1s\n",
      "[CV 5/5] END activation=logistic, max_iter=600, solver=adam;, score=0.614 total time=   1.2s\n",
      "[CV 1/5] END activation=tanh, max_iter=300, solver=lbfgs;, score=0.581 total time=   0.4s\n",
      "[CV 2/5] END activation=tanh, max_iter=300, solver=lbfgs;, score=0.633 total time=   0.4s\n",
      "[CV 3/5] END activation=tanh, max_iter=300, solver=lbfgs;, score=0.610 total time=   0.4s\n",
      "[CV 4/5] END activation=tanh, max_iter=300, solver=lbfgs;, score=0.557 total time=   0.4s\n",
      "[CV 5/5] END activation=tanh, max_iter=300, solver=lbfgs;, score=0.643 total time=   0.4s\n"
     ]
    },
    {
     "name": "stderr",
     "output_type": "stream",
     "text": [
      "C:\\Users\\user\\anaconda3\\lib\\site-packages\\sklearn\\neural_network\\_multilayer_perceptron.py:617: ConvergenceWarning: Stochastic Optimizer: Maximum iterations (300) reached and the optimization hasn't converged yet.\n",
      "  % self.max_iter, ConvergenceWarning)\n"
     ]
    },
    {
     "name": "stdout",
     "output_type": "stream",
     "text": [
      "[CV 1/5] END activation=tanh, max_iter=300, solver=sgd;, score=0.633 total time=   1.9s\n"
     ]
    },
    {
     "name": "stderr",
     "output_type": "stream",
     "text": [
      "C:\\Users\\user\\anaconda3\\lib\\site-packages\\sklearn\\neural_network\\_multilayer_perceptron.py:617: ConvergenceWarning: Stochastic Optimizer: Maximum iterations (300) reached and the optimization hasn't converged yet.\n",
      "  % self.max_iter, ConvergenceWarning)\n"
     ]
    },
    {
     "name": "stdout",
     "output_type": "stream",
     "text": [
      "[CV 2/5] END activation=tanh, max_iter=300, solver=sgd;, score=0.633 total time=   1.9s\n"
     ]
    },
    {
     "name": "stderr",
     "output_type": "stream",
     "text": [
      "C:\\Users\\user\\anaconda3\\lib\\site-packages\\sklearn\\neural_network\\_multilayer_perceptron.py:617: ConvergenceWarning: Stochastic Optimizer: Maximum iterations (300) reached and the optimization hasn't converged yet.\n",
      "  % self.max_iter, ConvergenceWarning)\n"
     ]
    },
    {
     "name": "stdout",
     "output_type": "stream",
     "text": [
      "[CV 3/5] END activation=tanh, max_iter=300, solver=sgd;, score=0.595 total time=   1.9s\n"
     ]
    },
    {
     "name": "stderr",
     "output_type": "stream",
     "text": [
      "C:\\Users\\user\\anaconda3\\lib\\site-packages\\sklearn\\neural_network\\_multilayer_perceptron.py:617: ConvergenceWarning: Stochastic Optimizer: Maximum iterations (300) reached and the optimization hasn't converged yet.\n",
      "  % self.max_iter, ConvergenceWarning)\n"
     ]
    },
    {
     "name": "stdout",
     "output_type": "stream",
     "text": [
      "[CV 4/5] END activation=tanh, max_iter=300, solver=sgd;, score=0.590 total time=   1.9s\n"
     ]
    },
    {
     "name": "stderr",
     "output_type": "stream",
     "text": [
      "C:\\Users\\user\\anaconda3\\lib\\site-packages\\sklearn\\neural_network\\_multilayer_perceptron.py:617: ConvergenceWarning: Stochastic Optimizer: Maximum iterations (300) reached and the optimization hasn't converged yet.\n",
      "  % self.max_iter, ConvergenceWarning)\n"
     ]
    },
    {
     "name": "stdout",
     "output_type": "stream",
     "text": [
      "[CV 5/5] END activation=tanh, max_iter=300, solver=sgd;, score=0.619 total time=   1.9s\n"
     ]
    },
    {
     "name": "stderr",
     "output_type": "stream",
     "text": [
      "C:\\Users\\user\\anaconda3\\lib\\site-packages\\sklearn\\neural_network\\_multilayer_perceptron.py:617: ConvergenceWarning: Stochastic Optimizer: Maximum iterations (300) reached and the optimization hasn't converged yet.\n",
      "  % self.max_iter, ConvergenceWarning)\n"
     ]
    },
    {
     "name": "stdout",
     "output_type": "stream",
     "text": [
      "[CV 1/5] END activation=tanh, max_iter=300, solver=adam;, score=0.643 total time=   2.2s\n"
     ]
    },
    {
     "name": "stderr",
     "output_type": "stream",
     "text": [
      "C:\\Users\\user\\anaconda3\\lib\\site-packages\\sklearn\\neural_network\\_multilayer_perceptron.py:617: ConvergenceWarning: Stochastic Optimizer: Maximum iterations (300) reached and the optimization hasn't converged yet.\n",
      "  % self.max_iter, ConvergenceWarning)\n"
     ]
    },
    {
     "name": "stdout",
     "output_type": "stream",
     "text": [
      "[CV 2/5] END activation=tanh, max_iter=300, solver=adam;, score=0.633 total time=   2.3s\n"
     ]
    },
    {
     "name": "stderr",
     "output_type": "stream",
     "text": [
      "C:\\Users\\user\\anaconda3\\lib\\site-packages\\sklearn\\neural_network\\_multilayer_perceptron.py:617: ConvergenceWarning: Stochastic Optimizer: Maximum iterations (300) reached and the optimization hasn't converged yet.\n",
      "  % self.max_iter, ConvergenceWarning)\n"
     ]
    },
    {
     "name": "stdout",
     "output_type": "stream",
     "text": [
      "[CV 3/5] END activation=tanh, max_iter=300, solver=adam;, score=0.629 total time=   2.3s\n"
     ]
    },
    {
     "name": "stderr",
     "output_type": "stream",
     "text": [
      "C:\\Users\\user\\anaconda3\\lib\\site-packages\\sklearn\\neural_network\\_multilayer_perceptron.py:617: ConvergenceWarning: Stochastic Optimizer: Maximum iterations (300) reached and the optimization hasn't converged yet.\n",
      "  % self.max_iter, ConvergenceWarning)\n"
     ]
    },
    {
     "name": "stdout",
     "output_type": "stream",
     "text": [
      "[CV 4/5] END activation=tanh, max_iter=300, solver=adam;, score=0.610 total time=   2.3s\n"
     ]
    },
    {
     "name": "stderr",
     "output_type": "stream",
     "text": [
      "C:\\Users\\user\\anaconda3\\lib\\site-packages\\sklearn\\neural_network\\_multilayer_perceptron.py:617: ConvergenceWarning: Stochastic Optimizer: Maximum iterations (300) reached and the optimization hasn't converged yet.\n",
      "  % self.max_iter, ConvergenceWarning)\n"
     ]
    },
    {
     "name": "stdout",
     "output_type": "stream",
     "text": [
      "[CV 5/5] END activation=tanh, max_iter=300, solver=adam;, score=0.614 total time=   2.3s\n",
      "[CV 1/5] END activation=tanh, max_iter=400, solver=lbfgs;, score=0.548 total time=   0.4s\n",
      "[CV 2/5] END activation=tanh, max_iter=400, solver=lbfgs;, score=0.605 total time=   0.4s\n",
      "[CV 3/5] END activation=tanh, max_iter=400, solver=lbfgs;, score=0.529 total time=   0.4s\n",
      "[CV 4/5] END activation=tanh, max_iter=400, solver=lbfgs;, score=0.629 total time=   0.4s\n",
      "[CV 5/5] END activation=tanh, max_iter=400, solver=lbfgs;, score=0.600 total time=   0.4s\n",
      "[CV 1/5] END activation=tanh, max_iter=400, solver=sgd;, score=0.633 total time=   2.3s\n",
      "[CV 2/5] END activation=tanh, max_iter=400, solver=sgd;, score=0.633 total time=   2.1s\n",
      "[CV 3/5] END activation=tanh, max_iter=400, solver=sgd;, score=0.590 total time=   2.3s\n",
      "[CV 4/5] END activation=tanh, max_iter=400, solver=sgd;, score=0.590 total time=   2.2s\n",
      "[CV 5/5] END activation=tanh, max_iter=400, solver=sgd;, score=0.619 total time=   2.1s\n"
     ]
    },
    {
     "name": "stderr",
     "output_type": "stream",
     "text": [
      "C:\\Users\\user\\anaconda3\\lib\\site-packages\\sklearn\\neural_network\\_multilayer_perceptron.py:617: ConvergenceWarning: Stochastic Optimizer: Maximum iterations (400) reached and the optimization hasn't converged yet.\n",
      "  % self.max_iter, ConvergenceWarning)\n"
     ]
    },
    {
     "name": "stdout",
     "output_type": "stream",
     "text": [
      "[CV 1/5] END activation=tanh, max_iter=400, solver=adam;, score=0.633 total time=   2.8s\n"
     ]
    },
    {
     "name": "stderr",
     "output_type": "stream",
     "text": [
      "C:\\Users\\user\\anaconda3\\lib\\site-packages\\sklearn\\neural_network\\_multilayer_perceptron.py:617: ConvergenceWarning: Stochastic Optimizer: Maximum iterations (400) reached and the optimization hasn't converged yet.\n",
      "  % self.max_iter, ConvergenceWarning)\n"
     ]
    },
    {
     "name": "stdout",
     "output_type": "stream",
     "text": [
      "[CV 2/5] END activation=tanh, max_iter=400, solver=adam;, score=0.657 total time=   2.9s\n"
     ]
    },
    {
     "name": "stderr",
     "output_type": "stream",
     "text": [
      "C:\\Users\\user\\anaconda3\\lib\\site-packages\\sklearn\\neural_network\\_multilayer_perceptron.py:617: ConvergenceWarning: Stochastic Optimizer: Maximum iterations (400) reached and the optimization hasn't converged yet.\n",
      "  % self.max_iter, ConvergenceWarning)\n"
     ]
    },
    {
     "name": "stdout",
     "output_type": "stream",
     "text": [
      "[CV 3/5] END activation=tanh, max_iter=400, solver=adam;, score=0.600 total time=   2.8s\n"
     ]
    },
    {
     "name": "stderr",
     "output_type": "stream",
     "text": [
      "C:\\Users\\user\\anaconda3\\lib\\site-packages\\sklearn\\neural_network\\_multilayer_perceptron.py:617: ConvergenceWarning: Stochastic Optimizer: Maximum iterations (400) reached and the optimization hasn't converged yet.\n",
      "  % self.max_iter, ConvergenceWarning)\n"
     ]
    },
    {
     "name": "stdout",
     "output_type": "stream",
     "text": [
      "[CV 4/5] END activation=tanh, max_iter=400, solver=adam;, score=0.633 total time=   2.8s\n"
     ]
    },
    {
     "name": "stderr",
     "output_type": "stream",
     "text": [
      "C:\\Users\\user\\anaconda3\\lib\\site-packages\\sklearn\\neural_network\\_multilayer_perceptron.py:617: ConvergenceWarning: Stochastic Optimizer: Maximum iterations (400) reached and the optimization hasn't converged yet.\n",
      "  % self.max_iter, ConvergenceWarning)\n"
     ]
    },
    {
     "name": "stdout",
     "output_type": "stream",
     "text": [
      "[CV 5/5] END activation=tanh, max_iter=400, solver=adam;, score=0.643 total time=   2.8s\n",
      "[CV 1/5] END activation=tanh, max_iter=500, solver=lbfgs;, score=0.586 total time=   0.3s\n",
      "[CV 2/5] END activation=tanh, max_iter=500, solver=lbfgs;, score=0.619 total time=   0.3s\n",
      "[CV 3/5] END activation=tanh, max_iter=500, solver=lbfgs;, score=0.567 total time=   0.4s\n",
      "[CV 4/5] END activation=tanh, max_iter=500, solver=lbfgs;, score=0.586 total time=   0.4s\n",
      "[CV 5/5] END activation=tanh, max_iter=500, solver=lbfgs;, score=0.614 total time=   0.4s\n",
      "[CV 1/5] END activation=tanh, max_iter=500, solver=sgd;, score=0.638 total time=   2.3s\n",
      "[CV 2/5] END activation=tanh, max_iter=500, solver=sgd;, score=0.638 total time=   1.9s\n",
      "[CV 3/5] END activation=tanh, max_iter=500, solver=sgd;, score=0.595 total time=   2.0s\n",
      "[CV 4/5] END activation=tanh, max_iter=500, solver=sgd;, score=0.590 total time=   2.2s\n",
      "[CV 5/5] END activation=tanh, max_iter=500, solver=sgd;, score=0.619 total time=   2.1s\n"
     ]
    },
    {
     "name": "stderr",
     "output_type": "stream",
     "text": [
      "C:\\Users\\user\\anaconda3\\lib\\site-packages\\sklearn\\neural_network\\_multilayer_perceptron.py:617: ConvergenceWarning: Stochastic Optimizer: Maximum iterations (500) reached and the optimization hasn't converged yet.\n",
      "  % self.max_iter, ConvergenceWarning)\n"
     ]
    },
    {
     "name": "stdout",
     "output_type": "stream",
     "text": [
      "[CV 1/5] END activation=tanh, max_iter=500, solver=adam;, score=0.624 total time=   3.6s\n"
     ]
    },
    {
     "name": "stderr",
     "output_type": "stream",
     "text": [
      "C:\\Users\\user\\anaconda3\\lib\\site-packages\\sklearn\\neural_network\\_multilayer_perceptron.py:617: ConvergenceWarning: Stochastic Optimizer: Maximum iterations (500) reached and the optimization hasn't converged yet.\n",
      "  % self.max_iter, ConvergenceWarning)\n"
     ]
    },
    {
     "name": "stdout",
     "output_type": "stream",
     "text": [
      "[CV 2/5] END activation=tanh, max_iter=500, solver=adam;, score=0.657 total time=   3.8s\n"
     ]
    },
    {
     "name": "stderr",
     "output_type": "stream",
     "text": [
      "C:\\Users\\user\\anaconda3\\lib\\site-packages\\sklearn\\neural_network\\_multilayer_perceptron.py:617: ConvergenceWarning: Stochastic Optimizer: Maximum iterations (500) reached and the optimization hasn't converged yet.\n",
      "  % self.max_iter, ConvergenceWarning)\n"
     ]
    },
    {
     "name": "stdout",
     "output_type": "stream",
     "text": [
      "[CV 3/5] END activation=tanh, max_iter=500, solver=adam;, score=0.657 total time=   3.9s\n"
     ]
    },
    {
     "name": "stderr",
     "output_type": "stream",
     "text": [
      "C:\\Users\\user\\anaconda3\\lib\\site-packages\\sklearn\\neural_network\\_multilayer_perceptron.py:617: ConvergenceWarning: Stochastic Optimizer: Maximum iterations (500) reached and the optimization hasn't converged yet.\n",
      "  % self.max_iter, ConvergenceWarning)\n"
     ]
    },
    {
     "name": "stdout",
     "output_type": "stream",
     "text": [
      "[CV 4/5] END activation=tanh, max_iter=500, solver=adam;, score=0.619 total time=   3.9s\n"
     ]
    },
    {
     "name": "stderr",
     "output_type": "stream",
     "text": [
      "C:\\Users\\user\\anaconda3\\lib\\site-packages\\sklearn\\neural_network\\_multilayer_perceptron.py:617: ConvergenceWarning: Stochastic Optimizer: Maximum iterations (500) reached and the optimization hasn't converged yet.\n",
      "  % self.max_iter, ConvergenceWarning)\n"
     ]
    },
    {
     "name": "stdout",
     "output_type": "stream",
     "text": [
      "[CV 5/5] END activation=tanh, max_iter=500, solver=adam;, score=0.667 total time=   3.8s\n",
      "[CV 1/5] END activation=tanh, max_iter=600, solver=lbfgs;, score=0.581 total time=   0.4s\n",
      "[CV 2/5] END activation=tanh, max_iter=600, solver=lbfgs;, score=0.638 total time=   0.4s\n",
      "[CV 3/5] END activation=tanh, max_iter=600, solver=lbfgs;, score=0.614 total time=   0.4s\n",
      "[CV 4/5] END activation=tanh, max_iter=600, solver=lbfgs;, score=0.619 total time=   0.4s\n",
      "[CV 5/5] END activation=tanh, max_iter=600, solver=lbfgs;, score=0.667 total time=   0.4s\n",
      "[CV 1/5] END activation=tanh, max_iter=600, solver=sgd;, score=0.633 total time=   2.3s\n",
      "[CV 2/5] END activation=tanh, max_iter=600, solver=sgd;, score=0.638 total time=   2.3s\n",
      "[CV 3/5] END activation=tanh, max_iter=600, solver=sgd;, score=0.590 total time=   2.1s\n",
      "[CV 4/5] END activation=tanh, max_iter=600, solver=sgd;, score=0.586 total time=   2.2s\n",
      "[CV 5/5] END activation=tanh, max_iter=600, solver=sgd;, score=0.619 total time=   1.9s\n"
     ]
    },
    {
     "name": "stderr",
     "output_type": "stream",
     "text": [
      "C:\\Users\\user\\anaconda3\\lib\\site-packages\\sklearn\\neural_network\\_multilayer_perceptron.py:617: ConvergenceWarning: Stochastic Optimizer: Maximum iterations (600) reached and the optimization hasn't converged yet.\n",
      "  % self.max_iter, ConvergenceWarning)\n"
     ]
    },
    {
     "name": "stdout",
     "output_type": "stream",
     "text": [
      "[CV 1/5] END activation=tanh, max_iter=600, solver=adam;, score=0.629 total time=   4.3s\n"
     ]
    },
    {
     "name": "stderr",
     "output_type": "stream",
     "text": [
      "C:\\Users\\user\\anaconda3\\lib\\site-packages\\sklearn\\neural_network\\_multilayer_perceptron.py:617: ConvergenceWarning: Stochastic Optimizer: Maximum iterations (600) reached and the optimization hasn't converged yet.\n",
      "  % self.max_iter, ConvergenceWarning)\n"
     ]
    },
    {
     "name": "stdout",
     "output_type": "stream",
     "text": [
      "[CV 2/5] END activation=tanh, max_iter=600, solver=adam;, score=0.686 total time=   4.3s\n"
     ]
    },
    {
     "name": "stderr",
     "output_type": "stream",
     "text": [
      "C:\\Users\\user\\anaconda3\\lib\\site-packages\\sklearn\\neural_network\\_multilayer_perceptron.py:617: ConvergenceWarning: Stochastic Optimizer: Maximum iterations (600) reached and the optimization hasn't converged yet.\n",
      "  % self.max_iter, ConvergenceWarning)\n"
     ]
    },
    {
     "name": "stdout",
     "output_type": "stream",
     "text": [
      "[CV 3/5] END activation=tanh, max_iter=600, solver=adam;, score=0.629 total time=   4.4s\n"
     ]
    },
    {
     "name": "stderr",
     "output_type": "stream",
     "text": [
      "C:\\Users\\user\\anaconda3\\lib\\site-packages\\sklearn\\neural_network\\_multilayer_perceptron.py:617: ConvergenceWarning: Stochastic Optimizer: Maximum iterations (600) reached and the optimization hasn't converged yet.\n",
      "  % self.max_iter, ConvergenceWarning)\n"
     ]
    },
    {
     "name": "stdout",
     "output_type": "stream",
     "text": [
      "[CV 4/5] END activation=tanh, max_iter=600, solver=adam;, score=0.586 total time=   4.4s\n"
     ]
    },
    {
     "name": "stderr",
     "output_type": "stream",
     "text": [
      "C:\\Users\\user\\anaconda3\\lib\\site-packages\\sklearn\\neural_network\\_multilayer_perceptron.py:617: ConvergenceWarning: Stochastic Optimizer: Maximum iterations (600) reached and the optimization hasn't converged yet.\n",
      "  % self.max_iter, ConvergenceWarning)\n"
     ]
    },
    {
     "name": "stdout",
     "output_type": "stream",
     "text": [
      "[CV 5/5] END activation=tanh, max_iter=600, solver=adam;, score=0.662 total time=   4.3s\n",
      "[CV 1/5] END activation=relu, max_iter=300, solver=lbfgs;, score=0.643 total time=   0.3s\n",
      "[CV 2/5] END activation=relu, max_iter=300, solver=lbfgs;, score=0.662 total time=   0.3s\n",
      "[CV 3/5] END activation=relu, max_iter=300, solver=lbfgs;, score=0.624 total time=   0.2s\n",
      "[CV 4/5] END activation=relu, max_iter=300, solver=lbfgs;, score=0.648 total time=   0.3s\n",
      "[CV 5/5] END activation=relu, max_iter=300, solver=lbfgs;, score=0.671 total time=   0.3s\n"
     ]
    },
    {
     "name": "stderr",
     "output_type": "stream",
     "text": [
      "C:\\Users\\user\\anaconda3\\lib\\site-packages\\sklearn\\neural_network\\_multilayer_perceptron.py:617: ConvergenceWarning: Stochastic Optimizer: Maximum iterations (300) reached and the optimization hasn't converged yet.\n",
      "  % self.max_iter, ConvergenceWarning)\n"
     ]
    },
    {
     "name": "stdout",
     "output_type": "stream",
     "text": [
      "[CV 1/5] END activation=relu, max_iter=300, solver=sgd;, score=0.633 total time=   1.8s\n"
     ]
    },
    {
     "name": "stderr",
     "output_type": "stream",
     "text": [
      "C:\\Users\\user\\anaconda3\\lib\\site-packages\\sklearn\\neural_network\\_multilayer_perceptron.py:617: ConvergenceWarning: Stochastic Optimizer: Maximum iterations (300) reached and the optimization hasn't converged yet.\n",
      "  % self.max_iter, ConvergenceWarning)\n"
     ]
    },
    {
     "name": "stdout",
     "output_type": "stream",
     "text": [
      "[CV 2/5] END activation=relu, max_iter=300, solver=sgd;, score=0.648 total time=   1.9s\n"
     ]
    },
    {
     "name": "stderr",
     "output_type": "stream",
     "text": [
      "C:\\Users\\user\\anaconda3\\lib\\site-packages\\sklearn\\neural_network\\_multilayer_perceptron.py:617: ConvergenceWarning: Stochastic Optimizer: Maximum iterations (300) reached and the optimization hasn't converged yet.\n",
      "  % self.max_iter, ConvergenceWarning)\n"
     ]
    },
    {
     "name": "stdout",
     "output_type": "stream",
     "text": [
      "[CV 3/5] END activation=relu, max_iter=300, solver=sgd;, score=0.605 total time=   1.9s\n"
     ]
    },
    {
     "name": "stderr",
     "output_type": "stream",
     "text": [
      "C:\\Users\\user\\anaconda3\\lib\\site-packages\\sklearn\\neural_network\\_multilayer_perceptron.py:617: ConvergenceWarning: Stochastic Optimizer: Maximum iterations (300) reached and the optimization hasn't converged yet.\n",
      "  % self.max_iter, ConvergenceWarning)\n"
     ]
    },
    {
     "name": "stdout",
     "output_type": "stream",
     "text": [
      "[CV 4/5] END activation=relu, max_iter=300, solver=sgd;, score=0.600 total time=   2.0s\n"
     ]
    },
    {
     "name": "stderr",
     "output_type": "stream",
     "text": [
      "C:\\Users\\user\\anaconda3\\lib\\site-packages\\sklearn\\neural_network\\_multilayer_perceptron.py:617: ConvergenceWarning: Stochastic Optimizer: Maximum iterations (300) reached and the optimization hasn't converged yet.\n",
      "  % self.max_iter, ConvergenceWarning)\n"
     ]
    },
    {
     "name": "stdout",
     "output_type": "stream",
     "text": [
      "[CV 5/5] END activation=relu, max_iter=300, solver=sgd;, score=0.619 total time=   1.9s\n"
     ]
    },
    {
     "name": "stderr",
     "output_type": "stream",
     "text": [
      "C:\\Users\\user\\anaconda3\\lib\\site-packages\\sklearn\\neural_network\\_multilayer_perceptron.py:617: ConvergenceWarning: Stochastic Optimizer: Maximum iterations (300) reached and the optimization hasn't converged yet.\n",
      "  % self.max_iter, ConvergenceWarning)\n"
     ]
    },
    {
     "name": "stdout",
     "output_type": "stream",
     "text": [
      "[CV 1/5] END activation=relu, max_iter=300, solver=adam;, score=0.671 total time=   2.3s\n"
     ]
    },
    {
     "name": "stderr",
     "output_type": "stream",
     "text": [
      "C:\\Users\\user\\anaconda3\\lib\\site-packages\\sklearn\\neural_network\\_multilayer_perceptron.py:617: ConvergenceWarning: Stochastic Optimizer: Maximum iterations (300) reached and the optimization hasn't converged yet.\n",
      "  % self.max_iter, ConvergenceWarning)\n"
     ]
    },
    {
     "name": "stdout",
     "output_type": "stream",
     "text": [
      "[CV 2/5] END activation=relu, max_iter=300, solver=adam;, score=0.743 total time=   2.2s\n"
     ]
    },
    {
     "name": "stderr",
     "output_type": "stream",
     "text": [
      "C:\\Users\\user\\anaconda3\\lib\\site-packages\\sklearn\\neural_network\\_multilayer_perceptron.py:617: ConvergenceWarning: Stochastic Optimizer: Maximum iterations (300) reached and the optimization hasn't converged yet.\n",
      "  % self.max_iter, ConvergenceWarning)\n"
     ]
    },
    {
     "name": "stdout",
     "output_type": "stream",
     "text": [
      "[CV 3/5] END activation=relu, max_iter=300, solver=adam;, score=0.667 total time=   2.2s\n"
     ]
    },
    {
     "name": "stderr",
     "output_type": "stream",
     "text": [
      "C:\\Users\\user\\anaconda3\\lib\\site-packages\\sklearn\\neural_network\\_multilayer_perceptron.py:617: ConvergenceWarning: Stochastic Optimizer: Maximum iterations (300) reached and the optimization hasn't converged yet.\n",
      "  % self.max_iter, ConvergenceWarning)\n"
     ]
    },
    {
     "name": "stdout",
     "output_type": "stream",
     "text": [
      "[CV 4/5] END activation=relu, max_iter=300, solver=adam;, score=0.662 total time=   2.2s\n"
     ]
    },
    {
     "name": "stderr",
     "output_type": "stream",
     "text": [
      "C:\\Users\\user\\anaconda3\\lib\\site-packages\\sklearn\\neural_network\\_multilayer_perceptron.py:617: ConvergenceWarning: Stochastic Optimizer: Maximum iterations (300) reached and the optimization hasn't converged yet.\n",
      "  % self.max_iter, ConvergenceWarning)\n"
     ]
    },
    {
     "name": "stdout",
     "output_type": "stream",
     "text": [
      "[CV 5/5] END activation=relu, max_iter=300, solver=adam;, score=0.714 total time=   2.2s\n",
      "[CV 1/5] END activation=relu, max_iter=400, solver=lbfgs;, score=0.690 total time=   0.3s\n",
      "[CV 2/5] END activation=relu, max_iter=400, solver=lbfgs;, score=0.686 total time=   0.2s\n",
      "[CV 3/5] END activation=relu, max_iter=400, solver=lbfgs;, score=0.633 total time=   0.3s\n",
      "[CV 4/5] END activation=relu, max_iter=400, solver=lbfgs;, score=0.600 total time=   0.3s\n",
      "[CV 5/5] END activation=relu, max_iter=400, solver=lbfgs;, score=0.662 total time=   0.3s\n"
     ]
    },
    {
     "name": "stderr",
     "output_type": "stream",
     "text": [
      "C:\\Users\\user\\anaconda3\\lib\\site-packages\\sklearn\\neural_network\\_multilayer_perceptron.py:617: ConvergenceWarning: Stochastic Optimizer: Maximum iterations (400) reached and the optimization hasn't converged yet.\n",
      "  % self.max_iter, ConvergenceWarning)\n"
     ]
    },
    {
     "name": "stdout",
     "output_type": "stream",
     "text": [
      "[CV 1/5] END activation=relu, max_iter=400, solver=sgd;, score=0.633 total time=   2.8s\n"
     ]
    },
    {
     "name": "stderr",
     "output_type": "stream",
     "text": [
      "C:\\Users\\user\\anaconda3\\lib\\site-packages\\sklearn\\neural_network\\_multilayer_perceptron.py:617: ConvergenceWarning: Stochastic Optimizer: Maximum iterations (400) reached and the optimization hasn't converged yet.\n",
      "  % self.max_iter, ConvergenceWarning)\n"
     ]
    },
    {
     "name": "stdout",
     "output_type": "stream",
     "text": [
      "[CV 2/5] END activation=relu, max_iter=400, solver=sgd;, score=0.629 total time=   2.6s\n"
     ]
    },
    {
     "name": "stderr",
     "output_type": "stream",
     "text": [
      "C:\\Users\\user\\anaconda3\\lib\\site-packages\\sklearn\\neural_network\\_multilayer_perceptron.py:617: ConvergenceWarning: Stochastic Optimizer: Maximum iterations (400) reached and the optimization hasn't converged yet.\n",
      "  % self.max_iter, ConvergenceWarning)\n"
     ]
    },
    {
     "name": "stdout",
     "output_type": "stream",
     "text": [
      "[CV 3/5] END activation=relu, max_iter=400, solver=sgd;, score=0.590 total time=   2.5s\n"
     ]
    },
    {
     "name": "stderr",
     "output_type": "stream",
     "text": [
      "C:\\Users\\user\\anaconda3\\lib\\site-packages\\sklearn\\neural_network\\_multilayer_perceptron.py:617: ConvergenceWarning: Stochastic Optimizer: Maximum iterations (400) reached and the optimization hasn't converged yet.\n",
      "  % self.max_iter, ConvergenceWarning)\n"
     ]
    },
    {
     "name": "stdout",
     "output_type": "stream",
     "text": [
      "[CV 4/5] END activation=relu, max_iter=400, solver=sgd;, score=0.614 total time=   2.6s\n"
     ]
    },
    {
     "name": "stderr",
     "output_type": "stream",
     "text": [
      "C:\\Users\\user\\anaconda3\\lib\\site-packages\\sklearn\\neural_network\\_multilayer_perceptron.py:617: ConvergenceWarning: Stochastic Optimizer: Maximum iterations (400) reached and the optimization hasn't converged yet.\n",
      "  % self.max_iter, ConvergenceWarning)\n"
     ]
    },
    {
     "name": "stdout",
     "output_type": "stream",
     "text": [
      "[CV 5/5] END activation=relu, max_iter=400, solver=sgd;, score=0.619 total time=   2.6s\n"
     ]
    },
    {
     "name": "stderr",
     "output_type": "stream",
     "text": [
      "C:\\Users\\user\\anaconda3\\lib\\site-packages\\sklearn\\neural_network\\_multilayer_perceptron.py:617: ConvergenceWarning: Stochastic Optimizer: Maximum iterations (400) reached and the optimization hasn't converged yet.\n",
      "  % self.max_iter, ConvergenceWarning)\n"
     ]
    },
    {
     "name": "stdout",
     "output_type": "stream",
     "text": [
      "[CV 1/5] END activation=relu, max_iter=400, solver=adam;, score=0.633 total time=   2.8s\n"
     ]
    },
    {
     "name": "stderr",
     "output_type": "stream",
     "text": [
      "C:\\Users\\user\\anaconda3\\lib\\site-packages\\sklearn\\neural_network\\_multilayer_perceptron.py:617: ConvergenceWarning: Stochastic Optimizer: Maximum iterations (400) reached and the optimization hasn't converged yet.\n",
      "  % self.max_iter, ConvergenceWarning)\n"
     ]
    },
    {
     "name": "stdout",
     "output_type": "stream",
     "text": [
      "[CV 2/5] END activation=relu, max_iter=400, solver=adam;, score=0.733 total time=   2.8s\n"
     ]
    },
    {
     "name": "stderr",
     "output_type": "stream",
     "text": [
      "C:\\Users\\user\\anaconda3\\lib\\site-packages\\sklearn\\neural_network\\_multilayer_perceptron.py:617: ConvergenceWarning: Stochastic Optimizer: Maximum iterations (400) reached and the optimization hasn't converged yet.\n",
      "  % self.max_iter, ConvergenceWarning)\n"
     ]
    },
    {
     "name": "stdout",
     "output_type": "stream",
     "text": [
      "[CV 3/5] END activation=relu, max_iter=400, solver=adam;, score=0.690 total time=   2.7s\n"
     ]
    },
    {
     "name": "stderr",
     "output_type": "stream",
     "text": [
      "C:\\Users\\user\\anaconda3\\lib\\site-packages\\sklearn\\neural_network\\_multilayer_perceptron.py:617: ConvergenceWarning: Stochastic Optimizer: Maximum iterations (400) reached and the optimization hasn't converged yet.\n",
      "  % self.max_iter, ConvergenceWarning)\n"
     ]
    },
    {
     "name": "stdout",
     "output_type": "stream",
     "text": [
      "[CV 4/5] END activation=relu, max_iter=400, solver=adam;, score=0.657 total time=   2.8s\n"
     ]
    },
    {
     "name": "stderr",
     "output_type": "stream",
     "text": [
      "C:\\Users\\user\\anaconda3\\lib\\site-packages\\sklearn\\neural_network\\_multilayer_perceptron.py:617: ConvergenceWarning: Stochastic Optimizer: Maximum iterations (400) reached and the optimization hasn't converged yet.\n",
      "  % self.max_iter, ConvergenceWarning)\n"
     ]
    },
    {
     "name": "stdout",
     "output_type": "stream",
     "text": [
      "[CV 5/5] END activation=relu, max_iter=400, solver=adam;, score=0.700 total time=   2.8s\n",
      "[CV 1/5] END activation=relu, max_iter=500, solver=lbfgs;, score=0.662 total time=   0.2s\n",
      "[CV 2/5] END activation=relu, max_iter=500, solver=lbfgs;, score=0.676 total time=   0.2s\n",
      "[CV 3/5] END activation=relu, max_iter=500, solver=lbfgs;, score=0.581 total time=   0.3s\n",
      "[CV 4/5] END activation=relu, max_iter=500, solver=lbfgs;, score=0.605 total time=   0.2s\n",
      "[CV 5/5] END activation=relu, max_iter=500, solver=lbfgs;, score=0.652 total time=   0.2s\n"
     ]
    },
    {
     "name": "stderr",
     "output_type": "stream",
     "text": [
      "C:\\Users\\user\\anaconda3\\lib\\site-packages\\sklearn\\neural_network\\_multilayer_perceptron.py:617: ConvergenceWarning: Stochastic Optimizer: Maximum iterations (500) reached and the optimization hasn't converged yet.\n",
      "  % self.max_iter, ConvergenceWarning)\n"
     ]
    },
    {
     "name": "stdout",
     "output_type": "stream",
     "text": [
      "[CV 1/5] END activation=relu, max_iter=500, solver=sgd;, score=0.643 total time=   3.2s\n"
     ]
    },
    {
     "name": "stderr",
     "output_type": "stream",
     "text": [
      "C:\\Users\\user\\anaconda3\\lib\\site-packages\\sklearn\\neural_network\\_multilayer_perceptron.py:617: ConvergenceWarning: Stochastic Optimizer: Maximum iterations (500) reached and the optimization hasn't converged yet.\n",
      "  % self.max_iter, ConvergenceWarning)\n"
     ]
    },
    {
     "name": "stdout",
     "output_type": "stream",
     "text": [
      "[CV 2/5] END activation=relu, max_iter=500, solver=sgd;, score=0.681 total time=   3.3s\n"
     ]
    },
    {
     "name": "stderr",
     "output_type": "stream",
     "text": [
      "C:\\Users\\user\\anaconda3\\lib\\site-packages\\sklearn\\neural_network\\_multilayer_perceptron.py:617: ConvergenceWarning: Stochastic Optimizer: Maximum iterations (500) reached and the optimization hasn't converged yet.\n",
      "  % self.max_iter, ConvergenceWarning)\n"
     ]
    },
    {
     "name": "stdout",
     "output_type": "stream",
     "text": [
      "[CV 3/5] END activation=relu, max_iter=500, solver=sgd;, score=0.595 total time=   3.2s\n"
     ]
    },
    {
     "name": "stderr",
     "output_type": "stream",
     "text": [
      "C:\\Users\\user\\anaconda3\\lib\\site-packages\\sklearn\\neural_network\\_multilayer_perceptron.py:617: ConvergenceWarning: Stochastic Optimizer: Maximum iterations (500) reached and the optimization hasn't converged yet.\n",
      "  % self.max_iter, ConvergenceWarning)\n"
     ]
    },
    {
     "name": "stdout",
     "output_type": "stream",
     "text": [
      "[CV 4/5] END activation=relu, max_iter=500, solver=sgd;, score=0.614 total time=   3.2s\n"
     ]
    },
    {
     "name": "stderr",
     "output_type": "stream",
     "text": [
      "C:\\Users\\user\\anaconda3\\lib\\site-packages\\sklearn\\neural_network\\_multilayer_perceptron.py:617: ConvergenceWarning: Stochastic Optimizer: Maximum iterations (500) reached and the optimization hasn't converged yet.\n",
      "  % self.max_iter, ConvergenceWarning)\n"
     ]
    },
    {
     "name": "stdout",
     "output_type": "stream",
     "text": [
      "[CV 5/5] END activation=relu, max_iter=500, solver=sgd;, score=0.633 total time=   3.2s\n"
     ]
    },
    {
     "name": "stderr",
     "output_type": "stream",
     "text": [
      "C:\\Users\\user\\anaconda3\\lib\\site-packages\\sklearn\\neural_network\\_multilayer_perceptron.py:617: ConvergenceWarning: Stochastic Optimizer: Maximum iterations (500) reached and the optimization hasn't converged yet.\n",
      "  % self.max_iter, ConvergenceWarning)\n"
     ]
    },
    {
     "name": "stdout",
     "output_type": "stream",
     "text": [
      "[CV 1/5] END activation=relu, max_iter=500, solver=adam;, score=0.648 total time=   4.0s\n"
     ]
    },
    {
     "name": "stderr",
     "output_type": "stream",
     "text": [
      "C:\\Users\\user\\anaconda3\\lib\\site-packages\\sklearn\\neural_network\\_multilayer_perceptron.py:617: ConvergenceWarning: Stochastic Optimizer: Maximum iterations (500) reached and the optimization hasn't converged yet.\n",
      "  % self.max_iter, ConvergenceWarning)\n"
     ]
    },
    {
     "name": "stdout",
     "output_type": "stream",
     "text": [
      "[CV 2/5] END activation=relu, max_iter=500, solver=adam;, score=0.690 total time=   3.8s\n"
     ]
    },
    {
     "name": "stderr",
     "output_type": "stream",
     "text": [
      "C:\\Users\\user\\anaconda3\\lib\\site-packages\\sklearn\\neural_network\\_multilayer_perceptron.py:617: ConvergenceWarning: Stochastic Optimizer: Maximum iterations (500) reached and the optimization hasn't converged yet.\n",
      "  % self.max_iter, ConvergenceWarning)\n"
     ]
    },
    {
     "name": "stdout",
     "output_type": "stream",
     "text": [
      "[CV 3/5] END activation=relu, max_iter=500, solver=adam;, score=0.676 total time=   3.8s\n"
     ]
    },
    {
     "name": "stderr",
     "output_type": "stream",
     "text": [
      "C:\\Users\\user\\anaconda3\\lib\\site-packages\\sklearn\\neural_network\\_multilayer_perceptron.py:617: ConvergenceWarning: Stochastic Optimizer: Maximum iterations (500) reached and the optimization hasn't converged yet.\n",
      "  % self.max_iter, ConvergenceWarning)\n"
     ]
    },
    {
     "name": "stdout",
     "output_type": "stream",
     "text": [
      "[CV 4/5] END activation=relu, max_iter=500, solver=adam;, score=0.662 total time=   3.8s\n"
     ]
    },
    {
     "name": "stderr",
     "output_type": "stream",
     "text": [
      "C:\\Users\\user\\anaconda3\\lib\\site-packages\\sklearn\\neural_network\\_multilayer_perceptron.py:617: ConvergenceWarning: Stochastic Optimizer: Maximum iterations (500) reached and the optimization hasn't converged yet.\n",
      "  % self.max_iter, ConvergenceWarning)\n"
     ]
    },
    {
     "name": "stdout",
     "output_type": "stream",
     "text": [
      "[CV 5/5] END activation=relu, max_iter=500, solver=adam;, score=0.676 total time=   3.6s\n",
      "[CV 1/5] END activation=relu, max_iter=600, solver=lbfgs;, score=0.638 total time=   0.3s\n",
      "[CV 2/5] END activation=relu, max_iter=600, solver=lbfgs;, score=0.652 total time=   0.2s\n",
      "[CV 3/5] END activation=relu, max_iter=600, solver=lbfgs;, score=0.600 total time=   0.2s\n",
      "[CV 4/5] END activation=relu, max_iter=600, solver=lbfgs;, score=0.624 total time=   0.2s\n",
      "[CV 5/5] END activation=relu, max_iter=600, solver=lbfgs;, score=0.662 total time=   0.2s\n"
     ]
    },
    {
     "name": "stderr",
     "output_type": "stream",
     "text": [
      "C:\\Users\\user\\anaconda3\\lib\\site-packages\\sklearn\\neural_network\\_multilayer_perceptron.py:617: ConvergenceWarning: Stochastic Optimizer: Maximum iterations (600) reached and the optimization hasn't converged yet.\n",
      "  % self.max_iter, ConvergenceWarning)\n"
     ]
    },
    {
     "name": "stdout",
     "output_type": "stream",
     "text": [
      "[CV 1/5] END activation=relu, max_iter=600, solver=sgd;, score=0.629 total time=   3.9s\n"
     ]
    },
    {
     "name": "stderr",
     "output_type": "stream",
     "text": [
      "C:\\Users\\user\\anaconda3\\lib\\site-packages\\sklearn\\neural_network\\_multilayer_perceptron.py:617: ConvergenceWarning: Stochastic Optimizer: Maximum iterations (600) reached and the optimization hasn't converged yet.\n",
      "  % self.max_iter, ConvergenceWarning)\n"
     ]
    },
    {
     "name": "stdout",
     "output_type": "stream",
     "text": [
      "[CV 2/5] END activation=relu, max_iter=600, solver=sgd;, score=0.681 total time=   3.9s\n"
     ]
    },
    {
     "name": "stderr",
     "output_type": "stream",
     "text": [
      "C:\\Users\\user\\anaconda3\\lib\\site-packages\\sklearn\\neural_network\\_multilayer_perceptron.py:617: ConvergenceWarning: Stochastic Optimizer: Maximum iterations (600) reached and the optimization hasn't converged yet.\n",
      "  % self.max_iter, ConvergenceWarning)\n"
     ]
    },
    {
     "name": "stdout",
     "output_type": "stream",
     "text": [
      "[CV 3/5] END activation=relu, max_iter=600, solver=sgd;, score=0.600 total time=   3.9s\n"
     ]
    },
    {
     "name": "stderr",
     "output_type": "stream",
     "text": [
      "C:\\Users\\user\\anaconda3\\lib\\site-packages\\sklearn\\neural_network\\_multilayer_perceptron.py:617: ConvergenceWarning: Stochastic Optimizer: Maximum iterations (600) reached and the optimization hasn't converged yet.\n",
      "  % self.max_iter, ConvergenceWarning)\n"
     ]
    },
    {
     "name": "stdout",
     "output_type": "stream",
     "text": [
      "[CV 4/5] END activation=relu, max_iter=600, solver=sgd;, score=0.600 total time=   3.9s\n"
     ]
    },
    {
     "name": "stderr",
     "output_type": "stream",
     "text": [
      "C:\\Users\\user\\anaconda3\\lib\\site-packages\\sklearn\\neural_network\\_multilayer_perceptron.py:617: ConvergenceWarning: Stochastic Optimizer: Maximum iterations (600) reached and the optimization hasn't converged yet.\n",
      "  % self.max_iter, ConvergenceWarning)\n"
     ]
    },
    {
     "name": "stdout",
     "output_type": "stream",
     "text": [
      "[CV 5/5] END activation=relu, max_iter=600, solver=sgd;, score=0.629 total time=   3.9s\n"
     ]
    },
    {
     "name": "stderr",
     "output_type": "stream",
     "text": [
      "C:\\Users\\user\\anaconda3\\lib\\site-packages\\sklearn\\neural_network\\_multilayer_perceptron.py:617: ConvergenceWarning: Stochastic Optimizer: Maximum iterations (600) reached and the optimization hasn't converged yet.\n",
      "  % self.max_iter, ConvergenceWarning)\n"
     ]
    },
    {
     "name": "stdout",
     "output_type": "stream",
     "text": [
      "[CV 1/5] END activation=relu, max_iter=600, solver=adam;, score=0.638 total time=   4.2s\n"
     ]
    },
    {
     "name": "stderr",
     "output_type": "stream",
     "text": [
      "C:\\Users\\user\\anaconda3\\lib\\site-packages\\sklearn\\neural_network\\_multilayer_perceptron.py:617: ConvergenceWarning: Stochastic Optimizer: Maximum iterations (600) reached and the optimization hasn't converged yet.\n",
      "  % self.max_iter, ConvergenceWarning)\n"
     ]
    },
    {
     "name": "stdout",
     "output_type": "stream",
     "text": [
      "[CV 2/5] END activation=relu, max_iter=600, solver=adam;, score=0.733 total time=   4.3s\n"
     ]
    },
    {
     "name": "stderr",
     "output_type": "stream",
     "text": [
      "C:\\Users\\user\\anaconda3\\lib\\site-packages\\sklearn\\neural_network\\_multilayer_perceptron.py:617: ConvergenceWarning: Stochastic Optimizer: Maximum iterations (600) reached and the optimization hasn't converged yet.\n",
      "  % self.max_iter, ConvergenceWarning)\n"
     ]
    },
    {
     "name": "stdout",
     "output_type": "stream",
     "text": [
      "[CV 3/5] END activation=relu, max_iter=600, solver=adam;, score=0.686 total time=   4.2s\n"
     ]
    },
    {
     "name": "stderr",
     "output_type": "stream",
     "text": [
      "C:\\Users\\user\\anaconda3\\lib\\site-packages\\sklearn\\neural_network\\_multilayer_perceptron.py:617: ConvergenceWarning: Stochastic Optimizer: Maximum iterations (600) reached and the optimization hasn't converged yet.\n",
      "  % self.max_iter, ConvergenceWarning)\n"
     ]
    },
    {
     "name": "stdout",
     "output_type": "stream",
     "text": [
      "[CV 4/5] END activation=relu, max_iter=600, solver=adam;, score=0.619 total time=   4.2s\n"
     ]
    },
    {
     "name": "stderr",
     "output_type": "stream",
     "text": [
      "C:\\Users\\user\\anaconda3\\lib\\site-packages\\sklearn\\neural_network\\_multilayer_perceptron.py:617: ConvergenceWarning: Stochastic Optimizer: Maximum iterations (600) reached and the optimization hasn't converged yet.\n",
      "  % self.max_iter, ConvergenceWarning)\n"
     ]
    },
    {
     "name": "stdout",
     "output_type": "stream",
     "text": [
      "[CV 5/5] END activation=relu, max_iter=600, solver=adam;, score=0.690 total time=   4.5s\n"
     ]
    },
    {
     "name": "stderr",
     "output_type": "stream",
     "text": [
      "C:\\Users\\user\\anaconda3\\lib\\site-packages\\sklearn\\neural_network\\_multilayer_perceptron.py:617: ConvergenceWarning: Stochastic Optimizer: Maximum iterations (300) reached and the optimization hasn't converged yet.\n",
      "  % self.max_iter, ConvergenceWarning)\n"
     ]
    },
    {
     "data": {
      "text/plain": [
       "GridSearchCV(estimator=MLPClassifier(),\n",
       "             param_grid={'activation': ['identity', 'logistic', 'tanh', 'relu'],\n",
       "                         'max_iter': [300, 400, 500, 600],\n",
       "                         'solver': ['lbfgs', 'sgd', 'adam']},\n",
       "             verbose=3)"
      ]
     },
     "execution_count": 58,
     "metadata": {},
     "output_type": "execute_result"
    }
   ],
   "source": [
    "grid.fit(x_train,y_train)"
   ]
  },
  {
   "cell_type": "code",
   "execution_count": 59,
   "metadata": {},
   "outputs": [
    {
     "data": {
      "text/plain": [
       "{'activation': 'relu', 'max_iter': 300, 'solver': 'adam'}"
      ]
     },
     "execution_count": 59,
     "metadata": {},
     "output_type": "execute_result"
    }
   ],
   "source": [
    "grid.best_params_"
   ]
  },
  {
   "cell_type": "code",
   "execution_count": 60,
   "metadata": {},
   "outputs": [],
   "source": [
    "y_pred1=grid.predict(x_test)"
   ]
  },
  {
   "cell_type": "code",
   "execution_count": 61,
   "metadata": {},
   "outputs": [
    {
     "data": {
      "text/plain": [
       "0.7"
      ]
     },
     "execution_count": 61,
     "metadata": {},
     "output_type": "execute_result"
    }
   ],
   "source": [
    "accuracy_score(y_test, y_pred1)"
   ]
  },
  {
   "cell_type": "code",
   "execution_count": null,
   "metadata": {},
   "outputs": [],
   "source": []
  }
 ],
 "metadata": {
  "kernelspec": {
   "display_name": "Python 3",
   "language": "python",
   "name": "python3"
  },
  "language_info": {
   "codemirror_mode": {
    "name": "ipython",
    "version": 3
   },
   "file_extension": ".py",
   "mimetype": "text/x-python",
   "name": "python",
   "nbconvert_exporter": "python",
   "pygments_lexer": "ipython3",
   "version": "3.7.6"
  }
 },
 "nbformat": 4,
 "nbformat_minor": 4
}
