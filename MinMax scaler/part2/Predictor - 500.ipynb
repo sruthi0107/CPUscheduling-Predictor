{
 "cells": [
  {
   "cell_type": "code",
   "execution_count": 1,
   "metadata": {},
   "outputs": [
    {
     "name": "stderr",
     "output_type": "stream",
     "text": [
      "C:\\Users\\user\\anaconda3\\lib\\site-packages\\tensorflow\\python\\framework\\dtypes.py:516: FutureWarning: Passing (type, 1) or '1type' as a synonym of type is deprecated; in a future version of numpy, it will be understood as (type, (1,)) / '(1,)type'.\n",
      "  _np_qint8 = np.dtype([(\"qint8\", np.int8, 1)])\n",
      "C:\\Users\\user\\anaconda3\\lib\\site-packages\\tensorflow\\python\\framework\\dtypes.py:517: FutureWarning: Passing (type, 1) or '1type' as a synonym of type is deprecated; in a future version of numpy, it will be understood as (type, (1,)) / '(1,)type'.\n",
      "  _np_quint8 = np.dtype([(\"quint8\", np.uint8, 1)])\n",
      "C:\\Users\\user\\anaconda3\\lib\\site-packages\\tensorflow\\python\\framework\\dtypes.py:518: FutureWarning: Passing (type, 1) or '1type' as a synonym of type is deprecated; in a future version of numpy, it will be understood as (type, (1,)) / '(1,)type'.\n",
      "  _np_qint16 = np.dtype([(\"qint16\", np.int16, 1)])\n",
      "C:\\Users\\user\\anaconda3\\lib\\site-packages\\tensorflow\\python\\framework\\dtypes.py:519: FutureWarning: Passing (type, 1) or '1type' as a synonym of type is deprecated; in a future version of numpy, it will be understood as (type, (1,)) / '(1,)type'.\n",
      "  _np_quint16 = np.dtype([(\"quint16\", np.uint16, 1)])\n",
      "C:\\Users\\user\\anaconda3\\lib\\site-packages\\tensorflow\\python\\framework\\dtypes.py:520: FutureWarning: Passing (type, 1) or '1type' as a synonym of type is deprecated; in a future version of numpy, it will be understood as (type, (1,)) / '(1,)type'.\n",
      "  _np_qint32 = np.dtype([(\"qint32\", np.int32, 1)])\n",
      "C:\\Users\\user\\anaconda3\\lib\\site-packages\\tensorflow\\python\\framework\\dtypes.py:525: FutureWarning: Passing (type, 1) or '1type' as a synonym of type is deprecated; in a future version of numpy, it will be understood as (type, (1,)) / '(1,)type'.\n",
      "  np_resource = np.dtype([(\"resource\", np.ubyte, 1)])\n",
      "C:\\Users\\user\\anaconda3\\lib\\site-packages\\tensorboard\\compat\\tensorflow_stub\\dtypes.py:541: FutureWarning: Passing (type, 1) or '1type' as a synonym of type is deprecated; in a future version of numpy, it will be understood as (type, (1,)) / '(1,)type'.\n",
      "  _np_qint8 = np.dtype([(\"qint8\", np.int8, 1)])\n",
      "C:\\Users\\user\\anaconda3\\lib\\site-packages\\tensorboard\\compat\\tensorflow_stub\\dtypes.py:542: FutureWarning: Passing (type, 1) or '1type' as a synonym of type is deprecated; in a future version of numpy, it will be understood as (type, (1,)) / '(1,)type'.\n",
      "  _np_quint8 = np.dtype([(\"quint8\", np.uint8, 1)])\n",
      "C:\\Users\\user\\anaconda3\\lib\\site-packages\\tensorboard\\compat\\tensorflow_stub\\dtypes.py:543: FutureWarning: Passing (type, 1) or '1type' as a synonym of type is deprecated; in a future version of numpy, it will be understood as (type, (1,)) / '(1,)type'.\n",
      "  _np_qint16 = np.dtype([(\"qint16\", np.int16, 1)])\n",
      "C:\\Users\\user\\anaconda3\\lib\\site-packages\\tensorboard\\compat\\tensorflow_stub\\dtypes.py:544: FutureWarning: Passing (type, 1) or '1type' as a synonym of type is deprecated; in a future version of numpy, it will be understood as (type, (1,)) / '(1,)type'.\n",
      "  _np_quint16 = np.dtype([(\"quint16\", np.uint16, 1)])\n",
      "C:\\Users\\user\\anaconda3\\lib\\site-packages\\tensorboard\\compat\\tensorflow_stub\\dtypes.py:545: FutureWarning: Passing (type, 1) or '1type' as a synonym of type is deprecated; in a future version of numpy, it will be understood as (type, (1,)) / '(1,)type'.\n",
      "  _np_qint32 = np.dtype([(\"qint32\", np.int32, 1)])\n",
      "C:\\Users\\user\\anaconda3\\lib\\site-packages\\tensorboard\\compat\\tensorflow_stub\\dtypes.py:550: FutureWarning: Passing (type, 1) or '1type' as a synonym of type is deprecated; in a future version of numpy, it will be understood as (type, (1,)) / '(1,)type'.\n",
      "  np_resource = np.dtype([(\"resource\", np.ubyte, 1)])\n"
     ]
    }
   ],
   "source": [
    "import pandas as pd\n",
    "import numpy as np\n",
    "from sklearn.ensemble import AdaBoostClassifier\n",
    "from sklearn.model_selection import train_test_split\n",
    "from sklearn.metrics import accuracy_score\n",
    "from sklearn.model_selection import GridSearchCV\n",
    "from sklearn.preprocessing import MinMaxScaler\n",
    "from sklearn.ensemble import GradientBoostingClassifier\n",
    "from sklearn.metrics import mean_squared_error\n",
    "from sklearn import model_selection\n",
    "from sklearn.ensemble import BaggingClassifier\n",
    "from sklearn.ensemble import RandomForestClassifier\n",
    "from sklearn.ensemble import ExtraTreesClassifier\n",
    "from sklearn.tree import DecisionTreeClassifier\n",
    "from sklearn.svm import SVC\n",
    "import tensorflow\n",
    "from tensorflow.keras.datasets import mnist\n",
    "from tensorflow.keras.models import Sequential\n",
    "from tensorflow.keras.layers import Dense,Dropout\n",
    "from tensorflow.keras.optimizers import RMSprop\n",
    "from sklearn.neural_network import MLPClassifier\n",
    "from sklearn.metrics import classification_report,confusion_matrix,homogeneity_score,completeness_score,v_measure_score"
   ]
  },
  {
   "cell_type": "code",
   "execution_count": 2,
   "metadata": {},
   "outputs": [],
   "source": [
    "df=pd.read_csv(\"Dataset_500.csv\")"
   ]
  },
  {
   "cell_type": "code",
   "execution_count": 3,
   "metadata": {},
   "outputs": [
    {
     "data": {
      "text/html": [
       "<div>\n",
       "<style scoped>\n",
       "    .dataframe tbody tr th:only-of-type {\n",
       "        vertical-align: middle;\n",
       "    }\n",
       "\n",
       "    .dataframe tbody tr th {\n",
       "        vertical-align: top;\n",
       "    }\n",
       "\n",
       "    .dataframe thead th {\n",
       "        text-align: right;\n",
       "    }\n",
       "</style>\n",
       "<table border=\"1\" class=\"dataframe\">\n",
       "  <thead>\n",
       "    <tr style=\"text-align: right;\">\n",
       "      <th></th>\n",
       "      <th>Arrival_time1</th>\n",
       "      <th>Burst_time1</th>\n",
       "      <th>Arrival_time2</th>\n",
       "      <th>Burst_time2</th>\n",
       "      <th>Arrival_time3</th>\n",
       "      <th>Burst_time3</th>\n",
       "      <th>Arrival_time4</th>\n",
       "      <th>Burst_time4</th>\n",
       "      <th>Arrival_time5</th>\n",
       "      <th>Burst_time5</th>\n",
       "      <th>Labels</th>\n",
       "    </tr>\n",
       "  </thead>\n",
       "  <tbody>\n",
       "    <tr>\n",
       "      <th>0</th>\n",
       "      <td>0</td>\n",
       "      <td>7</td>\n",
       "      <td>0</td>\n",
       "      <td>5</td>\n",
       "      <td>9</td>\n",
       "      <td>9</td>\n",
       "      <td>0</td>\n",
       "      <td>15</td>\n",
       "      <td>2</td>\n",
       "      <td>1</td>\n",
       "      <td>SRTF</td>\n",
       "    </tr>\n",
       "    <tr>\n",
       "      <th>1</th>\n",
       "      <td>7</td>\n",
       "      <td>9</td>\n",
       "      <td>7</td>\n",
       "      <td>15</td>\n",
       "      <td>3</td>\n",
       "      <td>7</td>\n",
       "      <td>10</td>\n",
       "      <td>4</td>\n",
       "      <td>4</td>\n",
       "      <td>13</td>\n",
       "      <td>SJF</td>\n",
       "    </tr>\n",
       "    <tr>\n",
       "      <th>2</th>\n",
       "      <td>5</td>\n",
       "      <td>4</td>\n",
       "      <td>7</td>\n",
       "      <td>14</td>\n",
       "      <td>3</td>\n",
       "      <td>16</td>\n",
       "      <td>4</td>\n",
       "      <td>4</td>\n",
       "      <td>2</td>\n",
       "      <td>5</td>\n",
       "      <td>SJF</td>\n",
       "    </tr>\n",
       "    <tr>\n",
       "      <th>3</th>\n",
       "      <td>7</td>\n",
       "      <td>16</td>\n",
       "      <td>2</td>\n",
       "      <td>7</td>\n",
       "      <td>6</td>\n",
       "      <td>16</td>\n",
       "      <td>1</td>\n",
       "      <td>19</td>\n",
       "      <td>3</td>\n",
       "      <td>18</td>\n",
       "      <td>SRTF</td>\n",
       "    </tr>\n",
       "    <tr>\n",
       "      <th>4</th>\n",
       "      <td>10</td>\n",
       "      <td>11</td>\n",
       "      <td>1</td>\n",
       "      <td>5</td>\n",
       "      <td>8</td>\n",
       "      <td>8</td>\n",
       "      <td>10</td>\n",
       "      <td>2</td>\n",
       "      <td>9</td>\n",
       "      <td>12</td>\n",
       "      <td>SRTF</td>\n",
       "    </tr>\n",
       "    <tr>\n",
       "      <th>...</th>\n",
       "      <td>...</td>\n",
       "      <td>...</td>\n",
       "      <td>...</td>\n",
       "      <td>...</td>\n",
       "      <td>...</td>\n",
       "      <td>...</td>\n",
       "      <td>...</td>\n",
       "      <td>...</td>\n",
       "      <td>...</td>\n",
       "      <td>...</td>\n",
       "      <td>...</td>\n",
       "    </tr>\n",
       "    <tr>\n",
       "      <th>495</th>\n",
       "      <td>2</td>\n",
       "      <td>5</td>\n",
       "      <td>4</td>\n",
       "      <td>14</td>\n",
       "      <td>10</td>\n",
       "      <td>15</td>\n",
       "      <td>5</td>\n",
       "      <td>12</td>\n",
       "      <td>8</td>\n",
       "      <td>2</td>\n",
       "      <td>SRTF</td>\n",
       "    </tr>\n",
       "    <tr>\n",
       "      <th>496</th>\n",
       "      <td>0</td>\n",
       "      <td>18</td>\n",
       "      <td>5</td>\n",
       "      <td>7</td>\n",
       "      <td>6</td>\n",
       "      <td>11</td>\n",
       "      <td>8</td>\n",
       "      <td>4</td>\n",
       "      <td>2</td>\n",
       "      <td>18</td>\n",
       "      <td>SRTF</td>\n",
       "    </tr>\n",
       "    <tr>\n",
       "      <th>497</th>\n",
       "      <td>8</td>\n",
       "      <td>13</td>\n",
       "      <td>7</td>\n",
       "      <td>17</td>\n",
       "      <td>3</td>\n",
       "      <td>10</td>\n",
       "      <td>0</td>\n",
       "      <td>15</td>\n",
       "      <td>0</td>\n",
       "      <td>18</td>\n",
       "      <td>SRTF</td>\n",
       "    </tr>\n",
       "    <tr>\n",
       "      <th>498</th>\n",
       "      <td>0</td>\n",
       "      <td>14</td>\n",
       "      <td>9</td>\n",
       "      <td>12</td>\n",
       "      <td>4</td>\n",
       "      <td>11</td>\n",
       "      <td>3</td>\n",
       "      <td>17</td>\n",
       "      <td>8</td>\n",
       "      <td>13</td>\n",
       "      <td>SJF</td>\n",
       "    </tr>\n",
       "    <tr>\n",
       "      <th>499</th>\n",
       "      <td>0</td>\n",
       "      <td>1</td>\n",
       "      <td>5</td>\n",
       "      <td>10</td>\n",
       "      <td>0</td>\n",
       "      <td>2</td>\n",
       "      <td>8</td>\n",
       "      <td>15</td>\n",
       "      <td>4</td>\n",
       "      <td>2</td>\n",
       "      <td>SJF</td>\n",
       "    </tr>\n",
       "  </tbody>\n",
       "</table>\n",
       "<p>500 rows × 11 columns</p>\n",
       "</div>"
      ],
      "text/plain": [
       "     Arrival_time1  Burst_time1  Arrival_time2  Burst_time2  Arrival_time3  \\\n",
       "0                0            7              0            5              9   \n",
       "1                7            9              7           15              3   \n",
       "2                5            4              7           14              3   \n",
       "3                7           16              2            7              6   \n",
       "4               10           11              1            5              8   \n",
       "..             ...          ...            ...          ...            ...   \n",
       "495              2            5              4           14             10   \n",
       "496              0           18              5            7              6   \n",
       "497              8           13              7           17              3   \n",
       "498              0           14              9           12              4   \n",
       "499              0            1              5           10              0   \n",
       "\n",
       "     Burst_time3  Arrival_time4  Burst_time4  Arrival_time5  Burst_time5  \\\n",
       "0              9              0           15              2            1   \n",
       "1              7             10            4              4           13   \n",
       "2             16              4            4              2            5   \n",
       "3             16              1           19              3           18   \n",
       "4              8             10            2              9           12   \n",
       "..           ...            ...          ...            ...          ...   \n",
       "495           15              5           12              8            2   \n",
       "496           11              8            4              2           18   \n",
       "497           10              0           15              0           18   \n",
       "498           11              3           17              8           13   \n",
       "499            2              8           15              4            2   \n",
       "\n",
       "    Labels  \n",
       "0     SRTF  \n",
       "1      SJF  \n",
       "2      SJF  \n",
       "3     SRTF  \n",
       "4     SRTF  \n",
       "..     ...  \n",
       "495   SRTF  \n",
       "496   SRTF  \n",
       "497   SRTF  \n",
       "498    SJF  \n",
       "499    SJF  \n",
       "\n",
       "[500 rows x 11 columns]"
      ]
     },
     "execution_count": 3,
     "metadata": {},
     "output_type": "execute_result"
    }
   ],
   "source": [
    "df"
   ]
  },
  {
   "cell_type": "code",
   "execution_count": 4,
   "metadata": {},
   "outputs": [],
   "source": [
    "dict_diff={\n",
    "    'FCFS':0,\n",
    "    'SJF':1,\n",
    "    'SRTF':2,\n",
    "    'RR':3\n",
    "    }"
   ]
  },
  {
   "cell_type": "code",
   "execution_count": 5,
   "metadata": {},
   "outputs": [],
   "source": [
    "df['Labels']=df['Labels'].apply(lambda x:dict_diff[x])"
   ]
  },
  {
   "cell_type": "code",
   "execution_count": 6,
   "metadata": {},
   "outputs": [
    {
     "data": {
      "text/plain": [
       "array([2, 1, 1, 2, 2, 1, 2, 2, 2, 1, 2, 2, 1, 2, 2, 0, 2, 2, 1, 2, 1, 1,\n",
       "       2, 1, 0, 2, 2, 2, 2, 2, 2, 0, 1, 2, 2, 0, 1, 2, 2, 2, 2, 2, 2, 2,\n",
       "       1, 1, 1, 2, 1, 1, 0, 3, 1, 0, 1, 2, 2, 2, 2, 1, 2, 1, 2, 2, 2, 0,\n",
       "       1, 0, 1, 1, 2, 1, 2, 1, 2, 1, 2, 1, 2, 2, 2, 2, 2, 2, 2, 2, 2, 1,\n",
       "       0, 2, 2, 2, 2, 2, 2, 2, 2, 1, 2, 2, 0, 1, 2, 2, 2, 2, 1, 2, 1, 0,\n",
       "       1, 0, 1, 2, 0, 2, 2, 2, 0, 2, 1, 1, 1, 2, 1, 2, 2, 2, 2, 1, 2, 1,\n",
       "       1, 1, 2, 2, 1, 2, 2, 2, 2, 1, 1, 2, 2, 2, 2, 2, 2, 2, 1, 1, 1, 1,\n",
       "       1, 2, 2, 2, 2, 2, 2, 1, 2, 2, 2, 1, 2, 2, 2, 2, 2, 2, 1, 1, 2, 2,\n",
       "       2, 2, 1, 2, 1, 2, 2, 2, 2, 2, 2, 2, 1, 2, 0, 1, 2, 2, 1, 0, 2, 2,\n",
       "       2, 1, 2, 1, 0, 2, 1, 1, 1, 2, 2, 2, 2, 2, 2, 2, 2, 2, 2, 2, 0, 2,\n",
       "       2, 0, 2, 2, 2, 2, 1, 2, 1, 2, 2, 2, 2, 1, 2, 1, 1, 1, 2, 2, 2, 2,\n",
       "       2, 1, 2, 0, 1, 2, 0, 1, 2, 2, 1, 2, 1, 2, 2, 2, 1, 2, 1, 1, 2, 1,\n",
       "       2, 2, 1, 0, 2, 1, 2, 0, 2, 2, 2, 2, 2, 2, 0, 2, 2, 2, 2, 1, 2, 0,\n",
       "       0, 2, 2, 0, 2, 2, 1, 2, 2, 2, 3, 1, 0, 0, 1, 2, 1, 1, 1, 1, 2, 2,\n",
       "       1, 2, 2, 1, 2, 2, 1, 2, 2, 1, 0, 2, 2, 1, 0, 1, 2, 2, 1, 2, 2, 1,\n",
       "       2, 2, 1, 1, 2, 1, 2, 2, 2, 2, 2, 2, 1, 1, 2, 0, 1, 2, 2, 0, 2, 1,\n",
       "       1, 2, 1, 1, 2, 2, 2, 1, 2, 1, 1, 2, 2, 2, 2, 0, 1, 2, 1, 2, 2, 2,\n",
       "       2, 2, 1, 2, 2, 2, 2, 1, 2, 1, 1, 2, 0, 0, 2, 2, 2, 0, 1, 2, 1, 2,\n",
       "       2, 1, 1, 1, 2, 2, 2, 2, 0, 0, 0, 1, 2, 2, 2, 2, 1, 2, 2, 0, 1, 2,\n",
       "       2, 1, 1, 2, 0, 0, 2, 2, 2, 2, 1, 1, 2, 0, 1, 2, 1, 2, 2, 2, 1, 2,\n",
       "       0, 2, 2, 0, 2, 2, 2, 1, 1, 3, 1, 2, 2, 1, 2, 1, 1, 2, 2, 1, 2, 1,\n",
       "       2, 1, 2, 2, 2, 2, 1, 1, 2, 2, 1, 1, 2, 2, 1, 2, 0, 2, 0, 1, 2, 2,\n",
       "       0, 1, 1, 2, 1, 2, 2, 1, 1, 1, 0, 2, 2, 2, 1, 1], dtype=int64)"
      ]
     },
     "execution_count": 6,
     "metadata": {},
     "output_type": "execute_result"
    }
   ],
   "source": [
    "features=df.loc[:,df.columns!='Labels'].values[:,:]\n",
    "labels=df.loc[:,'Labels'].values\n",
    "labels"
   ]
  },
  {
   "cell_type": "code",
   "execution_count": 7,
   "metadata": {},
   "outputs": [
    {
     "data": {
      "text/plain": [
       "(500, 10)"
      ]
     },
     "execution_count": 7,
     "metadata": {},
     "output_type": "execute_result"
    }
   ],
   "source": [
    "scaler=MinMaxScaler((-1,1))\n",
    "x=scaler.fit_transform(features)\n",
    "y=labels\n",
    "x.shape"
   ]
  },
  {
   "cell_type": "code",
   "execution_count": 8,
   "metadata": {},
   "outputs": [],
   "source": [
    "x_train,x_test,y_train,y_test=train_test_split(x, y, test_size=0.3, random_state=7)"
   ]
  },
  {
   "cell_type": "markdown",
   "metadata": {},
   "source": [
    "## AdaBoost"
   ]
  },
  {
   "cell_type": "markdown",
   "metadata": {},
   "source": [
    "### Model 1"
   ]
  },
  {
   "cell_type": "code",
   "execution_count": 9,
   "metadata": {},
   "outputs": [],
   "source": [
    "abc = AdaBoostClassifier(n_estimators=50,learning_rate=1)\n",
    "model3 = abc.fit(x_train, y_train)\n",
    "y_pred3 = model3.predict(x_test)"
   ]
  },
  {
   "cell_type": "code",
   "execution_count": 10,
   "metadata": {},
   "outputs": [
    {
     "data": {
      "text/plain": [
       "0.5066666666666667"
      ]
     },
     "execution_count": 10,
     "metadata": {},
     "output_type": "execute_result"
    }
   ],
   "source": [
    "accuracy_score(y_test, y_pred3)"
   ]
  },
  {
   "cell_type": "markdown",
   "metadata": {},
   "source": [
    "### Model 2"
   ]
  },
  {
   "cell_type": "code",
   "execution_count": 11,
   "metadata": {},
   "outputs": [],
   "source": [
    "param_grid = {'n_estimators':[10,20,30,40,50],'learning_rate':[1,2,3,4,5],'algorithm':['SAMME','SAMME.R']}"
   ]
  },
  {
   "cell_type": "code",
   "execution_count": 12,
   "metadata": {},
   "outputs": [],
   "source": [
    "grid = GridSearchCV(AdaBoostClassifier(),param_grid,refit=True,verbose=3)"
   ]
  },
  {
   "cell_type": "code",
   "execution_count": 13,
   "metadata": {},
   "outputs": [
    {
     "name": "stdout",
     "output_type": "stream",
     "text": [
      "Fitting 5 folds for each of 50 candidates, totalling 250 fits\n",
      "[CV 1/5] END algorithm=SAMME, learning_rate=1, n_estimators=10;, score=0.586 total time=   0.0s\n",
      "[CV 2/5] END algorithm=SAMME, learning_rate=1, n_estimators=10;, score=0.557 total time=   0.0s\n",
      "[CV 3/5] END algorithm=SAMME, learning_rate=1, n_estimators=10;, score=0.529 total time=   0.0s\n",
      "[CV 4/5] END algorithm=SAMME, learning_rate=1, n_estimators=10;, score=0.471 total time=   0.0s\n",
      "[CV 5/5] END algorithm=SAMME, learning_rate=1, n_estimators=10;, score=0.557 total time=   0.0s\n",
      "[CV 1/5] END algorithm=SAMME, learning_rate=1, n_estimators=20;, score=0.586 total time=   0.0s\n",
      "[CV 2/5] END algorithm=SAMME, learning_rate=1, n_estimators=20;, score=0.443 total time=   0.0s\n"
     ]
    },
    {
     "name": "stderr",
     "output_type": "stream",
     "text": [
      "C:\\Users\\user\\anaconda3\\lib\\site-packages\\sklearn\\model_selection\\_split.py:668: UserWarning: The least populated class in y has only 2 members, which is less than n_splits=5.\n",
      "  % (min_groups, self.n_splits)), UserWarning)\n"
     ]
    },
    {
     "name": "stdout",
     "output_type": "stream",
     "text": [
      "[CV 3/5] END algorithm=SAMME, learning_rate=1, n_estimators=20;, score=0.429 total time=   0.0s\n",
      "[CV 4/5] END algorithm=SAMME, learning_rate=1, n_estimators=20;, score=0.557 total time=   0.0s\n",
      "[CV 5/5] END algorithm=SAMME, learning_rate=1, n_estimators=20;, score=0.557 total time=   0.0s\n",
      "[CV 1/5] END algorithm=SAMME, learning_rate=1, n_estimators=30;, score=0.486 total time=   0.0s\n",
      "[CV 2/5] END algorithm=SAMME, learning_rate=1, n_estimators=30;, score=0.586 total time=   0.0s\n",
      "[CV 3/5] END algorithm=SAMME, learning_rate=1, n_estimators=30;, score=0.529 total time=   0.0s\n",
      "[CV 4/5] END algorithm=SAMME, learning_rate=1, n_estimators=30;, score=0.557 total time=   0.0s\n",
      "[CV 5/5] END algorithm=SAMME, learning_rate=1, n_estimators=30;, score=0.586 total time=   0.0s\n",
      "[CV 1/5] END algorithm=SAMME, learning_rate=1, n_estimators=40;, score=0.429 total time=   0.0s\n",
      "[CV 2/5] END algorithm=SAMME, learning_rate=1, n_estimators=40;, score=0.557 total time=   0.0s\n",
      "[CV 3/5] END algorithm=SAMME, learning_rate=1, n_estimators=40;, score=0.429 total time=   0.0s\n",
      "[CV 4/5] END algorithm=SAMME, learning_rate=1, n_estimators=40;, score=0.543 total time=   0.0s\n",
      "[CV 5/5] END algorithm=SAMME, learning_rate=1, n_estimators=40;, score=0.643 total time=   0.0s\n",
      "[CV 1/5] END algorithm=SAMME, learning_rate=1, n_estimators=50;, score=0.471 total time=   0.0s\n",
      "[CV 2/5] END algorithm=SAMME, learning_rate=1, n_estimators=50;, score=0.514 total time=   0.0s\n",
      "[CV 3/5] END algorithm=SAMME, learning_rate=1, n_estimators=50;, score=0.571 total time=   0.0s\n",
      "[CV 4/5] END algorithm=SAMME, learning_rate=1, n_estimators=50;, score=0.629 total time=   0.0s\n",
      "[CV 5/5] END algorithm=SAMME, learning_rate=1, n_estimators=50;, score=0.600 total time=   0.0s\n",
      "[CV 1/5] END algorithm=SAMME, learning_rate=2, n_estimators=10;, score=0.414 total time=   0.0s\n",
      "[CV 2/5] END algorithm=SAMME, learning_rate=2, n_estimators=10;, score=0.614 total time=   0.0s\n",
      "[CV 3/5] END algorithm=SAMME, learning_rate=2, n_estimators=10;, score=0.429 total time=   0.0s\n",
      "[CV 4/5] END algorithm=SAMME, learning_rate=2, n_estimators=10;, score=0.600 total time=   0.0s\n",
      "[CV 5/5] END algorithm=SAMME, learning_rate=2, n_estimators=10;, score=0.614 total time=   0.0s\n",
      "[CV 1/5] END algorithm=SAMME, learning_rate=2, n_estimators=20;, score=0.457 total time=   0.0s\n",
      "[CV 2/5] END algorithm=SAMME, learning_rate=2, n_estimators=20;, score=0.600 total time=   0.0s\n",
      "[CV 3/5] END algorithm=SAMME, learning_rate=2, n_estimators=20;, score=0.500 total time=   0.0s\n",
      "[CV 4/5] END algorithm=SAMME, learning_rate=2, n_estimators=20;, score=0.314 total time=   0.0s\n",
      "[CV 5/5] END algorithm=SAMME, learning_rate=2, n_estimators=20;, score=0.471 total time=   0.0s\n",
      "[CV 1/5] END algorithm=SAMME, learning_rate=2, n_estimators=30;, score=0.457 total time=   0.0s\n",
      "[CV 2/5] END algorithm=SAMME, learning_rate=2, n_estimators=30;, score=0.529 total time=   0.0s\n",
      "[CV 3/5] END algorithm=SAMME, learning_rate=2, n_estimators=30;, score=0.457 total time=   0.0s\n",
      "[CV 4/5] END algorithm=SAMME, learning_rate=2, n_estimators=30;, score=0.571 total time=   0.0s\n",
      "[CV 5/5] END algorithm=SAMME, learning_rate=2, n_estimators=30;, score=0.543 total time=   0.0s\n",
      "[CV 1/5] END algorithm=SAMME, learning_rate=2, n_estimators=40;, score=0.400 total time=   0.0s\n",
      "[CV 2/5] END algorithm=SAMME, learning_rate=2, n_estimators=40;, score=0.471 total time=   0.0s\n",
      "[CV 3/5] END algorithm=SAMME, learning_rate=2, n_estimators=40;, score=0.414 total time=   0.0s\n",
      "[CV 4/5] END algorithm=SAMME, learning_rate=2, n_estimators=40;, score=0.571 total time=   0.0s\n",
      "[CV 5/5] END algorithm=SAMME, learning_rate=2, n_estimators=40;, score=0.371 total time=   0.0s\n",
      "[CV 1/5] END algorithm=SAMME, learning_rate=2, n_estimators=50;, score=0.414 total time=   0.0s\n",
      "[CV 2/5] END algorithm=SAMME, learning_rate=2, n_estimators=50;, score=0.229 total time=   0.0s\n",
      "[CV 3/5] END algorithm=SAMME, learning_rate=2, n_estimators=50;, score=0.557 total time=   0.0s\n",
      "[CV 4/5] END algorithm=SAMME, learning_rate=2, n_estimators=50;, score=0.514 total time=   0.0s\n",
      "[CV 5/5] END algorithm=SAMME, learning_rate=2, n_estimators=50;, score=0.471 total time=   0.0s\n",
      "[CV 1/5] END algorithm=SAMME, learning_rate=3, n_estimators=10;, score=0.386 total time=   0.0s\n",
      "[CV 2/5] END algorithm=SAMME, learning_rate=3, n_estimators=10;, score=0.614 total time=   0.0s\n",
      "[CV 3/5] END algorithm=SAMME, learning_rate=3, n_estimators=10;, score=0.357 total time=   0.0s\n",
      "[CV 4/5] END algorithm=SAMME, learning_rate=3, n_estimators=10;, score=0.271 total time=   0.0s\n",
      "[CV 5/5] END algorithm=SAMME, learning_rate=3, n_estimators=10;, score=0.500 total time=   0.0s\n",
      "[CV 1/5] END algorithm=SAMME, learning_rate=3, n_estimators=20;, score=0.300 total time=   0.0s\n",
      "[CV 2/5] END algorithm=SAMME, learning_rate=3, n_estimators=20;, score=0.071 total time=   0.0s\n",
      "[CV 3/5] END algorithm=SAMME, learning_rate=3, n_estimators=20;, score=0.543 total time=   0.0s\n",
      "[CV 4/5] END algorithm=SAMME, learning_rate=3, n_estimators=20;, score=0.300 total time=   0.0s\n",
      "[CV 5/5] END algorithm=SAMME, learning_rate=3, n_estimators=20;, score=0.614 total time=   0.0s\n",
      "[CV 1/5] END algorithm=SAMME, learning_rate=3, n_estimators=30;, score=0.443 total time=   0.0s\n",
      "[CV 2/5] END algorithm=SAMME, learning_rate=3, n_estimators=30;, score=0.071 total time=   0.0s\n",
      "[CV 3/5] END algorithm=SAMME, learning_rate=3, n_estimators=30;, score=0.486 total time=   0.0s\n",
      "[CV 4/5] END algorithm=SAMME, learning_rate=3, n_estimators=30;, score=0.486 total time=   0.0s\n",
      "[CV 5/5] END algorithm=SAMME, learning_rate=3, n_estimators=30;, score=0.300 total time=   0.0s\n",
      "[CV 1/5] END algorithm=SAMME, learning_rate=3, n_estimators=40;, score=0.329 total time=   0.0s\n",
      "[CV 2/5] END algorithm=SAMME, learning_rate=3, n_estimators=40;, score=0.171 total time=   0.0s\n",
      "[CV 3/5] END algorithm=SAMME, learning_rate=3, n_estimators=40;, score=0.329 total time=   0.0s\n",
      "[CV 4/5] END algorithm=SAMME, learning_rate=3, n_estimators=40;, score=0.400 total time=   0.0s\n",
      "[CV 5/5] END algorithm=SAMME, learning_rate=3, n_estimators=40;, score=0.571 total time=   0.0s\n",
      "[CV 1/5] END algorithm=SAMME, learning_rate=3, n_estimators=50;, score=0.486 total time=   0.0s\n",
      "[CV 2/5] END algorithm=SAMME, learning_rate=3, n_estimators=50;, score=0.614 total time=   0.0s\n",
      "[CV 3/5] END algorithm=SAMME, learning_rate=3, n_estimators=50;, score=0.400 total time=   0.0s\n",
      "[CV 4/5] END algorithm=SAMME, learning_rate=3, n_estimators=50;, score=0.357 total time=   0.0s\n",
      "[CV 5/5] END algorithm=SAMME, learning_rate=3, n_estimators=50;, score=0.286 total time=   0.0s\n",
      "[CV 1/5] END algorithm=SAMME, learning_rate=4, n_estimators=10;, score=0.186 total time=   0.0s\n",
      "[CV 2/5] END algorithm=SAMME, learning_rate=4, n_estimators=10;, score=0.614 total time=   0.0s\n",
      "[CV 3/5] END algorithm=SAMME, learning_rate=4, n_estimators=10;, score=0.143 total time=   0.0s\n",
      "[CV 4/5] END algorithm=SAMME, learning_rate=4, n_estimators=10;, score=0.329 total time=   0.0s\n",
      "[CV 5/5] END algorithm=SAMME, learning_rate=4, n_estimators=10;, score=0.614 total time=   0.0s\n",
      "[CV 1/5] END algorithm=SAMME, learning_rate=4, n_estimators=20;, score=0.329 total time=   0.0s\n",
      "[CV 2/5] END algorithm=SAMME, learning_rate=4, n_estimators=20;, score=nan total time=   0.0s\n",
      "[CV 3/5] END algorithm=SAMME, learning_rate=4, n_estimators=20;, score=0.043 total time=   0.0s\n",
      "[CV 4/5] END algorithm=SAMME, learning_rate=4, n_estimators=20;, score=0.529 total time=   0.0s\n",
      "[CV 5/5] END algorithm=SAMME, learning_rate=4, n_estimators=20;, score=nan total time=   0.0s\n",
      "[CV 1/5] END algorithm=SAMME, learning_rate=4, n_estimators=30;, score=0.514 total time=   0.0s\n"
     ]
    },
    {
     "name": "stderr",
     "output_type": "stream",
     "text": [
      "C:\\Users\\user\\anaconda3\\lib\\site-packages\\sklearn\\ensemble\\_weight_boosting.py:610: RuntimeWarning: overflow encountered in exp\n",
      "  (sample_weight > 0))\n",
      "C:\\Users\\user\\anaconda3\\lib\\site-packages\\sklearn\\ensemble\\_weight_boosting.py:155: RuntimeWarning: invalid value encountered in true_divide\n",
      "  sample_weight /= sample_weight_sum\n",
      "C:\\Users\\user\\anaconda3\\lib\\site-packages\\sklearn\\model_selection\\_validation.py:619: FitFailedWarning: Estimator fit failed. The score on this train-test partition for these parameters will be set to nan. Details: \n",
      "Traceback (most recent call last):\n",
      "  File \"C:\\Users\\user\\anaconda3\\lib\\site-packages\\sklearn\\model_selection\\_validation.py\", line 598, in _fit_and_score\n",
      "    estimator.fit(X_train, y_train, **fit_params)\n",
      "  File \"C:\\Users\\user\\anaconda3\\lib\\site-packages\\sklearn\\ensemble\\_weight_boosting.py\", line 443, in fit\n",
      "    return super().fit(X, y, sample_weight)\n",
      "  File \"C:\\Users\\user\\anaconda3\\lib\\site-packages\\sklearn\\ensemble\\_weight_boosting.py\", line 134, in fit\n",
      "    random_state)\n",
      "  File \"C:\\Users\\user\\anaconda3\\lib\\site-packages\\sklearn\\ensemble\\_weight_boosting.py\", line 507, in _boost\n",
      "    random_state)\n",
      "  File \"C:\\Users\\user\\anaconda3\\lib\\site-packages\\sklearn\\ensemble\\_weight_boosting.py\", line 571, in _boost_discrete\n",
      "    estimator.fit(X, y, sample_weight=sample_weight)\n",
      "  File \"C:\\Users\\user\\anaconda3\\lib\\site-packages\\sklearn\\tree\\_classes.py\", line 907, in fit\n",
      "    X_idx_sorted=X_idx_sorted)\n",
      "  File \"C:\\Users\\user\\anaconda3\\lib\\site-packages\\sklearn\\tree\\_classes.py\", line 298, in fit\n",
      "    sample_weight = _check_sample_weight(sample_weight, X, DOUBLE)\n",
      "  File \"C:\\Users\\user\\anaconda3\\lib\\site-packages\\sklearn\\utils\\validation.py\", line 1378, in _check_sample_weight\n",
      "    order=\"C\", copy=copy\n",
      "  File \"C:\\Users\\user\\anaconda3\\lib\\site-packages\\sklearn\\utils\\validation.py\", line 63, in inner_f\n",
      "    return f(*args, **kwargs)\n",
      "  File \"C:\\Users\\user\\anaconda3\\lib\\site-packages\\sklearn\\utils\\validation.py\", line 721, in check_array\n",
      "    allow_nan=force_all_finite == 'allow-nan')\n",
      "  File \"C:\\Users\\user\\anaconda3\\lib\\site-packages\\sklearn\\utils\\validation.py\", line 106, in _assert_all_finite\n",
      "    msg_dtype if msg_dtype is not None else X.dtype)\n",
      "ValueError: Input contains NaN, infinity or a value too large for dtype('float64').\n",
      "\n",
      "  FitFailedWarning)\n",
      "C:\\Users\\user\\anaconda3\\lib\\site-packages\\sklearn\\ensemble\\_weight_boosting.py:610: RuntimeWarning: overflow encountered in exp\n",
      "  (sample_weight > 0))\n",
      "C:\\Users\\user\\anaconda3\\lib\\site-packages\\sklearn\\ensemble\\_weight_boosting.py:155: RuntimeWarning: invalid value encountered in true_divide\n",
      "  sample_weight /= sample_weight_sum\n",
      "C:\\Users\\user\\anaconda3\\lib\\site-packages\\sklearn\\model_selection\\_validation.py:619: FitFailedWarning: Estimator fit failed. The score on this train-test partition for these parameters will be set to nan. Details: \n",
      "Traceback (most recent call last):\n",
      "  File \"C:\\Users\\user\\anaconda3\\lib\\site-packages\\sklearn\\model_selection\\_validation.py\", line 598, in _fit_and_score\n",
      "    estimator.fit(X_train, y_train, **fit_params)\n",
      "  File \"C:\\Users\\user\\anaconda3\\lib\\site-packages\\sklearn\\ensemble\\_weight_boosting.py\", line 443, in fit\n",
      "    return super().fit(X, y, sample_weight)\n",
      "  File \"C:\\Users\\user\\anaconda3\\lib\\site-packages\\sklearn\\ensemble\\_weight_boosting.py\", line 134, in fit\n",
      "    random_state)\n",
      "  File \"C:\\Users\\user\\anaconda3\\lib\\site-packages\\sklearn\\ensemble\\_weight_boosting.py\", line 507, in _boost\n",
      "    random_state)\n",
      "  File \"C:\\Users\\user\\anaconda3\\lib\\site-packages\\sklearn\\ensemble\\_weight_boosting.py\", line 571, in _boost_discrete\n",
      "    estimator.fit(X, y, sample_weight=sample_weight)\n",
      "  File \"C:\\Users\\user\\anaconda3\\lib\\site-packages\\sklearn\\tree\\_classes.py\", line 907, in fit\n",
      "    X_idx_sorted=X_idx_sorted)\n",
      "  File \"C:\\Users\\user\\anaconda3\\lib\\site-packages\\sklearn\\tree\\_classes.py\", line 298, in fit\n",
      "    sample_weight = _check_sample_weight(sample_weight, X, DOUBLE)\n",
      "  File \"C:\\Users\\user\\anaconda3\\lib\\site-packages\\sklearn\\utils\\validation.py\", line 1378, in _check_sample_weight\n",
      "    order=\"C\", copy=copy\n",
      "  File \"C:\\Users\\user\\anaconda3\\lib\\site-packages\\sklearn\\utils\\validation.py\", line 63, in inner_f\n",
      "    return f(*args, **kwargs)\n",
      "  File \"C:\\Users\\user\\anaconda3\\lib\\site-packages\\sklearn\\utils\\validation.py\", line 721, in check_array\n",
      "    allow_nan=force_all_finite == 'allow-nan')\n",
      "  File \"C:\\Users\\user\\anaconda3\\lib\\site-packages\\sklearn\\utils\\validation.py\", line 106, in _assert_all_finite\n",
      "    msg_dtype if msg_dtype is not None else X.dtype)\n",
      "ValueError: Input contains NaN, infinity or a value too large for dtype('float64').\n",
      "\n",
      "  FitFailedWarning)\n",
      "C:\\Users\\user\\anaconda3\\lib\\site-packages\\sklearn\\ensemble\\_weight_boosting.py:610: RuntimeWarning: overflow encountered in exp\n",
      "  (sample_weight > 0))\n",
      "C:\\Users\\user\\anaconda3\\lib\\site-packages\\sklearn\\ensemble\\_weight_boosting.py:155: RuntimeWarning: invalid value encountered in true_divide\n",
      "  sample_weight /= sample_weight_sum\n",
      "C:\\Users\\user\\anaconda3\\lib\\site-packages\\sklearn\\model_selection\\_validation.py:619: FitFailedWarning: Estimator fit failed. The score on this train-test partition for these parameters will be set to nan. Details: \n",
      "Traceback (most recent call last):\n",
      "  File \"C:\\Users\\user\\anaconda3\\lib\\site-packages\\sklearn\\model_selection\\_validation.py\", line 598, in _fit_and_score\n",
      "    estimator.fit(X_train, y_train, **fit_params)\n",
      "  File \"C:\\Users\\user\\anaconda3\\lib\\site-packages\\sklearn\\ensemble\\_weight_boosting.py\", line 443, in fit\n",
      "    return super().fit(X, y, sample_weight)\n",
      "  File \"C:\\Users\\user\\anaconda3\\lib\\site-packages\\sklearn\\ensemble\\_weight_boosting.py\", line 134, in fit\n",
      "    random_state)\n",
      "  File \"C:\\Users\\user\\anaconda3\\lib\\site-packages\\sklearn\\ensemble\\_weight_boosting.py\", line 507, in _boost\n",
      "    random_state)\n",
      "  File \"C:\\Users\\user\\anaconda3\\lib\\site-packages\\sklearn\\ensemble\\_weight_boosting.py\", line 571, in _boost_discrete\n",
      "    estimator.fit(X, y, sample_weight=sample_weight)\n",
      "  File \"C:\\Users\\user\\anaconda3\\lib\\site-packages\\sklearn\\tree\\_classes.py\", line 907, in fit\n",
      "    X_idx_sorted=X_idx_sorted)\n",
      "  File \"C:\\Users\\user\\anaconda3\\lib\\site-packages\\sklearn\\tree\\_classes.py\", line 298, in fit\n",
      "    sample_weight = _check_sample_weight(sample_weight, X, DOUBLE)\n",
      "  File \"C:\\Users\\user\\anaconda3\\lib\\site-packages\\sklearn\\utils\\validation.py\", line 1378, in _check_sample_weight\n",
      "    order=\"C\", copy=copy\n",
      "  File \"C:\\Users\\user\\anaconda3\\lib\\site-packages\\sklearn\\utils\\validation.py\", line 63, in inner_f\n",
      "    return f(*args, **kwargs)\n",
      "  File \"C:\\Users\\user\\anaconda3\\lib\\site-packages\\sklearn\\utils\\validation.py\", line 721, in check_array\n",
      "    allow_nan=force_all_finite == 'allow-nan')\n",
      "  File \"C:\\Users\\user\\anaconda3\\lib\\site-packages\\sklearn\\utils\\validation.py\", line 106, in _assert_all_finite\n",
      "    msg_dtype if msg_dtype is not None else X.dtype)\n",
      "ValueError: Input contains NaN, infinity or a value too large for dtype('float64').\n",
      "\n",
      "  FitFailedWarning)\n",
      "C:\\Users\\user\\anaconda3\\lib\\site-packages\\sklearn\\ensemble\\_weight_boosting.py:610: RuntimeWarning: overflow encountered in exp\n",
      "  (sample_weight > 0))\n",
      "C:\\Users\\user\\anaconda3\\lib\\site-packages\\sklearn\\ensemble\\_weight_boosting.py:155: RuntimeWarning: invalid value encountered in true_divide\n",
      "  sample_weight /= sample_weight_sum\n",
      "C:\\Users\\user\\anaconda3\\lib\\site-packages\\sklearn\\model_selection\\_validation.py:619: FitFailedWarning: Estimator fit failed. The score on this train-test partition for these parameters will be set to nan. Details: \n",
      "Traceback (most recent call last):\n",
      "  File \"C:\\Users\\user\\anaconda3\\lib\\site-packages\\sklearn\\model_selection\\_validation.py\", line 598, in _fit_and_score\n",
      "    estimator.fit(X_train, y_train, **fit_params)\n",
      "  File \"C:\\Users\\user\\anaconda3\\lib\\site-packages\\sklearn\\ensemble\\_weight_boosting.py\", line 443, in fit\n",
      "    return super().fit(X, y, sample_weight)\n",
      "  File \"C:\\Users\\user\\anaconda3\\lib\\site-packages\\sklearn\\ensemble\\_weight_boosting.py\", line 134, in fit\n",
      "    random_state)\n",
      "  File \"C:\\Users\\user\\anaconda3\\lib\\site-packages\\sklearn\\ensemble\\_weight_boosting.py\", line 507, in _boost\n",
      "    random_state)\n",
      "  File \"C:\\Users\\user\\anaconda3\\lib\\site-packages\\sklearn\\ensemble\\_weight_boosting.py\", line 571, in _boost_discrete\n",
      "    estimator.fit(X, y, sample_weight=sample_weight)\n",
      "  File \"C:\\Users\\user\\anaconda3\\lib\\site-packages\\sklearn\\tree\\_classes.py\", line 907, in fit\n",
      "    X_idx_sorted=X_idx_sorted)\n",
      "  File \"C:\\Users\\user\\anaconda3\\lib\\site-packages\\sklearn\\tree\\_classes.py\", line 298, in fit\n",
      "    sample_weight = _check_sample_weight(sample_weight, X, DOUBLE)\n",
      "  File \"C:\\Users\\user\\anaconda3\\lib\\site-packages\\sklearn\\utils\\validation.py\", line 1378, in _check_sample_weight\n",
      "    order=\"C\", copy=copy\n",
      "  File \"C:\\Users\\user\\anaconda3\\lib\\site-packages\\sklearn\\utils\\validation.py\", line 63, in inner_f\n",
      "    return f(*args, **kwargs)\n",
      "  File \"C:\\Users\\user\\anaconda3\\lib\\site-packages\\sklearn\\utils\\validation.py\", line 721, in check_array\n",
      "    allow_nan=force_all_finite == 'allow-nan')\n",
      "  File \"C:\\Users\\user\\anaconda3\\lib\\site-packages\\sklearn\\utils\\validation.py\", line 106, in _assert_all_finite\n",
      "    msg_dtype if msg_dtype is not None else X.dtype)\n",
      "ValueError: Input contains NaN, infinity or a value too large for dtype('float64').\n",
      "\n",
      "  FitFailedWarning)\n"
     ]
    },
    {
     "name": "stdout",
     "output_type": "stream",
     "text": [
      "[CV 2/5] END algorithm=SAMME, learning_rate=4, n_estimators=30;, score=nan total time=   0.0s\n",
      "[CV 3/5] END algorithm=SAMME, learning_rate=4, n_estimators=30;, score=0.257 total time=   0.0s\n",
      "[CV 4/5] END algorithm=SAMME, learning_rate=4, n_estimators=30;, score=0.314 total time=   0.0s\n",
      "[CV 5/5] END algorithm=SAMME, learning_rate=4, n_estimators=30;, score=nan total time=   0.0s\n",
      "[CV 1/5] END algorithm=SAMME, learning_rate=4, n_estimators=40;, score=0.271 total time=   0.0s\n"
     ]
    },
    {
     "name": "stderr",
     "output_type": "stream",
     "text": [
      "C:\\Users\\user\\anaconda3\\lib\\site-packages\\sklearn\\ensemble\\_weight_boosting.py:610: RuntimeWarning: overflow encountered in exp\n",
      "  (sample_weight > 0))\n",
      "C:\\Users\\user\\anaconda3\\lib\\site-packages\\sklearn\\ensemble\\_weight_boosting.py:155: RuntimeWarning: invalid value encountered in true_divide\n",
      "  sample_weight /= sample_weight_sum\n",
      "C:\\Users\\user\\anaconda3\\lib\\site-packages\\sklearn\\model_selection\\_validation.py:619: FitFailedWarning: Estimator fit failed. The score on this train-test partition for these parameters will be set to nan. Details: \n",
      "Traceback (most recent call last):\n",
      "  File \"C:\\Users\\user\\anaconda3\\lib\\site-packages\\sklearn\\model_selection\\_validation.py\", line 598, in _fit_and_score\n",
      "    estimator.fit(X_train, y_train, **fit_params)\n",
      "  File \"C:\\Users\\user\\anaconda3\\lib\\site-packages\\sklearn\\ensemble\\_weight_boosting.py\", line 443, in fit\n",
      "    return super().fit(X, y, sample_weight)\n",
      "  File \"C:\\Users\\user\\anaconda3\\lib\\site-packages\\sklearn\\ensemble\\_weight_boosting.py\", line 134, in fit\n",
      "    random_state)\n",
      "  File \"C:\\Users\\user\\anaconda3\\lib\\site-packages\\sklearn\\ensemble\\_weight_boosting.py\", line 507, in _boost\n",
      "    random_state)\n",
      "  File \"C:\\Users\\user\\anaconda3\\lib\\site-packages\\sklearn\\ensemble\\_weight_boosting.py\", line 571, in _boost_discrete\n",
      "    estimator.fit(X, y, sample_weight=sample_weight)\n",
      "  File \"C:\\Users\\user\\anaconda3\\lib\\site-packages\\sklearn\\tree\\_classes.py\", line 907, in fit\n",
      "    X_idx_sorted=X_idx_sorted)\n",
      "  File \"C:\\Users\\user\\anaconda3\\lib\\site-packages\\sklearn\\tree\\_classes.py\", line 298, in fit\n",
      "    sample_weight = _check_sample_weight(sample_weight, X, DOUBLE)\n",
      "  File \"C:\\Users\\user\\anaconda3\\lib\\site-packages\\sklearn\\utils\\validation.py\", line 1378, in _check_sample_weight\n",
      "    order=\"C\", copy=copy\n",
      "  File \"C:\\Users\\user\\anaconda3\\lib\\site-packages\\sklearn\\utils\\validation.py\", line 63, in inner_f\n",
      "    return f(*args, **kwargs)\n",
      "  File \"C:\\Users\\user\\anaconda3\\lib\\site-packages\\sklearn\\utils\\validation.py\", line 721, in check_array\n",
      "    allow_nan=force_all_finite == 'allow-nan')\n",
      "  File \"C:\\Users\\user\\anaconda3\\lib\\site-packages\\sklearn\\utils\\validation.py\", line 106, in _assert_all_finite\n",
      "    msg_dtype if msg_dtype is not None else X.dtype)\n",
      "ValueError: Input contains NaN, infinity or a value too large for dtype('float64').\n",
      "\n",
      "  FitFailedWarning)\n",
      "C:\\Users\\user\\anaconda3\\lib\\site-packages\\sklearn\\ensemble\\_weight_boosting.py:610: RuntimeWarning: overflow encountered in exp\n",
      "  (sample_weight > 0))\n",
      "C:\\Users\\user\\anaconda3\\lib\\site-packages\\sklearn\\ensemble\\_weight_boosting.py:155: RuntimeWarning: invalid value encountered in true_divide\n",
      "  sample_weight /= sample_weight_sum\n",
      "C:\\Users\\user\\anaconda3\\lib\\site-packages\\sklearn\\model_selection\\_validation.py:619: FitFailedWarning: Estimator fit failed. The score on this train-test partition for these parameters will be set to nan. Details: \n",
      "Traceback (most recent call last):\n",
      "  File \"C:\\Users\\user\\anaconda3\\lib\\site-packages\\sklearn\\model_selection\\_validation.py\", line 598, in _fit_and_score\n",
      "    estimator.fit(X_train, y_train, **fit_params)\n",
      "  File \"C:\\Users\\user\\anaconda3\\lib\\site-packages\\sklearn\\ensemble\\_weight_boosting.py\", line 443, in fit\n",
      "    return super().fit(X, y, sample_weight)\n",
      "  File \"C:\\Users\\user\\anaconda3\\lib\\site-packages\\sklearn\\ensemble\\_weight_boosting.py\", line 134, in fit\n",
      "    random_state)\n",
      "  File \"C:\\Users\\user\\anaconda3\\lib\\site-packages\\sklearn\\ensemble\\_weight_boosting.py\", line 507, in _boost\n",
      "    random_state)\n",
      "  File \"C:\\Users\\user\\anaconda3\\lib\\site-packages\\sklearn\\ensemble\\_weight_boosting.py\", line 571, in _boost_discrete\n",
      "    estimator.fit(X, y, sample_weight=sample_weight)\n",
      "  File \"C:\\Users\\user\\anaconda3\\lib\\site-packages\\sklearn\\tree\\_classes.py\", line 907, in fit\n",
      "    X_idx_sorted=X_idx_sorted)\n",
      "  File \"C:\\Users\\user\\anaconda3\\lib\\site-packages\\sklearn\\tree\\_classes.py\", line 298, in fit\n",
      "    sample_weight = _check_sample_weight(sample_weight, X, DOUBLE)\n",
      "  File \"C:\\Users\\user\\anaconda3\\lib\\site-packages\\sklearn\\utils\\validation.py\", line 1378, in _check_sample_weight\n",
      "    order=\"C\", copy=copy\n",
      "  File \"C:\\Users\\user\\anaconda3\\lib\\site-packages\\sklearn\\utils\\validation.py\", line 63, in inner_f\n",
      "    return f(*args, **kwargs)\n",
      "  File \"C:\\Users\\user\\anaconda3\\lib\\site-packages\\sklearn\\utils\\validation.py\", line 721, in check_array\n",
      "    allow_nan=force_all_finite == 'allow-nan')\n",
      "  File \"C:\\Users\\user\\anaconda3\\lib\\site-packages\\sklearn\\utils\\validation.py\", line 106, in _assert_all_finite\n",
      "    msg_dtype if msg_dtype is not None else X.dtype)\n",
      "ValueError: Input contains NaN, infinity or a value too large for dtype('float64').\n",
      "\n",
      "  FitFailedWarning)\n"
     ]
    },
    {
     "name": "stdout",
     "output_type": "stream",
     "text": [
      "[CV 2/5] END algorithm=SAMME, learning_rate=4, n_estimators=40;, score=nan total time=   0.0s\n",
      "[CV 3/5] END algorithm=SAMME, learning_rate=4, n_estimators=40;, score=0.329 total time=   0.0s\n",
      "[CV 4/5] END algorithm=SAMME, learning_rate=4, n_estimators=40;, score=0.271 total time=   0.0s\n",
      "[CV 5/5] END algorithm=SAMME, learning_rate=4, n_estimators=40;, score=nan total time=   0.0s\n",
      "[CV 1/5] END algorithm=SAMME, learning_rate=4, n_estimators=50;, score=0.171 total time=   0.0s\n",
      "[CV 2/5] END algorithm=SAMME, learning_rate=4, n_estimators=50;, score=nan total time=   0.0s\n",
      "[CV 3/5] END algorithm=SAMME, learning_rate=4, n_estimators=50;, score=0.500 total time=   0.0s\n",
      "[CV 4/5] END algorithm=SAMME, learning_rate=4, n_estimators=50;, score=nan total time=   0.0s\n"
     ]
    },
    {
     "name": "stderr",
     "output_type": "stream",
     "text": [
      "C:\\Users\\user\\anaconda3\\lib\\site-packages\\sklearn\\ensemble\\_weight_boosting.py:610: RuntimeWarning: overflow encountered in exp\n",
      "  (sample_weight > 0))\n",
      "C:\\Users\\user\\anaconda3\\lib\\site-packages\\sklearn\\ensemble\\_weight_boosting.py:155: RuntimeWarning: invalid value encountered in true_divide\n",
      "  sample_weight /= sample_weight_sum\n",
      "C:\\Users\\user\\anaconda3\\lib\\site-packages\\sklearn\\model_selection\\_validation.py:619: FitFailedWarning: Estimator fit failed. The score on this train-test partition for these parameters will be set to nan. Details: \n",
      "Traceback (most recent call last):\n",
      "  File \"C:\\Users\\user\\anaconda3\\lib\\site-packages\\sklearn\\model_selection\\_validation.py\", line 598, in _fit_and_score\n",
      "    estimator.fit(X_train, y_train, **fit_params)\n",
      "  File \"C:\\Users\\user\\anaconda3\\lib\\site-packages\\sklearn\\ensemble\\_weight_boosting.py\", line 443, in fit\n",
      "    return super().fit(X, y, sample_weight)\n",
      "  File \"C:\\Users\\user\\anaconda3\\lib\\site-packages\\sklearn\\ensemble\\_weight_boosting.py\", line 134, in fit\n",
      "    random_state)\n",
      "  File \"C:\\Users\\user\\anaconda3\\lib\\site-packages\\sklearn\\ensemble\\_weight_boosting.py\", line 507, in _boost\n",
      "    random_state)\n",
      "  File \"C:\\Users\\user\\anaconda3\\lib\\site-packages\\sklearn\\ensemble\\_weight_boosting.py\", line 571, in _boost_discrete\n",
      "    estimator.fit(X, y, sample_weight=sample_weight)\n",
      "  File \"C:\\Users\\user\\anaconda3\\lib\\site-packages\\sklearn\\tree\\_classes.py\", line 907, in fit\n",
      "    X_idx_sorted=X_idx_sorted)\n",
      "  File \"C:\\Users\\user\\anaconda3\\lib\\site-packages\\sklearn\\tree\\_classes.py\", line 298, in fit\n",
      "    sample_weight = _check_sample_weight(sample_weight, X, DOUBLE)\n",
      "  File \"C:\\Users\\user\\anaconda3\\lib\\site-packages\\sklearn\\utils\\validation.py\", line 1378, in _check_sample_weight\n",
      "    order=\"C\", copy=copy\n",
      "  File \"C:\\Users\\user\\anaconda3\\lib\\site-packages\\sklearn\\utils\\validation.py\", line 63, in inner_f\n",
      "    return f(*args, **kwargs)\n",
      "  File \"C:\\Users\\user\\anaconda3\\lib\\site-packages\\sklearn\\utils\\validation.py\", line 721, in check_array\n",
      "    allow_nan=force_all_finite == 'allow-nan')\n",
      "  File \"C:\\Users\\user\\anaconda3\\lib\\site-packages\\sklearn\\utils\\validation.py\", line 106, in _assert_all_finite\n",
      "    msg_dtype if msg_dtype is not None else X.dtype)\n",
      "ValueError: Input contains NaN, infinity or a value too large for dtype('float64').\n",
      "\n",
      "  FitFailedWarning)\n",
      "C:\\Users\\user\\anaconda3\\lib\\site-packages\\sklearn\\ensemble\\_weight_boosting.py:610: RuntimeWarning: overflow encountered in exp\n",
      "  (sample_weight > 0))\n",
      "C:\\Users\\user\\anaconda3\\lib\\site-packages\\sklearn\\ensemble\\_weight_boosting.py:155: RuntimeWarning: invalid value encountered in true_divide\n",
      "  sample_weight /= sample_weight_sum\n",
      "C:\\Users\\user\\anaconda3\\lib\\site-packages\\sklearn\\model_selection\\_validation.py:619: FitFailedWarning: Estimator fit failed. The score on this train-test partition for these parameters will be set to nan. Details: \n",
      "Traceback (most recent call last):\n",
      "  File \"C:\\Users\\user\\anaconda3\\lib\\site-packages\\sklearn\\model_selection\\_validation.py\", line 598, in _fit_and_score\n",
      "    estimator.fit(X_train, y_train, **fit_params)\n",
      "  File \"C:\\Users\\user\\anaconda3\\lib\\site-packages\\sklearn\\ensemble\\_weight_boosting.py\", line 443, in fit\n",
      "    return super().fit(X, y, sample_weight)\n",
      "  File \"C:\\Users\\user\\anaconda3\\lib\\site-packages\\sklearn\\ensemble\\_weight_boosting.py\", line 134, in fit\n",
      "    random_state)\n",
      "  File \"C:\\Users\\user\\anaconda3\\lib\\site-packages\\sklearn\\ensemble\\_weight_boosting.py\", line 507, in _boost\n",
      "    random_state)\n",
      "  File \"C:\\Users\\user\\anaconda3\\lib\\site-packages\\sklearn\\ensemble\\_weight_boosting.py\", line 571, in _boost_discrete\n",
      "    estimator.fit(X, y, sample_weight=sample_weight)\n",
      "  File \"C:\\Users\\user\\anaconda3\\lib\\site-packages\\sklearn\\tree\\_classes.py\", line 907, in fit\n",
      "    X_idx_sorted=X_idx_sorted)\n",
      "  File \"C:\\Users\\user\\anaconda3\\lib\\site-packages\\sklearn\\tree\\_classes.py\", line 298, in fit\n",
      "    sample_weight = _check_sample_weight(sample_weight, X, DOUBLE)\n",
      "  File \"C:\\Users\\user\\anaconda3\\lib\\site-packages\\sklearn\\utils\\validation.py\", line 1378, in _check_sample_weight\n",
      "    order=\"C\", copy=copy\n",
      "  File \"C:\\Users\\user\\anaconda3\\lib\\site-packages\\sklearn\\utils\\validation.py\", line 63, in inner_f\n",
      "    return f(*args, **kwargs)\n",
      "  File \"C:\\Users\\user\\anaconda3\\lib\\site-packages\\sklearn\\utils\\validation.py\", line 721, in check_array\n",
      "    allow_nan=force_all_finite == 'allow-nan')\n",
      "  File \"C:\\Users\\user\\anaconda3\\lib\\site-packages\\sklearn\\utils\\validation.py\", line 106, in _assert_all_finite\n",
      "    msg_dtype if msg_dtype is not None else X.dtype)\n",
      "ValueError: Input contains NaN, infinity or a value too large for dtype('float64').\n",
      "\n",
      "  FitFailedWarning)\n",
      "C:\\Users\\user\\anaconda3\\lib\\site-packages\\sklearn\\ensemble\\_weight_boosting.py:610: RuntimeWarning: overflow encountered in exp\n",
      "  (sample_weight > 0))\n",
      "C:\\Users\\user\\anaconda3\\lib\\site-packages\\sklearn\\ensemble\\_weight_boosting.py:155: RuntimeWarning: invalid value encountered in true_divide\n",
      "  sample_weight /= sample_weight_sum\n",
      "C:\\Users\\user\\anaconda3\\lib\\site-packages\\sklearn\\model_selection\\_validation.py:619: FitFailedWarning: Estimator fit failed. The score on this train-test partition for these parameters will be set to nan. Details: \n",
      "Traceback (most recent call last):\n",
      "  File \"C:\\Users\\user\\anaconda3\\lib\\site-packages\\sklearn\\model_selection\\_validation.py\", line 598, in _fit_and_score\n",
      "    estimator.fit(X_train, y_train, **fit_params)\n",
      "  File \"C:\\Users\\user\\anaconda3\\lib\\site-packages\\sklearn\\ensemble\\_weight_boosting.py\", line 443, in fit\n",
      "    return super().fit(X, y, sample_weight)\n",
      "  File \"C:\\Users\\user\\anaconda3\\lib\\site-packages\\sklearn\\ensemble\\_weight_boosting.py\", line 134, in fit\n",
      "    random_state)\n",
      "  File \"C:\\Users\\user\\anaconda3\\lib\\site-packages\\sklearn\\ensemble\\_weight_boosting.py\", line 507, in _boost\n",
      "    random_state)\n",
      "  File \"C:\\Users\\user\\anaconda3\\lib\\site-packages\\sklearn\\ensemble\\_weight_boosting.py\", line 571, in _boost_discrete\n",
      "    estimator.fit(X, y, sample_weight=sample_weight)\n",
      "  File \"C:\\Users\\user\\anaconda3\\lib\\site-packages\\sklearn\\tree\\_classes.py\", line 907, in fit\n",
      "    X_idx_sorted=X_idx_sorted)\n",
      "  File \"C:\\Users\\user\\anaconda3\\lib\\site-packages\\sklearn\\tree\\_classes.py\", line 298, in fit\n",
      "    sample_weight = _check_sample_weight(sample_weight, X, DOUBLE)\n",
      "  File \"C:\\Users\\user\\anaconda3\\lib\\site-packages\\sklearn\\utils\\validation.py\", line 1378, in _check_sample_weight\n",
      "    order=\"C\", copy=copy\n",
      "  File \"C:\\Users\\user\\anaconda3\\lib\\site-packages\\sklearn\\utils\\validation.py\", line 63, in inner_f\n",
      "    return f(*args, **kwargs)\n",
      "  File \"C:\\Users\\user\\anaconda3\\lib\\site-packages\\sklearn\\utils\\validation.py\", line 721, in check_array\n",
      "    allow_nan=force_all_finite == 'allow-nan')\n",
      "  File \"C:\\Users\\user\\anaconda3\\lib\\site-packages\\sklearn\\utils\\validation.py\", line 106, in _assert_all_finite\n",
      "    msg_dtype if msg_dtype is not None else X.dtype)\n",
      "ValueError: Input contains NaN, infinity or a value too large for dtype('float64').\n",
      "\n",
      "  FitFailedWarning)\n"
     ]
    },
    {
     "name": "stdout",
     "output_type": "stream",
     "text": [
      "[CV 5/5] END algorithm=SAMME, learning_rate=4, n_estimators=50;, score=nan total time=   0.0s\n",
      "[CV 1/5] END algorithm=SAMME, learning_rate=5, n_estimators=10;, score=0.529 total time=   0.0s\n",
      "[CV 2/5] END algorithm=SAMME, learning_rate=5, n_estimators=10;, score=0.300 total time=   0.0s\n",
      "[CV 3/5] END algorithm=SAMME, learning_rate=5, n_estimators=10;, score=0.343 total time=   0.0s\n",
      "[CV 4/5] END algorithm=SAMME, learning_rate=5, n_estimators=10;, score=0.186 total time=   0.0s\n",
      "[CV 5/5] END algorithm=SAMME, learning_rate=5, n_estimators=10;, score=0.300 total time=   0.0s\n",
      "[CV 1/5] END algorithm=SAMME, learning_rate=5, n_estimators=20;, score=nan total time=   0.0s\n",
      "[CV 2/5] END algorithm=SAMME, learning_rate=5, n_estimators=20;, score=nan total time=   0.0s\n",
      "[CV 3/5] END algorithm=SAMME, learning_rate=5, n_estimators=20;, score=0.571 total time=   0.0s\n"
     ]
    },
    {
     "name": "stderr",
     "output_type": "stream",
     "text": [
      "C:\\Users\\user\\anaconda3\\lib\\site-packages\\sklearn\\ensemble\\_weight_boosting.py:610: RuntimeWarning: overflow encountered in exp\n",
      "  (sample_weight > 0))\n",
      "C:\\Users\\user\\anaconda3\\lib\\site-packages\\sklearn\\ensemble\\_weight_boosting.py:155: RuntimeWarning: invalid value encountered in true_divide\n",
      "  sample_weight /= sample_weight_sum\n",
      "C:\\Users\\user\\anaconda3\\lib\\site-packages\\sklearn\\model_selection\\_validation.py:619: FitFailedWarning: Estimator fit failed. The score on this train-test partition for these parameters will be set to nan. Details: \n",
      "Traceback (most recent call last):\n",
      "  File \"C:\\Users\\user\\anaconda3\\lib\\site-packages\\sklearn\\model_selection\\_validation.py\", line 598, in _fit_and_score\n",
      "    estimator.fit(X_train, y_train, **fit_params)\n",
      "  File \"C:\\Users\\user\\anaconda3\\lib\\site-packages\\sklearn\\ensemble\\_weight_boosting.py\", line 443, in fit\n",
      "    return super().fit(X, y, sample_weight)\n",
      "  File \"C:\\Users\\user\\anaconda3\\lib\\site-packages\\sklearn\\ensemble\\_weight_boosting.py\", line 134, in fit\n",
      "    random_state)\n",
      "  File \"C:\\Users\\user\\anaconda3\\lib\\site-packages\\sklearn\\ensemble\\_weight_boosting.py\", line 507, in _boost\n",
      "    random_state)\n",
      "  File \"C:\\Users\\user\\anaconda3\\lib\\site-packages\\sklearn\\ensemble\\_weight_boosting.py\", line 571, in _boost_discrete\n",
      "    estimator.fit(X, y, sample_weight=sample_weight)\n",
      "  File \"C:\\Users\\user\\anaconda3\\lib\\site-packages\\sklearn\\tree\\_classes.py\", line 907, in fit\n",
      "    X_idx_sorted=X_idx_sorted)\n",
      "  File \"C:\\Users\\user\\anaconda3\\lib\\site-packages\\sklearn\\tree\\_classes.py\", line 298, in fit\n",
      "    sample_weight = _check_sample_weight(sample_weight, X, DOUBLE)\n",
      "  File \"C:\\Users\\user\\anaconda3\\lib\\site-packages\\sklearn\\utils\\validation.py\", line 1378, in _check_sample_weight\n",
      "    order=\"C\", copy=copy\n",
      "  File \"C:\\Users\\user\\anaconda3\\lib\\site-packages\\sklearn\\utils\\validation.py\", line 63, in inner_f\n",
      "    return f(*args, **kwargs)\n",
      "  File \"C:\\Users\\user\\anaconda3\\lib\\site-packages\\sklearn\\utils\\validation.py\", line 721, in check_array\n",
      "    allow_nan=force_all_finite == 'allow-nan')\n",
      "  File \"C:\\Users\\user\\anaconda3\\lib\\site-packages\\sklearn\\utils\\validation.py\", line 106, in _assert_all_finite\n",
      "    msg_dtype if msg_dtype is not None else X.dtype)\n",
      "ValueError: Input contains NaN, infinity or a value too large for dtype('float64').\n",
      "\n",
      "  FitFailedWarning)\n",
      "C:\\Users\\user\\anaconda3\\lib\\site-packages\\sklearn\\ensemble\\_weight_boosting.py:610: RuntimeWarning: overflow encountered in exp\n",
      "  (sample_weight > 0))\n",
      "C:\\Users\\user\\anaconda3\\lib\\site-packages\\sklearn\\ensemble\\_weight_boosting.py:155: RuntimeWarning: invalid value encountered in true_divide\n",
      "  sample_weight /= sample_weight_sum\n",
      "C:\\Users\\user\\anaconda3\\lib\\site-packages\\sklearn\\model_selection\\_validation.py:619: FitFailedWarning: Estimator fit failed. The score on this train-test partition for these parameters will be set to nan. Details: \n",
      "Traceback (most recent call last):\n",
      "  File \"C:\\Users\\user\\anaconda3\\lib\\site-packages\\sklearn\\model_selection\\_validation.py\", line 598, in _fit_and_score\n",
      "    estimator.fit(X_train, y_train, **fit_params)\n",
      "  File \"C:\\Users\\user\\anaconda3\\lib\\site-packages\\sklearn\\ensemble\\_weight_boosting.py\", line 443, in fit\n",
      "    return super().fit(X, y, sample_weight)\n",
      "  File \"C:\\Users\\user\\anaconda3\\lib\\site-packages\\sklearn\\ensemble\\_weight_boosting.py\", line 134, in fit\n",
      "    random_state)\n",
      "  File \"C:\\Users\\user\\anaconda3\\lib\\site-packages\\sklearn\\ensemble\\_weight_boosting.py\", line 507, in _boost\n",
      "    random_state)\n",
      "  File \"C:\\Users\\user\\anaconda3\\lib\\site-packages\\sklearn\\ensemble\\_weight_boosting.py\", line 571, in _boost_discrete\n",
      "    estimator.fit(X, y, sample_weight=sample_weight)\n",
      "  File \"C:\\Users\\user\\anaconda3\\lib\\site-packages\\sklearn\\tree\\_classes.py\", line 907, in fit\n",
      "    X_idx_sorted=X_idx_sorted)\n",
      "  File \"C:\\Users\\user\\anaconda3\\lib\\site-packages\\sklearn\\tree\\_classes.py\", line 298, in fit\n",
      "    sample_weight = _check_sample_weight(sample_weight, X, DOUBLE)\n",
      "  File \"C:\\Users\\user\\anaconda3\\lib\\site-packages\\sklearn\\utils\\validation.py\", line 1378, in _check_sample_weight\n",
      "    order=\"C\", copy=copy\n",
      "  File \"C:\\Users\\user\\anaconda3\\lib\\site-packages\\sklearn\\utils\\validation.py\", line 63, in inner_f\n",
      "    return f(*args, **kwargs)\n",
      "  File \"C:\\Users\\user\\anaconda3\\lib\\site-packages\\sklearn\\utils\\validation.py\", line 721, in check_array\n",
      "    allow_nan=force_all_finite == 'allow-nan')\n",
      "  File \"C:\\Users\\user\\anaconda3\\lib\\site-packages\\sklearn\\utils\\validation.py\", line 106, in _assert_all_finite\n",
      "    msg_dtype if msg_dtype is not None else X.dtype)\n",
      "ValueError: Input contains NaN, infinity or a value too large for dtype('float64').\n",
      "\n",
      "  FitFailedWarning)\n",
      "C:\\Users\\user\\anaconda3\\lib\\site-packages\\sklearn\\ensemble\\_weight_boosting.py:610: RuntimeWarning: overflow encountered in exp\n",
      "  (sample_weight > 0))\n",
      "C:\\Users\\user\\anaconda3\\lib\\site-packages\\sklearn\\ensemble\\_weight_boosting.py:155: RuntimeWarning: invalid value encountered in true_divide\n",
      "  sample_weight /= sample_weight_sum\n",
      "C:\\Users\\user\\anaconda3\\lib\\site-packages\\sklearn\\model_selection\\_validation.py:619: FitFailedWarning: Estimator fit failed. The score on this train-test partition for these parameters will be set to nan. Details: \n",
      "Traceback (most recent call last):\n",
      "  File \"C:\\Users\\user\\anaconda3\\lib\\site-packages\\sklearn\\model_selection\\_validation.py\", line 598, in _fit_and_score\n",
      "    estimator.fit(X_train, y_train, **fit_params)\n",
      "  File \"C:\\Users\\user\\anaconda3\\lib\\site-packages\\sklearn\\ensemble\\_weight_boosting.py\", line 443, in fit\n",
      "    return super().fit(X, y, sample_weight)\n",
      "  File \"C:\\Users\\user\\anaconda3\\lib\\site-packages\\sklearn\\ensemble\\_weight_boosting.py\", line 134, in fit\n",
      "    random_state)\n",
      "  File \"C:\\Users\\user\\anaconda3\\lib\\site-packages\\sklearn\\ensemble\\_weight_boosting.py\", line 507, in _boost\n",
      "    random_state)\n",
      "  File \"C:\\Users\\user\\anaconda3\\lib\\site-packages\\sklearn\\ensemble\\_weight_boosting.py\", line 571, in _boost_discrete\n",
      "    estimator.fit(X, y, sample_weight=sample_weight)\n",
      "  File \"C:\\Users\\user\\anaconda3\\lib\\site-packages\\sklearn\\tree\\_classes.py\", line 907, in fit\n",
      "    X_idx_sorted=X_idx_sorted)\n",
      "  File \"C:\\Users\\user\\anaconda3\\lib\\site-packages\\sklearn\\tree\\_classes.py\", line 298, in fit\n",
      "    sample_weight = _check_sample_weight(sample_weight, X, DOUBLE)\n",
      "  File \"C:\\Users\\user\\anaconda3\\lib\\site-packages\\sklearn\\utils\\validation.py\", line 1378, in _check_sample_weight\n",
      "    order=\"C\", copy=copy\n",
      "  File \"C:\\Users\\user\\anaconda3\\lib\\site-packages\\sklearn\\utils\\validation.py\", line 63, in inner_f\n",
      "    return f(*args, **kwargs)\n",
      "  File \"C:\\Users\\user\\anaconda3\\lib\\site-packages\\sklearn\\utils\\validation.py\", line 721, in check_array\n",
      "    allow_nan=force_all_finite == 'allow-nan')\n",
      "  File \"C:\\Users\\user\\anaconda3\\lib\\site-packages\\sklearn\\utils\\validation.py\", line 106, in _assert_all_finite\n",
      "    msg_dtype if msg_dtype is not None else X.dtype)\n",
      "ValueError: Input contains NaN, infinity or a value too large for dtype('float64').\n",
      "\n",
      "  FitFailedWarning)\n",
      "C:\\Users\\user\\anaconda3\\lib\\site-packages\\sklearn\\ensemble\\_weight_boosting.py:610: RuntimeWarning: overflow encountered in exp\n",
      "  (sample_weight > 0))\n",
      "C:\\Users\\user\\anaconda3\\lib\\site-packages\\sklearn\\ensemble\\_weight_boosting.py:155: RuntimeWarning: invalid value encountered in true_divide\n",
      "  sample_weight /= sample_weight_sum\n",
      "C:\\Users\\user\\anaconda3\\lib\\site-packages\\sklearn\\model_selection\\_validation.py:619: FitFailedWarning: Estimator fit failed. The score on this train-test partition for these parameters will be set to nan. Details: \n",
      "Traceback (most recent call last):\n",
      "  File \"C:\\Users\\user\\anaconda3\\lib\\site-packages\\sklearn\\model_selection\\_validation.py\", line 598, in _fit_and_score\n",
      "    estimator.fit(X_train, y_train, **fit_params)\n",
      "  File \"C:\\Users\\user\\anaconda3\\lib\\site-packages\\sklearn\\ensemble\\_weight_boosting.py\", line 443, in fit\n",
      "    return super().fit(X, y, sample_weight)\n",
      "  File \"C:\\Users\\user\\anaconda3\\lib\\site-packages\\sklearn\\ensemble\\_weight_boosting.py\", line 134, in fit\n",
      "    random_state)\n",
      "  File \"C:\\Users\\user\\anaconda3\\lib\\site-packages\\sklearn\\ensemble\\_weight_boosting.py\", line 507, in _boost\n",
      "    random_state)\n",
      "  File \"C:\\Users\\user\\anaconda3\\lib\\site-packages\\sklearn\\ensemble\\_weight_boosting.py\", line 571, in _boost_discrete\n",
      "    estimator.fit(X, y, sample_weight=sample_weight)\n",
      "  File \"C:\\Users\\user\\anaconda3\\lib\\site-packages\\sklearn\\tree\\_classes.py\", line 907, in fit\n",
      "    X_idx_sorted=X_idx_sorted)\n",
      "  File \"C:\\Users\\user\\anaconda3\\lib\\site-packages\\sklearn\\tree\\_classes.py\", line 298, in fit\n",
      "    sample_weight = _check_sample_weight(sample_weight, X, DOUBLE)\n",
      "  File \"C:\\Users\\user\\anaconda3\\lib\\site-packages\\sklearn\\utils\\validation.py\", line 1378, in _check_sample_weight\n",
      "    order=\"C\", copy=copy\n",
      "  File \"C:\\Users\\user\\anaconda3\\lib\\site-packages\\sklearn\\utils\\validation.py\", line 63, in inner_f\n",
      "    return f(*args, **kwargs)\n",
      "  File \"C:\\Users\\user\\anaconda3\\lib\\site-packages\\sklearn\\utils\\validation.py\", line 721, in check_array\n",
      "    allow_nan=force_all_finite == 'allow-nan')\n",
      "  File \"C:\\Users\\user\\anaconda3\\lib\\site-packages\\sklearn\\utils\\validation.py\", line 106, in _assert_all_finite\n",
      "    msg_dtype if msg_dtype is not None else X.dtype)\n",
      "ValueError: Input contains NaN, infinity or a value too large for dtype('float64').\n",
      "\n",
      "  FitFailedWarning)\n",
      "C:\\Users\\user\\anaconda3\\lib\\site-packages\\sklearn\\ensemble\\_weight_boosting.py:610: RuntimeWarning: overflow encountered in exp\n",
      "  (sample_weight > 0))\n",
      "C:\\Users\\user\\anaconda3\\lib\\site-packages\\sklearn\\ensemble\\_weight_boosting.py:155: RuntimeWarning: invalid value encountered in true_divide\n",
      "  sample_weight /= sample_weight_sum\n",
      "C:\\Users\\user\\anaconda3\\lib\\site-packages\\sklearn\\model_selection\\_validation.py:619: FitFailedWarning: Estimator fit failed. The score on this train-test partition for these parameters will be set to nan. Details: \n",
      "Traceback (most recent call last):\n",
      "  File \"C:\\Users\\user\\anaconda3\\lib\\site-packages\\sklearn\\model_selection\\_validation.py\", line 598, in _fit_and_score\n",
      "    estimator.fit(X_train, y_train, **fit_params)\n",
      "  File \"C:\\Users\\user\\anaconda3\\lib\\site-packages\\sklearn\\ensemble\\_weight_boosting.py\", line 443, in fit\n",
      "    return super().fit(X, y, sample_weight)\n",
      "  File \"C:\\Users\\user\\anaconda3\\lib\\site-packages\\sklearn\\ensemble\\_weight_boosting.py\", line 134, in fit\n",
      "    random_state)\n",
      "  File \"C:\\Users\\user\\anaconda3\\lib\\site-packages\\sklearn\\ensemble\\_weight_boosting.py\", line 507, in _boost\n",
      "    random_state)\n",
      "  File \"C:\\Users\\user\\anaconda3\\lib\\site-packages\\sklearn\\ensemble\\_weight_boosting.py\", line 571, in _boost_discrete\n",
      "    estimator.fit(X, y, sample_weight=sample_weight)\n",
      "  File \"C:\\Users\\user\\anaconda3\\lib\\site-packages\\sklearn\\tree\\_classes.py\", line 907, in fit\n",
      "    X_idx_sorted=X_idx_sorted)\n",
      "  File \"C:\\Users\\user\\anaconda3\\lib\\site-packages\\sklearn\\tree\\_classes.py\", line 298, in fit\n",
      "    sample_weight = _check_sample_weight(sample_weight, X, DOUBLE)\n",
      "  File \"C:\\Users\\user\\anaconda3\\lib\\site-packages\\sklearn\\utils\\validation.py\", line 1378, in _check_sample_weight\n",
      "    order=\"C\", copy=copy\n",
      "  File \"C:\\Users\\user\\anaconda3\\lib\\site-packages\\sklearn\\utils\\validation.py\", line 63, in inner_f\n",
      "    return f(*args, **kwargs)\n",
      "  File \"C:\\Users\\user\\anaconda3\\lib\\site-packages\\sklearn\\utils\\validation.py\", line 721, in check_array\n",
      "    allow_nan=force_all_finite == 'allow-nan')\n",
      "  File \"C:\\Users\\user\\anaconda3\\lib\\site-packages\\sklearn\\utils\\validation.py\", line 106, in _assert_all_finite\n",
      "    msg_dtype if msg_dtype is not None else X.dtype)\n",
      "ValueError: Input contains NaN, infinity or a value too large for dtype('float64').\n",
      "\n",
      "  FitFailedWarning)\n",
      "C:\\Users\\user\\anaconda3\\lib\\site-packages\\sklearn\\ensemble\\_weight_boosting.py:610: RuntimeWarning: overflow encountered in exp\n",
      "  (sample_weight > 0))\n",
      "C:\\Users\\user\\anaconda3\\lib\\site-packages\\sklearn\\ensemble\\_weight_boosting.py:155: RuntimeWarning: invalid value encountered in true_divide\n",
      "  sample_weight /= sample_weight_sum\n",
      "C:\\Users\\user\\anaconda3\\lib\\site-packages\\sklearn\\model_selection\\_validation.py:619: FitFailedWarning: Estimator fit failed. The score on this train-test partition for these parameters will be set to nan. Details: \n",
      "Traceback (most recent call last):\n",
      "  File \"C:\\Users\\user\\anaconda3\\lib\\site-packages\\sklearn\\model_selection\\_validation.py\", line 598, in _fit_and_score\n",
      "    estimator.fit(X_train, y_train, **fit_params)\n",
      "  File \"C:\\Users\\user\\anaconda3\\lib\\site-packages\\sklearn\\ensemble\\_weight_boosting.py\", line 443, in fit\n",
      "    return super().fit(X, y, sample_weight)\n",
      "  File \"C:\\Users\\user\\anaconda3\\lib\\site-packages\\sklearn\\ensemble\\_weight_boosting.py\", line 134, in fit\n",
      "    random_state)\n",
      "  File \"C:\\Users\\user\\anaconda3\\lib\\site-packages\\sklearn\\ensemble\\_weight_boosting.py\", line 507, in _boost\n",
      "    random_state)\n",
      "  File \"C:\\Users\\user\\anaconda3\\lib\\site-packages\\sklearn\\ensemble\\_weight_boosting.py\", line 571, in _boost_discrete\n",
      "    estimator.fit(X, y, sample_weight=sample_weight)\n",
      "  File \"C:\\Users\\user\\anaconda3\\lib\\site-packages\\sklearn\\tree\\_classes.py\", line 907, in fit\n",
      "    X_idx_sorted=X_idx_sorted)\n",
      "  File \"C:\\Users\\user\\anaconda3\\lib\\site-packages\\sklearn\\tree\\_classes.py\", line 298, in fit\n",
      "    sample_weight = _check_sample_weight(sample_weight, X, DOUBLE)\n",
      "  File \"C:\\Users\\user\\anaconda3\\lib\\site-packages\\sklearn\\utils\\validation.py\", line 1378, in _check_sample_weight\n",
      "    order=\"C\", copy=copy\n",
      "  File \"C:\\Users\\user\\anaconda3\\lib\\site-packages\\sklearn\\utils\\validation.py\", line 63, in inner_f\n",
      "    return f(*args, **kwargs)\n",
      "  File \"C:\\Users\\user\\anaconda3\\lib\\site-packages\\sklearn\\utils\\validation.py\", line 721, in check_array\n",
      "    allow_nan=force_all_finite == 'allow-nan')\n",
      "  File \"C:\\Users\\user\\anaconda3\\lib\\site-packages\\sklearn\\utils\\validation.py\", line 106, in _assert_all_finite\n",
      "    msg_dtype if msg_dtype is not None else X.dtype)\n",
      "ValueError: Input contains NaN, infinity or a value too large for dtype('float64').\n",
      "\n",
      "  FitFailedWarning)\n",
      "C:\\Users\\user\\anaconda3\\lib\\site-packages\\sklearn\\ensemble\\_weight_boosting.py:610: RuntimeWarning: overflow encountered in exp\n",
      "  (sample_weight > 0))\n",
      "C:\\Users\\user\\anaconda3\\lib\\site-packages\\sklearn\\ensemble\\_weight_boosting.py:155: RuntimeWarning: invalid value encountered in true_divide\n",
      "  sample_weight /= sample_weight_sum\n"
     ]
    },
    {
     "name": "stdout",
     "output_type": "stream",
     "text": [
      "[CV 4/5] END algorithm=SAMME, learning_rate=5, n_estimators=20;, score=nan total time=   0.0s\n",
      "[CV 5/5] END algorithm=SAMME, learning_rate=5, n_estimators=20;, score=nan total time=   0.0s\n",
      "[CV 1/5] END algorithm=SAMME, learning_rate=5, n_estimators=30;, score=nan total time=   0.0s\n",
      "[CV 2/5] END algorithm=SAMME, learning_rate=5, n_estimators=30;, score=nan total time=   0.0s\n",
      "[CV 3/5] END algorithm=SAMME, learning_rate=5, n_estimators=30;, score=nan total time=   0.0s\n",
      "[CV 4/5] END algorithm=SAMME, learning_rate=5, n_estimators=30;, score=nan total time=   0.0s\n",
      "[CV 5/5] END algorithm=SAMME, learning_rate=5, n_estimators=30;, score=nan total time=   0.0s\n"
     ]
    },
    {
     "name": "stderr",
     "output_type": "stream",
     "text": [
      "C:\\Users\\user\\anaconda3\\lib\\site-packages\\sklearn\\model_selection\\_validation.py:619: FitFailedWarning: Estimator fit failed. The score on this train-test partition for these parameters will be set to nan. Details: \n",
      "Traceback (most recent call last):\n",
      "  File \"C:\\Users\\user\\anaconda3\\lib\\site-packages\\sklearn\\model_selection\\_validation.py\", line 598, in _fit_and_score\n",
      "    estimator.fit(X_train, y_train, **fit_params)\n",
      "  File \"C:\\Users\\user\\anaconda3\\lib\\site-packages\\sklearn\\ensemble\\_weight_boosting.py\", line 443, in fit\n",
      "    return super().fit(X, y, sample_weight)\n",
      "  File \"C:\\Users\\user\\anaconda3\\lib\\site-packages\\sklearn\\ensemble\\_weight_boosting.py\", line 134, in fit\n",
      "    random_state)\n",
      "  File \"C:\\Users\\user\\anaconda3\\lib\\site-packages\\sklearn\\ensemble\\_weight_boosting.py\", line 507, in _boost\n",
      "    random_state)\n",
      "  File \"C:\\Users\\user\\anaconda3\\lib\\site-packages\\sklearn\\ensemble\\_weight_boosting.py\", line 571, in _boost_discrete\n",
      "    estimator.fit(X, y, sample_weight=sample_weight)\n",
      "  File \"C:\\Users\\user\\anaconda3\\lib\\site-packages\\sklearn\\tree\\_classes.py\", line 907, in fit\n",
      "    X_idx_sorted=X_idx_sorted)\n",
      "  File \"C:\\Users\\user\\anaconda3\\lib\\site-packages\\sklearn\\tree\\_classes.py\", line 298, in fit\n",
      "    sample_weight = _check_sample_weight(sample_weight, X, DOUBLE)\n",
      "  File \"C:\\Users\\user\\anaconda3\\lib\\site-packages\\sklearn\\utils\\validation.py\", line 1378, in _check_sample_weight\n",
      "    order=\"C\", copy=copy\n",
      "  File \"C:\\Users\\user\\anaconda3\\lib\\site-packages\\sklearn\\utils\\validation.py\", line 63, in inner_f\n",
      "    return f(*args, **kwargs)\n",
      "  File \"C:\\Users\\user\\anaconda3\\lib\\site-packages\\sklearn\\utils\\validation.py\", line 721, in check_array\n",
      "    allow_nan=force_all_finite == 'allow-nan')\n",
      "  File \"C:\\Users\\user\\anaconda3\\lib\\site-packages\\sklearn\\utils\\validation.py\", line 106, in _assert_all_finite\n",
      "    msg_dtype if msg_dtype is not None else X.dtype)\n",
      "ValueError: Input contains NaN, infinity or a value too large for dtype('float64').\n",
      "\n",
      "  FitFailedWarning)\n",
      "C:\\Users\\user\\anaconda3\\lib\\site-packages\\sklearn\\ensemble\\_weight_boosting.py:610: RuntimeWarning: overflow encountered in exp\n",
      "  (sample_weight > 0))\n",
      "C:\\Users\\user\\anaconda3\\lib\\site-packages\\sklearn\\ensemble\\_weight_boosting.py:155: RuntimeWarning: invalid value encountered in true_divide\n",
      "  sample_weight /= sample_weight_sum\n",
      "C:\\Users\\user\\anaconda3\\lib\\site-packages\\sklearn\\model_selection\\_validation.py:619: FitFailedWarning: Estimator fit failed. The score on this train-test partition for these parameters will be set to nan. Details: \n",
      "Traceback (most recent call last):\n",
      "  File \"C:\\Users\\user\\anaconda3\\lib\\site-packages\\sklearn\\model_selection\\_validation.py\", line 598, in _fit_and_score\n",
      "    estimator.fit(X_train, y_train, **fit_params)\n",
      "  File \"C:\\Users\\user\\anaconda3\\lib\\site-packages\\sklearn\\ensemble\\_weight_boosting.py\", line 443, in fit\n",
      "    return super().fit(X, y, sample_weight)\n",
      "  File \"C:\\Users\\user\\anaconda3\\lib\\site-packages\\sklearn\\ensemble\\_weight_boosting.py\", line 134, in fit\n",
      "    random_state)\n",
      "  File \"C:\\Users\\user\\anaconda3\\lib\\site-packages\\sklearn\\ensemble\\_weight_boosting.py\", line 507, in _boost\n",
      "    random_state)\n",
      "  File \"C:\\Users\\user\\anaconda3\\lib\\site-packages\\sklearn\\ensemble\\_weight_boosting.py\", line 571, in _boost_discrete\n",
      "    estimator.fit(X, y, sample_weight=sample_weight)\n",
      "  File \"C:\\Users\\user\\anaconda3\\lib\\site-packages\\sklearn\\tree\\_classes.py\", line 907, in fit\n",
      "    X_idx_sorted=X_idx_sorted)\n",
      "  File \"C:\\Users\\user\\anaconda3\\lib\\site-packages\\sklearn\\tree\\_classes.py\", line 298, in fit\n",
      "    sample_weight = _check_sample_weight(sample_weight, X, DOUBLE)\n",
      "  File \"C:\\Users\\user\\anaconda3\\lib\\site-packages\\sklearn\\utils\\validation.py\", line 1378, in _check_sample_weight\n",
      "    order=\"C\", copy=copy\n",
      "  File \"C:\\Users\\user\\anaconda3\\lib\\site-packages\\sklearn\\utils\\validation.py\", line 63, in inner_f\n",
      "    return f(*args, **kwargs)\n",
      "  File \"C:\\Users\\user\\anaconda3\\lib\\site-packages\\sklearn\\utils\\validation.py\", line 721, in check_array\n",
      "    allow_nan=force_all_finite == 'allow-nan')\n",
      "  File \"C:\\Users\\user\\anaconda3\\lib\\site-packages\\sklearn\\utils\\validation.py\", line 106, in _assert_all_finite\n",
      "    msg_dtype if msg_dtype is not None else X.dtype)\n",
      "ValueError: Input contains NaN, infinity or a value too large for dtype('float64').\n",
      "\n",
      "  FitFailedWarning)\n",
      "C:\\Users\\user\\anaconda3\\lib\\site-packages\\sklearn\\ensemble\\_weight_boosting.py:610: RuntimeWarning: overflow encountered in exp\n",
      "  (sample_weight > 0))\n",
      "C:\\Users\\user\\anaconda3\\lib\\site-packages\\sklearn\\ensemble\\_weight_boosting.py:155: RuntimeWarning: invalid value encountered in true_divide\n",
      "  sample_weight /= sample_weight_sum\n",
      "C:\\Users\\user\\anaconda3\\lib\\site-packages\\sklearn\\model_selection\\_validation.py:619: FitFailedWarning: Estimator fit failed. The score on this train-test partition for these parameters will be set to nan. Details: \n",
      "Traceback (most recent call last):\n",
      "  File \"C:\\Users\\user\\anaconda3\\lib\\site-packages\\sklearn\\model_selection\\_validation.py\", line 598, in _fit_and_score\n",
      "    estimator.fit(X_train, y_train, **fit_params)\n",
      "  File \"C:\\Users\\user\\anaconda3\\lib\\site-packages\\sklearn\\ensemble\\_weight_boosting.py\", line 443, in fit\n",
      "    return super().fit(X, y, sample_weight)\n",
      "  File \"C:\\Users\\user\\anaconda3\\lib\\site-packages\\sklearn\\ensemble\\_weight_boosting.py\", line 134, in fit\n",
      "    random_state)\n",
      "  File \"C:\\Users\\user\\anaconda3\\lib\\site-packages\\sklearn\\ensemble\\_weight_boosting.py\", line 507, in _boost\n",
      "    random_state)\n",
      "  File \"C:\\Users\\user\\anaconda3\\lib\\site-packages\\sklearn\\ensemble\\_weight_boosting.py\", line 571, in _boost_discrete\n",
      "    estimator.fit(X, y, sample_weight=sample_weight)\n",
      "  File \"C:\\Users\\user\\anaconda3\\lib\\site-packages\\sklearn\\tree\\_classes.py\", line 907, in fit\n",
      "    X_idx_sorted=X_idx_sorted)\n",
      "  File \"C:\\Users\\user\\anaconda3\\lib\\site-packages\\sklearn\\tree\\_classes.py\", line 298, in fit\n",
      "    sample_weight = _check_sample_weight(sample_weight, X, DOUBLE)\n",
      "  File \"C:\\Users\\user\\anaconda3\\lib\\site-packages\\sklearn\\utils\\validation.py\", line 1378, in _check_sample_weight\n",
      "    order=\"C\", copy=copy\n",
      "  File \"C:\\Users\\user\\anaconda3\\lib\\site-packages\\sklearn\\utils\\validation.py\", line 63, in inner_f\n",
      "    return f(*args, **kwargs)\n",
      "  File \"C:\\Users\\user\\anaconda3\\lib\\site-packages\\sklearn\\utils\\validation.py\", line 721, in check_array\n",
      "    allow_nan=force_all_finite == 'allow-nan')\n",
      "  File \"C:\\Users\\user\\anaconda3\\lib\\site-packages\\sklearn\\utils\\validation.py\", line 106, in _assert_all_finite\n",
      "    msg_dtype if msg_dtype is not None else X.dtype)\n",
      "ValueError: Input contains NaN, infinity or a value too large for dtype('float64').\n",
      "\n",
      "  FitFailedWarning)\n",
      "C:\\Users\\user\\anaconda3\\lib\\site-packages\\sklearn\\ensemble\\_weight_boosting.py:610: RuntimeWarning: overflow encountered in exp\n",
      "  (sample_weight > 0))\n",
      "C:\\Users\\user\\anaconda3\\lib\\site-packages\\sklearn\\ensemble\\_weight_boosting.py:155: RuntimeWarning: invalid value encountered in true_divide\n",
      "  sample_weight /= sample_weight_sum\n",
      "C:\\Users\\user\\anaconda3\\lib\\site-packages\\sklearn\\model_selection\\_validation.py:619: FitFailedWarning: Estimator fit failed. The score on this train-test partition for these parameters will be set to nan. Details: \n",
      "Traceback (most recent call last):\n",
      "  File \"C:\\Users\\user\\anaconda3\\lib\\site-packages\\sklearn\\model_selection\\_validation.py\", line 598, in _fit_and_score\n",
      "    estimator.fit(X_train, y_train, **fit_params)\n",
      "  File \"C:\\Users\\user\\anaconda3\\lib\\site-packages\\sklearn\\ensemble\\_weight_boosting.py\", line 443, in fit\n",
      "    return super().fit(X, y, sample_weight)\n",
      "  File \"C:\\Users\\user\\anaconda3\\lib\\site-packages\\sklearn\\ensemble\\_weight_boosting.py\", line 134, in fit\n",
      "    random_state)\n",
      "  File \"C:\\Users\\user\\anaconda3\\lib\\site-packages\\sklearn\\ensemble\\_weight_boosting.py\", line 507, in _boost\n",
      "    random_state)\n",
      "  File \"C:\\Users\\user\\anaconda3\\lib\\site-packages\\sklearn\\ensemble\\_weight_boosting.py\", line 571, in _boost_discrete\n",
      "    estimator.fit(X, y, sample_weight=sample_weight)\n",
      "  File \"C:\\Users\\user\\anaconda3\\lib\\site-packages\\sklearn\\tree\\_classes.py\", line 907, in fit\n",
      "    X_idx_sorted=X_idx_sorted)\n",
      "  File \"C:\\Users\\user\\anaconda3\\lib\\site-packages\\sklearn\\tree\\_classes.py\", line 298, in fit\n",
      "    sample_weight = _check_sample_weight(sample_weight, X, DOUBLE)\n",
      "  File \"C:\\Users\\user\\anaconda3\\lib\\site-packages\\sklearn\\utils\\validation.py\", line 1378, in _check_sample_weight\n",
      "    order=\"C\", copy=copy\n",
      "  File \"C:\\Users\\user\\anaconda3\\lib\\site-packages\\sklearn\\utils\\validation.py\", line 63, in inner_f\n",
      "    return f(*args, **kwargs)\n",
      "  File \"C:\\Users\\user\\anaconda3\\lib\\site-packages\\sklearn\\utils\\validation.py\", line 721, in check_array\n",
      "    allow_nan=force_all_finite == 'allow-nan')\n",
      "  File \"C:\\Users\\user\\anaconda3\\lib\\site-packages\\sklearn\\utils\\validation.py\", line 106, in _assert_all_finite\n",
      "    msg_dtype if msg_dtype is not None else X.dtype)\n",
      "ValueError: Input contains NaN, infinity or a value too large for dtype('float64').\n",
      "\n",
      "  FitFailedWarning)\n",
      "C:\\Users\\user\\anaconda3\\lib\\site-packages\\sklearn\\ensemble\\_weight_boosting.py:610: RuntimeWarning: overflow encountered in exp\n",
      "  (sample_weight > 0))\n",
      "C:\\Users\\user\\anaconda3\\lib\\site-packages\\sklearn\\ensemble\\_weight_boosting.py:155: RuntimeWarning: invalid value encountered in true_divide\n",
      "  sample_weight /= sample_weight_sum\n",
      "C:\\Users\\user\\anaconda3\\lib\\site-packages\\sklearn\\model_selection\\_validation.py:619: FitFailedWarning: Estimator fit failed. The score on this train-test partition for these parameters will be set to nan. Details: \n",
      "Traceback (most recent call last):\n",
      "  File \"C:\\Users\\user\\anaconda3\\lib\\site-packages\\sklearn\\model_selection\\_validation.py\", line 598, in _fit_and_score\n",
      "    estimator.fit(X_train, y_train, **fit_params)\n",
      "  File \"C:\\Users\\user\\anaconda3\\lib\\site-packages\\sklearn\\ensemble\\_weight_boosting.py\", line 443, in fit\n",
      "    return super().fit(X, y, sample_weight)\n",
      "  File \"C:\\Users\\user\\anaconda3\\lib\\site-packages\\sklearn\\ensemble\\_weight_boosting.py\", line 134, in fit\n",
      "    random_state)\n",
      "  File \"C:\\Users\\user\\anaconda3\\lib\\site-packages\\sklearn\\ensemble\\_weight_boosting.py\", line 507, in _boost\n",
      "    random_state)\n",
      "  File \"C:\\Users\\user\\anaconda3\\lib\\site-packages\\sklearn\\ensemble\\_weight_boosting.py\", line 571, in _boost_discrete\n",
      "    estimator.fit(X, y, sample_weight=sample_weight)\n",
      "  File \"C:\\Users\\user\\anaconda3\\lib\\site-packages\\sklearn\\tree\\_classes.py\", line 907, in fit\n",
      "    X_idx_sorted=X_idx_sorted)\n",
      "  File \"C:\\Users\\user\\anaconda3\\lib\\site-packages\\sklearn\\tree\\_classes.py\", line 298, in fit\n",
      "    sample_weight = _check_sample_weight(sample_weight, X, DOUBLE)\n",
      "  File \"C:\\Users\\user\\anaconda3\\lib\\site-packages\\sklearn\\utils\\validation.py\", line 1378, in _check_sample_weight\n",
      "    order=\"C\", copy=copy\n",
      "  File \"C:\\Users\\user\\anaconda3\\lib\\site-packages\\sklearn\\utils\\validation.py\", line 63, in inner_f\n",
      "    return f(*args, **kwargs)\n",
      "  File \"C:\\Users\\user\\anaconda3\\lib\\site-packages\\sklearn\\utils\\validation.py\", line 721, in check_array\n",
      "    allow_nan=force_all_finite == 'allow-nan')\n",
      "  File \"C:\\Users\\user\\anaconda3\\lib\\site-packages\\sklearn\\utils\\validation.py\", line 106, in _assert_all_finite\n",
      "    msg_dtype if msg_dtype is not None else X.dtype)\n",
      "ValueError: Input contains NaN, infinity or a value too large for dtype('float64').\n",
      "\n",
      "  FitFailedWarning)\n",
      "C:\\Users\\user\\anaconda3\\lib\\site-packages\\sklearn\\ensemble\\_weight_boosting.py:610: RuntimeWarning: overflow encountered in exp\n",
      "  (sample_weight > 0))\n",
      "C:\\Users\\user\\anaconda3\\lib\\site-packages\\sklearn\\ensemble\\_weight_boosting.py:155: RuntimeWarning: invalid value encountered in true_divide\n",
      "  sample_weight /= sample_weight_sum\n",
      "C:\\Users\\user\\anaconda3\\lib\\site-packages\\sklearn\\model_selection\\_validation.py:619: FitFailedWarning: Estimator fit failed. The score on this train-test partition for these parameters will be set to nan. Details: \n",
      "Traceback (most recent call last):\n",
      "  File \"C:\\Users\\user\\anaconda3\\lib\\site-packages\\sklearn\\model_selection\\_validation.py\", line 598, in _fit_and_score\n",
      "    estimator.fit(X_train, y_train, **fit_params)\n",
      "  File \"C:\\Users\\user\\anaconda3\\lib\\site-packages\\sklearn\\ensemble\\_weight_boosting.py\", line 443, in fit\n",
      "    return super().fit(X, y, sample_weight)\n",
      "  File \"C:\\Users\\user\\anaconda3\\lib\\site-packages\\sklearn\\ensemble\\_weight_boosting.py\", line 134, in fit\n",
      "    random_state)\n",
      "  File \"C:\\Users\\user\\anaconda3\\lib\\site-packages\\sklearn\\ensemble\\_weight_boosting.py\", line 507, in _boost\n",
      "    random_state)\n",
      "  File \"C:\\Users\\user\\anaconda3\\lib\\site-packages\\sklearn\\ensemble\\_weight_boosting.py\", line 571, in _boost_discrete\n",
      "    estimator.fit(X, y, sample_weight=sample_weight)\n",
      "  File \"C:\\Users\\user\\anaconda3\\lib\\site-packages\\sklearn\\tree\\_classes.py\", line 907, in fit\n",
      "    X_idx_sorted=X_idx_sorted)\n",
      "  File \"C:\\Users\\user\\anaconda3\\lib\\site-packages\\sklearn\\tree\\_classes.py\", line 298, in fit\n",
      "    sample_weight = _check_sample_weight(sample_weight, X, DOUBLE)\n",
      "  File \"C:\\Users\\user\\anaconda3\\lib\\site-packages\\sklearn\\utils\\validation.py\", line 1378, in _check_sample_weight\n",
      "    order=\"C\", copy=copy\n",
      "  File \"C:\\Users\\user\\anaconda3\\lib\\site-packages\\sklearn\\utils\\validation.py\", line 63, in inner_f\n",
      "    return f(*args, **kwargs)\n",
      "  File \"C:\\Users\\user\\anaconda3\\lib\\site-packages\\sklearn\\utils\\validation.py\", line 721, in check_array\n",
      "    allow_nan=force_all_finite == 'allow-nan')\n",
      "  File \"C:\\Users\\user\\anaconda3\\lib\\site-packages\\sklearn\\utils\\validation.py\", line 106, in _assert_all_finite\n",
      "    msg_dtype if msg_dtype is not None else X.dtype)\n",
      "ValueError: Input contains NaN, infinity or a value too large for dtype('float64').\n",
      "\n",
      "  FitFailedWarning)\n",
      "C:\\Users\\user\\anaconda3\\lib\\site-packages\\sklearn\\ensemble\\_weight_boosting.py:610: RuntimeWarning: overflow encountered in exp\n",
      "  (sample_weight > 0))\n",
      "C:\\Users\\user\\anaconda3\\lib\\site-packages\\sklearn\\ensemble\\_weight_boosting.py:155: RuntimeWarning: invalid value encountered in true_divide\n",
      "  sample_weight /= sample_weight_sum\n"
     ]
    },
    {
     "name": "stdout",
     "output_type": "stream",
     "text": [
      "[CV 1/5] END algorithm=SAMME, learning_rate=5, n_estimators=40;, score=nan total time=   0.0s\n",
      "[CV 2/5] END algorithm=SAMME, learning_rate=5, n_estimators=40;, score=nan total time=   0.0s\n",
      "[CV 3/5] END algorithm=SAMME, learning_rate=5, n_estimators=40;, score=nan total time=   0.0s\n",
      "[CV 4/5] END algorithm=SAMME, learning_rate=5, n_estimators=40;, score=nan total time=   0.0s\n",
      "[CV 5/5] END algorithm=SAMME, learning_rate=5, n_estimators=40;, score=nan total time=   0.0s\n",
      "[CV 1/5] END algorithm=SAMME, learning_rate=5, n_estimators=50;, score=nan total time=   0.0s\n",
      "[CV 2/5] END algorithm=SAMME, learning_rate=5, n_estimators=50;, score=nan total time=   0.0s\n"
     ]
    },
    {
     "name": "stderr",
     "output_type": "stream",
     "text": [
      "C:\\Users\\user\\anaconda3\\lib\\site-packages\\sklearn\\model_selection\\_validation.py:619: FitFailedWarning: Estimator fit failed. The score on this train-test partition for these parameters will be set to nan. Details: \n",
      "Traceback (most recent call last):\n",
      "  File \"C:\\Users\\user\\anaconda3\\lib\\site-packages\\sklearn\\model_selection\\_validation.py\", line 598, in _fit_and_score\n",
      "    estimator.fit(X_train, y_train, **fit_params)\n",
      "  File \"C:\\Users\\user\\anaconda3\\lib\\site-packages\\sklearn\\ensemble\\_weight_boosting.py\", line 443, in fit\n",
      "    return super().fit(X, y, sample_weight)\n",
      "  File \"C:\\Users\\user\\anaconda3\\lib\\site-packages\\sklearn\\ensemble\\_weight_boosting.py\", line 134, in fit\n",
      "    random_state)\n",
      "  File \"C:\\Users\\user\\anaconda3\\lib\\site-packages\\sklearn\\ensemble\\_weight_boosting.py\", line 507, in _boost\n",
      "    random_state)\n",
      "  File \"C:\\Users\\user\\anaconda3\\lib\\site-packages\\sklearn\\ensemble\\_weight_boosting.py\", line 571, in _boost_discrete\n",
      "    estimator.fit(X, y, sample_weight=sample_weight)\n",
      "  File \"C:\\Users\\user\\anaconda3\\lib\\site-packages\\sklearn\\tree\\_classes.py\", line 907, in fit\n",
      "    X_idx_sorted=X_idx_sorted)\n",
      "  File \"C:\\Users\\user\\anaconda3\\lib\\site-packages\\sklearn\\tree\\_classes.py\", line 298, in fit\n",
      "    sample_weight = _check_sample_weight(sample_weight, X, DOUBLE)\n",
      "  File \"C:\\Users\\user\\anaconda3\\lib\\site-packages\\sklearn\\utils\\validation.py\", line 1378, in _check_sample_weight\n",
      "    order=\"C\", copy=copy\n",
      "  File \"C:\\Users\\user\\anaconda3\\lib\\site-packages\\sklearn\\utils\\validation.py\", line 63, in inner_f\n",
      "    return f(*args, **kwargs)\n",
      "  File \"C:\\Users\\user\\anaconda3\\lib\\site-packages\\sklearn\\utils\\validation.py\", line 721, in check_array\n",
      "    allow_nan=force_all_finite == 'allow-nan')\n",
      "  File \"C:\\Users\\user\\anaconda3\\lib\\site-packages\\sklearn\\utils\\validation.py\", line 106, in _assert_all_finite\n",
      "    msg_dtype if msg_dtype is not None else X.dtype)\n",
      "ValueError: Input contains NaN, infinity or a value too large for dtype('float64').\n",
      "\n",
      "  FitFailedWarning)\n",
      "C:\\Users\\user\\anaconda3\\lib\\site-packages\\sklearn\\ensemble\\_weight_boosting.py:610: RuntimeWarning: overflow encountered in exp\n",
      "  (sample_weight > 0))\n",
      "C:\\Users\\user\\anaconda3\\lib\\site-packages\\sklearn\\ensemble\\_weight_boosting.py:155: RuntimeWarning: invalid value encountered in true_divide\n",
      "  sample_weight /= sample_weight_sum\n",
      "C:\\Users\\user\\anaconda3\\lib\\site-packages\\sklearn\\model_selection\\_validation.py:619: FitFailedWarning: Estimator fit failed. The score on this train-test partition for these parameters will be set to nan. Details: \n",
      "Traceback (most recent call last):\n",
      "  File \"C:\\Users\\user\\anaconda3\\lib\\site-packages\\sklearn\\model_selection\\_validation.py\", line 598, in _fit_and_score\n",
      "    estimator.fit(X_train, y_train, **fit_params)\n",
      "  File \"C:\\Users\\user\\anaconda3\\lib\\site-packages\\sklearn\\ensemble\\_weight_boosting.py\", line 443, in fit\n",
      "    return super().fit(X, y, sample_weight)\n",
      "  File \"C:\\Users\\user\\anaconda3\\lib\\site-packages\\sklearn\\ensemble\\_weight_boosting.py\", line 134, in fit\n",
      "    random_state)\n",
      "  File \"C:\\Users\\user\\anaconda3\\lib\\site-packages\\sklearn\\ensemble\\_weight_boosting.py\", line 507, in _boost\n",
      "    random_state)\n",
      "  File \"C:\\Users\\user\\anaconda3\\lib\\site-packages\\sklearn\\ensemble\\_weight_boosting.py\", line 571, in _boost_discrete\n",
      "    estimator.fit(X, y, sample_weight=sample_weight)\n",
      "  File \"C:\\Users\\user\\anaconda3\\lib\\site-packages\\sklearn\\tree\\_classes.py\", line 907, in fit\n",
      "    X_idx_sorted=X_idx_sorted)\n",
      "  File \"C:\\Users\\user\\anaconda3\\lib\\site-packages\\sklearn\\tree\\_classes.py\", line 298, in fit\n",
      "    sample_weight = _check_sample_weight(sample_weight, X, DOUBLE)\n",
      "  File \"C:\\Users\\user\\anaconda3\\lib\\site-packages\\sklearn\\utils\\validation.py\", line 1378, in _check_sample_weight\n",
      "    order=\"C\", copy=copy\n",
      "  File \"C:\\Users\\user\\anaconda3\\lib\\site-packages\\sklearn\\utils\\validation.py\", line 63, in inner_f\n",
      "    return f(*args, **kwargs)\n",
      "  File \"C:\\Users\\user\\anaconda3\\lib\\site-packages\\sklearn\\utils\\validation.py\", line 721, in check_array\n",
      "    allow_nan=force_all_finite == 'allow-nan')\n",
      "  File \"C:\\Users\\user\\anaconda3\\lib\\site-packages\\sklearn\\utils\\validation.py\", line 106, in _assert_all_finite\n",
      "    msg_dtype if msg_dtype is not None else X.dtype)\n",
      "ValueError: Input contains NaN, infinity or a value too large for dtype('float64').\n",
      "\n",
      "  FitFailedWarning)\n",
      "C:\\Users\\user\\anaconda3\\lib\\site-packages\\sklearn\\ensemble\\_weight_boosting.py:610: RuntimeWarning: overflow encountered in exp\n",
      "  (sample_weight > 0))\n",
      "C:\\Users\\user\\anaconda3\\lib\\site-packages\\sklearn\\ensemble\\_weight_boosting.py:155: RuntimeWarning: invalid value encountered in true_divide\n",
      "  sample_weight /= sample_weight_sum\n",
      "C:\\Users\\user\\anaconda3\\lib\\site-packages\\sklearn\\model_selection\\_validation.py:619: FitFailedWarning: Estimator fit failed. The score on this train-test partition for these parameters will be set to nan. Details: \n",
      "Traceback (most recent call last):\n",
      "  File \"C:\\Users\\user\\anaconda3\\lib\\site-packages\\sklearn\\model_selection\\_validation.py\", line 598, in _fit_and_score\n",
      "    estimator.fit(X_train, y_train, **fit_params)\n",
      "  File \"C:\\Users\\user\\anaconda3\\lib\\site-packages\\sklearn\\ensemble\\_weight_boosting.py\", line 443, in fit\n",
      "    return super().fit(X, y, sample_weight)\n",
      "  File \"C:\\Users\\user\\anaconda3\\lib\\site-packages\\sklearn\\ensemble\\_weight_boosting.py\", line 134, in fit\n",
      "    random_state)\n",
      "  File \"C:\\Users\\user\\anaconda3\\lib\\site-packages\\sklearn\\ensemble\\_weight_boosting.py\", line 507, in _boost\n",
      "    random_state)\n",
      "  File \"C:\\Users\\user\\anaconda3\\lib\\site-packages\\sklearn\\ensemble\\_weight_boosting.py\", line 571, in _boost_discrete\n",
      "    estimator.fit(X, y, sample_weight=sample_weight)\n",
      "  File \"C:\\Users\\user\\anaconda3\\lib\\site-packages\\sklearn\\tree\\_classes.py\", line 907, in fit\n",
      "    X_idx_sorted=X_idx_sorted)\n",
      "  File \"C:\\Users\\user\\anaconda3\\lib\\site-packages\\sklearn\\tree\\_classes.py\", line 298, in fit\n",
      "    sample_weight = _check_sample_weight(sample_weight, X, DOUBLE)\n",
      "  File \"C:\\Users\\user\\anaconda3\\lib\\site-packages\\sklearn\\utils\\validation.py\", line 1378, in _check_sample_weight\n",
      "    order=\"C\", copy=copy\n",
      "  File \"C:\\Users\\user\\anaconda3\\lib\\site-packages\\sklearn\\utils\\validation.py\", line 63, in inner_f\n",
      "    return f(*args, **kwargs)\n",
      "  File \"C:\\Users\\user\\anaconda3\\lib\\site-packages\\sklearn\\utils\\validation.py\", line 721, in check_array\n",
      "    allow_nan=force_all_finite == 'allow-nan')\n",
      "  File \"C:\\Users\\user\\anaconda3\\lib\\site-packages\\sklearn\\utils\\validation.py\", line 106, in _assert_all_finite\n",
      "    msg_dtype if msg_dtype is not None else X.dtype)\n",
      "ValueError: Input contains NaN, infinity or a value too large for dtype('float64').\n",
      "\n",
      "  FitFailedWarning)\n",
      "C:\\Users\\user\\anaconda3\\lib\\site-packages\\sklearn\\ensemble\\_weight_boosting.py:610: RuntimeWarning: overflow encountered in exp\n",
      "  (sample_weight > 0))\n",
      "C:\\Users\\user\\anaconda3\\lib\\site-packages\\sklearn\\ensemble\\_weight_boosting.py:155: RuntimeWarning: invalid value encountered in true_divide\n",
      "  sample_weight /= sample_weight_sum\n",
      "C:\\Users\\user\\anaconda3\\lib\\site-packages\\sklearn\\model_selection\\_validation.py:619: FitFailedWarning: Estimator fit failed. The score on this train-test partition for these parameters will be set to nan. Details: \n",
      "Traceback (most recent call last):\n",
      "  File \"C:\\Users\\user\\anaconda3\\lib\\site-packages\\sklearn\\model_selection\\_validation.py\", line 598, in _fit_and_score\n",
      "    estimator.fit(X_train, y_train, **fit_params)\n",
      "  File \"C:\\Users\\user\\anaconda3\\lib\\site-packages\\sklearn\\ensemble\\_weight_boosting.py\", line 443, in fit\n",
      "    return super().fit(X, y, sample_weight)\n",
      "  File \"C:\\Users\\user\\anaconda3\\lib\\site-packages\\sklearn\\ensemble\\_weight_boosting.py\", line 134, in fit\n",
      "    random_state)\n",
      "  File \"C:\\Users\\user\\anaconda3\\lib\\site-packages\\sklearn\\ensemble\\_weight_boosting.py\", line 507, in _boost\n",
      "    random_state)\n",
      "  File \"C:\\Users\\user\\anaconda3\\lib\\site-packages\\sklearn\\ensemble\\_weight_boosting.py\", line 571, in _boost_discrete\n",
      "    estimator.fit(X, y, sample_weight=sample_weight)\n",
      "  File \"C:\\Users\\user\\anaconda3\\lib\\site-packages\\sklearn\\tree\\_classes.py\", line 907, in fit\n",
      "    X_idx_sorted=X_idx_sorted)\n",
      "  File \"C:\\Users\\user\\anaconda3\\lib\\site-packages\\sklearn\\tree\\_classes.py\", line 298, in fit\n",
      "    sample_weight = _check_sample_weight(sample_weight, X, DOUBLE)\n",
      "  File \"C:\\Users\\user\\anaconda3\\lib\\site-packages\\sklearn\\utils\\validation.py\", line 1378, in _check_sample_weight\n",
      "    order=\"C\", copy=copy\n",
      "  File \"C:\\Users\\user\\anaconda3\\lib\\site-packages\\sklearn\\utils\\validation.py\", line 63, in inner_f\n",
      "    return f(*args, **kwargs)\n",
      "  File \"C:\\Users\\user\\anaconda3\\lib\\site-packages\\sklearn\\utils\\validation.py\", line 721, in check_array\n",
      "    allow_nan=force_all_finite == 'allow-nan')\n",
      "  File \"C:\\Users\\user\\anaconda3\\lib\\site-packages\\sklearn\\utils\\validation.py\", line 106, in _assert_all_finite\n",
      "    msg_dtype if msg_dtype is not None else X.dtype)\n",
      "ValueError: Input contains NaN, infinity or a value too large for dtype('float64').\n",
      "\n",
      "  FitFailedWarning)\n",
      "C:\\Users\\user\\anaconda3\\lib\\site-packages\\sklearn\\ensemble\\_weight_boosting.py:610: RuntimeWarning: overflow encountered in exp\n",
      "  (sample_weight > 0))\n",
      "C:\\Users\\user\\anaconda3\\lib\\site-packages\\sklearn\\ensemble\\_weight_boosting.py:155: RuntimeWarning: invalid value encountered in true_divide\n",
      "  sample_weight /= sample_weight_sum\n",
      "C:\\Users\\user\\anaconda3\\lib\\site-packages\\sklearn\\model_selection\\_validation.py:619: FitFailedWarning: Estimator fit failed. The score on this train-test partition for these parameters will be set to nan. Details: \n",
      "Traceback (most recent call last):\n",
      "  File \"C:\\Users\\user\\anaconda3\\lib\\site-packages\\sklearn\\model_selection\\_validation.py\", line 598, in _fit_and_score\n",
      "    estimator.fit(X_train, y_train, **fit_params)\n",
      "  File \"C:\\Users\\user\\anaconda3\\lib\\site-packages\\sklearn\\ensemble\\_weight_boosting.py\", line 443, in fit\n",
      "    return super().fit(X, y, sample_weight)\n",
      "  File \"C:\\Users\\user\\anaconda3\\lib\\site-packages\\sklearn\\ensemble\\_weight_boosting.py\", line 134, in fit\n",
      "    random_state)\n",
      "  File \"C:\\Users\\user\\anaconda3\\lib\\site-packages\\sklearn\\ensemble\\_weight_boosting.py\", line 507, in _boost\n",
      "    random_state)\n",
      "  File \"C:\\Users\\user\\anaconda3\\lib\\site-packages\\sklearn\\ensemble\\_weight_boosting.py\", line 571, in _boost_discrete\n",
      "    estimator.fit(X, y, sample_weight=sample_weight)\n",
      "  File \"C:\\Users\\user\\anaconda3\\lib\\site-packages\\sklearn\\tree\\_classes.py\", line 907, in fit\n",
      "    X_idx_sorted=X_idx_sorted)\n",
      "  File \"C:\\Users\\user\\anaconda3\\lib\\site-packages\\sklearn\\tree\\_classes.py\", line 298, in fit\n",
      "    sample_weight = _check_sample_weight(sample_weight, X, DOUBLE)\n",
      "  File \"C:\\Users\\user\\anaconda3\\lib\\site-packages\\sklearn\\utils\\validation.py\", line 1378, in _check_sample_weight\n",
      "    order=\"C\", copy=copy\n",
      "  File \"C:\\Users\\user\\anaconda3\\lib\\site-packages\\sklearn\\utils\\validation.py\", line 63, in inner_f\n",
      "    return f(*args, **kwargs)\n",
      "  File \"C:\\Users\\user\\anaconda3\\lib\\site-packages\\sklearn\\utils\\validation.py\", line 721, in check_array\n",
      "    allow_nan=force_all_finite == 'allow-nan')\n",
      "  File \"C:\\Users\\user\\anaconda3\\lib\\site-packages\\sklearn\\utils\\validation.py\", line 106, in _assert_all_finite\n",
      "    msg_dtype if msg_dtype is not None else X.dtype)\n",
      "ValueError: Input contains NaN, infinity or a value too large for dtype('float64').\n",
      "\n",
      "  FitFailedWarning)\n",
      "C:\\Users\\user\\anaconda3\\lib\\site-packages\\sklearn\\ensemble\\_weight_boosting.py:610: RuntimeWarning: overflow encountered in exp\n",
      "  (sample_weight > 0))\n",
      "C:\\Users\\user\\anaconda3\\lib\\site-packages\\sklearn\\ensemble\\_weight_boosting.py:155: RuntimeWarning: invalid value encountered in true_divide\n",
      "  sample_weight /= sample_weight_sum\n",
      "C:\\Users\\user\\anaconda3\\lib\\site-packages\\sklearn\\model_selection\\_validation.py:619: FitFailedWarning: Estimator fit failed. The score on this train-test partition for these parameters will be set to nan. Details: \n",
      "Traceback (most recent call last):\n",
      "  File \"C:\\Users\\user\\anaconda3\\lib\\site-packages\\sklearn\\model_selection\\_validation.py\", line 598, in _fit_and_score\n",
      "    estimator.fit(X_train, y_train, **fit_params)\n",
      "  File \"C:\\Users\\user\\anaconda3\\lib\\site-packages\\sklearn\\ensemble\\_weight_boosting.py\", line 443, in fit\n",
      "    return super().fit(X, y, sample_weight)\n",
      "  File \"C:\\Users\\user\\anaconda3\\lib\\site-packages\\sklearn\\ensemble\\_weight_boosting.py\", line 134, in fit\n",
      "    random_state)\n",
      "  File \"C:\\Users\\user\\anaconda3\\lib\\site-packages\\sklearn\\ensemble\\_weight_boosting.py\", line 507, in _boost\n",
      "    random_state)\n",
      "  File \"C:\\Users\\user\\anaconda3\\lib\\site-packages\\sklearn\\ensemble\\_weight_boosting.py\", line 571, in _boost_discrete\n",
      "    estimator.fit(X, y, sample_weight=sample_weight)\n",
      "  File \"C:\\Users\\user\\anaconda3\\lib\\site-packages\\sklearn\\tree\\_classes.py\", line 907, in fit\n",
      "    X_idx_sorted=X_idx_sorted)\n",
      "  File \"C:\\Users\\user\\anaconda3\\lib\\site-packages\\sklearn\\tree\\_classes.py\", line 298, in fit\n",
      "    sample_weight = _check_sample_weight(sample_weight, X, DOUBLE)\n",
      "  File \"C:\\Users\\user\\anaconda3\\lib\\site-packages\\sklearn\\utils\\validation.py\", line 1378, in _check_sample_weight\n",
      "    order=\"C\", copy=copy\n",
      "  File \"C:\\Users\\user\\anaconda3\\lib\\site-packages\\sklearn\\utils\\validation.py\", line 63, in inner_f\n",
      "    return f(*args, **kwargs)\n",
      "  File \"C:\\Users\\user\\anaconda3\\lib\\site-packages\\sklearn\\utils\\validation.py\", line 721, in check_array\n",
      "    allow_nan=force_all_finite == 'allow-nan')\n",
      "  File \"C:\\Users\\user\\anaconda3\\lib\\site-packages\\sklearn\\utils\\validation.py\", line 106, in _assert_all_finite\n",
      "    msg_dtype if msg_dtype is not None else X.dtype)\n",
      "ValueError: Input contains NaN, infinity or a value too large for dtype('float64').\n",
      "\n",
      "  FitFailedWarning)\n",
      "C:\\Users\\user\\anaconda3\\lib\\site-packages\\sklearn\\ensemble\\_weight_boosting.py:610: RuntimeWarning: overflow encountered in exp\n",
      "  (sample_weight > 0))\n",
      "C:\\Users\\user\\anaconda3\\lib\\site-packages\\sklearn\\ensemble\\_weight_boosting.py:155: RuntimeWarning: invalid value encountered in true_divide\n",
      "  sample_weight /= sample_weight_sum\n",
      "C:\\Users\\user\\anaconda3\\lib\\site-packages\\sklearn\\model_selection\\_validation.py:619: FitFailedWarning: Estimator fit failed. The score on this train-test partition for these parameters will be set to nan. Details: \n",
      "Traceback (most recent call last):\n",
      "  File \"C:\\Users\\user\\anaconda3\\lib\\site-packages\\sklearn\\model_selection\\_validation.py\", line 598, in _fit_and_score\n",
      "    estimator.fit(X_train, y_train, **fit_params)\n",
      "  File \"C:\\Users\\user\\anaconda3\\lib\\site-packages\\sklearn\\ensemble\\_weight_boosting.py\", line 443, in fit\n",
      "    return super().fit(X, y, sample_weight)\n",
      "  File \"C:\\Users\\user\\anaconda3\\lib\\site-packages\\sklearn\\ensemble\\_weight_boosting.py\", line 134, in fit\n",
      "    random_state)\n",
      "  File \"C:\\Users\\user\\anaconda3\\lib\\site-packages\\sklearn\\ensemble\\_weight_boosting.py\", line 507, in _boost\n",
      "    random_state)\n",
      "  File \"C:\\Users\\user\\anaconda3\\lib\\site-packages\\sklearn\\ensemble\\_weight_boosting.py\", line 571, in _boost_discrete\n",
      "    estimator.fit(X, y, sample_weight=sample_weight)\n",
      "  File \"C:\\Users\\user\\anaconda3\\lib\\site-packages\\sklearn\\tree\\_classes.py\", line 907, in fit\n",
      "    X_idx_sorted=X_idx_sorted)\n",
      "  File \"C:\\Users\\user\\anaconda3\\lib\\site-packages\\sklearn\\tree\\_classes.py\", line 298, in fit\n",
      "    sample_weight = _check_sample_weight(sample_weight, X, DOUBLE)\n",
      "  File \"C:\\Users\\user\\anaconda3\\lib\\site-packages\\sklearn\\utils\\validation.py\", line 1378, in _check_sample_weight\n",
      "    order=\"C\", copy=copy\n",
      "  File \"C:\\Users\\user\\anaconda3\\lib\\site-packages\\sklearn\\utils\\validation.py\", line 63, in inner_f\n",
      "    return f(*args, **kwargs)\n",
      "  File \"C:\\Users\\user\\anaconda3\\lib\\site-packages\\sklearn\\utils\\validation.py\", line 721, in check_array\n",
      "    allow_nan=force_all_finite == 'allow-nan')\n",
      "  File \"C:\\Users\\user\\anaconda3\\lib\\site-packages\\sklearn\\utils\\validation.py\", line 106, in _assert_all_finite\n",
      "    msg_dtype if msg_dtype is not None else X.dtype)\n",
      "ValueError: Input contains NaN, infinity or a value too large for dtype('float64').\n",
      "\n",
      "  FitFailedWarning)\n"
     ]
    },
    {
     "name": "stdout",
     "output_type": "stream",
     "text": [
      "[CV 3/5] END algorithm=SAMME, learning_rate=5, n_estimators=50;, score=nan total time=   0.0s\n",
      "[CV 4/5] END algorithm=SAMME, learning_rate=5, n_estimators=50;, score=nan total time=   0.0s\n",
      "[CV 5/5] END algorithm=SAMME, learning_rate=5, n_estimators=50;, score=nan total time=   0.0s\n",
      "[CV 1/5] END algorithm=SAMME.R, learning_rate=1, n_estimators=10;, score=0.386 total time=   0.0s\n",
      "[CV 2/5] END algorithm=SAMME.R, learning_rate=1, n_estimators=10;, score=0.471 total time=   0.0s\n",
      "[CV 3/5] END algorithm=SAMME.R, learning_rate=1, n_estimators=10;, score=0.557 total time=   0.0s\n",
      "[CV 4/5] END algorithm=SAMME.R, learning_rate=1, n_estimators=10;, score=0.500 total time=   0.0s\n",
      "[CV 5/5] END algorithm=SAMME.R, learning_rate=1, n_estimators=10;, score=0.529 total time=   0.0s\n",
      "[CV 1/5] END algorithm=SAMME.R, learning_rate=1, n_estimators=20;, score=0.386 total time=   0.0s\n",
      "[CV 2/5] END algorithm=SAMME.R, learning_rate=1, n_estimators=20;, score=0.471 total time=   0.0s\n",
      "[CV 3/5] END algorithm=SAMME.R, learning_rate=1, n_estimators=20;, score=0.557 total time=   0.0s\n",
      "[CV 4/5] END algorithm=SAMME.R, learning_rate=1, n_estimators=20;, score=0.500 total time=   0.0s\n",
      "[CV 5/5] END algorithm=SAMME.R, learning_rate=1, n_estimators=20;, score=0.300 total time=   0.0s\n",
      "[CV 1/5] END algorithm=SAMME.R, learning_rate=1, n_estimators=30;, score=0.386 total time=   0.0s\n",
      "[CV 2/5] END algorithm=SAMME.R, learning_rate=1, n_estimators=30;, score=0.471 total time=   0.0s\n",
      "[CV 3/5] END algorithm=SAMME.R, learning_rate=1, n_estimators=30;, score=0.557 total time=   0.0s\n",
      "[CV 4/5] END algorithm=SAMME.R, learning_rate=1, n_estimators=30;, score=0.457 total time=   0.0s\n",
      "[CV 5/5] END algorithm=SAMME.R, learning_rate=1, n_estimators=30;, score=0.300 total time=   0.0s\n",
      "[CV 1/5] END algorithm=SAMME.R, learning_rate=1, n_estimators=40;, score=0.386 total time=   0.0s\n",
      "[CV 2/5] END algorithm=SAMME.R, learning_rate=1, n_estimators=40;, score=0.471 total time=   0.0s\n",
      "[CV 3/5] END algorithm=SAMME.R, learning_rate=1, n_estimators=40;, score=0.557 total time=   0.0s\n",
      "[CV 4/5] END algorithm=SAMME.R, learning_rate=1, n_estimators=40;, score=0.300 total time=   0.0s\n",
      "[CV 5/5] END algorithm=SAMME.R, learning_rate=1, n_estimators=40;, score=0.300 total time=   0.0s\n",
      "[CV 1/5] END algorithm=SAMME.R, learning_rate=1, n_estimators=50;, score=0.386 total time=   0.0s\n",
      "[CV 2/5] END algorithm=SAMME.R, learning_rate=1, n_estimators=50;, score=0.471 total time=   0.0s\n",
      "[CV 3/5] END algorithm=SAMME.R, learning_rate=1, n_estimators=50;, score=0.557 total time=   0.0s\n",
      "[CV 4/5] END algorithm=SAMME.R, learning_rate=1, n_estimators=50;, score=0.329 total time=   0.0s\n",
      "[CV 5/5] END algorithm=SAMME.R, learning_rate=1, n_estimators=50;, score=0.300 total time=   0.0s\n",
      "[CV 1/5] END algorithm=SAMME.R, learning_rate=2, n_estimators=10;, score=0.329 total time=   0.0s\n",
      "[CV 2/5] END algorithm=SAMME.R, learning_rate=2, n_estimators=10;, score=0.386 total time=   0.0s\n",
      "[CV 3/5] END algorithm=SAMME.R, learning_rate=2, n_estimators=10;, score=0.343 total time=   0.0s\n",
      "[CV 4/5] END algorithm=SAMME.R, learning_rate=2, n_estimators=10;, score=0.500 total time=   0.0s\n",
      "[CV 5/5] END algorithm=SAMME.R, learning_rate=2, n_estimators=10;, score=0.529 total time=   0.0s\n",
      "[CV 1/5] END algorithm=SAMME.R, learning_rate=2, n_estimators=20;, score=0.300 total time=   0.0s\n",
      "[CV 2/5] END algorithm=SAMME.R, learning_rate=2, n_estimators=20;, score=0.600 total time=   0.0s\n",
      "[CV 3/5] END algorithm=SAMME.R, learning_rate=2, n_estimators=20;, score=0.500 total time=   0.0s\n",
      "[CV 4/5] END algorithm=SAMME.R, learning_rate=2, n_estimators=20;, score=0.586 total time=   0.0s\n",
      "[CV 5/5] END algorithm=SAMME.R, learning_rate=2, n_estimators=20;, score=0.557 total time=   0.0s\n",
      "[CV 1/5] END algorithm=SAMME.R, learning_rate=2, n_estimators=30;, score=0.457 total time=   0.0s\n",
      "[CV 2/5] END algorithm=SAMME.R, learning_rate=2, n_estimators=30;, score=0.414 total time=   0.0s\n",
      "[CV 3/5] END algorithm=SAMME.R, learning_rate=2, n_estimators=30;, score=0.543 total time=   0.0s\n",
      "[CV 4/5] END algorithm=SAMME.R, learning_rate=2, n_estimators=30;, score=0.529 total time=   0.0s\n",
      "[CV 5/5] END algorithm=SAMME.R, learning_rate=2, n_estimators=30;, score=0.414 total time=   0.0s\n",
      "[CV 1/5] END algorithm=SAMME.R, learning_rate=2, n_estimators=40;, score=0.457 total time=   0.0s\n",
      "[CV 2/5] END algorithm=SAMME.R, learning_rate=2, n_estimators=40;, score=0.500 total time=   0.0s\n",
      "[CV 3/5] END algorithm=SAMME.R, learning_rate=2, n_estimators=40;, score=0.586 total time=   0.0s\n",
      "[CV 4/5] END algorithm=SAMME.R, learning_rate=2, n_estimators=40;, score=0.486 total time=   0.0s\n",
      "[CV 5/5] END algorithm=SAMME.R, learning_rate=2, n_estimators=40;, score=0.429 total time=   0.0s\n",
      "[CV 1/5] END algorithm=SAMME.R, learning_rate=2, n_estimators=50;, score=0.486 total time=   0.0s\n",
      "[CV 2/5] END algorithm=SAMME.R, learning_rate=2, n_estimators=50;, score=0.514 total time=   0.0s\n",
      "[CV 3/5] END algorithm=SAMME.R, learning_rate=2, n_estimators=50;, score=0.443 total time=   0.0s\n",
      "[CV 4/5] END algorithm=SAMME.R, learning_rate=2, n_estimators=50;, score=0.457 total time=   0.0s\n",
      "[CV 5/5] END algorithm=SAMME.R, learning_rate=2, n_estimators=50;, score=0.443 total time=   0.0s\n",
      "[CV 1/5] END algorithm=SAMME.R, learning_rate=3, n_estimators=10;, score=0.386 total time=   0.0s\n",
      "[CV 2/5] END algorithm=SAMME.R, learning_rate=3, n_estimators=10;, score=0.143 total time=   0.0s\n",
      "[CV 3/5] END algorithm=SAMME.R, learning_rate=3, n_estimators=10;, score=0.343 total time=   0.0s\n",
      "[CV 4/5] END algorithm=SAMME.R, learning_rate=3, n_estimators=10;, score=0.557 total time=   0.0s\n",
      "[CV 5/5] END algorithm=SAMME.R, learning_rate=3, n_estimators=10;, score=0.543 total time=   0.0s\n",
      "[CV 1/5] END algorithm=SAMME.R, learning_rate=3, n_estimators=20;, score=0.414 total time=   0.0s\n",
      "[CV 2/5] END algorithm=SAMME.R, learning_rate=3, n_estimators=20;, score=0.386 total time=   0.0s\n",
      "[CV 3/5] END algorithm=SAMME.R, learning_rate=3, n_estimators=20;, score=0.543 total time=   0.0s\n",
      "[CV 4/5] END algorithm=SAMME.R, learning_rate=3, n_estimators=20;, score=0.429 total time=   0.0s\n",
      "[CV 5/5] END algorithm=SAMME.R, learning_rate=3, n_estimators=20;, score=0.429 total time=   0.0s\n",
      "[CV 1/5] END algorithm=SAMME.R, learning_rate=3, n_estimators=30;, score=0.386 total time=   0.0s\n",
      "[CV 2/5] END algorithm=SAMME.R, learning_rate=3, n_estimators=30;, score=0.543 total time=   0.0s\n",
      "[CV 3/5] END algorithm=SAMME.R, learning_rate=3, n_estimators=30;, score=0.514 total time=   0.0s\n",
      "[CV 4/5] END algorithm=SAMME.R, learning_rate=3, n_estimators=30;, score=0.486 total time=   0.0s\n",
      "[CV 5/5] END algorithm=SAMME.R, learning_rate=3, n_estimators=30;, score=0.471 total time=   0.0s\n",
      "[CV 1/5] END algorithm=SAMME.R, learning_rate=3, n_estimators=40;, score=0.457 total time=   0.0s\n",
      "[CV 2/5] END algorithm=SAMME.R, learning_rate=3, n_estimators=40;, score=0.514 total time=   0.0s\n",
      "[CV 3/5] END algorithm=SAMME.R, learning_rate=3, n_estimators=40;, score=0.329 total time=   0.0s\n",
      "[CV 4/5] END algorithm=SAMME.R, learning_rate=3, n_estimators=40;, score=0.443 total time=   0.0s\n",
      "[CV 5/5] END algorithm=SAMME.R, learning_rate=3, n_estimators=40;, score=0.443 total time=   0.0s\n",
      "[CV 1/5] END algorithm=SAMME.R, learning_rate=3, n_estimators=50;, score=0.471 total time=   0.0s\n",
      "[CV 2/5] END algorithm=SAMME.R, learning_rate=3, n_estimators=50;, score=0.386 total time=   0.0s\n",
      "[CV 3/5] END algorithm=SAMME.R, learning_rate=3, n_estimators=50;, score=0.514 total time=   0.0s\n",
      "[CV 4/5] END algorithm=SAMME.R, learning_rate=3, n_estimators=50;, score=0.429 total time=   0.0s\n",
      "[CV 5/5] END algorithm=SAMME.R, learning_rate=3, n_estimators=50;, score=0.429 total time=   0.0s\n",
      "[CV 1/5] END algorithm=SAMME.R, learning_rate=4, n_estimators=10;, score=0.543 total time=   0.0s\n",
      "[CV 2/5] END algorithm=SAMME.R, learning_rate=4, n_estimators=10;, score=0.300 total time=   0.0s\n",
      "[CV 3/5] END algorithm=SAMME.R, learning_rate=4, n_estimators=10;, score=0.529 total time=   0.0s\n",
      "[CV 4/5] END algorithm=SAMME.R, learning_rate=4, n_estimators=10;, score=0.271 total time=   0.0s\n",
      "[CV 5/5] END algorithm=SAMME.R, learning_rate=4, n_estimators=10;, score=0.143 total time=   0.0s\n",
      "[CV 1/5] END algorithm=SAMME.R, learning_rate=4, n_estimators=20;, score=0.486 total time=   0.0s\n",
      "[CV 2/5] END algorithm=SAMME.R, learning_rate=4, n_estimators=20;, score=0.329 total time=   0.0s\n"
     ]
    },
    {
     "name": "stdout",
     "output_type": "stream",
     "text": [
      "[CV 3/5] END algorithm=SAMME.R, learning_rate=4, n_estimators=20;, score=0.514 total time=   0.0s\n",
      "[CV 4/5] END algorithm=SAMME.R, learning_rate=4, n_estimators=20;, score=0.457 total time=   0.0s\n",
      "[CV 5/5] END algorithm=SAMME.R, learning_rate=4, n_estimators=20;, score=0.300 total time=   0.0s\n",
      "[CV 1/5] END algorithm=SAMME.R, learning_rate=4, n_estimators=30;, score=0.443 total time=   0.0s\n",
      "[CV 2/5] END algorithm=SAMME.R, learning_rate=4, n_estimators=30;, score=0.529 total time=   0.0s\n",
      "[CV 3/5] END algorithm=SAMME.R, learning_rate=4, n_estimators=30;, score=0.500 total time=   0.0s\n",
      "[CV 4/5] END algorithm=SAMME.R, learning_rate=4, n_estimators=30;, score=0.414 total time=   0.0s\n",
      "[CV 5/5] END algorithm=SAMME.R, learning_rate=4, n_estimators=30;, score=0.557 total time=   0.0s\n",
      "[CV 1/5] END algorithm=SAMME.R, learning_rate=4, n_estimators=40;, score=0.471 total time=   0.0s\n",
      "[CV 2/5] END algorithm=SAMME.R, learning_rate=4, n_estimators=40;, score=0.629 total time=   0.0s\n",
      "[CV 3/5] END algorithm=SAMME.R, learning_rate=4, n_estimators=40;, score=0.457 total time=   0.0s\n",
      "[CV 4/5] END algorithm=SAMME.R, learning_rate=4, n_estimators=40;, score=0.557 total time=   0.0s\n",
      "[CV 5/5] END algorithm=SAMME.R, learning_rate=4, n_estimators=40;, score=0.143 total time=   0.0s\n",
      "[CV 1/5] END algorithm=SAMME.R, learning_rate=4, n_estimators=50;, score=0.571 total time=   0.0s\n",
      "[CV 2/5] END algorithm=SAMME.R, learning_rate=4, n_estimators=50;, score=0.414 total time=   0.0s\n",
      "[CV 3/5] END algorithm=SAMME.R, learning_rate=4, n_estimators=50;, score=0.414 total time=   0.0s\n",
      "[CV 4/5] END algorithm=SAMME.R, learning_rate=4, n_estimators=50;, score=0.429 total time=   0.0s\n",
      "[CV 5/5] END algorithm=SAMME.R, learning_rate=4, n_estimators=50;, score=0.300 total time=   0.0s\n",
      "[CV 1/5] END algorithm=SAMME.R, learning_rate=5, n_estimators=10;, score=0.614 total time=   0.0s\n",
      "[CV 2/5] END algorithm=SAMME.R, learning_rate=5, n_estimators=10;, score=0.100 total time=   0.0s\n",
      "[CV 3/5] END algorithm=SAMME.R, learning_rate=5, n_estimators=10;, score=0.200 total time=   0.0s\n",
      "[CV 4/5] END algorithm=SAMME.R, learning_rate=5, n_estimators=10;, score=0.257 total time=   0.0s\n",
      "[CV 5/5] END algorithm=SAMME.R, learning_rate=5, n_estimators=10;, score=0.414 total time=   0.0s\n",
      "[CV 1/5] END algorithm=SAMME.R, learning_rate=5, n_estimators=20;, score=0.429 total time=   0.0s\n",
      "[CV 2/5] END algorithm=SAMME.R, learning_rate=5, n_estimators=20;, score=0.300 total time=   0.0s\n",
      "[CV 3/5] END algorithm=SAMME.R, learning_rate=5, n_estimators=20;, score=0.414 total time=   0.0s\n",
      "[CV 4/5] END algorithm=SAMME.R, learning_rate=5, n_estimators=20;, score=0.414 total time=   0.0s\n",
      "[CV 5/5] END algorithm=SAMME.R, learning_rate=5, n_estimators=20;, score=0.543 total time=   0.0s\n",
      "[CV 1/5] END algorithm=SAMME.R, learning_rate=5, n_estimators=30;, score=0.357 total time=   0.0s\n",
      "[CV 2/5] END algorithm=SAMME.R, learning_rate=5, n_estimators=30;, score=0.614 total time=   0.0s\n",
      "[CV 3/5] END algorithm=SAMME.R, learning_rate=5, n_estimators=30;, score=0.357 total time=   0.0s\n",
      "[CV 4/5] END algorithm=SAMME.R, learning_rate=5, n_estimators=30;, score=0.600 total time=   0.0s\n",
      "[CV 5/5] END algorithm=SAMME.R, learning_rate=5, n_estimators=30;, score=0.443 total time=   0.0s\n",
      "[CV 1/5] END algorithm=SAMME.R, learning_rate=5, n_estimators=40;, score=0.471 total time=   0.0s\n",
      "[CV 2/5] END algorithm=SAMME.R, learning_rate=5, n_estimators=40;, score=0.100 total time=   0.0s\n",
      "[CV 3/5] END algorithm=SAMME.R, learning_rate=5, n_estimators=40;, score=0.414 total time=   0.0s\n",
      "[CV 4/5] END algorithm=SAMME.R, learning_rate=5, n_estimators=40;, score=0.143 total time=   0.0s\n",
      "[CV 5/5] END algorithm=SAMME.R, learning_rate=5, n_estimators=40;, score=0.414 total time=   0.0s\n",
      "[CV 1/5] END algorithm=SAMME.R, learning_rate=5, n_estimators=50;, score=0.543 total time=   0.0s\n",
      "[CV 2/5] END algorithm=SAMME.R, learning_rate=5, n_estimators=50;, score=0.300 total time=   0.0s\n",
      "[CV 3/5] END algorithm=SAMME.R, learning_rate=5, n_estimators=50;, score=0.443 total time=   0.0s\n",
      "[CV 4/5] END algorithm=SAMME.R, learning_rate=5, n_estimators=50;, score=0.357 total time=   0.0s\n",
      "[CV 5/5] END algorithm=SAMME.R, learning_rate=5, n_estimators=50;, score=0.343 total time=   0.0s\n"
     ]
    },
    {
     "name": "stderr",
     "output_type": "stream",
     "text": [
      "C:\\Users\\user\\anaconda3\\lib\\site-packages\\sklearn\\model_selection\\_search.py:925: UserWarning: One or more of the test scores are non-finite: [0.54       0.51428571 0.54857143 0.52       0.55714286 0.53428571\n",
      " 0.46857143 0.51142857 0.44571429 0.43714286 0.42571429 0.36571429\n",
      " 0.35714286 0.36       0.42857143 0.37714286        nan        nan\n",
      "        nan        nan 0.33142857        nan        nan        nan\n",
      "        nan 0.48857143 0.44285714 0.43428571 0.40285714 0.40857143\n",
      " 0.41714286 0.50857143 0.47142857 0.49142857 0.46857143 0.39428571\n",
      " 0.44       0.48       0.43714286 0.44571429 0.35714286 0.41714286\n",
      " 0.48857143 0.45142857 0.42571429 0.31714286 0.42       0.47428571\n",
      " 0.30857143 0.39714286]\n",
      "  category=UserWarning\n"
     ]
    },
    {
     "data": {
      "text/plain": [
       "GridSearchCV(estimator=AdaBoostClassifier(),\n",
       "             param_grid={'algorithm': ['SAMME', 'SAMME.R'],\n",
       "                         'learning_rate': [1, 2, 3, 4, 5],\n",
       "                         'n_estimators': [10, 20, 30, 40, 50]},\n",
       "             verbose=3)"
      ]
     },
     "execution_count": 13,
     "metadata": {},
     "output_type": "execute_result"
    }
   ],
   "source": [
    "grid.fit(x_train,y_train)"
   ]
  },
  {
   "cell_type": "code",
   "execution_count": 14,
   "metadata": {},
   "outputs": [
    {
     "data": {
      "text/plain": [
       "{'algorithm': 'SAMME', 'learning_rate': 1, 'n_estimators': 50}"
      ]
     },
     "execution_count": 14,
     "metadata": {},
     "output_type": "execute_result"
    }
   ],
   "source": [
    "grid.best_params_"
   ]
  },
  {
   "cell_type": "code",
   "execution_count": 15,
   "metadata": {},
   "outputs": [],
   "source": [
    "model1=grid.best_estimator_"
   ]
  },
  {
   "cell_type": "code",
   "execution_count": 16,
   "metadata": {},
   "outputs": [],
   "source": [
    "y_pred1= model1.predict(x_test)"
   ]
  },
  {
   "cell_type": "code",
   "execution_count": 17,
   "metadata": {},
   "outputs": [
    {
     "data": {
      "text/plain": [
       "0.58"
      ]
     },
     "execution_count": 17,
     "metadata": {},
     "output_type": "execute_result"
    }
   ],
   "source": [
    "accuracy_score(y_test, y_pred1)"
   ]
  },
  {
   "cell_type": "markdown",
   "metadata": {},
   "source": [
    "## Gradient Boosting"
   ]
  },
  {
   "cell_type": "markdown",
   "metadata": {},
   "source": [
    "### Model 1"
   ]
  },
  {
   "cell_type": "code",
   "execution_count": 18,
   "metadata": {},
   "outputs": [
    {
     "data": {
      "text/plain": [
       "GradientBoostingClassifier(learning_rate=1.0, max_depth=1)"
      ]
     },
     "execution_count": 18,
     "metadata": {},
     "output_type": "execute_result"
    }
   ],
   "source": [
    "clf = GradientBoostingClassifier(n_estimators=100, learning_rate=1.0, max_depth=1)\n",
    "clf.fit(x_train, y_train)"
   ]
  },
  {
   "cell_type": "code",
   "execution_count": 19,
   "metadata": {},
   "outputs": [],
   "source": [
    "y_pred1= clf.predict(x_test)"
   ]
  },
  {
   "cell_type": "code",
   "execution_count": 20,
   "metadata": {},
   "outputs": [
    {
     "data": {
      "text/plain": [
       "0.5066666666666667"
      ]
     },
     "execution_count": 20,
     "metadata": {},
     "output_type": "execute_result"
    }
   ],
   "source": [
    "accuracy_score(y_test, y_pred1)"
   ]
  },
  {
   "cell_type": "markdown",
   "metadata": {},
   "source": [
    "## Bagging Classifier"
   ]
  },
  {
   "cell_type": "markdown",
   "metadata": {},
   "source": [
    "### Model 1"
   ]
  },
  {
   "cell_type": "code",
   "execution_count": 21,
   "metadata": {},
   "outputs": [],
   "source": [
    "seed = 8\n",
    "kfold = model_selection.KFold(n_splits = 3,shuffle=True,\n",
    "                       random_state = seed)"
   ]
  },
  {
   "cell_type": "code",
   "execution_count": 22,
   "metadata": {},
   "outputs": [],
   "source": [
    "base_cls = DecisionTreeClassifier()\n",
    "num_trees = 500\n",
    "model = BaggingClassifier(base_estimator = base_cls,\n",
    "                          n_estimators = num_trees,\n",
    "                          random_state = seed)"
   ]
  },
  {
   "cell_type": "code",
   "execution_count": 23,
   "metadata": {},
   "outputs": [
    {
     "data": {
      "text/plain": [
       "0.58854013164358"
      ]
     },
     "execution_count": 23,
     "metadata": {},
     "output_type": "execute_result"
    }
   ],
   "source": [
    "model_selection.cross_val_score(model, x_train, y_train, cv = kfold).mean()"
   ]
  },
  {
   "cell_type": "code",
   "execution_count": 24,
   "metadata": {},
   "outputs": [
    {
     "data": {
      "text/plain": [
       "BaggingClassifier(base_estimator=DecisionTreeClassifier(), n_estimators=500,\n",
       "                  random_state=8)"
      ]
     },
     "execution_count": 24,
     "metadata": {},
     "output_type": "execute_result"
    }
   ],
   "source": [
    "model.fit(x_train,y_train)"
   ]
  },
  {
   "cell_type": "code",
   "execution_count": 25,
   "metadata": {},
   "outputs": [],
   "source": [
    "ypred=model.predict(x_test)"
   ]
  },
  {
   "cell_type": "code",
   "execution_count": 26,
   "metadata": {},
   "outputs": [
    {
     "data": {
      "text/plain": [
       "0.5666666666666667"
      ]
     },
     "execution_count": 26,
     "metadata": {},
     "output_type": "execute_result"
    }
   ],
   "source": [
    "accuracy_score(y_test, ypred)"
   ]
  },
  {
   "cell_type": "markdown",
   "metadata": {},
   "source": [
    "## Random Forests"
   ]
  },
  {
   "cell_type": "markdown",
   "metadata": {},
   "source": [
    "### Model 1"
   ]
  },
  {
   "cell_type": "code",
   "execution_count": 27,
   "metadata": {},
   "outputs": [],
   "source": [
    "clf = RandomForestClassifier(max_depth=2, random_state=0)"
   ]
  },
  {
   "cell_type": "code",
   "execution_count": 28,
   "metadata": {},
   "outputs": [
    {
     "data": {
      "text/plain": [
       "RandomForestClassifier(max_depth=2, random_state=0)"
      ]
     },
     "execution_count": 28,
     "metadata": {},
     "output_type": "execute_result"
    }
   ],
   "source": [
    "clf.fit(x_train, y_train)"
   ]
  },
  {
   "cell_type": "code",
   "execution_count": 29,
   "metadata": {},
   "outputs": [],
   "source": [
    "ypred=clf.predict(x_test)"
   ]
  },
  {
   "cell_type": "code",
   "execution_count": 30,
   "metadata": {},
   "outputs": [
    {
     "data": {
      "text/plain": [
       "0.5266666666666666"
      ]
     },
     "execution_count": 30,
     "metadata": {},
     "output_type": "execute_result"
    }
   ],
   "source": [
    "accuracy_score(y_test, ypred)"
   ]
  },
  {
   "cell_type": "markdown",
   "metadata": {},
   "source": [
    "### Model 2"
   ]
  },
  {
   "cell_type": "code",
   "execution_count": 31,
   "metadata": {},
   "outputs": [],
   "source": [
    "param_grid={'n_estimators':[100,200,300,400],'criterion':['gini', 'entropy'],'max_depth':[2,3,4,5],'max_features':['auto','sqrt','log2']}"
   ]
  },
  {
   "cell_type": "code",
   "execution_count": 32,
   "metadata": {},
   "outputs": [],
   "source": [
    "grid = GridSearchCV(RandomForestClassifier(),param_grid,refit=True,verbose=3)"
   ]
  },
  {
   "cell_type": "code",
   "execution_count": 33,
   "metadata": {},
   "outputs": [
    {
     "name": "stdout",
     "output_type": "stream",
     "text": [
      "Fitting 5 folds for each of 96 candidates, totalling 480 fits\n",
      "[CV 1/5] END criterion=gini, max_depth=2, max_features=auto, n_estimators=100;, score=0.600 total time=   0.1s\n"
     ]
    },
    {
     "name": "stderr",
     "output_type": "stream",
     "text": [
      "C:\\Users\\user\\anaconda3\\lib\\site-packages\\sklearn\\model_selection\\_split.py:668: UserWarning: The least populated class in y has only 2 members, which is less than n_splits=5.\n",
      "  % (min_groups, self.n_splits)), UserWarning)\n"
     ]
    },
    {
     "name": "stdout",
     "output_type": "stream",
     "text": [
      "[CV 2/5] END criterion=gini, max_depth=2, max_features=auto, n_estimators=100;, score=0.614 total time=   0.1s\n",
      "[CV 3/5] END criterion=gini, max_depth=2, max_features=auto, n_estimators=100;, score=0.614 total time=   0.1s\n",
      "[CV 4/5] END criterion=gini, max_depth=2, max_features=auto, n_estimators=100;, score=0.614 total time=   0.1s\n",
      "[CV 5/5] END criterion=gini, max_depth=2, max_features=auto, n_estimators=100;, score=0.614 total time=   0.1s\n",
      "[CV 1/5] END criterion=gini, max_depth=2, max_features=auto, n_estimators=200;, score=0.600 total time=   0.3s\n",
      "[CV 2/5] END criterion=gini, max_depth=2, max_features=auto, n_estimators=200;, score=0.614 total time=   0.2s\n",
      "[CV 3/5] END criterion=gini, max_depth=2, max_features=auto, n_estimators=200;, score=0.614 total time=   0.2s\n",
      "[CV 4/5] END criterion=gini, max_depth=2, max_features=auto, n_estimators=200;, score=0.614 total time=   0.2s\n",
      "[CV 5/5] END criterion=gini, max_depth=2, max_features=auto, n_estimators=200;, score=0.614 total time=   0.2s\n",
      "[CV 1/5] END criterion=gini, max_depth=2, max_features=auto, n_estimators=300;, score=0.600 total time=   0.5s\n",
      "[CV 2/5] END criterion=gini, max_depth=2, max_features=auto, n_estimators=300;, score=0.614 total time=   0.4s\n",
      "[CV 3/5] END criterion=gini, max_depth=2, max_features=auto, n_estimators=300;, score=0.614 total time=   0.4s\n",
      "[CV 4/5] END criterion=gini, max_depth=2, max_features=auto, n_estimators=300;, score=0.614 total time=   0.4s\n",
      "[CV 5/5] END criterion=gini, max_depth=2, max_features=auto, n_estimators=300;, score=0.614 total time=   0.4s\n",
      "[CV 1/5] END criterion=gini, max_depth=2, max_features=auto, n_estimators=400;, score=0.600 total time=   0.6s\n",
      "[CV 2/5] END criterion=gini, max_depth=2, max_features=auto, n_estimators=400;, score=0.614 total time=   0.6s\n",
      "[CV 3/5] END criterion=gini, max_depth=2, max_features=auto, n_estimators=400;, score=0.614 total time=   0.6s\n",
      "[CV 4/5] END criterion=gini, max_depth=2, max_features=auto, n_estimators=400;, score=0.614 total time=   0.6s\n",
      "[CV 5/5] END criterion=gini, max_depth=2, max_features=auto, n_estimators=400;, score=0.614 total time=   0.6s\n",
      "[CV 1/5] END criterion=gini, max_depth=2, max_features=sqrt, n_estimators=100;, score=0.600 total time=   0.1s\n",
      "[CV 2/5] END criterion=gini, max_depth=2, max_features=sqrt, n_estimators=100;, score=0.614 total time=   0.1s\n",
      "[CV 3/5] END criterion=gini, max_depth=2, max_features=sqrt, n_estimators=100;, score=0.614 total time=   0.1s\n",
      "[CV 4/5] END criterion=gini, max_depth=2, max_features=sqrt, n_estimators=100;, score=0.614 total time=   0.1s\n",
      "[CV 5/5] END criterion=gini, max_depth=2, max_features=sqrt, n_estimators=100;, score=0.614 total time=   0.1s\n",
      "[CV 1/5] END criterion=gini, max_depth=2, max_features=sqrt, n_estimators=200;, score=0.600 total time=   0.3s\n",
      "[CV 2/5] END criterion=gini, max_depth=2, max_features=sqrt, n_estimators=200;, score=0.614 total time=   0.2s\n",
      "[CV 3/5] END criterion=gini, max_depth=2, max_features=sqrt, n_estimators=200;, score=0.614 total time=   0.2s\n",
      "[CV 4/5] END criterion=gini, max_depth=2, max_features=sqrt, n_estimators=200;, score=0.614 total time=   0.2s\n",
      "[CV 5/5] END criterion=gini, max_depth=2, max_features=sqrt, n_estimators=200;, score=0.614 total time=   0.2s\n",
      "[CV 1/5] END criterion=gini, max_depth=2, max_features=sqrt, n_estimators=300;, score=0.600 total time=   0.4s\n",
      "[CV 2/5] END criterion=gini, max_depth=2, max_features=sqrt, n_estimators=300;, score=0.614 total time=   0.4s\n",
      "[CV 3/5] END criterion=gini, max_depth=2, max_features=sqrt, n_estimators=300;, score=0.614 total time=   0.4s\n",
      "[CV 4/5] END criterion=gini, max_depth=2, max_features=sqrt, n_estimators=300;, score=0.614 total time=   0.4s\n",
      "[CV 5/5] END criterion=gini, max_depth=2, max_features=sqrt, n_estimators=300;, score=0.614 total time=   0.4s\n",
      "[CV 1/5] END criterion=gini, max_depth=2, max_features=sqrt, n_estimators=400;, score=0.600 total time=   0.6s\n",
      "[CV 2/5] END criterion=gini, max_depth=2, max_features=sqrt, n_estimators=400;, score=0.614 total time=   0.6s\n",
      "[CV 3/5] END criterion=gini, max_depth=2, max_features=sqrt, n_estimators=400;, score=0.614 total time=   0.6s\n",
      "[CV 4/5] END criterion=gini, max_depth=2, max_features=sqrt, n_estimators=400;, score=0.614 total time=   0.6s\n",
      "[CV 5/5] END criterion=gini, max_depth=2, max_features=sqrt, n_estimators=400;, score=0.614 total time=   0.6s\n",
      "[CV 1/5] END criterion=gini, max_depth=2, max_features=log2, n_estimators=100;, score=0.600 total time=   0.1s\n",
      "[CV 2/5] END criterion=gini, max_depth=2, max_features=log2, n_estimators=100;, score=0.614 total time=   0.1s\n",
      "[CV 3/5] END criterion=gini, max_depth=2, max_features=log2, n_estimators=100;, score=0.614 total time=   0.1s\n",
      "[CV 4/5] END criterion=gini, max_depth=2, max_features=log2, n_estimators=100;, score=0.614 total time=   0.1s\n",
      "[CV 5/5] END criterion=gini, max_depth=2, max_features=log2, n_estimators=100;, score=0.614 total time=   0.1s\n",
      "[CV 1/5] END criterion=gini, max_depth=2, max_features=log2, n_estimators=200;, score=0.600 total time=   0.3s\n",
      "[CV 2/5] END criterion=gini, max_depth=2, max_features=log2, n_estimators=200;, score=0.614 total time=   0.3s\n",
      "[CV 3/5] END criterion=gini, max_depth=2, max_features=log2, n_estimators=200;, score=0.614 total time=   0.3s\n",
      "[CV 4/5] END criterion=gini, max_depth=2, max_features=log2, n_estimators=200;, score=0.614 total time=   0.3s\n",
      "[CV 5/5] END criterion=gini, max_depth=2, max_features=log2, n_estimators=200;, score=0.614 total time=   0.3s\n",
      "[CV 1/5] END criterion=gini, max_depth=2, max_features=log2, n_estimators=300;, score=0.600 total time=   0.5s\n",
      "[CV 2/5] END criterion=gini, max_depth=2, max_features=log2, n_estimators=300;, score=0.614 total time=   0.4s\n",
      "[CV 3/5] END criterion=gini, max_depth=2, max_features=log2, n_estimators=300;, score=0.614 total time=   0.4s\n",
      "[CV 4/5] END criterion=gini, max_depth=2, max_features=log2, n_estimators=300;, score=0.614 total time=   0.4s\n",
      "[CV 5/5] END criterion=gini, max_depth=2, max_features=log2, n_estimators=300;, score=0.614 total time=   0.4s\n",
      "[CV 1/5] END criterion=gini, max_depth=2, max_features=log2, n_estimators=400;, score=0.600 total time=   0.6s\n",
      "[CV 2/5] END criterion=gini, max_depth=2, max_features=log2, n_estimators=400;, score=0.614 total time=   0.6s\n",
      "[CV 3/5] END criterion=gini, max_depth=2, max_features=log2, n_estimators=400;, score=0.614 total time=   0.6s\n",
      "[CV 4/5] END criterion=gini, max_depth=2, max_features=log2, n_estimators=400;, score=0.614 total time=   0.6s\n",
      "[CV 5/5] END criterion=gini, max_depth=2, max_features=log2, n_estimators=400;, score=0.614 total time=   0.6s\n",
      "[CV 1/5] END criterion=gini, max_depth=3, max_features=auto, n_estimators=100;, score=0.600 total time=   0.1s\n",
      "[CV 2/5] END criterion=gini, max_depth=3, max_features=auto, n_estimators=100;, score=0.629 total time=   0.1s\n",
      "[CV 3/5] END criterion=gini, max_depth=3, max_features=auto, n_estimators=100;, score=0.614 total time=   0.1s\n",
      "[CV 4/5] END criterion=gini, max_depth=3, max_features=auto, n_estimators=100;, score=0.614 total time=   0.1s\n",
      "[CV 5/5] END criterion=gini, max_depth=3, max_features=auto, n_estimators=100;, score=0.614 total time=   0.1s\n",
      "[CV 1/5] END criterion=gini, max_depth=3, max_features=auto, n_estimators=200;, score=0.600 total time=   0.3s\n",
      "[CV 2/5] END criterion=gini, max_depth=3, max_features=auto, n_estimators=200;, score=0.614 total time=   0.3s\n",
      "[CV 3/5] END criterion=gini, max_depth=3, max_features=auto, n_estimators=200;, score=0.614 total time=   0.3s\n",
      "[CV 4/5] END criterion=gini, max_depth=3, max_features=auto, n_estimators=200;, score=0.614 total time=   0.3s\n",
      "[CV 5/5] END criterion=gini, max_depth=3, max_features=auto, n_estimators=200;, score=0.614 total time=   0.3s\n",
      "[CV 1/5] END criterion=gini, max_depth=3, max_features=auto, n_estimators=300;, score=0.600 total time=   0.4s\n",
      "[CV 2/5] END criterion=gini, max_depth=3, max_features=auto, n_estimators=300;, score=0.614 total time=   0.4s\n",
      "[CV 3/5] END criterion=gini, max_depth=3, max_features=auto, n_estimators=300;, score=0.614 total time=   0.4s\n",
      "[CV 4/5] END criterion=gini, max_depth=3, max_features=auto, n_estimators=300;, score=0.614 total time=   0.4s\n",
      "[CV 5/5] END criterion=gini, max_depth=3, max_features=auto, n_estimators=300;, score=0.614 total time=   0.4s\n"
     ]
    },
    {
     "name": "stdout",
     "output_type": "stream",
     "text": [
      "[CV 1/5] END criterion=gini, max_depth=3, max_features=auto, n_estimators=400;, score=0.600 total time=   0.6s\n",
      "[CV 2/5] END criterion=gini, max_depth=3, max_features=auto, n_estimators=400;, score=0.614 total time=   0.6s\n",
      "[CV 3/5] END criterion=gini, max_depth=3, max_features=auto, n_estimators=400;, score=0.614 total time=   0.6s\n",
      "[CV 4/5] END criterion=gini, max_depth=3, max_features=auto, n_estimators=400;, score=0.614 total time=   0.6s\n",
      "[CV 5/5] END criterion=gini, max_depth=3, max_features=auto, n_estimators=400;, score=0.614 total time=   0.6s\n",
      "[CV 1/5] END criterion=gini, max_depth=3, max_features=sqrt, n_estimators=100;, score=0.600 total time=   0.1s\n",
      "[CV 2/5] END criterion=gini, max_depth=3, max_features=sqrt, n_estimators=100;, score=0.614 total time=   0.1s\n",
      "[CV 3/5] END criterion=gini, max_depth=3, max_features=sqrt, n_estimators=100;, score=0.614 total time=   0.1s\n",
      "[CV 4/5] END criterion=gini, max_depth=3, max_features=sqrt, n_estimators=100;, score=0.614 total time=   0.1s\n",
      "[CV 5/5] END criterion=gini, max_depth=3, max_features=sqrt, n_estimators=100;, score=0.614 total time=   0.1s\n",
      "[CV 1/5] END criterion=gini, max_depth=3, max_features=sqrt, n_estimators=200;, score=0.600 total time=   0.2s\n",
      "[CV 2/5] END criterion=gini, max_depth=3, max_features=sqrt, n_estimators=200;, score=0.614 total time=   0.3s\n",
      "[CV 3/5] END criterion=gini, max_depth=3, max_features=sqrt, n_estimators=200;, score=0.614 total time=   0.3s\n",
      "[CV 4/5] END criterion=gini, max_depth=3, max_features=sqrt, n_estimators=200;, score=0.614 total time=   0.3s\n",
      "[CV 5/5] END criterion=gini, max_depth=3, max_features=sqrt, n_estimators=200;, score=0.614 total time=   0.3s\n",
      "[CV 1/5] END criterion=gini, max_depth=3, max_features=sqrt, n_estimators=300;, score=0.600 total time=   0.4s\n",
      "[CV 2/5] END criterion=gini, max_depth=3, max_features=sqrt, n_estimators=300;, score=0.614 total time=   0.4s\n",
      "[CV 3/5] END criterion=gini, max_depth=3, max_features=sqrt, n_estimators=300;, score=0.614 total time=   0.4s\n",
      "[CV 4/5] END criterion=gini, max_depth=3, max_features=sqrt, n_estimators=300;, score=0.614 total time=   0.4s\n",
      "[CV 5/5] END criterion=gini, max_depth=3, max_features=sqrt, n_estimators=300;, score=0.614 total time=   0.4s\n",
      "[CV 1/5] END criterion=gini, max_depth=3, max_features=sqrt, n_estimators=400;, score=0.600 total time=   0.6s\n",
      "[CV 2/5] END criterion=gini, max_depth=3, max_features=sqrt, n_estimators=400;, score=0.614 total time=   0.6s\n",
      "[CV 3/5] END criterion=gini, max_depth=3, max_features=sqrt, n_estimators=400;, score=0.614 total time=   0.6s\n",
      "[CV 4/5] END criterion=gini, max_depth=3, max_features=sqrt, n_estimators=400;, score=0.614 total time=   0.6s\n",
      "[CV 5/5] END criterion=gini, max_depth=3, max_features=sqrt, n_estimators=400;, score=0.614 total time=   0.6s\n",
      "[CV 1/5] END criterion=gini, max_depth=3, max_features=log2, n_estimators=100;, score=0.600 total time=   0.1s\n",
      "[CV 2/5] END criterion=gini, max_depth=3, max_features=log2, n_estimators=100;, score=0.614 total time=   0.1s\n",
      "[CV 3/5] END criterion=gini, max_depth=3, max_features=log2, n_estimators=100;, score=0.614 total time=   0.1s\n",
      "[CV 4/5] END criterion=gini, max_depth=3, max_features=log2, n_estimators=100;, score=0.614 total time=   0.1s\n",
      "[CV 5/5] END criterion=gini, max_depth=3, max_features=log2, n_estimators=100;, score=0.614 total time=   0.1s\n",
      "[CV 1/5] END criterion=gini, max_depth=3, max_features=log2, n_estimators=200;, score=0.600 total time=   0.2s\n",
      "[CV 2/5] END criterion=gini, max_depth=3, max_features=log2, n_estimators=200;, score=0.614 total time=   0.3s\n",
      "[CV 3/5] END criterion=gini, max_depth=3, max_features=log2, n_estimators=200;, score=0.614 total time=   0.2s\n",
      "[CV 4/5] END criterion=gini, max_depth=3, max_features=log2, n_estimators=200;, score=0.614 total time=   0.3s\n",
      "[CV 5/5] END criterion=gini, max_depth=3, max_features=log2, n_estimators=200;, score=0.614 total time=   0.3s\n",
      "[CV 1/5] END criterion=gini, max_depth=3, max_features=log2, n_estimators=300;, score=0.600 total time=   0.4s\n",
      "[CV 2/5] END criterion=gini, max_depth=3, max_features=log2, n_estimators=300;, score=0.614 total time=   0.4s\n",
      "[CV 3/5] END criterion=gini, max_depth=3, max_features=log2, n_estimators=300;, score=0.614 total time=   0.4s\n",
      "[CV 4/5] END criterion=gini, max_depth=3, max_features=log2, n_estimators=300;, score=0.614 total time=   0.4s\n",
      "[CV 5/5] END criterion=gini, max_depth=3, max_features=log2, n_estimators=300;, score=0.614 total time=   0.4s\n",
      "[CV 1/5] END criterion=gini, max_depth=3, max_features=log2, n_estimators=400;, score=0.600 total time=   0.6s\n",
      "[CV 2/5] END criterion=gini, max_depth=3, max_features=log2, n_estimators=400;, score=0.614 total time=   0.6s\n",
      "[CV 3/5] END criterion=gini, max_depth=3, max_features=log2, n_estimators=400;, score=0.614 total time=   0.6s\n",
      "[CV 4/5] END criterion=gini, max_depth=3, max_features=log2, n_estimators=400;, score=0.614 total time=   0.6s\n",
      "[CV 5/5] END criterion=gini, max_depth=3, max_features=log2, n_estimators=400;, score=0.614 total time=   0.6s\n",
      "[CV 1/5] END criterion=gini, max_depth=4, max_features=auto, n_estimators=100;, score=0.600 total time=   0.1s\n",
      "[CV 2/5] END criterion=gini, max_depth=4, max_features=auto, n_estimators=100;, score=0.643 total time=   0.1s\n",
      "[CV 3/5] END criterion=gini, max_depth=4, max_features=auto, n_estimators=100;, score=0.600 total time=   0.1s\n",
      "[CV 4/5] END criterion=gini, max_depth=4, max_features=auto, n_estimators=100;, score=0.629 total time=   0.1s\n",
      "[CV 5/5] END criterion=gini, max_depth=4, max_features=auto, n_estimators=100;, score=0.614 total time=   0.1s\n",
      "[CV 1/5] END criterion=gini, max_depth=4, max_features=auto, n_estimators=200;, score=0.586 total time=   0.3s\n",
      "[CV 2/5] END criterion=gini, max_depth=4, max_features=auto, n_estimators=200;, score=0.629 total time=   0.3s\n",
      "[CV 3/5] END criterion=gini, max_depth=4, max_features=auto, n_estimators=200;, score=0.614 total time=   0.3s\n",
      "[CV 4/5] END criterion=gini, max_depth=4, max_features=auto, n_estimators=200;, score=0.614 total time=   0.3s\n",
      "[CV 5/5] END criterion=gini, max_depth=4, max_features=auto, n_estimators=200;, score=0.614 total time=   0.3s\n",
      "[CV 1/5] END criterion=gini, max_depth=4, max_features=auto, n_estimators=300;, score=0.600 total time=   0.4s\n",
      "[CV 2/5] END criterion=gini, max_depth=4, max_features=auto, n_estimators=300;, score=0.614 total time=   0.4s\n",
      "[CV 3/5] END criterion=gini, max_depth=4, max_features=auto, n_estimators=300;, score=0.614 total time=   0.4s\n",
      "[CV 4/5] END criterion=gini, max_depth=4, max_features=auto, n_estimators=300;, score=0.614 total time=   0.4s\n",
      "[CV 5/5] END criterion=gini, max_depth=4, max_features=auto, n_estimators=300;, score=0.614 total time=   0.4s\n",
      "[CV 1/5] END criterion=gini, max_depth=4, max_features=auto, n_estimators=400;, score=0.614 total time=   0.6s\n",
      "[CV 2/5] END criterion=gini, max_depth=4, max_features=auto, n_estimators=400;, score=0.614 total time=   0.6s\n",
      "[CV 3/5] END criterion=gini, max_depth=4, max_features=auto, n_estimators=400;, score=0.614 total time=   0.6s\n",
      "[CV 4/5] END criterion=gini, max_depth=4, max_features=auto, n_estimators=400;, score=0.614 total time=   0.6s\n",
      "[CV 5/5] END criterion=gini, max_depth=4, max_features=auto, n_estimators=400;, score=0.614 total time=   0.6s\n",
      "[CV 1/5] END criterion=gini, max_depth=4, max_features=sqrt, n_estimators=100;, score=0.600 total time=   0.1s\n",
      "[CV 2/5] END criterion=gini, max_depth=4, max_features=sqrt, n_estimators=100;, score=0.614 total time=   0.1s\n",
      "[CV 3/5] END criterion=gini, max_depth=4, max_features=sqrt, n_estimators=100;, score=0.600 total time=   0.1s\n",
      "[CV 4/5] END criterion=gini, max_depth=4, max_features=sqrt, n_estimators=100;, score=0.614 total time=   0.1s\n",
      "[CV 5/5] END criterion=gini, max_depth=4, max_features=sqrt, n_estimators=100;, score=0.614 total time=   0.1s\n",
      "[CV 1/5] END criterion=gini, max_depth=4, max_features=sqrt, n_estimators=200;, score=0.600 total time=   0.3s\n",
      "[CV 2/5] END criterion=gini, max_depth=4, max_features=sqrt, n_estimators=200;, score=0.629 total time=   0.3s\n",
      "[CV 3/5] END criterion=gini, max_depth=4, max_features=sqrt, n_estimators=200;, score=0.614 total time=   0.3s\n",
      "[CV 4/5] END criterion=gini, max_depth=4, max_features=sqrt, n_estimators=200;, score=0.614 total time=   0.3s\n"
     ]
    },
    {
     "name": "stdout",
     "output_type": "stream",
     "text": [
      "[CV 5/5] END criterion=gini, max_depth=4, max_features=sqrt, n_estimators=200;, score=0.614 total time=   0.3s\n",
      "[CV 1/5] END criterion=gini, max_depth=4, max_features=sqrt, n_estimators=300;, score=0.600 total time=   0.5s\n",
      "[CV 2/5] END criterion=gini, max_depth=4, max_features=sqrt, n_estimators=300;, score=0.629 total time=   0.4s\n",
      "[CV 3/5] END criterion=gini, max_depth=4, max_features=sqrt, n_estimators=300;, score=0.614 total time=   0.4s\n",
      "[CV 4/5] END criterion=gini, max_depth=4, max_features=sqrt, n_estimators=300;, score=0.614 total time=   0.4s\n",
      "[CV 5/5] END criterion=gini, max_depth=4, max_features=sqrt, n_estimators=300;, score=0.614 total time=   0.4s\n",
      "[CV 1/5] END criterion=gini, max_depth=4, max_features=sqrt, n_estimators=400;, score=0.614 total time=   0.6s\n",
      "[CV 2/5] END criterion=gini, max_depth=4, max_features=sqrt, n_estimators=400;, score=0.614 total time=   0.6s\n",
      "[CV 3/5] END criterion=gini, max_depth=4, max_features=sqrt, n_estimators=400;, score=0.614 total time=   0.6s\n",
      "[CV 4/5] END criterion=gini, max_depth=4, max_features=sqrt, n_estimators=400;, score=0.614 total time=   0.6s\n",
      "[CV 5/5] END criterion=gini, max_depth=4, max_features=sqrt, n_estimators=400;, score=0.614 total time=   0.6s\n",
      "[CV 1/5] END criterion=gini, max_depth=4, max_features=log2, n_estimators=100;, score=0.586 total time=   0.1s\n",
      "[CV 2/5] END criterion=gini, max_depth=4, max_features=log2, n_estimators=100;, score=0.629 total time=   0.1s\n",
      "[CV 3/5] END criterion=gini, max_depth=4, max_features=log2, n_estimators=100;, score=0.614 total time=   0.1s\n",
      "[CV 4/5] END criterion=gini, max_depth=4, max_features=log2, n_estimators=100;, score=0.614 total time=   0.1s\n",
      "[CV 5/5] END criterion=gini, max_depth=4, max_features=log2, n_estimators=100;, score=0.614 total time=   0.1s\n",
      "[CV 1/5] END criterion=gini, max_depth=4, max_features=log2, n_estimators=200;, score=0.586 total time=   0.3s\n",
      "[CV 2/5] END criterion=gini, max_depth=4, max_features=log2, n_estimators=200;, score=0.629 total time=   0.3s\n",
      "[CV 3/5] END criterion=gini, max_depth=4, max_features=log2, n_estimators=200;, score=0.614 total time=   0.3s\n",
      "[CV 4/5] END criterion=gini, max_depth=4, max_features=log2, n_estimators=200;, score=0.614 total time=   0.3s\n",
      "[CV 5/5] END criterion=gini, max_depth=4, max_features=log2, n_estimators=200;, score=0.614 total time=   0.3s\n",
      "[CV 1/5] END criterion=gini, max_depth=4, max_features=log2, n_estimators=300;, score=0.614 total time=   0.4s\n",
      "[CV 2/5] END criterion=gini, max_depth=4, max_features=log2, n_estimators=300;, score=0.629 total time=   0.4s\n",
      "[CV 3/5] END criterion=gini, max_depth=4, max_features=log2, n_estimators=300;, score=0.614 total time=   0.4s\n",
      "[CV 4/5] END criterion=gini, max_depth=4, max_features=log2, n_estimators=300;, score=0.614 total time=   0.4s\n",
      "[CV 5/5] END criterion=gini, max_depth=4, max_features=log2, n_estimators=300;, score=0.614 total time=   0.4s\n",
      "[CV 1/5] END criterion=gini, max_depth=4, max_features=log2, n_estimators=400;, score=0.600 total time=   0.6s\n",
      "[CV 2/5] END criterion=gini, max_depth=4, max_features=log2, n_estimators=400;, score=0.614 total time=   0.7s\n",
      "[CV 3/5] END criterion=gini, max_depth=4, max_features=log2, n_estimators=400;, score=0.614 total time=   0.8s\n",
      "[CV 4/5] END criterion=gini, max_depth=4, max_features=log2, n_estimators=400;, score=0.614 total time=   0.7s\n",
      "[CV 5/5] END criterion=gini, max_depth=4, max_features=log2, n_estimators=400;, score=0.614 total time=   0.7s\n",
      "[CV 1/5] END criterion=gini, max_depth=5, max_features=auto, n_estimators=100;, score=0.586 total time=   0.1s\n",
      "[CV 2/5] END criterion=gini, max_depth=5, max_features=auto, n_estimators=100;, score=0.629 total time=   0.1s\n",
      "[CV 3/5] END criterion=gini, max_depth=5, max_features=auto, n_estimators=100;, score=0.614 total time=   0.1s\n",
      "[CV 4/5] END criterion=gini, max_depth=5, max_features=auto, n_estimators=100;, score=0.614 total time=   0.1s\n",
      "[CV 5/5] END criterion=gini, max_depth=5, max_features=auto, n_estimators=100;, score=0.643 total time=   0.1s\n",
      "[CV 1/5] END criterion=gini, max_depth=5, max_features=auto, n_estimators=200;, score=0.600 total time=   0.3s\n",
      "[CV 2/5] END criterion=gini, max_depth=5, max_features=auto, n_estimators=200;, score=0.643 total time=   0.3s\n",
      "[CV 3/5] END criterion=gini, max_depth=5, max_features=auto, n_estimators=200;, score=0.614 total time=   0.3s\n",
      "[CV 4/5] END criterion=gini, max_depth=5, max_features=auto, n_estimators=200;, score=0.614 total time=   0.3s\n",
      "[CV 5/5] END criterion=gini, max_depth=5, max_features=auto, n_estimators=200;, score=0.614 total time=   0.3s\n",
      "[CV 1/5] END criterion=gini, max_depth=5, max_features=auto, n_estimators=300;, score=0.586 total time=   0.5s\n",
      "[CV 2/5] END criterion=gini, max_depth=5, max_features=auto, n_estimators=300;, score=0.643 total time=   0.5s\n",
      "[CV 3/5] END criterion=gini, max_depth=5, max_features=auto, n_estimators=300;, score=0.600 total time=   0.5s\n",
      "[CV 4/5] END criterion=gini, max_depth=5, max_features=auto, n_estimators=300;, score=0.614 total time=   0.5s\n",
      "[CV 5/5] END criterion=gini, max_depth=5, max_features=auto, n_estimators=300;, score=0.614 total time=   0.5s\n",
      "[CV 1/5] END criterion=gini, max_depth=5, max_features=auto, n_estimators=400;, score=0.586 total time=   0.7s\n",
      "[CV 2/5] END criterion=gini, max_depth=5, max_features=auto, n_estimators=400;, score=0.629 total time=   0.7s\n",
      "[CV 3/5] END criterion=gini, max_depth=5, max_features=auto, n_estimators=400;, score=0.586 total time=   0.7s\n",
      "[CV 4/5] END criterion=gini, max_depth=5, max_features=auto, n_estimators=400;, score=0.629 total time=   0.6s\n",
      "[CV 5/5] END criterion=gini, max_depth=5, max_features=auto, n_estimators=400;, score=0.614 total time=   0.6s\n",
      "[CV 1/5] END criterion=gini, max_depth=5, max_features=sqrt, n_estimators=100;, score=0.557 total time=   0.1s\n",
      "[CV 2/5] END criterion=gini, max_depth=5, max_features=sqrt, n_estimators=100;, score=0.643 total time=   0.1s\n",
      "[CV 3/5] END criterion=gini, max_depth=5, max_features=sqrt, n_estimators=100;, score=0.586 total time=   0.1s\n",
      "[CV 4/5] END criterion=gini, max_depth=5, max_features=sqrt, n_estimators=100;, score=0.586 total time=   0.1s\n",
      "[CV 5/5] END criterion=gini, max_depth=5, max_features=sqrt, n_estimators=100;, score=0.643 total time=   0.1s\n",
      "[CV 1/5] END criterion=gini, max_depth=5, max_features=sqrt, n_estimators=200;, score=0.586 total time=   0.3s\n",
      "[CV 2/5] END criterion=gini, max_depth=5, max_features=sqrt, n_estimators=200;, score=0.629 total time=   0.3s\n",
      "[CV 3/5] END criterion=gini, max_depth=5, max_features=sqrt, n_estimators=200;, score=0.614 total time=   0.3s\n",
      "[CV 4/5] END criterion=gini, max_depth=5, max_features=sqrt, n_estimators=200;, score=0.629 total time=   0.3s\n",
      "[CV 5/5] END criterion=gini, max_depth=5, max_features=sqrt, n_estimators=200;, score=0.614 total time=   0.3s\n",
      "[CV 1/5] END criterion=gini, max_depth=5, max_features=sqrt, n_estimators=300;, score=0.600 total time=   0.5s\n",
      "[CV 2/5] END criterion=gini, max_depth=5, max_features=sqrt, n_estimators=300;, score=0.643 total time=   0.5s\n",
      "[CV 3/5] END criterion=gini, max_depth=5, max_features=sqrt, n_estimators=300;, score=0.586 total time=   0.5s\n",
      "[CV 4/5] END criterion=gini, max_depth=5, max_features=sqrt, n_estimators=300;, score=0.629 total time=   0.4s\n",
      "[CV 5/5] END criterion=gini, max_depth=5, max_features=sqrt, n_estimators=300;, score=0.629 total time=   0.5s\n",
      "[CV 1/5] END criterion=gini, max_depth=5, max_features=sqrt, n_estimators=400;, score=0.586 total time=   0.6s\n",
      "[CV 2/5] END criterion=gini, max_depth=5, max_features=sqrt, n_estimators=400;, score=0.643 total time=   0.6s\n",
      "[CV 3/5] END criterion=gini, max_depth=5, max_features=sqrt, n_estimators=400;, score=0.600 total time=   0.6s\n",
      "[CV 4/5] END criterion=gini, max_depth=5, max_features=sqrt, n_estimators=400;, score=0.614 total time=   0.6s\n",
      "[CV 5/5] END criterion=gini, max_depth=5, max_features=sqrt, n_estimators=400;, score=0.614 total time=   0.6s\n",
      "[CV 1/5] END criterion=gini, max_depth=5, max_features=log2, n_estimators=100;, score=0.586 total time=   0.1s\n",
      "[CV 2/5] END criterion=gini, max_depth=5, max_features=log2, n_estimators=100;, score=0.629 total time=   0.1s\n",
      "[CV 3/5] END criterion=gini, max_depth=5, max_features=log2, n_estimators=100;, score=0.600 total time=   0.1s\n",
      "[CV 4/5] END criterion=gini, max_depth=5, max_features=log2, n_estimators=100;, score=0.614 total time=   0.1s\n"
     ]
    },
    {
     "name": "stdout",
     "output_type": "stream",
     "text": [
      "[CV 5/5] END criterion=gini, max_depth=5, max_features=log2, n_estimators=100;, score=0.614 total time=   0.1s\n",
      "[CV 1/5] END criterion=gini, max_depth=5, max_features=log2, n_estimators=200;, score=0.586 total time=   0.3s\n",
      "[CV 2/5] END criterion=gini, max_depth=5, max_features=log2, n_estimators=200;, score=0.643 total time=   0.3s\n",
      "[CV 3/5] END criterion=gini, max_depth=5, max_features=log2, n_estimators=200;, score=0.600 total time=   0.3s\n",
      "[CV 4/5] END criterion=gini, max_depth=5, max_features=log2, n_estimators=200;, score=0.614 total time=   0.3s\n",
      "[CV 5/5] END criterion=gini, max_depth=5, max_features=log2, n_estimators=200;, score=0.629 total time=   0.3s\n",
      "[CV 1/5] END criterion=gini, max_depth=5, max_features=log2, n_estimators=300;, score=0.586 total time=   0.5s\n",
      "[CV 2/5] END criterion=gini, max_depth=5, max_features=log2, n_estimators=300;, score=0.643 total time=   0.4s\n",
      "[CV 3/5] END criterion=gini, max_depth=5, max_features=log2, n_estimators=300;, score=0.600 total time=   0.5s\n",
      "[CV 4/5] END criterion=gini, max_depth=5, max_features=log2, n_estimators=300;, score=0.614 total time=   0.5s\n",
      "[CV 5/5] END criterion=gini, max_depth=5, max_features=log2, n_estimators=300;, score=0.614 total time=   0.5s\n",
      "[CV 1/5] END criterion=gini, max_depth=5, max_features=log2, n_estimators=400;, score=0.586 total time=   0.7s\n",
      "[CV 2/5] END criterion=gini, max_depth=5, max_features=log2, n_estimators=400;, score=0.629 total time=   0.7s\n",
      "[CV 3/5] END criterion=gini, max_depth=5, max_features=log2, n_estimators=400;, score=0.600 total time=   0.7s\n",
      "[CV 4/5] END criterion=gini, max_depth=5, max_features=log2, n_estimators=400;, score=0.614 total time=   0.6s\n",
      "[CV 5/5] END criterion=gini, max_depth=5, max_features=log2, n_estimators=400;, score=0.600 total time=   0.7s\n",
      "[CV 1/5] END criterion=entropy, max_depth=2, max_features=auto, n_estimators=100;, score=0.600 total time=   0.1s\n",
      "[CV 2/5] END criterion=entropy, max_depth=2, max_features=auto, n_estimators=100;, score=0.614 total time=   0.1s\n",
      "[CV 3/5] END criterion=entropy, max_depth=2, max_features=auto, n_estimators=100;, score=0.614 total time=   0.1s\n",
      "[CV 4/5] END criterion=entropy, max_depth=2, max_features=auto, n_estimators=100;, score=0.614 total time=   0.1s\n",
      "[CV 5/5] END criterion=entropy, max_depth=2, max_features=auto, n_estimators=100;, score=0.614 total time=   0.1s\n",
      "[CV 1/5] END criterion=entropy, max_depth=2, max_features=auto, n_estimators=200;, score=0.600 total time=   0.3s\n",
      "[CV 2/5] END criterion=entropy, max_depth=2, max_features=auto, n_estimators=200;, score=0.614 total time=   0.3s\n",
      "[CV 3/5] END criterion=entropy, max_depth=2, max_features=auto, n_estimators=200;, score=0.614 total time=   0.3s\n",
      "[CV 4/5] END criterion=entropy, max_depth=2, max_features=auto, n_estimators=200;, score=0.614 total time=   0.3s\n",
      "[CV 5/5] END criterion=entropy, max_depth=2, max_features=auto, n_estimators=200;, score=0.614 total time=   0.3s\n",
      "[CV 1/5] END criterion=entropy, max_depth=2, max_features=auto, n_estimators=300;, score=0.600 total time=   0.4s\n",
      "[CV 2/5] END criterion=entropy, max_depth=2, max_features=auto, n_estimators=300;, score=0.614 total time=   0.4s\n",
      "[CV 3/5] END criterion=entropy, max_depth=2, max_features=auto, n_estimators=300;, score=0.614 total time=   0.4s\n",
      "[CV 4/5] END criterion=entropy, max_depth=2, max_features=auto, n_estimators=300;, score=0.614 total time=   0.4s\n",
      "[CV 5/5] END criterion=entropy, max_depth=2, max_features=auto, n_estimators=300;, score=0.614 total time=   0.4s\n",
      "[CV 1/5] END criterion=entropy, max_depth=2, max_features=auto, n_estimators=400;, score=0.600 total time=   0.6s\n",
      "[CV 2/5] END criterion=entropy, max_depth=2, max_features=auto, n_estimators=400;, score=0.614 total time=   0.6s\n",
      "[CV 3/5] END criterion=entropy, max_depth=2, max_features=auto, n_estimators=400;, score=0.614 total time=   0.6s\n",
      "[CV 4/5] END criterion=entropy, max_depth=2, max_features=auto, n_estimators=400;, score=0.614 total time=   0.6s\n",
      "[CV 5/5] END criterion=entropy, max_depth=2, max_features=auto, n_estimators=400;, score=0.614 total time=   0.6s\n",
      "[CV 1/5] END criterion=entropy, max_depth=2, max_features=sqrt, n_estimators=100;, score=0.600 total time=   0.1s\n",
      "[CV 2/5] END criterion=entropy, max_depth=2, max_features=sqrt, n_estimators=100;, score=0.614 total time=   0.1s\n",
      "[CV 3/5] END criterion=entropy, max_depth=2, max_features=sqrt, n_estimators=100;, score=0.614 total time=   0.1s\n",
      "[CV 4/5] END criterion=entropy, max_depth=2, max_features=sqrt, n_estimators=100;, score=0.614 total time=   0.1s\n",
      "[CV 5/5] END criterion=entropy, max_depth=2, max_features=sqrt, n_estimators=100;, score=0.614 total time=   0.1s\n",
      "[CV 1/5] END criterion=entropy, max_depth=2, max_features=sqrt, n_estimators=200;, score=0.600 total time=   0.3s\n",
      "[CV 2/5] END criterion=entropy, max_depth=2, max_features=sqrt, n_estimators=200;, score=0.614 total time=   0.3s\n",
      "[CV 3/5] END criterion=entropy, max_depth=2, max_features=sqrt, n_estimators=200;, score=0.614 total time=   0.3s\n",
      "[CV 4/5] END criterion=entropy, max_depth=2, max_features=sqrt, n_estimators=200;, score=0.614 total time=   0.3s\n",
      "[CV 5/5] END criterion=entropy, max_depth=2, max_features=sqrt, n_estimators=200;, score=0.614 total time=   0.3s\n",
      "[CV 1/5] END criterion=entropy, max_depth=2, max_features=sqrt, n_estimators=300;, score=0.600 total time=   0.4s\n",
      "[CV 2/5] END criterion=entropy, max_depth=2, max_features=sqrt, n_estimators=300;, score=0.614 total time=   0.4s\n",
      "[CV 3/5] END criterion=entropy, max_depth=2, max_features=sqrt, n_estimators=300;, score=0.614 total time=   0.4s\n",
      "[CV 4/5] END criterion=entropy, max_depth=2, max_features=sqrt, n_estimators=300;, score=0.614 total time=   0.4s\n",
      "[CV 5/5] END criterion=entropy, max_depth=2, max_features=sqrt, n_estimators=300;, score=0.614 total time=   0.4s\n",
      "[CV 1/5] END criterion=entropy, max_depth=2, max_features=sqrt, n_estimators=400;, score=0.600 total time=   0.6s\n",
      "[CV 2/5] END criterion=entropy, max_depth=2, max_features=sqrt, n_estimators=400;, score=0.614 total time=   0.6s\n",
      "[CV 3/5] END criterion=entropy, max_depth=2, max_features=sqrt, n_estimators=400;, score=0.614 total time=   0.6s\n",
      "[CV 4/5] END criterion=entropy, max_depth=2, max_features=sqrt, n_estimators=400;, score=0.614 total time=   0.6s\n",
      "[CV 5/5] END criterion=entropy, max_depth=2, max_features=sqrt, n_estimators=400;, score=0.614 total time=   0.6s\n",
      "[CV 1/5] END criterion=entropy, max_depth=2, max_features=log2, n_estimators=100;, score=0.600 total time=   0.1s\n",
      "[CV 2/5] END criterion=entropy, max_depth=2, max_features=log2, n_estimators=100;, score=0.614 total time=   0.1s\n",
      "[CV 3/5] END criterion=entropy, max_depth=2, max_features=log2, n_estimators=100;, score=0.614 total time=   0.1s\n",
      "[CV 4/5] END criterion=entropy, max_depth=2, max_features=log2, n_estimators=100;, score=0.614 total time=   0.1s\n",
      "[CV 5/5] END criterion=entropy, max_depth=2, max_features=log2, n_estimators=100;, score=0.614 total time=   0.1s\n",
      "[CV 1/5] END criterion=entropy, max_depth=2, max_features=log2, n_estimators=200;, score=0.600 total time=   0.3s\n",
      "[CV 2/5] END criterion=entropy, max_depth=2, max_features=log2, n_estimators=200;, score=0.614 total time=   0.3s\n",
      "[CV 3/5] END criterion=entropy, max_depth=2, max_features=log2, n_estimators=200;, score=0.614 total time=   0.3s\n",
      "[CV 4/5] END criterion=entropy, max_depth=2, max_features=log2, n_estimators=200;, score=0.614 total time=   0.3s\n",
      "[CV 5/5] END criterion=entropy, max_depth=2, max_features=log2, n_estimators=200;, score=0.614 total time=   0.3s\n",
      "[CV 1/5] END criterion=entropy, max_depth=2, max_features=log2, n_estimators=300;, score=0.600 total time=   0.4s\n",
      "[CV 2/5] END criterion=entropy, max_depth=2, max_features=log2, n_estimators=300;, score=0.614 total time=   0.4s\n",
      "[CV 3/5] END criterion=entropy, max_depth=2, max_features=log2, n_estimators=300;, score=0.614 total time=   0.4s\n",
      "[CV 4/5] END criterion=entropy, max_depth=2, max_features=log2, n_estimators=300;, score=0.614 total time=   0.4s\n",
      "[CV 5/5] END criterion=entropy, max_depth=2, max_features=log2, n_estimators=300;, score=0.614 total time=   0.4s\n",
      "[CV 1/5] END criterion=entropy, max_depth=2, max_features=log2, n_estimators=400;, score=0.600 total time=   0.6s\n",
      "[CV 2/5] END criterion=entropy, max_depth=2, max_features=log2, n_estimators=400;, score=0.614 total time=   0.6s\n"
     ]
    },
    {
     "name": "stdout",
     "output_type": "stream",
     "text": [
      "[CV 3/5] END criterion=entropy, max_depth=2, max_features=log2, n_estimators=400;, score=0.614 total time=   0.6s\n",
      "[CV 4/5] END criterion=entropy, max_depth=2, max_features=log2, n_estimators=400;, score=0.614 total time=   0.6s\n",
      "[CV 5/5] END criterion=entropy, max_depth=2, max_features=log2, n_estimators=400;, score=0.614 total time=   0.6s\n",
      "[CV 1/5] END criterion=entropy, max_depth=3, max_features=auto, n_estimators=100;, score=0.600 total time=   0.1s\n",
      "[CV 2/5] END criterion=entropy, max_depth=3, max_features=auto, n_estimators=100;, score=0.614 total time=   0.1s\n",
      "[CV 3/5] END criterion=entropy, max_depth=3, max_features=auto, n_estimators=100;, score=0.614 total time=   0.1s\n",
      "[CV 4/5] END criterion=entropy, max_depth=3, max_features=auto, n_estimators=100;, score=0.614 total time=   0.1s\n",
      "[CV 5/5] END criterion=entropy, max_depth=3, max_features=auto, n_estimators=100;, score=0.614 total time=   0.1s\n",
      "[CV 1/5] END criterion=entropy, max_depth=3, max_features=auto, n_estimators=200;, score=0.600 total time=   0.3s\n",
      "[CV 2/5] END criterion=entropy, max_depth=3, max_features=auto, n_estimators=200;, score=0.614 total time=   0.3s\n",
      "[CV 3/5] END criterion=entropy, max_depth=3, max_features=auto, n_estimators=200;, score=0.614 total time=   0.3s\n",
      "[CV 4/5] END criterion=entropy, max_depth=3, max_features=auto, n_estimators=200;, score=0.614 total time=   0.3s\n",
      "[CV 5/5] END criterion=entropy, max_depth=3, max_features=auto, n_estimators=200;, score=0.614 total time=   0.3s\n",
      "[CV 1/5] END criterion=entropy, max_depth=3, max_features=auto, n_estimators=300;, score=0.600 total time=   0.6s\n",
      "[CV 2/5] END criterion=entropy, max_depth=3, max_features=auto, n_estimators=300;, score=0.614 total time=   0.5s\n",
      "[CV 3/5] END criterion=entropy, max_depth=3, max_features=auto, n_estimators=300;, score=0.614 total time=   0.5s\n",
      "[CV 4/5] END criterion=entropy, max_depth=3, max_features=auto, n_estimators=300;, score=0.614 total time=   0.5s\n",
      "[CV 5/5] END criterion=entropy, max_depth=3, max_features=auto, n_estimators=300;, score=0.614 total time=   0.5s\n",
      "[CV 1/5] END criterion=entropy, max_depth=3, max_features=auto, n_estimators=400;, score=0.600 total time=   0.7s\n",
      "[CV 2/5] END criterion=entropy, max_depth=3, max_features=auto, n_estimators=400;, score=0.614 total time=   0.7s\n",
      "[CV 3/5] END criterion=entropy, max_depth=3, max_features=auto, n_estimators=400;, score=0.614 total time=   0.7s\n",
      "[CV 4/5] END criterion=entropy, max_depth=3, max_features=auto, n_estimators=400;, score=0.614 total time=   0.7s\n",
      "[CV 5/5] END criterion=entropy, max_depth=3, max_features=auto, n_estimators=400;, score=0.614 total time=   0.7s\n",
      "[CV 1/5] END criterion=entropy, max_depth=3, max_features=sqrt, n_estimators=100;, score=0.600 total time=   0.1s\n",
      "[CV 2/5] END criterion=entropy, max_depth=3, max_features=sqrt, n_estimators=100;, score=0.614 total time=   0.1s\n",
      "[CV 3/5] END criterion=entropy, max_depth=3, max_features=sqrt, n_estimators=100;, score=0.614 total time=   0.1s\n",
      "[CV 4/5] END criterion=entropy, max_depth=3, max_features=sqrt, n_estimators=100;, score=0.614 total time=   0.1s\n",
      "[CV 5/5] END criterion=entropy, max_depth=3, max_features=sqrt, n_estimators=100;, score=0.614 total time=   0.1s\n",
      "[CV 1/5] END criterion=entropy, max_depth=3, max_features=sqrt, n_estimators=200;, score=0.600 total time=   0.3s\n",
      "[CV 2/5] END criterion=entropy, max_depth=3, max_features=sqrt, n_estimators=200;, score=0.614 total time=   0.3s\n",
      "[CV 3/5] END criterion=entropy, max_depth=3, max_features=sqrt, n_estimators=200;, score=0.614 total time=   0.3s\n",
      "[CV 4/5] END criterion=entropy, max_depth=3, max_features=sqrt, n_estimators=200;, score=0.614 total time=   0.3s\n",
      "[CV 5/5] END criterion=entropy, max_depth=3, max_features=sqrt, n_estimators=200;, score=0.614 total time=   0.3s\n",
      "[CV 1/5] END criterion=entropy, max_depth=3, max_features=sqrt, n_estimators=300;, score=0.600 total time=   0.5s\n",
      "[CV 2/5] END criterion=entropy, max_depth=3, max_features=sqrt, n_estimators=300;, score=0.614 total time=   0.5s\n",
      "[CV 3/5] END criterion=entropy, max_depth=3, max_features=sqrt, n_estimators=300;, score=0.614 total time=   0.4s\n",
      "[CV 4/5] END criterion=entropy, max_depth=3, max_features=sqrt, n_estimators=300;, score=0.614 total time=   0.4s\n",
      "[CV 5/5] END criterion=entropy, max_depth=3, max_features=sqrt, n_estimators=300;, score=0.614 total time=   0.5s\n",
      "[CV 1/5] END criterion=entropy, max_depth=3, max_features=sqrt, n_estimators=400;, score=0.600 total time=   0.6s\n",
      "[CV 2/5] END criterion=entropy, max_depth=3, max_features=sqrt, n_estimators=400;, score=0.614 total time=   0.6s\n",
      "[CV 3/5] END criterion=entropy, max_depth=3, max_features=sqrt, n_estimators=400;, score=0.614 total time=   0.6s\n",
      "[CV 4/5] END criterion=entropy, max_depth=3, max_features=sqrt, n_estimators=400;, score=0.614 total time=   0.6s\n",
      "[CV 5/5] END criterion=entropy, max_depth=3, max_features=sqrt, n_estimators=400;, score=0.614 total time=   0.6s\n",
      "[CV 1/5] END criterion=entropy, max_depth=3, max_features=log2, n_estimators=100;, score=0.600 total time=   0.1s\n",
      "[CV 2/5] END criterion=entropy, max_depth=3, max_features=log2, n_estimators=100;, score=0.614 total time=   0.1s\n",
      "[CV 3/5] END criterion=entropy, max_depth=3, max_features=log2, n_estimators=100;, score=0.614 total time=   0.1s\n",
      "[CV 4/5] END criterion=entropy, max_depth=3, max_features=log2, n_estimators=100;, score=0.614 total time=   0.1s\n",
      "[CV 5/5] END criterion=entropy, max_depth=3, max_features=log2, n_estimators=100;, score=0.614 total time=   0.1s\n",
      "[CV 1/5] END criterion=entropy, max_depth=3, max_features=log2, n_estimators=200;, score=0.600 total time=   0.3s\n",
      "[CV 2/5] END criterion=entropy, max_depth=3, max_features=log2, n_estimators=200;, score=0.614 total time=   0.3s\n",
      "[CV 3/5] END criterion=entropy, max_depth=3, max_features=log2, n_estimators=200;, score=0.614 total time=   0.3s\n",
      "[CV 4/5] END criterion=entropy, max_depth=3, max_features=log2, n_estimators=200;, score=0.614 total time=   0.3s\n",
      "[CV 5/5] END criterion=entropy, max_depth=3, max_features=log2, n_estimators=200;, score=0.614 total time=   0.3s\n",
      "[CV 1/5] END criterion=entropy, max_depth=3, max_features=log2, n_estimators=300;, score=0.600 total time=   0.4s\n",
      "[CV 2/5] END criterion=entropy, max_depth=3, max_features=log2, n_estimators=300;, score=0.614 total time=   0.5s\n",
      "[CV 3/5] END criterion=entropy, max_depth=3, max_features=log2, n_estimators=300;, score=0.614 total time=   0.4s\n",
      "[CV 4/5] END criterion=entropy, max_depth=3, max_features=log2, n_estimators=300;, score=0.614 total time=   0.4s\n",
      "[CV 5/5] END criterion=entropy, max_depth=3, max_features=log2, n_estimators=300;, score=0.614 total time=   0.4s\n",
      "[CV 1/5] END criterion=entropy, max_depth=3, max_features=log2, n_estimators=400;, score=0.600 total time=   0.6s\n",
      "[CV 2/5] END criterion=entropy, max_depth=3, max_features=log2, n_estimators=400;, score=0.614 total time=   0.6s\n",
      "[CV 3/5] END criterion=entropy, max_depth=3, max_features=log2, n_estimators=400;, score=0.614 total time=   0.6s\n",
      "[CV 4/5] END criterion=entropy, max_depth=3, max_features=log2, n_estimators=400;, score=0.614 total time=   0.6s\n",
      "[CV 5/5] END criterion=entropy, max_depth=3, max_features=log2, n_estimators=400;, score=0.614 total time=   0.6s\n",
      "[CV 1/5] END criterion=entropy, max_depth=4, max_features=auto, n_estimators=100;, score=0.600 total time=   0.1s\n",
      "[CV 2/5] END criterion=entropy, max_depth=4, max_features=auto, n_estimators=100;, score=0.629 total time=   0.1s\n",
      "[CV 3/5] END criterion=entropy, max_depth=4, max_features=auto, n_estimators=100;, score=0.614 total time=   0.1s\n",
      "[CV 4/5] END criterion=entropy, max_depth=4, max_features=auto, n_estimators=100;, score=0.614 total time=   0.1s\n",
      "[CV 5/5] END criterion=entropy, max_depth=4, max_features=auto, n_estimators=100;, score=0.614 total time=   0.1s\n",
      "[CV 1/5] END criterion=entropy, max_depth=4, max_features=auto, n_estimators=200;, score=0.586 total time=   0.3s\n",
      "[CV 2/5] END criterion=entropy, max_depth=4, max_features=auto, n_estimators=200;, score=0.614 total time=   0.3s\n",
      "[CV 3/5] END criterion=entropy, max_depth=4, max_features=auto, n_estimators=200;, score=0.614 total time=   0.3s\n",
      "[CV 4/5] END criterion=entropy, max_depth=4, max_features=auto, n_estimators=200;, score=0.614 total time=   0.3s\n"
     ]
    },
    {
     "name": "stdout",
     "output_type": "stream",
     "text": [
      "[CV 5/5] END criterion=entropy, max_depth=4, max_features=auto, n_estimators=200;, score=0.614 total time=   0.3s\n",
      "[CV 1/5] END criterion=entropy, max_depth=4, max_features=auto, n_estimators=300;, score=0.586 total time=   0.5s\n",
      "[CV 2/5] END criterion=entropy, max_depth=4, max_features=auto, n_estimators=300;, score=0.614 total time=   0.5s\n",
      "[CV 3/5] END criterion=entropy, max_depth=4, max_features=auto, n_estimators=300;, score=0.614 total time=   0.5s\n",
      "[CV 4/5] END criterion=entropy, max_depth=4, max_features=auto, n_estimators=300;, score=0.614 total time=   0.5s\n",
      "[CV 5/5] END criterion=entropy, max_depth=4, max_features=auto, n_estimators=300;, score=0.614 total time=   0.5s\n",
      "[CV 1/5] END criterion=entropy, max_depth=4, max_features=auto, n_estimators=400;, score=0.600 total time=   0.7s\n",
      "[CV 2/5] END criterion=entropy, max_depth=4, max_features=auto, n_estimators=400;, score=0.614 total time=   0.7s\n",
      "[CV 3/5] END criterion=entropy, max_depth=4, max_features=auto, n_estimators=400;, score=0.614 total time=   0.7s\n",
      "[CV 4/5] END criterion=entropy, max_depth=4, max_features=auto, n_estimators=400;, score=0.614 total time=   0.7s\n",
      "[CV 5/5] END criterion=entropy, max_depth=4, max_features=auto, n_estimators=400;, score=0.614 total time=   0.7s\n",
      "[CV 1/5] END criterion=entropy, max_depth=4, max_features=sqrt, n_estimators=100;, score=0.600 total time=   0.1s\n",
      "[CV 2/5] END criterion=entropy, max_depth=4, max_features=sqrt, n_estimators=100;, score=0.629 total time=   0.1s\n",
      "[CV 3/5] END criterion=entropy, max_depth=4, max_features=sqrt, n_estimators=100;, score=0.614 total time=   0.1s\n",
      "[CV 4/5] END criterion=entropy, max_depth=4, max_features=sqrt, n_estimators=100;, score=0.614 total time=   0.1s\n",
      "[CV 5/5] END criterion=entropy, max_depth=4, max_features=sqrt, n_estimators=100;, score=0.614 total time=   0.1s\n",
      "[CV 1/5] END criterion=entropy, max_depth=4, max_features=sqrt, n_estimators=200;, score=0.600 total time=   0.3s\n",
      "[CV 2/5] END criterion=entropy, max_depth=4, max_features=sqrt, n_estimators=200;, score=0.614 total time=   0.3s\n",
      "[CV 3/5] END criterion=entropy, max_depth=4, max_features=sqrt, n_estimators=200;, score=0.614 total time=   0.3s\n",
      "[CV 4/5] END criterion=entropy, max_depth=4, max_features=sqrt, n_estimators=200;, score=0.614 total time=   0.3s\n",
      "[CV 5/5] END criterion=entropy, max_depth=4, max_features=sqrt, n_estimators=200;, score=0.614 total time=   0.3s\n",
      "[CV 1/5] END criterion=entropy, max_depth=4, max_features=sqrt, n_estimators=300;, score=0.600 total time=   0.5s\n",
      "[CV 2/5] END criterion=entropy, max_depth=4, max_features=sqrt, n_estimators=300;, score=0.629 total time=   0.5s\n",
      "[CV 3/5] END criterion=entropy, max_depth=4, max_features=sqrt, n_estimators=300;, score=0.614 total time=   0.5s\n",
      "[CV 4/5] END criterion=entropy, max_depth=4, max_features=sqrt, n_estimators=300;, score=0.614 total time=   0.5s\n",
      "[CV 5/5] END criterion=entropy, max_depth=4, max_features=sqrt, n_estimators=300;, score=0.614 total time=   0.5s\n",
      "[CV 1/5] END criterion=entropy, max_depth=4, max_features=sqrt, n_estimators=400;, score=0.600 total time=   0.6s\n",
      "[CV 2/5] END criterion=entropy, max_depth=4, max_features=sqrt, n_estimators=400;, score=0.614 total time=   0.6s\n",
      "[CV 3/5] END criterion=entropy, max_depth=4, max_features=sqrt, n_estimators=400;, score=0.614 total time=   0.7s\n",
      "[CV 4/5] END criterion=entropy, max_depth=4, max_features=sqrt, n_estimators=400;, score=0.614 total time=   0.7s\n",
      "[CV 5/5] END criterion=entropy, max_depth=4, max_features=sqrt, n_estimators=400;, score=0.614 total time=   0.7s\n",
      "[CV 1/5] END criterion=entropy, max_depth=4, max_features=log2, n_estimators=100;, score=0.586 total time=   0.1s\n",
      "[CV 2/5] END criterion=entropy, max_depth=4, max_features=log2, n_estimators=100;, score=0.629 total time=   0.1s\n",
      "[CV 3/5] END criterion=entropy, max_depth=4, max_features=log2, n_estimators=100;, score=0.614 total time=   0.1s\n",
      "[CV 4/5] END criterion=entropy, max_depth=4, max_features=log2, n_estimators=100;, score=0.614 total time=   0.1s\n",
      "[CV 5/5] END criterion=entropy, max_depth=4, max_features=log2, n_estimators=100;, score=0.629 total time=   0.1s\n",
      "[CV 1/5] END criterion=entropy, max_depth=4, max_features=log2, n_estimators=200;, score=0.600 total time=   0.3s\n",
      "[CV 2/5] END criterion=entropy, max_depth=4, max_features=log2, n_estimators=200;, score=0.629 total time=   0.3s\n",
      "[CV 3/5] END criterion=entropy, max_depth=4, max_features=log2, n_estimators=200;, score=0.614 total time=   0.3s\n",
      "[CV 4/5] END criterion=entropy, max_depth=4, max_features=log2, n_estimators=200;, score=0.614 total time=   0.3s\n",
      "[CV 5/5] END criterion=entropy, max_depth=4, max_features=log2, n_estimators=200;, score=0.614 total time=   0.3s\n",
      "[CV 1/5] END criterion=entropy, max_depth=4, max_features=log2, n_estimators=300;, score=0.586 total time=   0.5s\n",
      "[CV 2/5] END criterion=entropy, max_depth=4, max_features=log2, n_estimators=300;, score=0.614 total time=   0.5s\n",
      "[CV 3/5] END criterion=entropy, max_depth=4, max_features=log2, n_estimators=300;, score=0.614 total time=   0.5s\n",
      "[CV 4/5] END criterion=entropy, max_depth=4, max_features=log2, n_estimators=300;, score=0.614 total time=   0.5s\n",
      "[CV 5/5] END criterion=entropy, max_depth=4, max_features=log2, n_estimators=300;, score=0.614 total time=   0.5s\n",
      "[CV 1/5] END criterion=entropy, max_depth=4, max_features=log2, n_estimators=400;, score=0.600 total time=   0.7s\n",
      "[CV 2/5] END criterion=entropy, max_depth=4, max_features=log2, n_estimators=400;, score=0.643 total time=   0.8s\n",
      "[CV 3/5] END criterion=entropy, max_depth=4, max_features=log2, n_estimators=400;, score=0.614 total time=   0.8s\n",
      "[CV 4/5] END criterion=entropy, max_depth=4, max_features=log2, n_estimators=400;, score=0.614 total time=   0.8s\n",
      "[CV 5/5] END criterion=entropy, max_depth=4, max_features=log2, n_estimators=400;, score=0.614 total time=   0.7s\n",
      "[CV 1/5] END criterion=entropy, max_depth=5, max_features=auto, n_estimators=100;, score=0.629 total time=   0.1s\n",
      "[CV 2/5] END criterion=entropy, max_depth=5, max_features=auto, n_estimators=100;, score=0.614 total time=   0.1s\n",
      "[CV 3/5] END criterion=entropy, max_depth=5, max_features=auto, n_estimators=100;, score=0.600 total time=   0.1s\n",
      "[CV 4/5] END criterion=entropy, max_depth=5, max_features=auto, n_estimators=100;, score=0.600 total time=   0.1s\n",
      "[CV 5/5] END criterion=entropy, max_depth=5, max_features=auto, n_estimators=100;, score=0.629 total time=   0.1s\n",
      "[CV 1/5] END criterion=entropy, max_depth=5, max_features=auto, n_estimators=200;, score=0.614 total time=   0.3s\n",
      "[CV 2/5] END criterion=entropy, max_depth=5, max_features=auto, n_estimators=200;, score=0.629 total time=   0.4s\n",
      "[CV 3/5] END criterion=entropy, max_depth=5, max_features=auto, n_estimators=200;, score=0.600 total time=   0.3s\n",
      "[CV 4/5] END criterion=entropy, max_depth=5, max_features=auto, n_estimators=200;, score=0.614 total time=   0.3s\n",
      "[CV 5/5] END criterion=entropy, max_depth=5, max_features=auto, n_estimators=200;, score=0.629 total time=   0.4s\n",
      "[CV 1/5] END criterion=entropy, max_depth=5, max_features=auto, n_estimators=300;, score=0.614 total time=   0.6s\n",
      "[CV 2/5] END criterion=entropy, max_depth=5, max_features=auto, n_estimators=300;, score=0.629 total time=   0.8s\n",
      "[CV 3/5] END criterion=entropy, max_depth=5, max_features=auto, n_estimators=300;, score=0.614 total time=   0.8s\n",
      "[CV 4/5] END criterion=entropy, max_depth=5, max_features=auto, n_estimators=300;, score=0.614 total time=   0.8s\n",
      "[CV 5/5] END criterion=entropy, max_depth=5, max_features=auto, n_estimators=300;, score=0.629 total time=   0.7s\n",
      "[CV 1/5] END criterion=entropy, max_depth=5, max_features=auto, n_estimators=400;, score=0.614 total time=   0.9s\n",
      "[CV 2/5] END criterion=entropy, max_depth=5, max_features=auto, n_estimators=400;, score=0.643 total time=   0.9s\n",
      "[CV 3/5] END criterion=entropy, max_depth=5, max_features=auto, n_estimators=400;, score=0.600 total time=   1.0s\n",
      "[CV 4/5] END criterion=entropy, max_depth=5, max_features=auto, n_estimators=400;, score=0.614 total time=   0.9s\n",
      "[CV 5/5] END criterion=entropy, max_depth=5, max_features=auto, n_estimators=400;, score=0.629 total time=   1.0s\n",
      "[CV 1/5] END criterion=entropy, max_depth=5, max_features=sqrt, n_estimators=100;, score=0.629 total time=   0.2s\n"
     ]
    },
    {
     "name": "stdout",
     "output_type": "stream",
     "text": [
      "[CV 2/5] END criterion=entropy, max_depth=5, max_features=sqrt, n_estimators=100;, score=0.614 total time=   0.2s\n",
      "[CV 3/5] END criterion=entropy, max_depth=5, max_features=sqrt, n_estimators=100;, score=0.614 total time=   0.2s\n",
      "[CV 4/5] END criterion=entropy, max_depth=5, max_features=sqrt, n_estimators=100;, score=0.600 total time=   0.2s\n",
      "[CV 5/5] END criterion=entropy, max_depth=5, max_features=sqrt, n_estimators=100;, score=0.629 total time=   0.2s\n",
      "[CV 1/5] END criterion=entropy, max_depth=5, max_features=sqrt, n_estimators=200;, score=0.614 total time=   0.5s\n",
      "[CV 2/5] END criterion=entropy, max_depth=5, max_features=sqrt, n_estimators=200;, score=0.643 total time=   0.4s\n",
      "[CV 3/5] END criterion=entropy, max_depth=5, max_features=sqrt, n_estimators=200;, score=0.614 total time=   0.5s\n",
      "[CV 4/5] END criterion=entropy, max_depth=5, max_features=sqrt, n_estimators=200;, score=0.614 total time=   0.5s\n",
      "[CV 5/5] END criterion=entropy, max_depth=5, max_features=sqrt, n_estimators=200;, score=0.614 total time=   0.4s\n",
      "[CV 1/5] END criterion=entropy, max_depth=5, max_features=sqrt, n_estimators=300;, score=0.614 total time=   0.7s\n",
      "[CV 2/5] END criterion=entropy, max_depth=5, max_features=sqrt, n_estimators=300;, score=0.643 total time=   0.6s\n",
      "[CV 3/5] END criterion=entropy, max_depth=5, max_features=sqrt, n_estimators=300;, score=0.600 total time=   0.5s\n",
      "[CV 4/5] END criterion=entropy, max_depth=5, max_features=sqrt, n_estimators=300;, score=0.614 total time=   0.5s\n",
      "[CV 5/5] END criterion=entropy, max_depth=5, max_features=sqrt, n_estimators=300;, score=0.643 total time=   0.5s\n",
      "[CV 1/5] END criterion=entropy, max_depth=5, max_features=sqrt, n_estimators=400;, score=0.629 total time=   0.8s\n",
      "[CV 2/5] END criterion=entropy, max_depth=5, max_features=sqrt, n_estimators=400;, score=0.643 total time=   0.7s\n",
      "[CV 3/5] END criterion=entropy, max_depth=5, max_features=sqrt, n_estimators=400;, score=0.614 total time=   0.8s\n",
      "[CV 4/5] END criterion=entropy, max_depth=5, max_features=sqrt, n_estimators=400;, score=0.614 total time=   0.9s\n",
      "[CV 5/5] END criterion=entropy, max_depth=5, max_features=sqrt, n_estimators=400;, score=0.629 total time=   0.7s\n",
      "[CV 1/5] END criterion=entropy, max_depth=5, max_features=log2, n_estimators=100;, score=0.614 total time=   0.2s\n",
      "[CV 2/5] END criterion=entropy, max_depth=5, max_features=log2, n_estimators=100;, score=0.643 total time=   0.1s\n",
      "[CV 3/5] END criterion=entropy, max_depth=5, max_features=log2, n_estimators=100;, score=0.600 total time=   0.1s\n",
      "[CV 4/5] END criterion=entropy, max_depth=5, max_features=log2, n_estimators=100;, score=0.614 total time=   0.1s\n",
      "[CV 5/5] END criterion=entropy, max_depth=5, max_features=log2, n_estimators=100;, score=0.629 total time=   0.1s\n",
      "[CV 1/5] END criterion=entropy, max_depth=5, max_features=log2, n_estimators=200;, score=0.614 total time=   0.3s\n",
      "[CV 2/5] END criterion=entropy, max_depth=5, max_features=log2, n_estimators=200;, score=0.643 total time=   0.3s\n",
      "[CV 3/5] END criterion=entropy, max_depth=5, max_features=log2, n_estimators=200;, score=0.629 total time=   0.3s\n",
      "[CV 4/5] END criterion=entropy, max_depth=5, max_features=log2, n_estimators=200;, score=0.614 total time=   0.3s\n",
      "[CV 5/5] END criterion=entropy, max_depth=5, max_features=log2, n_estimators=200;, score=0.614 total time=   0.3s\n",
      "[CV 1/5] END criterion=entropy, max_depth=5, max_features=log2, n_estimators=300;, score=0.643 total time=   0.5s\n",
      "[CV 2/5] END criterion=entropy, max_depth=5, max_features=log2, n_estimators=300;, score=0.643 total time=   0.5s\n",
      "[CV 3/5] END criterion=entropy, max_depth=5, max_features=log2, n_estimators=300;, score=0.614 total time=   0.5s\n",
      "[CV 4/5] END criterion=entropy, max_depth=5, max_features=log2, n_estimators=300;, score=0.614 total time=   0.5s\n",
      "[CV 5/5] END criterion=entropy, max_depth=5, max_features=log2, n_estimators=300;, score=0.629 total time=   0.5s\n",
      "[CV 1/5] END criterion=entropy, max_depth=5, max_features=log2, n_estimators=400;, score=0.629 total time=   0.7s\n",
      "[CV 2/5] END criterion=entropy, max_depth=5, max_features=log2, n_estimators=400;, score=0.643 total time=   0.7s\n",
      "[CV 3/5] END criterion=entropy, max_depth=5, max_features=log2, n_estimators=400;, score=0.614 total time=   0.7s\n",
      "[CV 4/5] END criterion=entropy, max_depth=5, max_features=log2, n_estimators=400;, score=0.614 total time=   0.8s\n",
      "[CV 5/5] END criterion=entropy, max_depth=5, max_features=log2, n_estimators=400;, score=0.629 total time=   0.7s\n"
     ]
    },
    {
     "data": {
      "text/plain": [
       "GridSearchCV(estimator=RandomForestClassifier(),\n",
       "             param_grid={'criterion': ['gini', 'entropy'],\n",
       "                         'max_depth': [2, 3, 4, 5],\n",
       "                         'max_features': ['auto', 'sqrt', 'log2'],\n",
       "                         'n_estimators': [100, 200, 300, 400]},\n",
       "             verbose=3)"
      ]
     },
     "execution_count": 33,
     "metadata": {},
     "output_type": "execute_result"
    }
   ],
   "source": [
    "grid.fit(x_train,y_train)"
   ]
  },
  {
   "cell_type": "code",
   "execution_count": 34,
   "metadata": {},
   "outputs": [
    {
     "data": {
      "text/plain": [
       "{'criterion': 'entropy',\n",
       " 'max_depth': 5,\n",
       " 'max_features': 'log2',\n",
       " 'n_estimators': 300}"
      ]
     },
     "execution_count": 34,
     "metadata": {},
     "output_type": "execute_result"
    }
   ],
   "source": [
    "grid.best_params_"
   ]
  },
  {
   "cell_type": "code",
   "execution_count": 35,
   "metadata": {},
   "outputs": [],
   "source": [
    "y_pred1=grid.predict(x_test)"
   ]
  },
  {
   "cell_type": "code",
   "execution_count": 36,
   "metadata": {},
   "outputs": [
    {
     "data": {
      "text/plain": [
       "0.5466666666666666"
      ]
     },
     "execution_count": 36,
     "metadata": {},
     "output_type": "execute_result"
    }
   ],
   "source": [
    "accuracy_score(y_test, y_pred1)"
   ]
  },
  {
   "cell_type": "markdown",
   "metadata": {},
   "source": [
    "## Extra trees Classifier"
   ]
  },
  {
   "cell_type": "markdown",
   "metadata": {},
   "source": [
    "### Model 1"
   ]
  },
  {
   "cell_type": "code",
   "execution_count": 37,
   "metadata": {},
   "outputs": [],
   "source": [
    "extra_tree_forest = ExtraTreesClassifier(n_estimators = 5,\n",
    "                                        criterion ='entropy', max_features = 2)\n",
    "extra_tree_forest.fit(x_train, y_train)\n",
    "feature_importance = extra_tree_forest.feature_importances_\n",
    "feature_importance_normalized = np.std([tree.feature_importances_ for tree in \n",
    "                                        extra_tree_forest.estimators_],\n",
    "                                        axis = 0)"
   ]
  },
  {
   "cell_type": "code",
   "execution_count": 38,
   "metadata": {},
   "outputs": [],
   "source": [
    "ypred=extra_tree_forest.predict(x_test)"
   ]
  },
  {
   "cell_type": "code",
   "execution_count": 39,
   "metadata": {},
   "outputs": [
    {
     "data": {
      "text/plain": [
       "0.52"
      ]
     },
     "execution_count": 39,
     "metadata": {},
     "output_type": "execute_result"
    }
   ],
   "source": [
    "accuracy_score(ypred,y_test)"
   ]
  },
  {
   "cell_type": "markdown",
   "metadata": {},
   "source": [
    "### Model 2"
   ]
  },
  {
   "cell_type": "code",
   "execution_count": 40,
   "metadata": {},
   "outputs": [],
   "source": [
    "param_grid={'n_estimators':[5,6,7,8,9],'criterion':['gini', 'entropy'],'max_depth':[2,3,4,5],'max_features':['auto','sqrt','log2']}"
   ]
  },
  {
   "cell_type": "code",
   "execution_count": 41,
   "metadata": {},
   "outputs": [],
   "source": [
    "grid = GridSearchCV(ExtraTreesClassifier(),param_grid,refit=True,verbose=3)"
   ]
  },
  {
   "cell_type": "code",
   "execution_count": 42,
   "metadata": {},
   "outputs": [
    {
     "name": "stdout",
     "output_type": "stream",
     "text": [
      "Fitting 5 folds for each of 120 candidates, totalling 600 fits\n",
      "[CV 1/5] END criterion=gini, max_depth=2, max_features=auto, n_estimators=5;, score=0.600 total time=   0.0s\n",
      "[CV 2/5] END criterion=gini, max_depth=2, max_features=auto, n_estimators=5;, score=0.614 total time=   0.0s\n",
      "[CV 3/5] END criterion=gini, max_depth=2, max_features=auto, n_estimators=5;, score=0.614 total time=   0.0s\n",
      "[CV 4/5] END criterion=gini, max_depth=2, max_features=auto, n_estimators=5;, score=0.614 total time=   0.0s\n",
      "[CV 5/5] END criterion=gini, max_depth=2, max_features=auto, n_estimators=5;, score=0.614 total time=   0.0s\n",
      "[CV 1/5] END criterion=gini, max_depth=2, max_features=auto, n_estimators=6;, score=0.600 total time=   0.0s\n",
      "[CV 2/5] END criterion=gini, max_depth=2, max_features=auto, n_estimators=6;, score=0.614 total time=   0.0s\n"
     ]
    },
    {
     "name": "stderr",
     "output_type": "stream",
     "text": [
      "C:\\Users\\user\\anaconda3\\lib\\site-packages\\sklearn\\model_selection\\_split.py:668: UserWarning: The least populated class in y has only 2 members, which is less than n_splits=5.\n",
      "  % (min_groups, self.n_splits)), UserWarning)\n"
     ]
    },
    {
     "name": "stdout",
     "output_type": "stream",
     "text": [
      "[CV 3/5] END criterion=gini, max_depth=2, max_features=auto, n_estimators=6;, score=0.614 total time=   0.0s\n",
      "[CV 4/5] END criterion=gini, max_depth=2, max_features=auto, n_estimators=6;, score=0.614 total time=   0.0s\n",
      "[CV 5/5] END criterion=gini, max_depth=2, max_features=auto, n_estimators=6;, score=0.614 total time=   0.0s\n",
      "[CV 1/5] END criterion=gini, max_depth=2, max_features=auto, n_estimators=7;, score=0.600 total time=   0.0s\n",
      "[CV 2/5] END criterion=gini, max_depth=2, max_features=auto, n_estimators=7;, score=0.614 total time=   0.0s\n",
      "[CV 3/5] END criterion=gini, max_depth=2, max_features=auto, n_estimators=7;, score=0.614 total time=   0.0s\n",
      "[CV 4/5] END criterion=gini, max_depth=2, max_features=auto, n_estimators=7;, score=0.614 total time=   0.0s\n",
      "[CV 5/5] END criterion=gini, max_depth=2, max_features=auto, n_estimators=7;, score=0.614 total time=   0.0s\n",
      "[CV 1/5] END criterion=gini, max_depth=2, max_features=auto, n_estimators=8;, score=0.600 total time=   0.0s\n",
      "[CV 2/5] END criterion=gini, max_depth=2, max_features=auto, n_estimators=8;, score=0.614 total time=   0.0s\n",
      "[CV 3/5] END criterion=gini, max_depth=2, max_features=auto, n_estimators=8;, score=0.614 total time=   0.0s\n",
      "[CV 4/5] END criterion=gini, max_depth=2, max_features=auto, n_estimators=8;, score=0.614 total time=   0.0s\n",
      "[CV 5/5] END criterion=gini, max_depth=2, max_features=auto, n_estimators=8;, score=0.614 total time=   0.0s\n",
      "[CV 1/5] END criterion=gini, max_depth=2, max_features=auto, n_estimators=9;, score=0.600 total time=   0.0s\n",
      "[CV 2/5] END criterion=gini, max_depth=2, max_features=auto, n_estimators=9;, score=0.614 total time=   0.0s\n",
      "[CV 3/5] END criterion=gini, max_depth=2, max_features=auto, n_estimators=9;, score=0.614 total time=   0.0s\n",
      "[CV 4/5] END criterion=gini, max_depth=2, max_features=auto, n_estimators=9;, score=0.614 total time=   0.0s\n",
      "[CV 5/5] END criterion=gini, max_depth=2, max_features=auto, n_estimators=9;, score=0.614 total time=   0.0s\n",
      "[CV 1/5] END criterion=gini, max_depth=2, max_features=sqrt, n_estimators=5;, score=0.600 total time=   0.0s\n",
      "[CV 2/5] END criterion=gini, max_depth=2, max_features=sqrt, n_estimators=5;, score=0.614 total time=   0.0s\n",
      "[CV 3/5] END criterion=gini, max_depth=2, max_features=sqrt, n_estimators=5;, score=0.614 total time=   0.0s\n",
      "[CV 4/5] END criterion=gini, max_depth=2, max_features=sqrt, n_estimators=5;, score=0.614 total time=   0.0s\n",
      "[CV 5/5] END criterion=gini, max_depth=2, max_features=sqrt, n_estimators=5;, score=0.614 total time=   0.0s\n",
      "[CV 1/5] END criterion=gini, max_depth=2, max_features=sqrt, n_estimators=6;, score=0.600 total time=   0.0s\n",
      "[CV 2/5] END criterion=gini, max_depth=2, max_features=sqrt, n_estimators=6;, score=0.614 total time=   0.0s\n",
      "[CV 3/5] END criterion=gini, max_depth=2, max_features=sqrt, n_estimators=6;, score=0.614 total time=   0.0s\n",
      "[CV 4/5] END criterion=gini, max_depth=2, max_features=sqrt, n_estimators=6;, score=0.614 total time=   0.0s\n",
      "[CV 5/5] END criterion=gini, max_depth=2, max_features=sqrt, n_estimators=6;, score=0.614 total time=   0.0s\n",
      "[CV 1/5] END criterion=gini, max_depth=2, max_features=sqrt, n_estimators=7;, score=0.600 total time=   0.0s\n",
      "[CV 2/5] END criterion=gini, max_depth=2, max_features=sqrt, n_estimators=7;, score=0.614 total time=   0.0s\n",
      "[CV 3/5] END criterion=gini, max_depth=2, max_features=sqrt, n_estimators=7;, score=0.614 total time=   0.0s\n",
      "[CV 4/5] END criterion=gini, max_depth=2, max_features=sqrt, n_estimators=7;, score=0.614 total time=   0.0s\n",
      "[CV 5/5] END criterion=gini, max_depth=2, max_features=sqrt, n_estimators=7;, score=0.614 total time=   0.0s\n",
      "[CV 1/5] END criterion=gini, max_depth=2, max_features=sqrt, n_estimators=8;, score=0.600 total time=   0.0s\n",
      "[CV 2/5] END criterion=gini, max_depth=2, max_features=sqrt, n_estimators=8;, score=0.614 total time=   0.0s\n",
      "[CV 3/5] END criterion=gini, max_depth=2, max_features=sqrt, n_estimators=8;, score=0.614 total time=   0.0s\n",
      "[CV 4/5] END criterion=gini, max_depth=2, max_features=sqrt, n_estimators=8;, score=0.614 total time=   0.0s\n",
      "[CV 5/5] END criterion=gini, max_depth=2, max_features=sqrt, n_estimators=8;, score=0.614 total time=   0.0s\n",
      "[CV 1/5] END criterion=gini, max_depth=2, max_features=sqrt, n_estimators=9;, score=0.600 total time=   0.0s\n",
      "[CV 2/5] END criterion=gini, max_depth=2, max_features=sqrt, n_estimators=9;, score=0.614 total time=   0.0s\n",
      "[CV 3/5] END criterion=gini, max_depth=2, max_features=sqrt, n_estimators=9;, score=0.614 total time=   0.0s\n",
      "[CV 4/5] END criterion=gini, max_depth=2, max_features=sqrt, n_estimators=9;, score=0.614 total time=   0.0s\n",
      "[CV 5/5] END criterion=gini, max_depth=2, max_features=sqrt, n_estimators=9;, score=0.614 total time=   0.0s\n",
      "[CV 1/5] END criterion=gini, max_depth=2, max_features=log2, n_estimators=5;, score=0.600 total time=   0.0s\n",
      "[CV 2/5] END criterion=gini, max_depth=2, max_features=log2, n_estimators=5;, score=0.614 total time=   0.0s\n",
      "[CV 3/5] END criterion=gini, max_depth=2, max_features=log2, n_estimators=5;, score=0.614 total time=   0.0s\n",
      "[CV 4/5] END criterion=gini, max_depth=2, max_features=log2, n_estimators=5;, score=0.614 total time=   0.0s\n",
      "[CV 5/5] END criterion=gini, max_depth=2, max_features=log2, n_estimators=5;, score=0.614 total time=   0.0s\n",
      "[CV 1/5] END criterion=gini, max_depth=2, max_features=log2, n_estimators=6;, score=0.600 total time=   0.0s\n",
      "[CV 2/5] END criterion=gini, max_depth=2, max_features=log2, n_estimators=6;, score=0.614 total time=   0.0s\n",
      "[CV 3/5] END criterion=gini, max_depth=2, max_features=log2, n_estimators=6;, score=0.614 total time=   0.0s\n",
      "[CV 4/5] END criterion=gini, max_depth=2, max_features=log2, n_estimators=6;, score=0.614 total time=   0.0s\n",
      "[CV 5/5] END criterion=gini, max_depth=2, max_features=log2, n_estimators=6;, score=0.614 total time=   0.0s\n",
      "[CV 1/5] END criterion=gini, max_depth=2, max_features=log2, n_estimators=7;, score=0.600 total time=   0.0s\n",
      "[CV 2/5] END criterion=gini, max_depth=2, max_features=log2, n_estimators=7;, score=0.614 total time=   0.0s\n",
      "[CV 3/5] END criterion=gini, max_depth=2, max_features=log2, n_estimators=7;, score=0.614 total time=   0.0s\n",
      "[CV 4/5] END criterion=gini, max_depth=2, max_features=log2, n_estimators=7;, score=0.614 total time=   0.0s\n",
      "[CV 5/5] END criterion=gini, max_depth=2, max_features=log2, n_estimators=7;, score=0.614 total time=   0.0s\n",
      "[CV 1/5] END criterion=gini, max_depth=2, max_features=log2, n_estimators=8;, score=0.600 total time=   0.0s\n",
      "[CV 2/5] END criterion=gini, max_depth=2, max_features=log2, n_estimators=8;, score=0.614 total time=   0.0s\n",
      "[CV 3/5] END criterion=gini, max_depth=2, max_features=log2, n_estimators=8;, score=0.614 total time=   0.0s\n",
      "[CV 4/5] END criterion=gini, max_depth=2, max_features=log2, n_estimators=8;, score=0.614 total time=   0.0s\n",
      "[CV 5/5] END criterion=gini, max_depth=2, max_features=log2, n_estimators=8;, score=0.614 total time=   0.0s\n",
      "[CV 1/5] END criterion=gini, max_depth=2, max_features=log2, n_estimators=9;, score=0.600 total time=   0.0s\n",
      "[CV 2/5] END criterion=gini, max_depth=2, max_features=log2, n_estimators=9;, score=0.614 total time=   0.0s\n",
      "[CV 3/5] END criterion=gini, max_depth=2, max_features=log2, n_estimators=9;, score=0.614 total time=   0.0s\n",
      "[CV 4/5] END criterion=gini, max_depth=2, max_features=log2, n_estimators=9;, score=0.614 total time=   0.0s\n",
      "[CV 5/5] END criterion=gini, max_depth=2, max_features=log2, n_estimators=9;, score=0.614 total time=   0.0s\n",
      "[CV 1/5] END criterion=gini, max_depth=3, max_features=auto, n_estimators=5;, score=0.600 total time=   0.0s\n",
      "[CV 2/5] END criterion=gini, max_depth=3, max_features=auto, n_estimators=5;, score=0.614 total time=   0.0s\n",
      "[CV 3/5] END criterion=gini, max_depth=3, max_features=auto, n_estimators=5;, score=0.614 total time=   0.0s\n",
      "[CV 4/5] END criterion=gini, max_depth=3, max_features=auto, n_estimators=5;, score=0.614 total time=   0.0s\n",
      "[CV 5/5] END criterion=gini, max_depth=3, max_features=auto, n_estimators=5;, score=0.614 total time=   0.0s\n",
      "[CV 1/5] END criterion=gini, max_depth=3, max_features=auto, n_estimators=6;, score=0.600 total time=   0.0s\n",
      "[CV 2/5] END criterion=gini, max_depth=3, max_features=auto, n_estimators=6;, score=0.614 total time=   0.0s\n",
      "[CV 3/5] END criterion=gini, max_depth=3, max_features=auto, n_estimators=6;, score=0.614 total time=   0.0s\n"
     ]
    },
    {
     "name": "stdout",
     "output_type": "stream",
     "text": [
      "[CV 4/5] END criterion=gini, max_depth=3, max_features=auto, n_estimators=6;, score=0.614 total time=   0.0s\n",
      "[CV 5/5] END criterion=gini, max_depth=3, max_features=auto, n_estimators=6;, score=0.614 total time=   0.0s\n",
      "[CV 1/5] END criterion=gini, max_depth=3, max_features=auto, n_estimators=7;, score=0.600 total time=   0.0s\n",
      "[CV 2/5] END criterion=gini, max_depth=3, max_features=auto, n_estimators=7;, score=0.614 total time=   0.0s\n",
      "[CV 3/5] END criterion=gini, max_depth=3, max_features=auto, n_estimators=7;, score=0.614 total time=   0.0s\n",
      "[CV 4/5] END criterion=gini, max_depth=3, max_features=auto, n_estimators=7;, score=0.614 total time=   0.0s\n",
      "[CV 5/5] END criterion=gini, max_depth=3, max_features=auto, n_estimators=7;, score=0.614 total time=   0.0s\n",
      "[CV 1/5] END criterion=gini, max_depth=3, max_features=auto, n_estimators=8;, score=0.600 total time=   0.0s\n",
      "[CV 2/5] END criterion=gini, max_depth=3, max_features=auto, n_estimators=8;, score=0.614 total time=   0.0s\n",
      "[CV 3/5] END criterion=gini, max_depth=3, max_features=auto, n_estimators=8;, score=0.614 total time=   0.0s\n",
      "[CV 4/5] END criterion=gini, max_depth=3, max_features=auto, n_estimators=8;, score=0.614 total time=   0.0s\n",
      "[CV 5/5] END criterion=gini, max_depth=3, max_features=auto, n_estimators=8;, score=0.614 total time=   0.0s\n",
      "[CV 1/5] END criterion=gini, max_depth=3, max_features=auto, n_estimators=9;, score=0.600 total time=   0.0s\n",
      "[CV 2/5] END criterion=gini, max_depth=3, max_features=auto, n_estimators=9;, score=0.614 total time=   0.0s\n",
      "[CV 3/5] END criterion=gini, max_depth=3, max_features=auto, n_estimators=9;, score=0.614 total time=   0.0s\n",
      "[CV 4/5] END criterion=gini, max_depth=3, max_features=auto, n_estimators=9;, score=0.614 total time=   0.0s\n",
      "[CV 5/5] END criterion=gini, max_depth=3, max_features=auto, n_estimators=9;, score=0.614 total time=   0.0s\n",
      "[CV 1/5] END criterion=gini, max_depth=3, max_features=sqrt, n_estimators=5;, score=0.600 total time=   0.0s\n",
      "[CV 2/5] END criterion=gini, max_depth=3, max_features=sqrt, n_estimators=5;, score=0.614 total time=   0.0s\n",
      "[CV 3/5] END criterion=gini, max_depth=3, max_features=sqrt, n_estimators=5;, score=0.614 total time=   0.0s\n",
      "[CV 4/5] END criterion=gini, max_depth=3, max_features=sqrt, n_estimators=5;, score=0.614 total time=   0.0s\n",
      "[CV 5/5] END criterion=gini, max_depth=3, max_features=sqrt, n_estimators=5;, score=0.614 total time=   0.0s\n",
      "[CV 1/5] END criterion=gini, max_depth=3, max_features=sqrt, n_estimators=6;, score=0.600 total time=   0.0s\n",
      "[CV 2/5] END criterion=gini, max_depth=3, max_features=sqrt, n_estimators=6;, score=0.629 total time=   0.0s\n",
      "[CV 3/5] END criterion=gini, max_depth=3, max_features=sqrt, n_estimators=6;, score=0.600 total time=   0.0s\n",
      "[CV 4/5] END criterion=gini, max_depth=3, max_features=sqrt, n_estimators=6;, score=0.614 total time=   0.0s\n",
      "[CV 5/5] END criterion=gini, max_depth=3, max_features=sqrt, n_estimators=6;, score=0.614 total time=   0.0s\n",
      "[CV 1/5] END criterion=gini, max_depth=3, max_features=sqrt, n_estimators=7;, score=0.600 total time=   0.0s\n",
      "[CV 2/5] END criterion=gini, max_depth=3, max_features=sqrt, n_estimators=7;, score=0.614 total time=   0.0s\n",
      "[CV 3/5] END criterion=gini, max_depth=3, max_features=sqrt, n_estimators=7;, score=0.614 total time=   0.0s\n",
      "[CV 4/5] END criterion=gini, max_depth=3, max_features=sqrt, n_estimators=7;, score=0.614 total time=   0.0s\n",
      "[CV 5/5] END criterion=gini, max_depth=3, max_features=sqrt, n_estimators=7;, score=0.614 total time=   0.0s\n",
      "[CV 1/5] END criterion=gini, max_depth=3, max_features=sqrt, n_estimators=8;, score=0.600 total time=   0.0s\n",
      "[CV 2/5] END criterion=gini, max_depth=3, max_features=sqrt, n_estimators=8;, score=0.614 total time=   0.0s\n",
      "[CV 3/5] END criterion=gini, max_depth=3, max_features=sqrt, n_estimators=8;, score=0.614 total time=   0.0s\n",
      "[CV 4/5] END criterion=gini, max_depth=3, max_features=sqrt, n_estimators=8;, score=0.614 total time=   0.0s\n",
      "[CV 5/5] END criterion=gini, max_depth=3, max_features=sqrt, n_estimators=8;, score=0.614 total time=   0.0s\n",
      "[CV 1/5] END criterion=gini, max_depth=3, max_features=sqrt, n_estimators=9;, score=0.600 total time=   0.0s\n",
      "[CV 2/5] END criterion=gini, max_depth=3, max_features=sqrt, n_estimators=9;, score=0.614 total time=   0.0s\n",
      "[CV 3/5] END criterion=gini, max_depth=3, max_features=sqrt, n_estimators=9;, score=0.614 total time=   0.0s\n",
      "[CV 4/5] END criterion=gini, max_depth=3, max_features=sqrt, n_estimators=9;, score=0.614 total time=   0.0s\n",
      "[CV 5/5] END criterion=gini, max_depth=3, max_features=sqrt, n_estimators=9;, score=0.614 total time=   0.0s\n",
      "[CV 1/5] END criterion=gini, max_depth=3, max_features=log2, n_estimators=5;, score=0.600 total time=   0.0s\n",
      "[CV 2/5] END criterion=gini, max_depth=3, max_features=log2, n_estimators=5;, score=0.629 total time=   0.0s\n",
      "[CV 3/5] END criterion=gini, max_depth=3, max_features=log2, n_estimators=5;, score=0.614 total time=   0.0s\n",
      "[CV 4/5] END criterion=gini, max_depth=3, max_features=log2, n_estimators=5;, score=0.614 total time=   0.0s\n",
      "[CV 5/5] END criterion=gini, max_depth=3, max_features=log2, n_estimators=5;, score=0.614 total time=   0.0s\n",
      "[CV 1/5] END criterion=gini, max_depth=3, max_features=log2, n_estimators=6;, score=0.586 total time=   0.0s\n",
      "[CV 2/5] END criterion=gini, max_depth=3, max_features=log2, n_estimators=6;, score=0.614 total time=   0.0s\n",
      "[CV 3/5] END criterion=gini, max_depth=3, max_features=log2, n_estimators=6;, score=0.614 total time=   0.0s\n",
      "[CV 4/5] END criterion=gini, max_depth=3, max_features=log2, n_estimators=6;, score=0.614 total time=   0.0s\n",
      "[CV 5/5] END criterion=gini, max_depth=3, max_features=log2, n_estimators=6;, score=0.614 total time=   0.0s\n",
      "[CV 1/5] END criterion=gini, max_depth=3, max_features=log2, n_estimators=7;, score=0.600 total time=   0.0s\n",
      "[CV 2/5] END criterion=gini, max_depth=3, max_features=log2, n_estimators=7;, score=0.614 total time=   0.0s\n",
      "[CV 3/5] END criterion=gini, max_depth=3, max_features=log2, n_estimators=7;, score=0.600 total time=   0.0s\n",
      "[CV 4/5] END criterion=gini, max_depth=3, max_features=log2, n_estimators=7;, score=0.614 total time=   0.0s\n",
      "[CV 5/5] END criterion=gini, max_depth=3, max_features=log2, n_estimators=7;, score=0.614 total time=   0.0s\n",
      "[CV 1/5] END criterion=gini, max_depth=3, max_features=log2, n_estimators=8;, score=0.600 total time=   0.0s\n",
      "[CV 2/5] END criterion=gini, max_depth=3, max_features=log2, n_estimators=8;, score=0.614 total time=   0.0s\n",
      "[CV 3/5] END criterion=gini, max_depth=3, max_features=log2, n_estimators=8;, score=0.614 total time=   0.0s\n",
      "[CV 4/5] END criterion=gini, max_depth=3, max_features=log2, n_estimators=8;, score=0.614 total time=   0.0s\n",
      "[CV 5/5] END criterion=gini, max_depth=3, max_features=log2, n_estimators=8;, score=0.614 total time=   0.0s\n",
      "[CV 1/5] END criterion=gini, max_depth=3, max_features=log2, n_estimators=9;, score=0.600 total time=   0.0s\n",
      "[CV 2/5] END criterion=gini, max_depth=3, max_features=log2, n_estimators=9;, score=0.614 total time=   0.0s\n",
      "[CV 3/5] END criterion=gini, max_depth=3, max_features=log2, n_estimators=9;, score=0.614 total time=   0.0s\n",
      "[CV 4/5] END criterion=gini, max_depth=3, max_features=log2, n_estimators=9;, score=0.614 total time=   0.0s\n",
      "[CV 5/5] END criterion=gini, max_depth=3, max_features=log2, n_estimators=9;, score=0.614 total time=   0.0s\n",
      "[CV 1/5] END criterion=gini, max_depth=4, max_features=auto, n_estimators=5;, score=0.586 total time=   0.0s\n",
      "[CV 2/5] END criterion=gini, max_depth=4, max_features=auto, n_estimators=5;, score=0.600 total time=   0.0s\n",
      "[CV 3/5] END criterion=gini, max_depth=4, max_features=auto, n_estimators=5;, score=0.629 total time=   0.0s\n",
      "[CV 4/5] END criterion=gini, max_depth=4, max_features=auto, n_estimators=5;, score=0.571 total time=   0.0s\n",
      "[CV 5/5] END criterion=gini, max_depth=4, max_features=auto, n_estimators=5;, score=0.571 total time=   0.0s\n",
      "[CV 1/5] END criterion=gini, max_depth=4, max_features=auto, n_estimators=6;, score=0.586 total time=   0.0s\n",
      "[CV 2/5] END criterion=gini, max_depth=4, max_features=auto, n_estimators=6;, score=0.614 total time=   0.0s\n",
      "[CV 3/5] END criterion=gini, max_depth=4, max_features=auto, n_estimators=6;, score=0.571 total time=   0.0s\n",
      "[CV 4/5] END criterion=gini, max_depth=4, max_features=auto, n_estimators=6;, score=0.614 total time=   0.0s\n",
      "[CV 5/5] END criterion=gini, max_depth=4, max_features=auto, n_estimators=6;, score=0.600 total time=   0.0s\n",
      "[CV 1/5] END criterion=gini, max_depth=4, max_features=auto, n_estimators=7;, score=0.600 total time=   0.0s\n",
      "[CV 2/5] END criterion=gini, max_depth=4, max_features=auto, n_estimators=7;, score=0.600 total time=   0.0s\n",
      "[CV 3/5] END criterion=gini, max_depth=4, max_features=auto, n_estimators=7;, score=0.600 total time=   0.0s\n",
      "[CV 4/5] END criterion=gini, max_depth=4, max_features=auto, n_estimators=7;, score=0.614 total time=   0.0s\n",
      "[CV 5/5] END criterion=gini, max_depth=4, max_features=auto, n_estimators=7;, score=0.614 total time=   0.0s\n",
      "[CV 1/5] END criterion=gini, max_depth=4, max_features=auto, n_estimators=8;, score=0.600 total time=   0.0s\n",
      "[CV 2/5] END criterion=gini, max_depth=4, max_features=auto, n_estimators=8;, score=0.614 total time=   0.0s\n"
     ]
    },
    {
     "name": "stdout",
     "output_type": "stream",
     "text": [
      "[CV 3/5] END criterion=gini, max_depth=4, max_features=auto, n_estimators=8;, score=0.629 total time=   0.0s\n",
      "[CV 4/5] END criterion=gini, max_depth=4, max_features=auto, n_estimators=8;, score=0.614 total time=   0.0s\n",
      "[CV 5/5] END criterion=gini, max_depth=4, max_features=auto, n_estimators=8;, score=0.600 total time=   0.0s\n",
      "[CV 1/5] END criterion=gini, max_depth=4, max_features=auto, n_estimators=9;, score=0.600 total time=   0.0s\n",
      "[CV 2/5] END criterion=gini, max_depth=4, max_features=auto, n_estimators=9;, score=0.614 total time=   0.0s\n",
      "[CV 3/5] END criterion=gini, max_depth=4, max_features=auto, n_estimators=9;, score=0.614 total time=   0.0s\n",
      "[CV 4/5] END criterion=gini, max_depth=4, max_features=auto, n_estimators=9;, score=0.600 total time=   0.0s\n",
      "[CV 5/5] END criterion=gini, max_depth=4, max_features=auto, n_estimators=9;, score=0.600 total time=   0.0s\n",
      "[CV 1/5] END criterion=gini, max_depth=4, max_features=sqrt, n_estimators=5;, score=0.571 total time=   0.0s\n",
      "[CV 2/5] END criterion=gini, max_depth=4, max_features=sqrt, n_estimators=5;, score=0.629 total time=   0.0s\n",
      "[CV 3/5] END criterion=gini, max_depth=4, max_features=sqrt, n_estimators=5;, score=0.600 total time=   0.0s\n",
      "[CV 4/5] END criterion=gini, max_depth=4, max_features=sqrt, n_estimators=5;, score=0.614 total time=   0.0s\n",
      "[CV 5/5] END criterion=gini, max_depth=4, max_features=sqrt, n_estimators=5;, score=0.600 total time=   0.0s\n",
      "[CV 1/5] END criterion=gini, max_depth=4, max_features=sqrt, n_estimators=6;, score=0.600 total time=   0.0s\n",
      "[CV 2/5] END criterion=gini, max_depth=4, max_features=sqrt, n_estimators=6;, score=0.629 total time=   0.0s\n",
      "[CV 3/5] END criterion=gini, max_depth=4, max_features=sqrt, n_estimators=6;, score=0.586 total time=   0.0s\n",
      "[CV 4/5] END criterion=gini, max_depth=4, max_features=sqrt, n_estimators=6;, score=0.614 total time=   0.0s\n",
      "[CV 5/5] END criterion=gini, max_depth=4, max_features=sqrt, n_estimators=6;, score=0.571 total time=   0.0s\n",
      "[CV 1/5] END criterion=gini, max_depth=4, max_features=sqrt, n_estimators=7;, score=0.614 total time=   0.0s\n",
      "[CV 2/5] END criterion=gini, max_depth=4, max_features=sqrt, n_estimators=7;, score=0.629 total time=   0.0s\n",
      "[CV 3/5] END criterion=gini, max_depth=4, max_features=sqrt, n_estimators=7;, score=0.629 total time=   0.0s\n",
      "[CV 4/5] END criterion=gini, max_depth=4, max_features=sqrt, n_estimators=7;, score=0.600 total time=   0.0s\n",
      "[CV 5/5] END criterion=gini, max_depth=4, max_features=sqrt, n_estimators=7;, score=0.614 total time=   0.0s\n",
      "[CV 1/5] END criterion=gini, max_depth=4, max_features=sqrt, n_estimators=8;, score=0.557 total time=   0.0s\n",
      "[CV 2/5] END criterion=gini, max_depth=4, max_features=sqrt, n_estimators=8;, score=0.629 total time=   0.0s\n",
      "[CV 3/5] END criterion=gini, max_depth=4, max_features=sqrt, n_estimators=8;, score=0.614 total time=   0.0s\n",
      "[CV 4/5] END criterion=gini, max_depth=4, max_features=sqrt, n_estimators=8;, score=0.614 total time=   0.0s\n",
      "[CV 5/5] END criterion=gini, max_depth=4, max_features=sqrt, n_estimators=8;, score=0.614 total time=   0.0s\n",
      "[CV 1/5] END criterion=gini, max_depth=4, max_features=sqrt, n_estimators=9;, score=0.614 total time=   0.0s\n",
      "[CV 2/5] END criterion=gini, max_depth=4, max_features=sqrt, n_estimators=9;, score=0.600 total time=   0.0s\n",
      "[CV 3/5] END criterion=gini, max_depth=4, max_features=sqrt, n_estimators=9;, score=0.614 total time=   0.0s\n",
      "[CV 4/5] END criterion=gini, max_depth=4, max_features=sqrt, n_estimators=9;, score=0.643 total time=   0.0s\n",
      "[CV 5/5] END criterion=gini, max_depth=4, max_features=sqrt, n_estimators=9;, score=0.614 total time=   0.0s\n",
      "[CV 1/5] END criterion=gini, max_depth=4, max_features=log2, n_estimators=5;, score=0.586 total time=   0.0s\n",
      "[CV 2/5] END criterion=gini, max_depth=4, max_features=log2, n_estimators=5;, score=0.557 total time=   0.0s\n",
      "[CV 3/5] END criterion=gini, max_depth=4, max_features=log2, n_estimators=5;, score=0.614 total time=   0.0s\n",
      "[CV 4/5] END criterion=gini, max_depth=4, max_features=log2, n_estimators=5;, score=0.600 total time=   0.0s\n",
      "[CV 5/5] END criterion=gini, max_depth=4, max_features=log2, n_estimators=5;, score=0.543 total time=   0.0s\n",
      "[CV 1/5] END criterion=gini, max_depth=4, max_features=log2, n_estimators=6;, score=0.586 total time=   0.0s\n",
      "[CV 2/5] END criterion=gini, max_depth=4, max_features=log2, n_estimators=6;, score=0.600 total time=   0.0s\n",
      "[CV 3/5] END criterion=gini, max_depth=4, max_features=log2, n_estimators=6;, score=0.600 total time=   0.0s\n",
      "[CV 4/5] END criterion=gini, max_depth=4, max_features=log2, n_estimators=6;, score=0.586 total time=   0.0s\n",
      "[CV 5/5] END criterion=gini, max_depth=4, max_features=log2, n_estimators=6;, score=0.614 total time=   0.0s\n",
      "[CV 1/5] END criterion=gini, max_depth=4, max_features=log2, n_estimators=7;, score=0.600 total time=   0.0s\n",
      "[CV 2/5] END criterion=gini, max_depth=4, max_features=log2, n_estimators=7;, score=0.571 total time=   0.0s\n",
      "[CV 3/5] END criterion=gini, max_depth=4, max_features=log2, n_estimators=7;, score=0.629 total time=   0.0s\n",
      "[CV 4/5] END criterion=gini, max_depth=4, max_features=log2, n_estimators=7;, score=0.614 total time=   0.0s\n",
      "[CV 5/5] END criterion=gini, max_depth=4, max_features=log2, n_estimators=7;, score=0.614 total time=   0.0s\n",
      "[CV 1/5] END criterion=gini, max_depth=4, max_features=log2, n_estimators=8;, score=0.600 total time=   0.0s\n",
      "[CV 2/5] END criterion=gini, max_depth=4, max_features=log2, n_estimators=8;, score=0.600 total time=   0.0s\n",
      "[CV 3/5] END criterion=gini, max_depth=4, max_features=log2, n_estimators=8;, score=0.614 total time=   0.0s\n",
      "[CV 4/5] END criterion=gini, max_depth=4, max_features=log2, n_estimators=8;, score=0.600 total time=   0.0s\n",
      "[CV 5/5] END criterion=gini, max_depth=4, max_features=log2, n_estimators=8;, score=0.614 total time=   0.0s\n",
      "[CV 1/5] END criterion=gini, max_depth=4, max_features=log2, n_estimators=9;, score=0.600 total time=   0.0s\n",
      "[CV 2/5] END criterion=gini, max_depth=4, max_features=log2, n_estimators=9;, score=0.600 total time=   0.0s\n",
      "[CV 3/5] END criterion=gini, max_depth=4, max_features=log2, n_estimators=9;, score=0.614 total time=   0.0s\n",
      "[CV 4/5] END criterion=gini, max_depth=4, max_features=log2, n_estimators=9;, score=0.614 total time=   0.0s\n",
      "[CV 5/5] END criterion=gini, max_depth=4, max_features=log2, n_estimators=9;, score=0.629 total time=   0.0s\n",
      "[CV 1/5] END criterion=gini, max_depth=5, max_features=auto, n_estimators=5;, score=0.557 total time=   0.0s\n",
      "[CV 2/5] END criterion=gini, max_depth=5, max_features=auto, n_estimators=5;, score=0.614 total time=   0.0s\n",
      "[CV 3/5] END criterion=gini, max_depth=5, max_features=auto, n_estimators=5;, score=0.629 total time=   0.0s\n",
      "[CV 4/5] END criterion=gini, max_depth=5, max_features=auto, n_estimators=5;, score=0.557 total time=   0.0s\n",
      "[CV 5/5] END criterion=gini, max_depth=5, max_features=auto, n_estimators=5;, score=0.586 total time=   0.0s\n",
      "[CV 1/5] END criterion=gini, max_depth=5, max_features=auto, n_estimators=6;, score=0.586 total time=   0.0s\n",
      "[CV 2/5] END criterion=gini, max_depth=5, max_features=auto, n_estimators=6;, score=0.600 total time=   0.0s\n",
      "[CV 3/5] END criterion=gini, max_depth=5, max_features=auto, n_estimators=6;, score=0.571 total time=   0.0s\n",
      "[CV 4/5] END criterion=gini, max_depth=5, max_features=auto, n_estimators=6;, score=0.629 total time=   0.0s\n",
      "[CV 5/5] END criterion=gini, max_depth=5, max_features=auto, n_estimators=6;, score=0.586 total time=   0.0s\n",
      "[CV 1/5] END criterion=gini, max_depth=5, max_features=auto, n_estimators=7;, score=0.657 total time=   0.0s\n",
      "[CV 2/5] END criterion=gini, max_depth=5, max_features=auto, n_estimators=7;, score=0.600 total time=   0.0s\n",
      "[CV 3/5] END criterion=gini, max_depth=5, max_features=auto, n_estimators=7;, score=0.614 total time=   0.0s\n",
      "[CV 4/5] END criterion=gini, max_depth=5, max_features=auto, n_estimators=7;, score=0.643 total time=   0.0s\n",
      "[CV 5/5] END criterion=gini, max_depth=5, max_features=auto, n_estimators=7;, score=0.586 total time=   0.0s\n",
      "[CV 1/5] END criterion=gini, max_depth=5, max_features=auto, n_estimators=8;, score=0.614 total time=   0.0s\n",
      "[CV 2/5] END criterion=gini, max_depth=5, max_features=auto, n_estimators=8;, score=0.600 total time=   0.0s\n",
      "[CV 3/5] END criterion=gini, max_depth=5, max_features=auto, n_estimators=8;, score=0.643 total time=   0.0s\n",
      "[CV 4/5] END criterion=gini, max_depth=5, max_features=auto, n_estimators=8;, score=0.586 total time=   0.0s\n",
      "[CV 5/5] END criterion=gini, max_depth=5, max_features=auto, n_estimators=8;, score=0.614 total time=   0.0s\n",
      "[CV 1/5] END criterion=gini, max_depth=5, max_features=auto, n_estimators=9;, score=0.586 total time=   0.0s\n",
      "[CV 2/5] END criterion=gini, max_depth=5, max_features=auto, n_estimators=9;, score=0.629 total time=   0.0s\n",
      "[CV 3/5] END criterion=gini, max_depth=5, max_features=auto, n_estimators=9;, score=0.557 total time=   0.0s\n"
     ]
    },
    {
     "name": "stdout",
     "output_type": "stream",
     "text": [
      "[CV 4/5] END criterion=gini, max_depth=5, max_features=auto, n_estimators=9;, score=0.614 total time=   0.0s\n",
      "[CV 5/5] END criterion=gini, max_depth=5, max_features=auto, n_estimators=9;, score=0.629 total time=   0.0s\n",
      "[CV 1/5] END criterion=gini, max_depth=5, max_features=sqrt, n_estimators=5;, score=0.586 total time=   0.0s\n",
      "[CV 2/5] END criterion=gini, max_depth=5, max_features=sqrt, n_estimators=5;, score=0.629 total time=   0.0s\n",
      "[CV 3/5] END criterion=gini, max_depth=5, max_features=sqrt, n_estimators=5;, score=0.586 total time=   0.0s\n",
      "[CV 4/5] END criterion=gini, max_depth=5, max_features=sqrt, n_estimators=5;, score=0.629 total time=   0.0s\n",
      "[CV 5/5] END criterion=gini, max_depth=5, max_features=sqrt, n_estimators=5;, score=0.600 total time=   0.0s\n",
      "[CV 1/5] END criterion=gini, max_depth=5, max_features=sqrt, n_estimators=6;, score=0.600 total time=   0.0s\n",
      "[CV 2/5] END criterion=gini, max_depth=5, max_features=sqrt, n_estimators=6;, score=0.629 total time=   0.0s\n",
      "[CV 3/5] END criterion=gini, max_depth=5, max_features=sqrt, n_estimators=6;, score=0.543 total time=   0.0s\n",
      "[CV 4/5] END criterion=gini, max_depth=5, max_features=sqrt, n_estimators=6;, score=0.557 total time=   0.0s\n",
      "[CV 5/5] END criterion=gini, max_depth=5, max_features=sqrt, n_estimators=6;, score=0.600 total time=   0.0s\n",
      "[CV 1/5] END criterion=gini, max_depth=5, max_features=sqrt, n_estimators=7;, score=0.600 total time=   0.0s\n",
      "[CV 2/5] END criterion=gini, max_depth=5, max_features=sqrt, n_estimators=7;, score=0.586 total time=   0.0s\n",
      "[CV 3/5] END criterion=gini, max_depth=5, max_features=sqrt, n_estimators=7;, score=0.586 total time=   0.0s\n",
      "[CV 4/5] END criterion=gini, max_depth=5, max_features=sqrt, n_estimators=7;, score=0.629 total time=   0.0s\n",
      "[CV 5/5] END criterion=gini, max_depth=5, max_features=sqrt, n_estimators=7;, score=0.614 total time=   0.0s\n",
      "[CV 1/5] END criterion=gini, max_depth=5, max_features=sqrt, n_estimators=8;, score=0.571 total time=   0.0s\n",
      "[CV 2/5] END criterion=gini, max_depth=5, max_features=sqrt, n_estimators=8;, score=0.600 total time=   0.0s\n",
      "[CV 3/5] END criterion=gini, max_depth=5, max_features=sqrt, n_estimators=8;, score=0.600 total time=   0.0s\n",
      "[CV 4/5] END criterion=gini, max_depth=5, max_features=sqrt, n_estimators=8;, score=0.629 total time=   0.0s\n",
      "[CV 5/5] END criterion=gini, max_depth=5, max_features=sqrt, n_estimators=8;, score=0.600 total time=   0.0s\n",
      "[CV 1/5] END criterion=gini, max_depth=5, max_features=sqrt, n_estimators=9;, score=0.614 total time=   0.0s\n",
      "[CV 2/5] END criterion=gini, max_depth=5, max_features=sqrt, n_estimators=9;, score=0.614 total time=   0.0s\n",
      "[CV 3/5] END criterion=gini, max_depth=5, max_features=sqrt, n_estimators=9;, score=0.614 total time=   0.0s\n",
      "[CV 4/5] END criterion=gini, max_depth=5, max_features=sqrt, n_estimators=9;, score=0.657 total time=   0.0s\n",
      "[CV 5/5] END criterion=gini, max_depth=5, max_features=sqrt, n_estimators=9;, score=0.614 total time=   0.0s\n",
      "[CV 1/5] END criterion=gini, max_depth=5, max_features=log2, n_estimators=5;, score=0.629 total time=   0.0s\n",
      "[CV 2/5] END criterion=gini, max_depth=5, max_features=log2, n_estimators=5;, score=0.571 total time=   0.0s\n",
      "[CV 3/5] END criterion=gini, max_depth=5, max_features=log2, n_estimators=5;, score=0.586 total time=   0.0s\n",
      "[CV 4/5] END criterion=gini, max_depth=5, max_features=log2, n_estimators=5;, score=0.614 total time=   0.0s\n",
      "[CV 5/5] END criterion=gini, max_depth=5, max_features=log2, n_estimators=5;, score=0.629 total time=   0.0s\n",
      "[CV 1/5] END criterion=gini, max_depth=5, max_features=log2, n_estimators=6;, score=0.571 total time=   0.0s\n",
      "[CV 2/5] END criterion=gini, max_depth=5, max_features=log2, n_estimators=6;, score=0.600 total time=   0.0s\n",
      "[CV 3/5] END criterion=gini, max_depth=5, max_features=log2, n_estimators=6;, score=0.586 total time=   0.0s\n",
      "[CV 4/5] END criterion=gini, max_depth=5, max_features=log2, n_estimators=6;, score=0.586 total time=   0.0s\n",
      "[CV 5/5] END criterion=gini, max_depth=5, max_features=log2, n_estimators=6;, score=0.629 total time=   0.0s\n",
      "[CV 1/5] END criterion=gini, max_depth=5, max_features=log2, n_estimators=7;, score=0.614 total time=   0.0s\n",
      "[CV 2/5] END criterion=gini, max_depth=5, max_features=log2, n_estimators=7;, score=0.614 total time=   0.0s\n",
      "[CV 3/5] END criterion=gini, max_depth=5, max_features=log2, n_estimators=7;, score=0.557 total time=   0.0s\n",
      "[CV 4/5] END criterion=gini, max_depth=5, max_features=log2, n_estimators=7;, score=0.629 total time=   0.0s\n",
      "[CV 5/5] END criterion=gini, max_depth=5, max_features=log2, n_estimators=7;, score=0.600 total time=   0.0s\n",
      "[CV 1/5] END criterion=gini, max_depth=5, max_features=log2, n_estimators=8;, score=0.600 total time=   0.0s\n",
      "[CV 2/5] END criterion=gini, max_depth=5, max_features=log2, n_estimators=8;, score=0.643 total time=   0.0s\n",
      "[CV 3/5] END criterion=gini, max_depth=5, max_features=log2, n_estimators=8;, score=0.600 total time=   0.0s\n",
      "[CV 4/5] END criterion=gini, max_depth=5, max_features=log2, n_estimators=8;, score=0.629 total time=   0.0s\n",
      "[CV 5/5] END criterion=gini, max_depth=5, max_features=log2, n_estimators=8;, score=0.643 total time=   0.0s\n",
      "[CV 1/5] END criterion=gini, max_depth=5, max_features=log2, n_estimators=9;, score=0.600 total time=   0.0s\n",
      "[CV 2/5] END criterion=gini, max_depth=5, max_features=log2, n_estimators=9;, score=0.629 total time=   0.0s\n",
      "[CV 3/5] END criterion=gini, max_depth=5, max_features=log2, n_estimators=9;, score=0.614 total time=   0.0s\n",
      "[CV 4/5] END criterion=gini, max_depth=5, max_features=log2, n_estimators=9;, score=0.614 total time=   0.0s\n",
      "[CV 5/5] END criterion=gini, max_depth=5, max_features=log2, n_estimators=9;, score=0.643 total time=   0.0s\n",
      "[CV 1/5] END criterion=entropy, max_depth=2, max_features=auto, n_estimators=5;, score=0.600 total time=   0.0s\n",
      "[CV 2/5] END criterion=entropy, max_depth=2, max_features=auto, n_estimators=5;, score=0.614 total time=   0.0s\n",
      "[CV 3/5] END criterion=entropy, max_depth=2, max_features=auto, n_estimators=5;, score=0.614 total time=   0.0s\n",
      "[CV 4/5] END criterion=entropy, max_depth=2, max_features=auto, n_estimators=5;, score=0.614 total time=   0.0s\n",
      "[CV 5/5] END criterion=entropy, max_depth=2, max_features=auto, n_estimators=5;, score=0.614 total time=   0.0s\n",
      "[CV 1/5] END criterion=entropy, max_depth=2, max_features=auto, n_estimators=6;, score=0.600 total time=   0.0s\n",
      "[CV 2/5] END criterion=entropy, max_depth=2, max_features=auto, n_estimators=6;, score=0.614 total time=   0.0s\n",
      "[CV 3/5] END criterion=entropy, max_depth=2, max_features=auto, n_estimators=6;, score=0.614 total time=   0.0s\n",
      "[CV 4/5] END criterion=entropy, max_depth=2, max_features=auto, n_estimators=6;, score=0.614 total time=   0.0s\n",
      "[CV 5/5] END criterion=entropy, max_depth=2, max_features=auto, n_estimators=6;, score=0.614 total time=   0.0s\n",
      "[CV 1/5] END criterion=entropy, max_depth=2, max_features=auto, n_estimators=7;, score=0.600 total time=   0.0s\n",
      "[CV 2/5] END criterion=entropy, max_depth=2, max_features=auto, n_estimators=7;, score=0.614 total time=   0.0s\n",
      "[CV 3/5] END criterion=entropy, max_depth=2, max_features=auto, n_estimators=7;, score=0.614 total time=   0.0s\n",
      "[CV 4/5] END criterion=entropy, max_depth=2, max_features=auto, n_estimators=7;, score=0.614 total time=   0.0s\n",
      "[CV 5/5] END criterion=entropy, max_depth=2, max_features=auto, n_estimators=7;, score=0.614 total time=   0.0s\n",
      "[CV 1/5] END criterion=entropy, max_depth=2, max_features=auto, n_estimators=8;, score=0.600 total time=   0.0s\n",
      "[CV 2/5] END criterion=entropy, max_depth=2, max_features=auto, n_estimators=8;, score=0.614 total time=   0.0s\n",
      "[CV 3/5] END criterion=entropy, max_depth=2, max_features=auto, n_estimators=8;, score=0.614 total time=   0.0s\n",
      "[CV 4/5] END criterion=entropy, max_depth=2, max_features=auto, n_estimators=8;, score=0.614 total time=   0.0s\n",
      "[CV 5/5] END criterion=entropy, max_depth=2, max_features=auto, n_estimators=8;, score=0.614 total time=   0.0s\n",
      "[CV 1/5] END criterion=entropy, max_depth=2, max_features=auto, n_estimators=9;, score=0.600 total time=   0.0s\n",
      "[CV 2/5] END criterion=entropy, max_depth=2, max_features=auto, n_estimators=9;, score=0.614 total time=   0.0s\n",
      "[CV 3/5] END criterion=entropy, max_depth=2, max_features=auto, n_estimators=9;, score=0.614 total time=   0.0s\n",
      "[CV 4/5] END criterion=entropy, max_depth=2, max_features=auto, n_estimators=9;, score=0.614 total time=   0.0s\n",
      "[CV 5/5] END criterion=entropy, max_depth=2, max_features=auto, n_estimators=9;, score=0.614 total time=   0.0s\n",
      "[CV 1/5] END criterion=entropy, max_depth=2, max_features=sqrt, n_estimators=5;, score=0.600 total time=   0.0s\n",
      "[CV 2/5] END criterion=entropy, max_depth=2, max_features=sqrt, n_estimators=5;, score=0.614 total time=   0.0s\n",
      "[CV 3/5] END criterion=entropy, max_depth=2, max_features=sqrt, n_estimators=5;, score=0.614 total time=   0.0s\n",
      "[CV 4/5] END criterion=entropy, max_depth=2, max_features=sqrt, n_estimators=5;, score=0.614 total time=   0.0s\n",
      "[CV 5/5] END criterion=entropy, max_depth=2, max_features=sqrt, n_estimators=5;, score=0.614 total time=   0.0s\n",
      "[CV 1/5] END criterion=entropy, max_depth=2, max_features=sqrt, n_estimators=6;, score=0.600 total time=   0.0s\n"
     ]
    },
    {
     "name": "stdout",
     "output_type": "stream",
     "text": [
      "[CV 2/5] END criterion=entropy, max_depth=2, max_features=sqrt, n_estimators=6;, score=0.614 total time=   0.0s\n",
      "[CV 3/5] END criterion=entropy, max_depth=2, max_features=sqrt, n_estimators=6;, score=0.614 total time=   0.0s\n",
      "[CV 4/5] END criterion=entropy, max_depth=2, max_features=sqrt, n_estimators=6;, score=0.614 total time=   0.0s\n",
      "[CV 5/5] END criterion=entropy, max_depth=2, max_features=sqrt, n_estimators=6;, score=0.614 total time=   0.0s\n",
      "[CV 1/5] END criterion=entropy, max_depth=2, max_features=sqrt, n_estimators=7;, score=0.600 total time=   0.0s\n",
      "[CV 2/5] END criterion=entropy, max_depth=2, max_features=sqrt, n_estimators=7;, score=0.614 total time=   0.0s\n",
      "[CV 3/5] END criterion=entropy, max_depth=2, max_features=sqrt, n_estimators=7;, score=0.614 total time=   0.0s\n",
      "[CV 4/5] END criterion=entropy, max_depth=2, max_features=sqrt, n_estimators=7;, score=0.614 total time=   0.0s\n",
      "[CV 5/5] END criterion=entropy, max_depth=2, max_features=sqrt, n_estimators=7;, score=0.614 total time=   0.0s\n",
      "[CV 1/5] END criterion=entropy, max_depth=2, max_features=sqrt, n_estimators=8;, score=0.600 total time=   0.0s\n",
      "[CV 2/5] END criterion=entropy, max_depth=2, max_features=sqrt, n_estimators=8;, score=0.614 total time=   0.0s\n",
      "[CV 3/5] END criterion=entropy, max_depth=2, max_features=sqrt, n_estimators=8;, score=0.614 total time=   0.0s\n",
      "[CV 4/5] END criterion=entropy, max_depth=2, max_features=sqrt, n_estimators=8;, score=0.614 total time=   0.0s\n",
      "[CV 5/5] END criterion=entropy, max_depth=2, max_features=sqrt, n_estimators=8;, score=0.614 total time=   0.0s\n",
      "[CV 1/5] END criterion=entropy, max_depth=2, max_features=sqrt, n_estimators=9;, score=0.600 total time=   0.0s\n",
      "[CV 2/5] END criterion=entropy, max_depth=2, max_features=sqrt, n_estimators=9;, score=0.614 total time=   0.0s\n",
      "[CV 3/5] END criterion=entropy, max_depth=2, max_features=sqrt, n_estimators=9;, score=0.614 total time=   0.0s\n",
      "[CV 4/5] END criterion=entropy, max_depth=2, max_features=sqrt, n_estimators=9;, score=0.614 total time=   0.0s\n",
      "[CV 5/5] END criterion=entropy, max_depth=2, max_features=sqrt, n_estimators=9;, score=0.614 total time=   0.0s\n",
      "[CV 1/5] END criterion=entropy, max_depth=2, max_features=log2, n_estimators=5;, score=0.600 total time=   0.0s\n",
      "[CV 2/5] END criterion=entropy, max_depth=2, max_features=log2, n_estimators=5;, score=0.614 total time=   0.0s\n",
      "[CV 3/5] END criterion=entropy, max_depth=2, max_features=log2, n_estimators=5;, score=0.614 total time=   0.0s\n",
      "[CV 4/5] END criterion=entropy, max_depth=2, max_features=log2, n_estimators=5;, score=0.614 total time=   0.0s\n",
      "[CV 5/5] END criterion=entropy, max_depth=2, max_features=log2, n_estimators=5;, score=0.614 total time=   0.0s\n",
      "[CV 1/5] END criterion=entropy, max_depth=2, max_features=log2, n_estimators=6;, score=0.600 total time=   0.0s\n",
      "[CV 2/5] END criterion=entropy, max_depth=2, max_features=log2, n_estimators=6;, score=0.614 total time=   0.0s\n",
      "[CV 3/5] END criterion=entropy, max_depth=2, max_features=log2, n_estimators=6;, score=0.614 total time=   0.0s\n",
      "[CV 4/5] END criterion=entropy, max_depth=2, max_features=log2, n_estimators=6;, score=0.614 total time=   0.0s\n",
      "[CV 5/5] END criterion=entropy, max_depth=2, max_features=log2, n_estimators=6;, score=0.614 total time=   0.0s\n",
      "[CV 1/5] END criterion=entropy, max_depth=2, max_features=log2, n_estimators=7;, score=0.600 total time=   0.0s\n",
      "[CV 2/5] END criterion=entropy, max_depth=2, max_features=log2, n_estimators=7;, score=0.614 total time=   0.0s\n",
      "[CV 3/5] END criterion=entropy, max_depth=2, max_features=log2, n_estimators=7;, score=0.614 total time=   0.0s\n",
      "[CV 4/5] END criterion=entropy, max_depth=2, max_features=log2, n_estimators=7;, score=0.614 total time=   0.0s\n",
      "[CV 5/5] END criterion=entropy, max_depth=2, max_features=log2, n_estimators=7;, score=0.614 total time=   0.0s\n",
      "[CV 1/5] END criterion=entropy, max_depth=2, max_features=log2, n_estimators=8;, score=0.600 total time=   0.0s\n",
      "[CV 2/5] END criterion=entropy, max_depth=2, max_features=log2, n_estimators=8;, score=0.614 total time=   0.0s\n",
      "[CV 3/5] END criterion=entropy, max_depth=2, max_features=log2, n_estimators=8;, score=0.614 total time=   0.0s\n",
      "[CV 4/5] END criterion=entropy, max_depth=2, max_features=log2, n_estimators=8;, score=0.614 total time=   0.0s\n",
      "[CV 5/5] END criterion=entropy, max_depth=2, max_features=log2, n_estimators=8;, score=0.614 total time=   0.0s\n",
      "[CV 1/5] END criterion=entropy, max_depth=2, max_features=log2, n_estimators=9;, score=0.600 total time=   0.0s\n",
      "[CV 2/5] END criterion=entropy, max_depth=2, max_features=log2, n_estimators=9;, score=0.614 total time=   0.0s\n",
      "[CV 3/5] END criterion=entropy, max_depth=2, max_features=log2, n_estimators=9;, score=0.614 total time=   0.0s\n",
      "[CV 4/5] END criterion=entropy, max_depth=2, max_features=log2, n_estimators=9;, score=0.614 total time=   0.0s\n",
      "[CV 5/5] END criterion=entropy, max_depth=2, max_features=log2, n_estimators=9;, score=0.614 total time=   0.0s\n",
      "[CV 1/5] END criterion=entropy, max_depth=3, max_features=auto, n_estimators=5;, score=0.600 total time=   0.0s\n",
      "[CV 2/5] END criterion=entropy, max_depth=3, max_features=auto, n_estimators=5;, score=0.629 total time=   0.0s\n",
      "[CV 3/5] END criterion=entropy, max_depth=3, max_features=auto, n_estimators=5;, score=0.614 total time=   0.0s\n",
      "[CV 4/5] END criterion=entropy, max_depth=3, max_features=auto, n_estimators=5;, score=0.614 total time=   0.0s\n",
      "[CV 5/5] END criterion=entropy, max_depth=3, max_features=auto, n_estimators=5;, score=0.614 total time=   0.0s\n",
      "[CV 1/5] END criterion=entropy, max_depth=3, max_features=auto, n_estimators=6;, score=0.600 total time=   0.0s\n",
      "[CV 2/5] END criterion=entropy, max_depth=3, max_features=auto, n_estimators=6;, score=0.614 total time=   0.0s\n",
      "[CV 3/5] END criterion=entropy, max_depth=3, max_features=auto, n_estimators=6;, score=0.614 total time=   0.0s\n",
      "[CV 4/5] END criterion=entropy, max_depth=3, max_features=auto, n_estimators=6;, score=0.614 total time=   0.0s\n",
      "[CV 5/5] END criterion=entropy, max_depth=3, max_features=auto, n_estimators=6;, score=0.614 total time=   0.0s\n",
      "[CV 1/5] END criterion=entropy, max_depth=3, max_features=auto, n_estimators=7;, score=0.600 total time=   0.0s\n",
      "[CV 2/5] END criterion=entropy, max_depth=3, max_features=auto, n_estimators=7;, score=0.614 total time=   0.0s\n",
      "[CV 3/5] END criterion=entropy, max_depth=3, max_features=auto, n_estimators=7;, score=0.614 total time=   0.0s\n",
      "[CV 4/5] END criterion=entropy, max_depth=3, max_features=auto, n_estimators=7;, score=0.614 total time=   0.0s\n",
      "[CV 5/5] END criterion=entropy, max_depth=3, max_features=auto, n_estimators=7;, score=0.614 total time=   0.0s\n",
      "[CV 1/5] END criterion=entropy, max_depth=3, max_features=auto, n_estimators=8;, score=0.600 total time=   0.0s\n",
      "[CV 2/5] END criterion=entropy, max_depth=3, max_features=auto, n_estimators=8;, score=0.614 total time=   0.0s\n",
      "[CV 3/5] END criterion=entropy, max_depth=3, max_features=auto, n_estimators=8;, score=0.614 total time=   0.0s\n",
      "[CV 4/5] END criterion=entropy, max_depth=3, max_features=auto, n_estimators=8;, score=0.614 total time=   0.0s\n",
      "[CV 5/5] END criterion=entropy, max_depth=3, max_features=auto, n_estimators=8;, score=0.614 total time=   0.0s\n",
      "[CV 1/5] END criterion=entropy, max_depth=3, max_features=auto, n_estimators=9;, score=0.600 total time=   0.0s\n",
      "[CV 2/5] END criterion=entropy, max_depth=3, max_features=auto, n_estimators=9;, score=0.614 total time=   0.0s\n",
      "[CV 3/5] END criterion=entropy, max_depth=3, max_features=auto, n_estimators=9;, score=0.614 total time=   0.0s\n",
      "[CV 4/5] END criterion=entropy, max_depth=3, max_features=auto, n_estimators=9;, score=0.614 total time=   0.0s\n",
      "[CV 5/5] END criterion=entropy, max_depth=3, max_features=auto, n_estimators=9;, score=0.614 total time=   0.0s\n",
      "[CV 1/5] END criterion=entropy, max_depth=3, max_features=sqrt, n_estimators=5;, score=0.600 total time=   0.0s\n",
      "[CV 2/5] END criterion=entropy, max_depth=3, max_features=sqrt, n_estimators=5;, score=0.614 total time=   0.0s\n",
      "[CV 3/5] END criterion=entropy, max_depth=3, max_features=sqrt, n_estimators=5;, score=0.614 total time=   0.0s\n",
      "[CV 4/5] END criterion=entropy, max_depth=3, max_features=sqrt, n_estimators=5;, score=0.614 total time=   0.0s\n",
      "[CV 5/5] END criterion=entropy, max_depth=3, max_features=sqrt, n_estimators=5;, score=0.614 total time=   0.0s\n",
      "[CV 1/5] END criterion=entropy, max_depth=3, max_features=sqrt, n_estimators=6;, score=0.600 total time=   0.0s\n",
      "[CV 2/5] END criterion=entropy, max_depth=3, max_features=sqrt, n_estimators=6;, score=0.614 total time=   0.0s\n",
      "[CV 3/5] END criterion=entropy, max_depth=3, max_features=sqrt, n_estimators=6;, score=0.614 total time=   0.0s\n",
      "[CV 4/5] END criterion=entropy, max_depth=3, max_features=sqrt, n_estimators=6;, score=0.614 total time=   0.0s\n",
      "[CV 5/5] END criterion=entropy, max_depth=3, max_features=sqrt, n_estimators=6;, score=0.614 total time=   0.0s\n",
      "[CV 1/5] END criterion=entropy, max_depth=3, max_features=sqrt, n_estimators=7;, score=0.600 total time=   0.0s\n",
      "[CV 2/5] END criterion=entropy, max_depth=3, max_features=sqrt, n_estimators=7;, score=0.614 total time=   0.0s\n",
      "[CV 3/5] END criterion=entropy, max_depth=3, max_features=sqrt, n_estimators=7;, score=0.614 total time=   0.0s\n",
      "[CV 4/5] END criterion=entropy, max_depth=3, max_features=sqrt, n_estimators=7;, score=0.614 total time=   0.0s\n",
      "[CV 5/5] END criterion=entropy, max_depth=3, max_features=sqrt, n_estimators=7;, score=0.614 total time=   0.0s\n",
      "[CV 1/5] END criterion=entropy, max_depth=3, max_features=sqrt, n_estimators=8;, score=0.600 total time=   0.0s\n"
     ]
    },
    {
     "name": "stdout",
     "output_type": "stream",
     "text": [
      "[CV 2/5] END criterion=entropy, max_depth=3, max_features=sqrt, n_estimators=8;, score=0.614 total time=   0.0s\n",
      "[CV 3/5] END criterion=entropy, max_depth=3, max_features=sqrt, n_estimators=8;, score=0.614 total time=   0.0s\n",
      "[CV 4/5] END criterion=entropy, max_depth=3, max_features=sqrt, n_estimators=8;, score=0.614 total time=   0.0s\n",
      "[CV 5/5] END criterion=entropy, max_depth=3, max_features=sqrt, n_estimators=8;, score=0.614 total time=   0.0s\n",
      "[CV 1/5] END criterion=entropy, max_depth=3, max_features=sqrt, n_estimators=9;, score=0.600 total time=   0.0s\n",
      "[CV 2/5] END criterion=entropy, max_depth=3, max_features=sqrt, n_estimators=9;, score=0.614 total time=   0.0s\n",
      "[CV 3/5] END criterion=entropy, max_depth=3, max_features=sqrt, n_estimators=9;, score=0.614 total time=   0.0s\n",
      "[CV 4/5] END criterion=entropy, max_depth=3, max_features=sqrt, n_estimators=9;, score=0.614 total time=   0.0s\n",
      "[CV 5/5] END criterion=entropy, max_depth=3, max_features=sqrt, n_estimators=9;, score=0.614 total time=   0.0s\n",
      "[CV 1/5] END criterion=entropy, max_depth=3, max_features=log2, n_estimators=5;, score=0.600 total time=   0.0s\n",
      "[CV 2/5] END criterion=entropy, max_depth=3, max_features=log2, n_estimators=5;, score=0.614 total time=   0.0s\n",
      "[CV 3/5] END criterion=entropy, max_depth=3, max_features=log2, n_estimators=5;, score=0.614 total time=   0.0s\n",
      "[CV 4/5] END criterion=entropy, max_depth=3, max_features=log2, n_estimators=5;, score=0.614 total time=   0.0s\n",
      "[CV 5/5] END criterion=entropy, max_depth=3, max_features=log2, n_estimators=5;, score=0.614 total time=   0.0s\n",
      "[CV 1/5] END criterion=entropy, max_depth=3, max_features=log2, n_estimators=6;, score=0.600 total time=   0.0s\n",
      "[CV 2/5] END criterion=entropy, max_depth=3, max_features=log2, n_estimators=6;, score=0.614 total time=   0.0s\n",
      "[CV 3/5] END criterion=entropy, max_depth=3, max_features=log2, n_estimators=6;, score=0.614 total time=   0.0s\n",
      "[CV 4/5] END criterion=entropy, max_depth=3, max_features=log2, n_estimators=6;, score=0.614 total time=   0.0s\n",
      "[CV 5/5] END criterion=entropy, max_depth=3, max_features=log2, n_estimators=6;, score=0.614 total time=   0.0s\n",
      "[CV 1/5] END criterion=entropy, max_depth=3, max_features=log2, n_estimators=7;, score=0.600 total time=   0.0s\n",
      "[CV 2/5] END criterion=entropy, max_depth=3, max_features=log2, n_estimators=7;, score=0.614 total time=   0.0s\n",
      "[CV 3/5] END criterion=entropy, max_depth=3, max_features=log2, n_estimators=7;, score=0.614 total time=   0.0s\n",
      "[CV 4/5] END criterion=entropy, max_depth=3, max_features=log2, n_estimators=7;, score=0.614 total time=   0.0s\n",
      "[CV 5/5] END criterion=entropy, max_depth=3, max_features=log2, n_estimators=7;, score=0.614 total time=   0.0s\n",
      "[CV 1/5] END criterion=entropy, max_depth=3, max_features=log2, n_estimators=8;, score=0.600 total time=   0.0s\n",
      "[CV 2/5] END criterion=entropy, max_depth=3, max_features=log2, n_estimators=8;, score=0.614 total time=   0.0s\n",
      "[CV 3/5] END criterion=entropy, max_depth=3, max_features=log2, n_estimators=8;, score=0.614 total time=   0.0s\n",
      "[CV 4/5] END criterion=entropy, max_depth=3, max_features=log2, n_estimators=8;, score=0.614 total time=   0.0s\n",
      "[CV 5/5] END criterion=entropy, max_depth=3, max_features=log2, n_estimators=8;, score=0.614 total time=   0.0s\n",
      "[CV 1/5] END criterion=entropy, max_depth=3, max_features=log2, n_estimators=9;, score=0.600 total time=   0.0s\n",
      "[CV 2/5] END criterion=entropy, max_depth=3, max_features=log2, n_estimators=9;, score=0.614 total time=   0.0s\n",
      "[CV 3/5] END criterion=entropy, max_depth=3, max_features=log2, n_estimators=9;, score=0.614 total time=   0.0s\n",
      "[CV 4/5] END criterion=entropy, max_depth=3, max_features=log2, n_estimators=9;, score=0.614 total time=   0.0s\n",
      "[CV 5/5] END criterion=entropy, max_depth=3, max_features=log2, n_estimators=9;, score=0.614 total time=   0.0s\n",
      "[CV 1/5] END criterion=entropy, max_depth=4, max_features=auto, n_estimators=5;, score=0.600 total time=   0.0s\n",
      "[CV 2/5] END criterion=entropy, max_depth=4, max_features=auto, n_estimators=5;, score=0.614 total time=   0.0s\n",
      "[CV 3/5] END criterion=entropy, max_depth=4, max_features=auto, n_estimators=5;, score=0.600 total time=   0.0s\n",
      "[CV 4/5] END criterion=entropy, max_depth=4, max_features=auto, n_estimators=5;, score=0.614 total time=   0.0s\n",
      "[CV 5/5] END criterion=entropy, max_depth=4, max_features=auto, n_estimators=5;, score=0.614 total time=   0.0s\n",
      "[CV 1/5] END criterion=entropy, max_depth=4, max_features=auto, n_estimators=6;, score=0.586 total time=   0.0s\n",
      "[CV 2/5] END criterion=entropy, max_depth=4, max_features=auto, n_estimators=6;, score=0.614 total time=   0.0s\n",
      "[CV 3/5] END criterion=entropy, max_depth=4, max_features=auto, n_estimators=6;, score=0.614 total time=   0.0s\n",
      "[CV 4/5] END criterion=entropy, max_depth=4, max_features=auto, n_estimators=6;, score=0.614 total time=   0.0s\n",
      "[CV 5/5] END criterion=entropy, max_depth=4, max_features=auto, n_estimators=6;, score=0.629 total time=   0.0s\n",
      "[CV 1/5] END criterion=entropy, max_depth=4, max_features=auto, n_estimators=7;, score=0.586 total time=   0.0s\n",
      "[CV 2/5] END criterion=entropy, max_depth=4, max_features=auto, n_estimators=7;, score=0.614 total time=   0.0s\n",
      "[CV 3/5] END criterion=entropy, max_depth=4, max_features=auto, n_estimators=7;, score=0.600 total time=   0.0s\n",
      "[CV 4/5] END criterion=entropy, max_depth=4, max_features=auto, n_estimators=7;, score=0.614 total time=   0.0s\n",
      "[CV 5/5] END criterion=entropy, max_depth=4, max_features=auto, n_estimators=7;, score=0.629 total time=   0.0s\n",
      "[CV 1/5] END criterion=entropy, max_depth=4, max_features=auto, n_estimators=8;, score=0.600 total time=   0.0s\n",
      "[CV 2/5] END criterion=entropy, max_depth=4, max_features=auto, n_estimators=8;, score=0.600 total time=   0.0s\n",
      "[CV 3/5] END criterion=entropy, max_depth=4, max_features=auto, n_estimators=8;, score=0.586 total time=   0.0s\n",
      "[CV 4/5] END criterion=entropy, max_depth=4, max_features=auto, n_estimators=8;, score=0.614 total time=   0.0s\n",
      "[CV 5/5] END criterion=entropy, max_depth=4, max_features=auto, n_estimators=8;, score=0.614 total time=   0.0s\n",
      "[CV 1/5] END criterion=entropy, max_depth=4, max_features=auto, n_estimators=9;, score=0.586 total time=   0.0s\n",
      "[CV 2/5] END criterion=entropy, max_depth=4, max_features=auto, n_estimators=9;, score=0.614 total time=   0.0s\n",
      "[CV 3/5] END criterion=entropy, max_depth=4, max_features=auto, n_estimators=9;, score=0.600 total time=   0.0s\n",
      "[CV 4/5] END criterion=entropy, max_depth=4, max_features=auto, n_estimators=9;, score=0.614 total time=   0.0s\n",
      "[CV 5/5] END criterion=entropy, max_depth=4, max_features=auto, n_estimators=9;, score=0.614 total time=   0.0s\n",
      "[CV 1/5] END criterion=entropy, max_depth=4, max_features=sqrt, n_estimators=5;, score=0.600 total time=   0.0s\n",
      "[CV 2/5] END criterion=entropy, max_depth=4, max_features=sqrt, n_estimators=5;, score=0.614 total time=   0.0s\n",
      "[CV 3/5] END criterion=entropy, max_depth=4, max_features=sqrt, n_estimators=5;, score=0.614 total time=   0.0s\n",
      "[CV 4/5] END criterion=entropy, max_depth=4, max_features=sqrt, n_estimators=5;, score=0.600 total time=   0.0s\n",
      "[CV 5/5] END criterion=entropy, max_depth=4, max_features=sqrt, n_estimators=5;, score=0.614 total time=   0.0s\n",
      "[CV 1/5] END criterion=entropy, max_depth=4, max_features=sqrt, n_estimators=6;, score=0.586 total time=   0.0s\n",
      "[CV 2/5] END criterion=entropy, max_depth=4, max_features=sqrt, n_estimators=6;, score=0.629 total time=   0.0s\n",
      "[CV 3/5] END criterion=entropy, max_depth=4, max_features=sqrt, n_estimators=6;, score=0.629 total time=   0.0s\n",
      "[CV 4/5] END criterion=entropy, max_depth=4, max_features=sqrt, n_estimators=6;, score=0.614 total time=   0.0s\n",
      "[CV 5/5] END criterion=entropy, max_depth=4, max_features=sqrt, n_estimators=6;, score=0.614 total time=   0.0s\n",
      "[CV 1/5] END criterion=entropy, max_depth=4, max_features=sqrt, n_estimators=7;, score=0.571 total time=   0.0s\n",
      "[CV 2/5] END criterion=entropy, max_depth=4, max_features=sqrt, n_estimators=7;, score=0.614 total time=   0.0s\n",
      "[CV 3/5] END criterion=entropy, max_depth=4, max_features=sqrt, n_estimators=7;, score=0.586 total time=   0.0s\n",
      "[CV 4/5] END criterion=entropy, max_depth=4, max_features=sqrt, n_estimators=7;, score=0.614 total time=   0.0s\n",
      "[CV 5/5] END criterion=entropy, max_depth=4, max_features=sqrt, n_estimators=7;, score=0.600 total time=   0.0s\n",
      "[CV 1/5] END criterion=entropy, max_depth=4, max_features=sqrt, n_estimators=8;, score=0.600 total time=   0.0s\n",
      "[CV 2/5] END criterion=entropy, max_depth=4, max_features=sqrt, n_estimators=8;, score=0.614 total time=   0.0s\n",
      "[CV 3/5] END criterion=entropy, max_depth=4, max_features=sqrt, n_estimators=8;, score=0.614 total time=   0.0s\n",
      "[CV 4/5] END criterion=entropy, max_depth=4, max_features=sqrt, n_estimators=8;, score=0.614 total time=   0.0s\n",
      "[CV 5/5] END criterion=entropy, max_depth=4, max_features=sqrt, n_estimators=8;, score=0.614 total time=   0.0s\n",
      "[CV 1/5] END criterion=entropy, max_depth=4, max_features=sqrt, n_estimators=9;, score=0.586 total time=   0.0s\n",
      "[CV 2/5] END criterion=entropy, max_depth=4, max_features=sqrt, n_estimators=9;, score=0.614 total time=   0.0s\n",
      "[CV 3/5] END criterion=entropy, max_depth=4, max_features=sqrt, n_estimators=9;, score=0.614 total time=   0.0s\n",
      "[CV 4/5] END criterion=entropy, max_depth=4, max_features=sqrt, n_estimators=9;, score=0.614 total time=   0.0s\n"
     ]
    },
    {
     "name": "stdout",
     "output_type": "stream",
     "text": [
      "[CV 5/5] END criterion=entropy, max_depth=4, max_features=sqrt, n_estimators=9;, score=0.629 total time=   0.0s\n",
      "[CV 1/5] END criterion=entropy, max_depth=4, max_features=log2, n_estimators=5;, score=0.600 total time=   0.0s\n",
      "[CV 2/5] END criterion=entropy, max_depth=4, max_features=log2, n_estimators=5;, score=0.614 total time=   0.0s\n",
      "[CV 3/5] END criterion=entropy, max_depth=4, max_features=log2, n_estimators=5;, score=0.614 total time=   0.0s\n",
      "[CV 4/5] END criterion=entropy, max_depth=4, max_features=log2, n_estimators=5;, score=0.600 total time=   0.0s\n",
      "[CV 5/5] END criterion=entropy, max_depth=4, max_features=log2, n_estimators=5;, score=0.600 total time=   0.0s\n",
      "[CV 1/5] END criterion=entropy, max_depth=4, max_features=log2, n_estimators=6;, score=0.586 total time=   0.0s\n",
      "[CV 2/5] END criterion=entropy, max_depth=4, max_features=log2, n_estimators=6;, score=0.600 total time=   0.0s\n",
      "[CV 3/5] END criterion=entropy, max_depth=4, max_features=log2, n_estimators=6;, score=0.614 total time=   0.0s\n",
      "[CV 4/5] END criterion=entropy, max_depth=4, max_features=log2, n_estimators=6;, score=0.614 total time=   0.0s\n",
      "[CV 5/5] END criterion=entropy, max_depth=4, max_features=log2, n_estimators=6;, score=0.600 total time=   0.0s\n",
      "[CV 1/5] END criterion=entropy, max_depth=4, max_features=log2, n_estimators=7;, score=0.600 total time=   0.0s\n",
      "[CV 2/5] END criterion=entropy, max_depth=4, max_features=log2, n_estimators=7;, score=0.600 total time=   0.0s\n",
      "[CV 3/5] END criterion=entropy, max_depth=4, max_features=log2, n_estimators=7;, score=0.600 total time=   0.0s\n",
      "[CV 4/5] END criterion=entropy, max_depth=4, max_features=log2, n_estimators=7;, score=0.614 total time=   0.0s\n",
      "[CV 5/5] END criterion=entropy, max_depth=4, max_features=log2, n_estimators=7;, score=0.600 total time=   0.0s\n",
      "[CV 1/5] END criterion=entropy, max_depth=4, max_features=log2, n_estimators=8;, score=0.600 total time=   0.0s\n",
      "[CV 2/5] END criterion=entropy, max_depth=4, max_features=log2, n_estimators=8;, score=0.614 total time=   0.0s\n",
      "[CV 3/5] END criterion=entropy, max_depth=4, max_features=log2, n_estimators=8;, score=0.614 total time=   0.0s\n",
      "[CV 4/5] END criterion=entropy, max_depth=4, max_features=log2, n_estimators=8;, score=0.614 total time=   0.0s\n",
      "[CV 5/5] END criterion=entropy, max_depth=4, max_features=log2, n_estimators=8;, score=0.614 total time=   0.0s\n",
      "[CV 1/5] END criterion=entropy, max_depth=4, max_features=log2, n_estimators=9;, score=0.586 total time=   0.0s\n",
      "[CV 2/5] END criterion=entropy, max_depth=4, max_features=log2, n_estimators=9;, score=0.614 total time=   0.0s\n",
      "[CV 3/5] END criterion=entropy, max_depth=4, max_features=log2, n_estimators=9;, score=0.614 total time=   0.0s\n",
      "[CV 4/5] END criterion=entropy, max_depth=4, max_features=log2, n_estimators=9;, score=0.614 total time=   0.0s\n",
      "[CV 5/5] END criterion=entropy, max_depth=4, max_features=log2, n_estimators=9;, score=0.614 total time=   0.0s\n",
      "[CV 1/5] END criterion=entropy, max_depth=5, max_features=auto, n_estimators=5;, score=0.614 total time=   0.0s\n",
      "[CV 2/5] END criterion=entropy, max_depth=5, max_features=auto, n_estimators=5;, score=0.657 total time=   0.0s\n",
      "[CV 3/5] END criterion=entropy, max_depth=5, max_features=auto, n_estimators=5;, score=0.543 total time=   0.0s\n",
      "[CV 4/5] END criterion=entropy, max_depth=5, max_features=auto, n_estimators=5;, score=0.557 total time=   0.0s\n",
      "[CV 5/5] END criterion=entropy, max_depth=5, max_features=auto, n_estimators=5;, score=0.629 total time=   0.0s\n",
      "[CV 1/5] END criterion=entropy, max_depth=5, max_features=auto, n_estimators=6;, score=0.586 total time=   0.0s\n",
      "[CV 2/5] END criterion=entropy, max_depth=5, max_features=auto, n_estimators=6;, score=0.586 total time=   0.0s\n",
      "[CV 3/5] END criterion=entropy, max_depth=5, max_features=auto, n_estimators=6;, score=0.643 total time=   0.0s\n",
      "[CV 4/5] END criterion=entropy, max_depth=5, max_features=auto, n_estimators=6;, score=0.600 total time=   0.0s\n",
      "[CV 5/5] END criterion=entropy, max_depth=5, max_features=auto, n_estimators=6;, score=0.600 total time=   0.0s\n",
      "[CV 1/5] END criterion=entropy, max_depth=5, max_features=auto, n_estimators=7;, score=0.571 total time=   0.0s\n",
      "[CV 2/5] END criterion=entropy, max_depth=5, max_features=auto, n_estimators=7;, score=0.586 total time=   0.0s\n",
      "[CV 3/5] END criterion=entropy, max_depth=5, max_features=auto, n_estimators=7;, score=0.600 total time=   0.0s\n",
      "[CV 4/5] END criterion=entropy, max_depth=5, max_features=auto, n_estimators=7;, score=0.586 total time=   0.0s\n",
      "[CV 5/5] END criterion=entropy, max_depth=5, max_features=auto, n_estimators=7;, score=0.586 total time=   0.0s\n",
      "[CV 1/5] END criterion=entropy, max_depth=5, max_features=auto, n_estimators=8;, score=0.629 total time=   0.0s\n",
      "[CV 2/5] END criterion=entropy, max_depth=5, max_features=auto, n_estimators=8;, score=0.614 total time=   0.0s\n",
      "[CV 3/5] END criterion=entropy, max_depth=5, max_features=auto, n_estimators=8;, score=0.629 total time=   0.0s\n",
      "[CV 4/5] END criterion=entropy, max_depth=5, max_features=auto, n_estimators=8;, score=0.614 total time=   0.0s\n",
      "[CV 5/5] END criterion=entropy, max_depth=5, max_features=auto, n_estimators=8;, score=0.600 total time=   0.0s\n",
      "[CV 1/5] END criterion=entropy, max_depth=5, max_features=auto, n_estimators=9;, score=0.600 total time=   0.0s\n",
      "[CV 2/5] END criterion=entropy, max_depth=5, max_features=auto, n_estimators=9;, score=0.600 total time=   0.0s\n",
      "[CV 3/5] END criterion=entropy, max_depth=5, max_features=auto, n_estimators=9;, score=0.614 total time=   0.0s\n",
      "[CV 4/5] END criterion=entropy, max_depth=5, max_features=auto, n_estimators=9;, score=0.586 total time=   0.0s\n",
      "[CV 5/5] END criterion=entropy, max_depth=5, max_features=auto, n_estimators=9;, score=0.586 total time=   0.0s\n",
      "[CV 1/5] END criterion=entropy, max_depth=5, max_features=sqrt, n_estimators=5;, score=0.586 total time=   0.0s\n",
      "[CV 2/5] END criterion=entropy, max_depth=5, max_features=sqrt, n_estimators=5;, score=0.586 total time=   0.0s\n",
      "[CV 3/5] END criterion=entropy, max_depth=5, max_features=sqrt, n_estimators=5;, score=0.586 total time=   0.0s\n",
      "[CV 4/5] END criterion=entropy, max_depth=5, max_features=sqrt, n_estimators=5;, score=0.629 total time=   0.0s\n",
      "[CV 5/5] END criterion=entropy, max_depth=5, max_features=sqrt, n_estimators=5;, score=0.586 total time=   0.0s\n",
      "[CV 1/5] END criterion=entropy, max_depth=5, max_features=sqrt, n_estimators=6;, score=0.629 total time=   0.0s\n",
      "[CV 2/5] END criterion=entropy, max_depth=5, max_features=sqrt, n_estimators=6;, score=0.543 total time=   0.0s\n",
      "[CV 3/5] END criterion=entropy, max_depth=5, max_features=sqrt, n_estimators=6;, score=0.600 total time=   0.0s\n",
      "[CV 4/5] END criterion=entropy, max_depth=5, max_features=sqrt, n_estimators=6;, score=0.586 total time=   0.0s\n",
      "[CV 5/5] END criterion=entropy, max_depth=5, max_features=sqrt, n_estimators=6;, score=0.614 total time=   0.0s\n",
      "[CV 1/5] END criterion=entropy, max_depth=5, max_features=sqrt, n_estimators=7;, score=0.614 total time=   0.0s\n",
      "[CV 2/5] END criterion=entropy, max_depth=5, max_features=sqrt, n_estimators=7;, score=0.614 total time=   0.0s\n",
      "[CV 3/5] END criterion=entropy, max_depth=5, max_features=sqrt, n_estimators=7;, score=0.557 total time=   0.0s\n",
      "[CV 4/5] END criterion=entropy, max_depth=5, max_features=sqrt, n_estimators=7;, score=0.600 total time=   0.0s\n",
      "[CV 5/5] END criterion=entropy, max_depth=5, max_features=sqrt, n_estimators=7;, score=0.629 total time=   0.0s\n",
      "[CV 1/5] END criterion=entropy, max_depth=5, max_features=sqrt, n_estimators=8;, score=0.586 total time=   0.0s\n",
      "[CV 2/5] END criterion=entropy, max_depth=5, max_features=sqrt, n_estimators=8;, score=0.629 total time=   0.0s\n",
      "[CV 3/5] END criterion=entropy, max_depth=5, max_features=sqrt, n_estimators=8;, score=0.557 total time=   0.0s\n",
      "[CV 4/5] END criterion=entropy, max_depth=5, max_features=sqrt, n_estimators=8;, score=0.600 total time=   0.0s\n",
      "[CV 5/5] END criterion=entropy, max_depth=5, max_features=sqrt, n_estimators=8;, score=0.614 total time=   0.0s\n",
      "[CV 1/5] END criterion=entropy, max_depth=5, max_features=sqrt, n_estimators=9;, score=0.600 total time=   0.0s\n",
      "[CV 2/5] END criterion=entropy, max_depth=5, max_features=sqrt, n_estimators=9;, score=0.629 total time=   0.0s\n",
      "[CV 3/5] END criterion=entropy, max_depth=5, max_features=sqrt, n_estimators=9;, score=0.600 total time=   0.0s\n",
      "[CV 4/5] END criterion=entropy, max_depth=5, max_features=sqrt, n_estimators=9;, score=0.586 total time=   0.0s\n",
      "[CV 5/5] END criterion=entropy, max_depth=5, max_features=sqrt, n_estimators=9;, score=0.600 total time=   0.0s\n",
      "[CV 1/5] END criterion=entropy, max_depth=5, max_features=log2, n_estimators=5;, score=0.600 total time=   0.0s\n",
      "[CV 2/5] END criterion=entropy, max_depth=5, max_features=log2, n_estimators=5;, score=0.643 total time=   0.0s\n",
      "[CV 3/5] END criterion=entropy, max_depth=5, max_features=log2, n_estimators=5;, score=0.614 total time=   0.0s\n",
      "[CV 4/5] END criterion=entropy, max_depth=5, max_features=log2, n_estimators=5;, score=0.600 total time=   0.0s\n",
      "[CV 5/5] END criterion=entropy, max_depth=5, max_features=log2, n_estimators=5;, score=0.600 total time=   0.0s\n"
     ]
    },
    {
     "name": "stdout",
     "output_type": "stream",
     "text": [
      "[CV 1/5] END criterion=entropy, max_depth=5, max_features=log2, n_estimators=6;, score=0.600 total time=   0.0s\n",
      "[CV 2/5] END criterion=entropy, max_depth=5, max_features=log2, n_estimators=6;, score=0.629 total time=   0.0s\n",
      "[CV 3/5] END criterion=entropy, max_depth=5, max_features=log2, n_estimators=6;, score=0.571 total time=   0.0s\n",
      "[CV 4/5] END criterion=entropy, max_depth=5, max_features=log2, n_estimators=6;, score=0.586 total time=   0.0s\n",
      "[CV 5/5] END criterion=entropy, max_depth=5, max_features=log2, n_estimators=6;, score=0.629 total time=   0.0s\n",
      "[CV 1/5] END criterion=entropy, max_depth=5, max_features=log2, n_estimators=7;, score=0.571 total time=   0.0s\n",
      "[CV 2/5] END criterion=entropy, max_depth=5, max_features=log2, n_estimators=7;, score=0.629 total time=   0.0s\n",
      "[CV 3/5] END criterion=entropy, max_depth=5, max_features=log2, n_estimators=7;, score=0.614 total time=   0.0s\n",
      "[CV 4/5] END criterion=entropy, max_depth=5, max_features=log2, n_estimators=7;, score=0.614 total time=   0.0s\n",
      "[CV 5/5] END criterion=entropy, max_depth=5, max_features=log2, n_estimators=7;, score=0.614 total time=   0.0s\n",
      "[CV 1/5] END criterion=entropy, max_depth=5, max_features=log2, n_estimators=8;, score=0.614 total time=   0.0s\n",
      "[CV 2/5] END criterion=entropy, max_depth=5, max_features=log2, n_estimators=8;, score=0.586 total time=   0.0s\n",
      "[CV 3/5] END criterion=entropy, max_depth=5, max_features=log2, n_estimators=8;, score=0.614 total time=   0.0s\n",
      "[CV 4/5] END criterion=entropy, max_depth=5, max_features=log2, n_estimators=8;, score=0.629 total time=   0.0s\n",
      "[CV 5/5] END criterion=entropy, max_depth=5, max_features=log2, n_estimators=8;, score=0.614 total time=   0.0s\n",
      "[CV 1/5] END criterion=entropy, max_depth=5, max_features=log2, n_estimators=9;, score=0.571 total time=   0.0s\n",
      "[CV 2/5] END criterion=entropy, max_depth=5, max_features=log2, n_estimators=9;, score=0.614 total time=   0.0s\n",
      "[CV 3/5] END criterion=entropy, max_depth=5, max_features=log2, n_estimators=9;, score=0.629 total time=   0.0s\n",
      "[CV 4/5] END criterion=entropy, max_depth=5, max_features=log2, n_estimators=9;, score=0.600 total time=   0.0s\n",
      "[CV 5/5] END criterion=entropy, max_depth=5, max_features=log2, n_estimators=9;, score=0.657 total time=   0.0s\n"
     ]
    },
    {
     "data": {
      "text/plain": [
       "GridSearchCV(estimator=ExtraTreesClassifier(),\n",
       "             param_grid={'criterion': ['gini', 'entropy'],\n",
       "                         'max_depth': [2, 3, 4, 5],\n",
       "                         'max_features': ['auto', 'sqrt', 'log2'],\n",
       "                         'n_estimators': [5, 6, 7, 8, 9]},\n",
       "             verbose=3)"
      ]
     },
     "execution_count": 42,
     "metadata": {},
     "output_type": "execute_result"
    }
   ],
   "source": [
    "grid.fit(x_train,y_train)"
   ]
  },
  {
   "cell_type": "code",
   "execution_count": 43,
   "metadata": {},
   "outputs": [
    {
     "data": {
      "text/plain": [
       "{'criterion': 'gini',\n",
       " 'max_depth': 5,\n",
       " 'max_features': 'sqrt',\n",
       " 'n_estimators': 9}"
      ]
     },
     "execution_count": 43,
     "metadata": {},
     "output_type": "execute_result"
    }
   ],
   "source": [
    "grid.best_params_"
   ]
  },
  {
   "cell_type": "code",
   "execution_count": 44,
   "metadata": {},
   "outputs": [],
   "source": [
    "y_pred1=grid.predict(x_test)"
   ]
  },
  {
   "cell_type": "code",
   "execution_count": 45,
   "metadata": {},
   "outputs": [
    {
     "data": {
      "text/plain": [
       "0.5"
      ]
     },
     "execution_count": 45,
     "metadata": {},
     "output_type": "execute_result"
    }
   ],
   "source": [
    "accuracy_score(y_test, y_pred1)"
   ]
  },
  {
   "cell_type": "markdown",
   "metadata": {},
   "source": [
    "## Convolutional Neural Networks"
   ]
  },
  {
   "cell_type": "code",
   "execution_count": 46,
   "metadata": {},
   "outputs": [
    {
     "name": "stdout",
     "output_type": "stream",
     "text": [
      "WARNING:tensorflow:From C:\\Users\\user\\anaconda3\\lib\\site-packages\\tensorflow\\python\\ops\\init_ops.py:1251: calling VarianceScaling.__init__ (from tensorflow.python.ops.init_ops) with dtype is deprecated and will be removed in a future version.\n",
      "Instructions for updating:\n",
      "Call initializer instance with the dtype argument instead of passing it to the constructor\n"
     ]
    }
   ],
   "source": [
    "model = Sequential([\n",
    "    Dense(10, activation='relu', input_shape=(10,)),\n",
    "    Dropout(0.25),\n",
    "    Dense(7, activation='relu'),\n",
    "    Dropout(0.25),\n",
    "    Dense(1, activation='sigmoid')])"
   ]
  },
  {
   "cell_type": "code",
   "execution_count": 47,
   "metadata": {},
   "outputs": [
    {
     "name": "stdout",
     "output_type": "stream",
     "text": [
      "WARNING:tensorflow:From C:\\Users\\user\\anaconda3\\lib\\site-packages\\tensorflow\\python\\ops\\nn_impl.py:180: add_dispatch_support.<locals>.wrapper (from tensorflow.python.ops.array_ops) is deprecated and will be removed in a future version.\n",
      "Instructions for updating:\n",
      "Use tf.where in 2.0, which has the same broadcast rule as np.where\n"
     ]
    }
   ],
   "source": [
    "model.compile(loss='binary_crossentropy',\n",
    "              optimizer='adam',\n",
    "              metrics=['accuracy'])"
   ]
  },
  {
   "cell_type": "code",
   "execution_count": 48,
   "metadata": {},
   "outputs": [
    {
     "data": {
      "text/plain": [
       "(350,)"
      ]
     },
     "execution_count": 48,
     "metadata": {},
     "output_type": "execute_result"
    }
   ],
   "source": [
    "y_train.shape"
   ]
  },
  {
   "cell_type": "code",
   "execution_count": 49,
   "metadata": {},
   "outputs": [
    {
     "name": "stdout",
     "output_type": "stream",
     "text": [
      "Train on 350 samples, validate on 150 samples\n",
      "Epoch 1/45\n",
      "350/350 - 0s - loss: 0.0962 - acc: 0.3029 - val_loss: 0.1484 - val_acc: 0.3200\n",
      "Epoch 2/45\n",
      "350/350 - 0s - loss: -9.3292e-04 - acc: 0.3000 - val_loss: 0.0663 - val_acc: 0.3200\n",
      "Epoch 3/45\n",
      "350/350 - 0s - loss: -8.9458e-02 - acc: 0.3029 - val_loss: -2.2224e-02 - val_acc: 0.3200\n",
      "Epoch 4/45\n",
      "350/350 - 0s - loss: -1.9872e-01 - acc: 0.3029 - val_loss: -1.1535e-01 - val_acc: 0.3200\n",
      "Epoch 5/45\n",
      "350/350 - 0s - loss: -2.9316e-01 - acc: 0.3029 - val_loss: -2.1390e-01 - val_acc: 0.3200\n",
      "Epoch 6/45\n",
      "350/350 - 0s - loss: -4.0445e-01 - acc: 0.3029 - val_loss: -3.1860e-01 - val_acc: 0.3200\n",
      "Epoch 7/45\n",
      "350/350 - 0s - loss: -5.4001e-01 - acc: 0.3029 - val_loss: -4.2928e-01 - val_acc: 0.3200\n",
      "Epoch 8/45\n",
      "350/350 - 0s - loss: -7.2690e-01 - acc: 0.3029 - val_loss: -5.5021e-01 - val_acc: 0.3200\n",
      "Epoch 9/45\n",
      "350/350 - 0s - loss: -7.9154e-01 - acc: 0.3029 - val_loss: -6.7773e-01 - val_acc: 0.3200\n",
      "Epoch 10/45\n",
      "350/350 - 0s - loss: -9.7950e-01 - acc: 0.3029 - val_loss: -8.1348e-01 - val_acc: 0.3200\n",
      "Epoch 11/45\n",
      "350/350 - 0s - loss: -1.1465e+00 - acc: 0.3029 - val_loss: -9.6046e-01 - val_acc: 0.3200\n",
      "Epoch 12/45\n",
      "350/350 - 0s - loss: -1.2394e+00 - acc: 0.3029 - val_loss: -1.1188e+00 - val_acc: 0.3200\n",
      "Epoch 13/45\n",
      "350/350 - 0s - loss: -1.5039e+00 - acc: 0.3029 - val_loss: -1.2898e+00 - val_acc: 0.3200\n",
      "Epoch 14/45\n",
      "350/350 - 0s - loss: -1.7140e+00 - acc: 0.3029 - val_loss: -1.4741e+00 - val_acc: 0.3200\n",
      "Epoch 15/45\n",
      "350/350 - 0s - loss: -2.0045e+00 - acc: 0.3029 - val_loss: -1.6845e+00 - val_acc: 0.3200\n",
      "Epoch 16/45\n",
      "350/350 - 0s - loss: -2.2389e+00 - acc: 0.3029 - val_loss: -1.9060e+00 - val_acc: 0.3200\n",
      "Epoch 17/45\n",
      "350/350 - 0s - loss: -2.5010e+00 - acc: 0.3029 - val_loss: -2.1495e+00 - val_acc: 0.3200\n",
      "Epoch 18/45\n",
      "350/350 - 0s - loss: -2.7710e+00 - acc: 0.3029 - val_loss: -2.4258e+00 - val_acc: 0.3200\n",
      "Epoch 19/45\n",
      "350/350 - 0s - loss: -3.3575e+00 - acc: 0.3029 - val_loss: -2.7235e+00 - val_acc: 0.3200\n",
      "Epoch 20/45\n",
      "350/350 - 0s - loss: -3.7666e+00 - acc: 0.3029 - val_loss: -3.0544e+00 - val_acc: 0.3200\n",
      "Epoch 21/45\n",
      "350/350 - 0s - loss: -4.0272e+00 - acc: 0.3029 - val_loss: -3.4250e+00 - val_acc: 0.3200\n",
      "Epoch 22/45\n",
      "350/350 - 0s - loss: -4.4078e+00 - acc: 0.3029 - val_loss: -3.8317e+00 - val_acc: 0.3200\n",
      "Epoch 23/45\n",
      "350/350 - 0s - loss: -5.0468e+00 - acc: 0.3029 - val_loss: -4.2758e+00 - val_acc: 0.3200\n",
      "Epoch 24/45\n",
      "350/350 - 0s - loss: -5.4875e+00 - acc: 0.3029 - val_loss: -4.7638e+00 - val_acc: 0.3200\n",
      "Epoch 25/45\n",
      "350/350 - 0s - loss: -6.3696e+00 - acc: 0.3029 - val_loss: -5.2932e+00 - val_acc: 0.3200\n",
      "Epoch 26/45\n",
      "350/350 - 0s - loss: -7.0223e+00 - acc: 0.3029 - val_loss: -5.8797e+00 - val_acc: 0.3200\n",
      "Epoch 27/45\n",
      "350/350 - 0s - loss: -7.3689e+00 - acc: 0.3029 - val_loss: -6.5019e+00 - val_acc: 0.3200\n",
      "Epoch 28/45\n",
      "350/350 - 0s - loss: -8.1182e+00 - acc: 0.3029 - val_loss: -7.1607e+00 - val_acc: 0.3200\n",
      "Epoch 29/45\n",
      "350/350 - 0s - loss: -9.4918e+00 - acc: 0.3029 - val_loss: -7.8935e+00 - val_acc: 0.3200\n",
      "Epoch 30/45\n",
      "350/350 - 0s - loss: -9.9959e+00 - acc: 0.3029 - val_loss: -8.6538e+00 - val_acc: 0.3200\n",
      "Epoch 31/45\n",
      "350/350 - 0s - loss: -1.1297e+01 - acc: 0.3029 - val_loss: -9.5019e+00 - val_acc: 0.3200\n",
      "Epoch 32/45\n",
      "350/350 - 0s - loss: -1.2048e+01 - acc: 0.3029 - val_loss: -1.0437e+01 - val_acc: 0.3200\n",
      "Epoch 33/45\n",
      "350/350 - 0s - loss: -1.3498e+01 - acc: 0.3029 - val_loss: -1.1400e+01 - val_acc: 0.3200\n",
      "Epoch 34/45\n",
      "350/350 - 0s - loss: -1.4666e+01 - acc: 0.3029 - val_loss: -1.2448e+01 - val_acc: 0.3200\n",
      "Epoch 35/45\n",
      "350/350 - 0s - loss: -1.5309e+01 - acc: 0.3029 - val_loss: -1.3541e+01 - val_acc: 0.3200\n",
      "Epoch 36/45\n",
      "350/350 - 0s - loss: -1.7627e+01 - acc: 0.3029 - val_loss: -1.4760e+01 - val_acc: 0.3200\n",
      "Epoch 37/45\n",
      "350/350 - 0s - loss: -1.8877e+01 - acc: 0.3029 - val_loss: -1.6048e+01 - val_acc: 0.3200\n",
      "Epoch 38/45\n",
      "350/350 - 0s - loss: -2.0343e+01 - acc: 0.3029 - val_loss: -1.7399e+01 - val_acc: 0.3200\n",
      "Epoch 39/45\n",
      "350/350 - 0s - loss: -2.1884e+01 - acc: 0.3029 - val_loss: -1.8838e+01 - val_acc: 0.3200\n",
      "Epoch 40/45\n",
      "350/350 - 0s - loss: -2.3796e+01 - acc: 0.3029 - val_loss: -2.0327e+01 - val_acc: 0.3200\n",
      "Epoch 41/45\n",
      "350/350 - 0s - loss: -2.5416e+01 - acc: 0.3029 - val_loss: -2.1917e+01 - val_acc: 0.3200\n",
      "Epoch 42/45\n",
      "350/350 - 0s - loss: -2.7672e+01 - acc: 0.3029 - val_loss: -2.3591e+01 - val_acc: 0.3200\n",
      "Epoch 43/45\n",
      "350/350 - 0s - loss: -2.8855e+01 - acc: 0.3029 - val_loss: -2.5356e+01 - val_acc: 0.3200\n",
      "Epoch 44/45\n",
      "350/350 - 0s - loss: -3.1948e+01 - acc: 0.3029 - val_loss: -2.7223e+01 - val_acc: 0.3200\n",
      "Epoch 45/45\n",
      "350/350 - 0s - loss: -3.5373e+01 - acc: 0.3029 - val_loss: -2.9179e+01 - val_acc: 0.3200\n"
     ]
    }
   ],
   "source": [
    "history = model.fit(x_train, y_train,\n",
    "                    batch_size=32,\n",
    "                    epochs=45,\n",
    "                    verbose=2,\n",
    "                    validation_data=(x_test, y_test))"
   ]
  },
  {
   "cell_type": "code",
   "execution_count": 50,
   "metadata": {},
   "outputs": [],
   "source": [
    "ypred=model.predict(x_test)"
   ]
  },
  {
   "cell_type": "code",
   "execution_count": 51,
   "metadata": {},
   "outputs": [
    {
     "data": {
      "text/plain": [
       "[-29.17937708536784, 0.32]"
      ]
     },
     "execution_count": 51,
     "metadata": {},
     "output_type": "execute_result"
    }
   ],
   "source": [
    "model.evaluate(x_test, y_test, verbose=0)"
   ]
  },
  {
   "cell_type": "markdown",
   "metadata": {},
   "source": [
    "## Multi Layer Perceptron"
   ]
  },
  {
   "cell_type": "markdown",
   "metadata": {},
   "source": [
    "### Model 1"
   ]
  },
  {
   "cell_type": "code",
   "execution_count": 52,
   "metadata": {},
   "outputs": [
    {
     "data": {
      "text/plain": [
       "MLPClassifier(max_iter=500)"
      ]
     },
     "execution_count": 52,
     "metadata": {},
     "output_type": "execute_result"
    }
   ],
   "source": [
    "mlp=MLPClassifier(max_iter=500,activation='relu')\n",
    "mlp"
   ]
  },
  {
   "cell_type": "code",
   "execution_count": 53,
   "metadata": {},
   "outputs": [
    {
     "name": "stderr",
     "output_type": "stream",
     "text": [
      "C:\\Users\\user\\anaconda3\\lib\\site-packages\\sklearn\\neural_network\\_multilayer_perceptron.py:617: ConvergenceWarning: Stochastic Optimizer: Maximum iterations (500) reached and the optimization hasn't converged yet.\n",
      "  % self.max_iter, ConvergenceWarning)\n"
     ]
    },
    {
     "data": {
      "text/plain": [
       "MLPClassifier(max_iter=500)"
      ]
     },
     "execution_count": 53,
     "metadata": {},
     "output_type": "execute_result"
    }
   ],
   "source": [
    "mlp.fit(x_train,y_train)"
   ]
  },
  {
   "cell_type": "code",
   "execution_count": 54,
   "metadata": {},
   "outputs": [],
   "source": [
    "prediction=mlp.predict(x_test)"
   ]
  },
  {
   "cell_type": "code",
   "execution_count": 55,
   "metadata": {},
   "outputs": [
    {
     "data": {
      "text/plain": [
       "0.62"
      ]
     },
     "execution_count": 55,
     "metadata": {},
     "output_type": "execute_result"
    }
   ],
   "source": [
    "accuracy_score(prediction,y_test)"
   ]
  },
  {
   "cell_type": "markdown",
   "metadata": {},
   "source": [
    "### Model 2"
   ]
  },
  {
   "cell_type": "code",
   "execution_count": 56,
   "metadata": {},
   "outputs": [],
   "source": [
    "param_grid={'activation':['identity', 'logistic', 'tanh', 'relu'],'max_iter':[300,400,500,600],'solver':['lbfgs', 'sgd', 'adam']}"
   ]
  },
  {
   "cell_type": "code",
   "execution_count": 57,
   "metadata": {},
   "outputs": [],
   "source": [
    "grid = GridSearchCV(MLPClassifier(),param_grid,refit=True,verbose=3)"
   ]
  },
  {
   "cell_type": "code",
   "execution_count": 58,
   "metadata": {},
   "outputs": [
    {
     "name": "stderr",
     "output_type": "stream",
     "text": [
      "C:\\Users\\user\\anaconda3\\lib\\site-packages\\sklearn\\model_selection\\_split.py:668: UserWarning: The least populated class in y has only 2 members, which is less than n_splits=5.\n",
      "  % (min_groups, self.n_splits)), UserWarning)\n"
     ]
    },
    {
     "name": "stdout",
     "output_type": "stream",
     "text": [
      "Fitting 5 folds for each of 48 candidates, totalling 240 fits\n",
      "[CV 1/5] END activation=identity, max_iter=300, solver=lbfgs;, score=0.614 total time=   0.0s\n",
      "[CV 2/5] END activation=identity, max_iter=300, solver=lbfgs;, score=0.586 total time=   0.0s\n",
      "[CV 3/5] END activation=identity, max_iter=300, solver=lbfgs;, score=0.586 total time=   0.0s\n",
      "[CV 4/5] END activation=identity, max_iter=300, solver=lbfgs;, score=0.614 total time=   0.0s\n",
      "[CV 5/5] END activation=identity, max_iter=300, solver=lbfgs;, score=0.614 total time=   0.0s\n"
     ]
    },
    {
     "name": "stderr",
     "output_type": "stream",
     "text": [
      "C:\\Users\\user\\anaconda3\\lib\\site-packages\\sklearn\\neural_network\\_multilayer_perceptron.py:617: ConvergenceWarning: Stochastic Optimizer: Maximum iterations (300) reached and the optimization hasn't converged yet.\n",
      "  % self.max_iter, ConvergenceWarning)\n"
     ]
    },
    {
     "name": "stdout",
     "output_type": "stream",
     "text": [
      "[CV 1/5] END activation=identity, max_iter=300, solver=sgd;, score=0.600 total time=   0.4s\n"
     ]
    },
    {
     "name": "stderr",
     "output_type": "stream",
     "text": [
      "C:\\Users\\user\\anaconda3\\lib\\site-packages\\sklearn\\neural_network\\_multilayer_perceptron.py:617: ConvergenceWarning: Stochastic Optimizer: Maximum iterations (300) reached and the optimization hasn't converged yet.\n",
      "  % self.max_iter, ConvergenceWarning)\n"
     ]
    },
    {
     "name": "stdout",
     "output_type": "stream",
     "text": [
      "[CV 2/5] END activation=identity, max_iter=300, solver=sgd;, score=0.571 total time=   0.4s\n"
     ]
    },
    {
     "name": "stderr",
     "output_type": "stream",
     "text": [
      "C:\\Users\\user\\anaconda3\\lib\\site-packages\\sklearn\\neural_network\\_multilayer_perceptron.py:617: ConvergenceWarning: Stochastic Optimizer: Maximum iterations (300) reached and the optimization hasn't converged yet.\n",
      "  % self.max_iter, ConvergenceWarning)\n"
     ]
    },
    {
     "name": "stdout",
     "output_type": "stream",
     "text": [
      "[CV 3/5] END activation=identity, max_iter=300, solver=sgd;, score=0.629 total time=   0.4s\n"
     ]
    },
    {
     "name": "stderr",
     "output_type": "stream",
     "text": [
      "C:\\Users\\user\\anaconda3\\lib\\site-packages\\sklearn\\neural_network\\_multilayer_perceptron.py:617: ConvergenceWarning: Stochastic Optimizer: Maximum iterations (300) reached and the optimization hasn't converged yet.\n",
      "  % self.max_iter, ConvergenceWarning)\n"
     ]
    },
    {
     "name": "stdout",
     "output_type": "stream",
     "text": [
      "[CV 4/5] END activation=identity, max_iter=300, solver=sgd;, score=0.643 total time=   0.4s\n"
     ]
    },
    {
     "name": "stderr",
     "output_type": "stream",
     "text": [
      "C:\\Users\\user\\anaconda3\\lib\\site-packages\\sklearn\\neural_network\\_multilayer_perceptron.py:617: ConvergenceWarning: Stochastic Optimizer: Maximum iterations (300) reached and the optimization hasn't converged yet.\n",
      "  % self.max_iter, ConvergenceWarning)\n"
     ]
    },
    {
     "name": "stdout",
     "output_type": "stream",
     "text": [
      "[CV 5/5] END activation=identity, max_iter=300, solver=sgd;, score=0.600 total time=   0.4s\n",
      "[CV 1/5] END activation=identity, max_iter=300, solver=adam;, score=0.600 total time=   0.5s\n",
      "[CV 2/5] END activation=identity, max_iter=300, solver=adam;, score=0.586 total time=   0.5s\n",
      "[CV 3/5] END activation=identity, max_iter=300, solver=adam;, score=0.614 total time=   0.3s\n",
      "[CV 4/5] END activation=identity, max_iter=300, solver=adam;, score=0.629 total time=   0.5s\n",
      "[CV 5/5] END activation=identity, max_iter=300, solver=adam;, score=0.614 total time=   0.4s\n",
      "[CV 1/5] END activation=identity, max_iter=400, solver=lbfgs;, score=0.614 total time=   0.0s\n",
      "[CV 2/5] END activation=identity, max_iter=400, solver=lbfgs;, score=0.586 total time=   0.0s\n",
      "[CV 3/5] END activation=identity, max_iter=400, solver=lbfgs;, score=0.600 total time=   0.0s\n",
      "[CV 4/5] END activation=identity, max_iter=400, solver=lbfgs;, score=0.614 total time=   0.0s\n",
      "[CV 5/5] END activation=identity, max_iter=400, solver=lbfgs;, score=0.614 total time=   0.0s\n"
     ]
    },
    {
     "name": "stderr",
     "output_type": "stream",
     "text": [
      "C:\\Users\\user\\anaconda3\\lib\\site-packages\\sklearn\\neural_network\\_multilayer_perceptron.py:617: ConvergenceWarning: Stochastic Optimizer: Maximum iterations (400) reached and the optimization hasn't converged yet.\n",
      "  % self.max_iter, ConvergenceWarning)\n"
     ]
    },
    {
     "name": "stdout",
     "output_type": "stream",
     "text": [
      "[CV 1/5] END activation=identity, max_iter=400, solver=sgd;, score=0.600 total time=   0.6s\n"
     ]
    },
    {
     "name": "stderr",
     "output_type": "stream",
     "text": [
      "C:\\Users\\user\\anaconda3\\lib\\site-packages\\sklearn\\neural_network\\_multilayer_perceptron.py:617: ConvergenceWarning: Stochastic Optimizer: Maximum iterations (400) reached and the optimization hasn't converged yet.\n",
      "  % self.max_iter, ConvergenceWarning)\n"
     ]
    },
    {
     "name": "stdout",
     "output_type": "stream",
     "text": [
      "[CV 2/5] END activation=identity, max_iter=400, solver=sgd;, score=0.571 total time=   0.6s\n"
     ]
    },
    {
     "name": "stderr",
     "output_type": "stream",
     "text": [
      "C:\\Users\\user\\anaconda3\\lib\\site-packages\\sklearn\\neural_network\\_multilayer_perceptron.py:617: ConvergenceWarning: Stochastic Optimizer: Maximum iterations (400) reached and the optimization hasn't converged yet.\n",
      "  % self.max_iter, ConvergenceWarning)\n"
     ]
    },
    {
     "name": "stdout",
     "output_type": "stream",
     "text": [
      "[CV 3/5] END activation=identity, max_iter=400, solver=sgd;, score=0.629 total time=   0.6s\n"
     ]
    },
    {
     "name": "stderr",
     "output_type": "stream",
     "text": [
      "C:\\Users\\user\\anaconda3\\lib\\site-packages\\sklearn\\neural_network\\_multilayer_perceptron.py:617: ConvergenceWarning: Stochastic Optimizer: Maximum iterations (400) reached and the optimization hasn't converged yet.\n",
      "  % self.max_iter, ConvergenceWarning)\n"
     ]
    },
    {
     "name": "stdout",
     "output_type": "stream",
     "text": [
      "[CV 4/5] END activation=identity, max_iter=400, solver=sgd;, score=0.629 total time=   0.6s\n"
     ]
    },
    {
     "name": "stderr",
     "output_type": "stream",
     "text": [
      "C:\\Users\\user\\anaconda3\\lib\\site-packages\\sklearn\\neural_network\\_multilayer_perceptron.py:617: ConvergenceWarning: Stochastic Optimizer: Maximum iterations (400) reached and the optimization hasn't converged yet.\n",
      "  % self.max_iter, ConvergenceWarning)\n"
     ]
    },
    {
     "name": "stdout",
     "output_type": "stream",
     "text": [
      "[CV 5/5] END activation=identity, max_iter=400, solver=sgd;, score=0.643 total time=   0.6s\n",
      "[CV 1/5] END activation=identity, max_iter=400, solver=adam;, score=0.600 total time=   0.5s\n",
      "[CV 2/5] END activation=identity, max_iter=400, solver=adam;, score=0.586 total time=   0.6s\n",
      "[CV 3/5] END activation=identity, max_iter=400, solver=adam;, score=0.571 total time=   0.4s\n",
      "[CV 4/5] END activation=identity, max_iter=400, solver=adam;, score=0.629 total time=   0.4s\n",
      "[CV 5/5] END activation=identity, max_iter=400, solver=adam;, score=0.629 total time=   0.5s\n",
      "[CV 1/5] END activation=identity, max_iter=500, solver=lbfgs;, score=0.600 total time=   0.0s\n",
      "[CV 2/5] END activation=identity, max_iter=500, solver=lbfgs;, score=0.586 total time=   0.0s\n",
      "[CV 3/5] END activation=identity, max_iter=500, solver=lbfgs;, score=0.586 total time=   0.0s\n",
      "[CV 4/5] END activation=identity, max_iter=500, solver=lbfgs;, score=0.614 total time=   0.0s\n",
      "[CV 5/5] END activation=identity, max_iter=500, solver=lbfgs;, score=0.614 total time=   0.0s\n",
      "[CV 1/5] END activation=identity, max_iter=500, solver=sgd;, score=0.614 total time=   0.7s\n"
     ]
    },
    {
     "name": "stderr",
     "output_type": "stream",
     "text": [
      "C:\\Users\\user\\anaconda3\\lib\\site-packages\\sklearn\\neural_network\\_multilayer_perceptron.py:617: ConvergenceWarning: Stochastic Optimizer: Maximum iterations (500) reached and the optimization hasn't converged yet.\n",
      "  % self.max_iter, ConvergenceWarning)\n"
     ]
    },
    {
     "name": "stdout",
     "output_type": "stream",
     "text": [
      "[CV 2/5] END activation=identity, max_iter=500, solver=sgd;, score=0.571 total time=   0.8s\n",
      "[CV 3/5] END activation=identity, max_iter=500, solver=sgd;, score=0.629 total time=   0.7s\n",
      "[CV 4/5] END activation=identity, max_iter=500, solver=sgd;, score=0.629 total time=   0.8s\n",
      "[CV 5/5] END activation=identity, max_iter=500, solver=sgd;, score=0.629 total time=   0.6s\n",
      "[CV 1/5] END activation=identity, max_iter=500, solver=adam;, score=0.600 total time=   0.4s\n",
      "[CV 2/5] END activation=identity, max_iter=500, solver=adam;, score=0.586 total time=   0.5s\n",
      "[CV 3/5] END activation=identity, max_iter=500, solver=adam;, score=0.586 total time=   0.4s\n",
      "[CV 4/5] END activation=identity, max_iter=500, solver=adam;, score=0.629 total time=   0.4s\n",
      "[CV 5/5] END activation=identity, max_iter=500, solver=adam;, score=0.600 total time=   0.4s\n",
      "[CV 1/5] END activation=identity, max_iter=600, solver=lbfgs;, score=0.614 total time=   0.0s\n",
      "[CV 2/5] END activation=identity, max_iter=600, solver=lbfgs;, score=0.586 total time=   0.0s\n",
      "[CV 3/5] END activation=identity, max_iter=600, solver=lbfgs;, score=0.586 total time=   0.0s\n",
      "[CV 4/5] END activation=identity, max_iter=600, solver=lbfgs;, score=0.614 total time=   0.0s\n",
      "[CV 5/5] END activation=identity, max_iter=600, solver=lbfgs;, score=0.614 total time=   0.0s\n",
      "[CV 1/5] END activation=identity, max_iter=600, solver=sgd;, score=0.614 total time=   1.0s\n",
      "[CV 2/5] END activation=identity, max_iter=600, solver=sgd;, score=0.571 total time=   1.0s\n",
      "[CV 3/5] END activation=identity, max_iter=600, solver=sgd;, score=0.614 total time=   1.0s\n",
      "[CV 4/5] END activation=identity, max_iter=600, solver=sgd;, score=0.643 total time=   0.9s\n",
      "[CV 5/5] END activation=identity, max_iter=600, solver=sgd;, score=0.629 total time=   1.0s\n",
      "[CV 1/5] END activation=identity, max_iter=600, solver=adam;, score=0.614 total time=   0.5s\n",
      "[CV 2/5] END activation=identity, max_iter=600, solver=adam;, score=0.600 total time=   0.4s\n",
      "[CV 3/5] END activation=identity, max_iter=600, solver=adam;, score=0.586 total time=   0.5s\n",
      "[CV 4/5] END activation=identity, max_iter=600, solver=adam;, score=0.614 total time=   0.5s\n",
      "[CV 5/5] END activation=identity, max_iter=600, solver=adam;, score=0.586 total time=   0.5s\n",
      "[CV 1/5] END activation=logistic, max_iter=300, solver=lbfgs;, score=0.586 total time=   0.2s\n",
      "[CV 2/5] END activation=logistic, max_iter=300, solver=lbfgs;, score=0.600 total time=   0.2s\n",
      "[CV 3/5] END activation=logistic, max_iter=300, solver=lbfgs;, score=0.529 total time=   0.2s\n",
      "[CV 4/5] END activation=logistic, max_iter=300, solver=lbfgs;, score=0.514 total time=   0.3s\n",
      "[CV 5/5] END activation=logistic, max_iter=300, solver=lbfgs;, score=0.614 total time=   0.2s\n",
      "[CV 1/5] END activation=logistic, max_iter=300, solver=sgd;, score=0.600 total time=   0.5s\n",
      "[CV 2/5] END activation=logistic, max_iter=300, solver=sgd;, score=0.614 total time=   0.4s\n",
      "[CV 3/5] END activation=logistic, max_iter=300, solver=sgd;, score=0.614 total time=   0.3s\n",
      "[CV 4/5] END activation=logistic, max_iter=300, solver=sgd;, score=0.614 total time=   0.4s\n",
      "[CV 5/5] END activation=logistic, max_iter=300, solver=sgd;, score=0.614 total time=   0.6s\n"
     ]
    },
    {
     "name": "stderr",
     "output_type": "stream",
     "text": [
      "C:\\Users\\user\\anaconda3\\lib\\site-packages\\sklearn\\neural_network\\_multilayer_perceptron.py:617: ConvergenceWarning: Stochastic Optimizer: Maximum iterations (300) reached and the optimization hasn't converged yet.\n",
      "  % self.max_iter, ConvergenceWarning)\n"
     ]
    },
    {
     "name": "stdout",
     "output_type": "stream",
     "text": [
      "[CV 1/5] END activation=logistic, max_iter=300, solver=adam;, score=0.600 total time=   1.0s\n"
     ]
    },
    {
     "name": "stderr",
     "output_type": "stream",
     "text": [
      "C:\\Users\\user\\anaconda3\\lib\\site-packages\\sklearn\\neural_network\\_multilayer_perceptron.py:617: ConvergenceWarning: Stochastic Optimizer: Maximum iterations (300) reached and the optimization hasn't converged yet.\n",
      "  % self.max_iter, ConvergenceWarning)\n"
     ]
    },
    {
     "name": "stdout",
     "output_type": "stream",
     "text": [
      "[CV 2/5] END activation=logistic, max_iter=300, solver=adam;, score=0.586 total time=   0.9s\n"
     ]
    },
    {
     "name": "stderr",
     "output_type": "stream",
     "text": [
      "C:\\Users\\user\\anaconda3\\lib\\site-packages\\sklearn\\neural_network\\_multilayer_perceptron.py:617: ConvergenceWarning: Stochastic Optimizer: Maximum iterations (300) reached and the optimization hasn't converged yet.\n",
      "  % self.max_iter, ConvergenceWarning)\n"
     ]
    },
    {
     "name": "stdout",
     "output_type": "stream",
     "text": [
      "[CV 3/5] END activation=logistic, max_iter=300, solver=adam;, score=0.600 total time=   0.9s\n"
     ]
    },
    {
     "name": "stderr",
     "output_type": "stream",
     "text": [
      "C:\\Users\\user\\anaconda3\\lib\\site-packages\\sklearn\\neural_network\\_multilayer_perceptron.py:617: ConvergenceWarning: Stochastic Optimizer: Maximum iterations (300) reached and the optimization hasn't converged yet.\n",
      "  % self.max_iter, ConvergenceWarning)\n"
     ]
    },
    {
     "name": "stdout",
     "output_type": "stream",
     "text": [
      "[CV 4/5] END activation=logistic, max_iter=300, solver=adam;, score=0.614 total time=   1.0s\n"
     ]
    },
    {
     "name": "stderr",
     "output_type": "stream",
     "text": [
      "C:\\Users\\user\\anaconda3\\lib\\site-packages\\sklearn\\neural_network\\_multilayer_perceptron.py:617: ConvergenceWarning: Stochastic Optimizer: Maximum iterations (300) reached and the optimization hasn't converged yet.\n",
      "  % self.max_iter, ConvergenceWarning)\n"
     ]
    },
    {
     "name": "stdout",
     "output_type": "stream",
     "text": [
      "[CV 5/5] END activation=logistic, max_iter=300, solver=adam;, score=0.614 total time=   0.8s\n",
      "[CV 1/5] END activation=logistic, max_iter=400, solver=lbfgs;, score=0.586 total time=   0.1s\n",
      "[CV 2/5] END activation=logistic, max_iter=400, solver=lbfgs;, score=0.571 total time=   0.2s\n",
      "[CV 3/5] END activation=logistic, max_iter=400, solver=lbfgs;, score=0.586 total time=   0.2s\n",
      "[CV 4/5] END activation=logistic, max_iter=400, solver=lbfgs;, score=0.586 total time=   0.2s\n",
      "[CV 5/5] END activation=logistic, max_iter=400, solver=lbfgs;, score=0.643 total time=   0.2s\n",
      "[CV 1/5] END activation=logistic, max_iter=400, solver=sgd;, score=0.600 total time=   0.4s\n",
      "[CV 2/5] END activation=logistic, max_iter=400, solver=sgd;, score=0.614 total time=   0.3s\n",
      "[CV 3/5] END activation=logistic, max_iter=400, solver=sgd;, score=0.614 total time=   0.3s\n",
      "[CV 4/5] END activation=logistic, max_iter=400, solver=sgd;, score=0.614 total time=   0.3s\n",
      "[CV 5/5] END activation=logistic, max_iter=400, solver=sgd;, score=0.614 total time=   0.4s\n"
     ]
    },
    {
     "name": "stderr",
     "output_type": "stream",
     "text": [
      "C:\\Users\\user\\anaconda3\\lib\\site-packages\\sklearn\\neural_network\\_multilayer_perceptron.py:617: ConvergenceWarning: Stochastic Optimizer: Maximum iterations (400) reached and the optimization hasn't converged yet.\n",
      "  % self.max_iter, ConvergenceWarning)\n"
     ]
    },
    {
     "name": "stdout",
     "output_type": "stream",
     "text": [
      "[CV 1/5] END activation=logistic, max_iter=400, solver=adam;, score=0.600 total time=   1.0s\n"
     ]
    },
    {
     "name": "stderr",
     "output_type": "stream",
     "text": [
      "C:\\Users\\user\\anaconda3\\lib\\site-packages\\sklearn\\neural_network\\_multilayer_perceptron.py:617: ConvergenceWarning: Stochastic Optimizer: Maximum iterations (400) reached and the optimization hasn't converged yet.\n",
      "  % self.max_iter, ConvergenceWarning)\n"
     ]
    },
    {
     "name": "stdout",
     "output_type": "stream",
     "text": [
      "[CV 2/5] END activation=logistic, max_iter=400, solver=adam;, score=0.586 total time=   1.0s\n",
      "[CV 3/5] END activation=logistic, max_iter=400, solver=adam;, score=0.586 total time=   0.8s\n"
     ]
    },
    {
     "name": "stderr",
     "output_type": "stream",
     "text": [
      "C:\\Users\\user\\anaconda3\\lib\\site-packages\\sklearn\\neural_network\\_multilayer_perceptron.py:617: ConvergenceWarning: Stochastic Optimizer: Maximum iterations (400) reached and the optimization hasn't converged yet.\n",
      "  % self.max_iter, ConvergenceWarning)\n"
     ]
    },
    {
     "name": "stdout",
     "output_type": "stream",
     "text": [
      "[CV 4/5] END activation=logistic, max_iter=400, solver=adam;, score=0.614 total time=   1.0s\n",
      "[CV 5/5] END activation=logistic, max_iter=400, solver=adam;, score=0.614 total time=   0.8s\n",
      "[CV 1/5] END activation=logistic, max_iter=500, solver=lbfgs;, score=0.557 total time=   0.2s\n",
      "[CV 2/5] END activation=logistic, max_iter=500, solver=lbfgs;, score=0.557 total time=   0.1s\n",
      "[CV 3/5] END activation=logistic, max_iter=500, solver=lbfgs;, score=0.529 total time=   0.2s\n",
      "[CV 4/5] END activation=logistic, max_iter=500, solver=lbfgs;, score=0.557 total time=   0.1s\n",
      "[CV 5/5] END activation=logistic, max_iter=500, solver=lbfgs;, score=0.600 total time=   0.2s\n",
      "[CV 1/5] END activation=logistic, max_iter=500, solver=sgd;, score=0.600 total time=   0.2s\n",
      "[CV 2/5] END activation=logistic, max_iter=500, solver=sgd;, score=0.614 total time=   0.3s\n",
      "[CV 3/5] END activation=logistic, max_iter=500, solver=sgd;, score=0.614 total time=   0.2s\n",
      "[CV 4/5] END activation=logistic, max_iter=500, solver=sgd;, score=0.614 total time=   0.3s\n",
      "[CV 5/5] END activation=logistic, max_iter=500, solver=sgd;, score=0.614 total time=   0.4s\n",
      "[CV 1/5] END activation=logistic, max_iter=500, solver=adam;, score=0.600 total time=   1.0s\n"
     ]
    },
    {
     "name": "stderr",
     "output_type": "stream",
     "text": [
      "C:\\Users\\user\\anaconda3\\lib\\site-packages\\sklearn\\neural_network\\_multilayer_perceptron.py:617: ConvergenceWarning: Stochastic Optimizer: Maximum iterations (500) reached and the optimization hasn't converged yet.\n",
      "  % self.max_iter, ConvergenceWarning)\n"
     ]
    },
    {
     "name": "stdout",
     "output_type": "stream",
     "text": [
      "[CV 2/5] END activation=logistic, max_iter=500, solver=adam;, score=0.586 total time=   1.3s\n"
     ]
    },
    {
     "name": "stderr",
     "output_type": "stream",
     "text": [
      "C:\\Users\\user\\anaconda3\\lib\\site-packages\\sklearn\\neural_network\\_multilayer_perceptron.py:617: ConvergenceWarning: Stochastic Optimizer: Maximum iterations (500) reached and the optimization hasn't converged yet.\n",
      "  % self.max_iter, ConvergenceWarning)\n"
     ]
    },
    {
     "name": "stdout",
     "output_type": "stream",
     "text": [
      "[CV 3/5] END activation=logistic, max_iter=500, solver=adam;, score=0.586 total time=   1.3s\n",
      "[CV 4/5] END activation=logistic, max_iter=500, solver=adam;, score=0.614 total time=   0.8s\n",
      "[CV 5/5] END activation=logistic, max_iter=500, solver=adam;, score=0.600 total time=   1.1s\n",
      "[CV 1/5] END activation=logistic, max_iter=600, solver=lbfgs;, score=0.614 total time=   0.1s\n",
      "[CV 2/5] END activation=logistic, max_iter=600, solver=lbfgs;, score=0.571 total time=   0.2s\n",
      "[CV 3/5] END activation=logistic, max_iter=600, solver=lbfgs;, score=0.429 total time=   0.1s\n",
      "[CV 4/5] END activation=logistic, max_iter=600, solver=lbfgs;, score=0.429 total time=   0.1s\n",
      "[CV 5/5] END activation=logistic, max_iter=600, solver=lbfgs;, score=0.500 total time=   0.2s\n",
      "[CV 1/5] END activation=logistic, max_iter=600, solver=sgd;, score=0.600 total time=   0.3s\n",
      "[CV 2/5] END activation=logistic, max_iter=600, solver=sgd;, score=0.614 total time=   0.2s\n",
      "[CV 3/5] END activation=logistic, max_iter=600, solver=sgd;, score=0.614 total time=   0.3s\n",
      "[CV 4/5] END activation=logistic, max_iter=600, solver=sgd;, score=0.614 total time=   0.3s\n",
      "[CV 5/5] END activation=logistic, max_iter=600, solver=sgd;, score=0.614 total time=   0.3s\n",
      "[CV 1/5] END activation=logistic, max_iter=600, solver=adam;, score=0.614 total time=   1.1s\n"
     ]
    },
    {
     "name": "stderr",
     "output_type": "stream",
     "text": [
      "C:\\Users\\user\\anaconda3\\lib\\site-packages\\sklearn\\neural_network\\_multilayer_perceptron.py:617: ConvergenceWarning: Stochastic Optimizer: Maximum iterations (600) reached and the optimization hasn't converged yet.\n",
      "  % self.max_iter, ConvergenceWarning)\n"
     ]
    },
    {
     "name": "stdout",
     "output_type": "stream",
     "text": [
      "[CV 2/5] END activation=logistic, max_iter=600, solver=adam;, score=0.600 total time=   1.5s\n",
      "[CV 3/5] END activation=logistic, max_iter=600, solver=adam;, score=0.600 total time=   1.6s\n",
      "[CV 4/5] END activation=logistic, max_iter=600, solver=adam;, score=0.629 total time=   1.0s\n",
      "[CV 5/5] END activation=logistic, max_iter=600, solver=adam;, score=0.629 total time=   0.8s\n",
      "[CV 1/5] END activation=tanh, max_iter=300, solver=lbfgs;, score=0.543 total time=   0.0s\n",
      "[CV 2/5] END activation=tanh, max_iter=300, solver=lbfgs;, score=0.543 total time=   0.0s\n",
      "[CV 3/5] END activation=tanh, max_iter=300, solver=lbfgs;, score=0.543 total time=   0.0s\n",
      "[CV 4/5] END activation=tanh, max_iter=300, solver=lbfgs;, score=0.557 total time=   0.0s\n",
      "[CV 5/5] END activation=tanh, max_iter=300, solver=lbfgs;, score=0.671 total time=   0.0s\n"
     ]
    },
    {
     "name": "stderr",
     "output_type": "stream",
     "text": [
      "C:\\Users\\user\\anaconda3\\lib\\site-packages\\sklearn\\neural_network\\_multilayer_perceptron.py:617: ConvergenceWarning: Stochastic Optimizer: Maximum iterations (300) reached and the optimization hasn't converged yet.\n",
      "  % self.max_iter, ConvergenceWarning)\n"
     ]
    },
    {
     "name": "stdout",
     "output_type": "stream",
     "text": [
      "[CV 1/5] END activation=tanh, max_iter=300, solver=sgd;, score=0.614 total time=   0.7s\n"
     ]
    },
    {
     "name": "stderr",
     "output_type": "stream",
     "text": [
      "C:\\Users\\user\\anaconda3\\lib\\site-packages\\sklearn\\neural_network\\_multilayer_perceptron.py:617: ConvergenceWarning: Stochastic Optimizer: Maximum iterations (300) reached and the optimization hasn't converged yet.\n",
      "  % self.max_iter, ConvergenceWarning)\n"
     ]
    },
    {
     "name": "stdout",
     "output_type": "stream",
     "text": [
      "[CV 2/5] END activation=tanh, max_iter=300, solver=sgd;, score=0.571 total time=   0.7s\n"
     ]
    },
    {
     "name": "stderr",
     "output_type": "stream",
     "text": [
      "C:\\Users\\user\\anaconda3\\lib\\site-packages\\sklearn\\neural_network\\_multilayer_perceptron.py:617: ConvergenceWarning: Stochastic Optimizer: Maximum iterations (300) reached and the optimization hasn't converged yet.\n",
      "  % self.max_iter, ConvergenceWarning)\n"
     ]
    },
    {
     "name": "stdout",
     "output_type": "stream",
     "text": [
      "[CV 3/5] END activation=tanh, max_iter=300, solver=sgd;, score=0.614 total time=   0.7s\n"
     ]
    },
    {
     "name": "stderr",
     "output_type": "stream",
     "text": [
      "C:\\Users\\user\\anaconda3\\lib\\site-packages\\sklearn\\neural_network\\_multilayer_perceptron.py:617: ConvergenceWarning: Stochastic Optimizer: Maximum iterations (300) reached and the optimization hasn't converged yet.\n",
      "  % self.max_iter, ConvergenceWarning)\n"
     ]
    },
    {
     "name": "stdout",
     "output_type": "stream",
     "text": [
      "[CV 4/5] END activation=tanh, max_iter=300, solver=sgd;, score=0.643 total time=   0.7s\n"
     ]
    },
    {
     "name": "stderr",
     "output_type": "stream",
     "text": [
      "C:\\Users\\user\\anaconda3\\lib\\site-packages\\sklearn\\neural_network\\_multilayer_perceptron.py:617: ConvergenceWarning: Stochastic Optimizer: Maximum iterations (300) reached and the optimization hasn't converged yet.\n",
      "  % self.max_iter, ConvergenceWarning)\n"
     ]
    },
    {
     "name": "stdout",
     "output_type": "stream",
     "text": [
      "[CV 5/5] END activation=tanh, max_iter=300, solver=sgd;, score=0.600 total time=   0.6s\n"
     ]
    },
    {
     "name": "stderr",
     "output_type": "stream",
     "text": [
      "C:\\Users\\user\\anaconda3\\lib\\site-packages\\sklearn\\neural_network\\_multilayer_perceptron.py:617: ConvergenceWarning: Stochastic Optimizer: Maximum iterations (300) reached and the optimization hasn't converged yet.\n",
      "  % self.max_iter, ConvergenceWarning)\n"
     ]
    },
    {
     "name": "stdout",
     "output_type": "stream",
     "text": [
      "[CV 1/5] END activation=tanh, max_iter=300, solver=adam;, score=0.614 total time=   0.7s\n"
     ]
    },
    {
     "name": "stderr",
     "output_type": "stream",
     "text": [
      "C:\\Users\\user\\anaconda3\\lib\\site-packages\\sklearn\\neural_network\\_multilayer_perceptron.py:617: ConvergenceWarning: Stochastic Optimizer: Maximum iterations (300) reached and the optimization hasn't converged yet.\n",
      "  % self.max_iter, ConvergenceWarning)\n"
     ]
    },
    {
     "name": "stdout",
     "output_type": "stream",
     "text": [
      "[CV 2/5] END activation=tanh, max_iter=300, solver=adam;, score=0.600 total time=   0.7s\n"
     ]
    },
    {
     "name": "stderr",
     "output_type": "stream",
     "text": [
      "C:\\Users\\user\\anaconda3\\lib\\site-packages\\sklearn\\neural_network\\_multilayer_perceptron.py:617: ConvergenceWarning: Stochastic Optimizer: Maximum iterations (300) reached and the optimization hasn't converged yet.\n",
      "  % self.max_iter, ConvergenceWarning)\n"
     ]
    },
    {
     "name": "stdout",
     "output_type": "stream",
     "text": [
      "[CV 3/5] END activation=tanh, max_iter=300, solver=adam;, score=0.600 total time=   0.8s\n"
     ]
    },
    {
     "name": "stderr",
     "output_type": "stream",
     "text": [
      "C:\\Users\\user\\anaconda3\\lib\\site-packages\\sklearn\\neural_network\\_multilayer_perceptron.py:617: ConvergenceWarning: Stochastic Optimizer: Maximum iterations (300) reached and the optimization hasn't converged yet.\n",
      "  % self.max_iter, ConvergenceWarning)\n"
     ]
    },
    {
     "name": "stdout",
     "output_type": "stream",
     "text": [
      "[CV 4/5] END activation=tanh, max_iter=300, solver=adam;, score=0.629 total time=   0.8s\n"
     ]
    },
    {
     "name": "stderr",
     "output_type": "stream",
     "text": [
      "C:\\Users\\user\\anaconda3\\lib\\site-packages\\sklearn\\neural_network\\_multilayer_perceptron.py:617: ConvergenceWarning: Stochastic Optimizer: Maximum iterations (300) reached and the optimization hasn't converged yet.\n",
      "  % self.max_iter, ConvergenceWarning)\n"
     ]
    },
    {
     "name": "stdout",
     "output_type": "stream",
     "text": [
      "[CV 5/5] END activation=tanh, max_iter=300, solver=adam;, score=0.571 total time=   0.7s\n",
      "[CV 1/5] END activation=tanh, max_iter=400, solver=lbfgs;, score=0.629 total time=   0.0s\n",
      "[CV 2/5] END activation=tanh, max_iter=400, solver=lbfgs;, score=0.571 total time=   0.0s\n",
      "[CV 3/5] END activation=tanh, max_iter=400, solver=lbfgs;, score=0.543 total time=   0.0s\n",
      "[CV 4/5] END activation=tanh, max_iter=400, solver=lbfgs;, score=0.600 total time=   0.0s\n",
      "[CV 5/5] END activation=tanh, max_iter=400, solver=lbfgs;, score=0.629 total time=   0.0s\n"
     ]
    },
    {
     "name": "stderr",
     "output_type": "stream",
     "text": [
      "C:\\Users\\user\\anaconda3\\lib\\site-packages\\sklearn\\neural_network\\_multilayer_perceptron.py:617: ConvergenceWarning: Stochastic Optimizer: Maximum iterations (400) reached and the optimization hasn't converged yet.\n",
      "  % self.max_iter, ConvergenceWarning)\n"
     ]
    },
    {
     "name": "stdout",
     "output_type": "stream",
     "text": [
      "[CV 1/5] END activation=tanh, max_iter=400, solver=sgd;, score=0.614 total time=   0.9s\n"
     ]
    },
    {
     "name": "stderr",
     "output_type": "stream",
     "text": [
      "C:\\Users\\user\\anaconda3\\lib\\site-packages\\sklearn\\neural_network\\_multilayer_perceptron.py:617: ConvergenceWarning: Stochastic Optimizer: Maximum iterations (400) reached and the optimization hasn't converged yet.\n",
      "  % self.max_iter, ConvergenceWarning)\n"
     ]
    },
    {
     "name": "stdout",
     "output_type": "stream",
     "text": [
      "[CV 2/5] END activation=tanh, max_iter=400, solver=sgd;, score=0.571 total time=   0.9s\n"
     ]
    },
    {
     "name": "stderr",
     "output_type": "stream",
     "text": [
      "C:\\Users\\user\\anaconda3\\lib\\site-packages\\sklearn\\neural_network\\_multilayer_perceptron.py:617: ConvergenceWarning: Stochastic Optimizer: Maximum iterations (400) reached and the optimization hasn't converged yet.\n",
      "  % self.max_iter, ConvergenceWarning)\n"
     ]
    },
    {
     "name": "stdout",
     "output_type": "stream",
     "text": [
      "[CV 3/5] END activation=tanh, max_iter=400, solver=sgd;, score=0.614 total time=   0.9s\n"
     ]
    },
    {
     "name": "stderr",
     "output_type": "stream",
     "text": [
      "C:\\Users\\user\\anaconda3\\lib\\site-packages\\sklearn\\neural_network\\_multilayer_perceptron.py:617: ConvergenceWarning: Stochastic Optimizer: Maximum iterations (400) reached and the optimization hasn't converged yet.\n",
      "  % self.max_iter, ConvergenceWarning)\n"
     ]
    },
    {
     "name": "stdout",
     "output_type": "stream",
     "text": [
      "[CV 4/5] END activation=tanh, max_iter=400, solver=sgd;, score=0.629 total time=   1.0s\n"
     ]
    },
    {
     "name": "stderr",
     "output_type": "stream",
     "text": [
      "C:\\Users\\user\\anaconda3\\lib\\site-packages\\sklearn\\neural_network\\_multilayer_perceptron.py:617: ConvergenceWarning: Stochastic Optimizer: Maximum iterations (400) reached and the optimization hasn't converged yet.\n",
      "  % self.max_iter, ConvergenceWarning)\n"
     ]
    },
    {
     "name": "stdout",
     "output_type": "stream",
     "text": [
      "[CV 5/5] END activation=tanh, max_iter=400, solver=sgd;, score=0.614 total time=   1.0s\n"
     ]
    },
    {
     "name": "stderr",
     "output_type": "stream",
     "text": [
      "C:\\Users\\user\\anaconda3\\lib\\site-packages\\sklearn\\neural_network\\_multilayer_perceptron.py:617: ConvergenceWarning: Stochastic Optimizer: Maximum iterations (400) reached and the optimization hasn't converged yet.\n",
      "  % self.max_iter, ConvergenceWarning)\n"
     ]
    },
    {
     "name": "stdout",
     "output_type": "stream",
     "text": [
      "[CV 1/5] END activation=tanh, max_iter=400, solver=adam;, score=0.600 total time=   1.1s\n"
     ]
    },
    {
     "name": "stderr",
     "output_type": "stream",
     "text": [
      "C:\\Users\\user\\anaconda3\\lib\\site-packages\\sklearn\\neural_network\\_multilayer_perceptron.py:617: ConvergenceWarning: Stochastic Optimizer: Maximum iterations (400) reached and the optimization hasn't converged yet.\n",
      "  % self.max_iter, ConvergenceWarning)\n"
     ]
    },
    {
     "name": "stdout",
     "output_type": "stream",
     "text": [
      "[CV 2/5] END activation=tanh, max_iter=400, solver=adam;, score=0.629 total time=   1.1s\n"
     ]
    },
    {
     "name": "stderr",
     "output_type": "stream",
     "text": [
      "C:\\Users\\user\\anaconda3\\lib\\site-packages\\sklearn\\neural_network\\_multilayer_perceptron.py:617: ConvergenceWarning: Stochastic Optimizer: Maximum iterations (400) reached and the optimization hasn't converged yet.\n",
      "  % self.max_iter, ConvergenceWarning)\n"
     ]
    },
    {
     "name": "stdout",
     "output_type": "stream",
     "text": [
      "[CV 3/5] END activation=tanh, max_iter=400, solver=adam;, score=0.614 total time=   1.1s\n"
     ]
    },
    {
     "name": "stderr",
     "output_type": "stream",
     "text": [
      "C:\\Users\\user\\anaconda3\\lib\\site-packages\\sklearn\\neural_network\\_multilayer_perceptron.py:617: ConvergenceWarning: Stochastic Optimizer: Maximum iterations (400) reached and the optimization hasn't converged yet.\n",
      "  % self.max_iter, ConvergenceWarning)\n"
     ]
    },
    {
     "name": "stdout",
     "output_type": "stream",
     "text": [
      "[CV 4/5] END activation=tanh, max_iter=400, solver=adam;, score=0.629 total time=   1.2s\n"
     ]
    },
    {
     "name": "stderr",
     "output_type": "stream",
     "text": [
      "C:\\Users\\user\\anaconda3\\lib\\site-packages\\sklearn\\neural_network\\_multilayer_perceptron.py:617: ConvergenceWarning: Stochastic Optimizer: Maximum iterations (400) reached and the optimization hasn't converged yet.\n",
      "  % self.max_iter, ConvergenceWarning)\n"
     ]
    },
    {
     "name": "stdout",
     "output_type": "stream",
     "text": [
      "[CV 5/5] END activation=tanh, max_iter=400, solver=adam;, score=0.629 total time=   1.1s\n",
      "[CV 1/5] END activation=tanh, max_iter=500, solver=lbfgs;, score=0.614 total time=   0.1s\n",
      "[CV 2/5] END activation=tanh, max_iter=500, solver=lbfgs;, score=0.586 total time=   0.1s\n",
      "[CV 3/5] END activation=tanh, max_iter=500, solver=lbfgs;, score=0.586 total time=   0.0s\n",
      "[CV 4/5] END activation=tanh, max_iter=500, solver=lbfgs;, score=0.600 total time=   0.0s\n",
      "[CV 5/5] END activation=tanh, max_iter=500, solver=lbfgs;, score=0.543 total time=   0.0s\n",
      "[CV 1/5] END activation=tanh, max_iter=500, solver=sgd;, score=0.614 total time=   1.3s\n",
      "[CV 2/5] END activation=tanh, max_iter=500, solver=sgd;, score=0.571 total time=   1.4s\n",
      "[CV 3/5] END activation=tanh, max_iter=500, solver=sgd;, score=0.629 total time=   1.5s\n"
     ]
    },
    {
     "name": "stderr",
     "output_type": "stream",
     "text": [
      "C:\\Users\\user\\anaconda3\\lib\\site-packages\\sklearn\\neural_network\\_multilayer_perceptron.py:617: ConvergenceWarning: Stochastic Optimizer: Maximum iterations (500) reached and the optimization hasn't converged yet.\n",
      "  % self.max_iter, ConvergenceWarning)\n"
     ]
    },
    {
     "name": "stdout",
     "output_type": "stream",
     "text": [
      "[CV 4/5] END activation=tanh, max_iter=500, solver=sgd;, score=0.629 total time=   1.5s\n"
     ]
    },
    {
     "name": "stderr",
     "output_type": "stream",
     "text": [
      "C:\\Users\\user\\anaconda3\\lib\\site-packages\\sklearn\\neural_network\\_multilayer_perceptron.py:617: ConvergenceWarning: Stochastic Optimizer: Maximum iterations (500) reached and the optimization hasn't converged yet.\n",
      "  % self.max_iter, ConvergenceWarning)\n"
     ]
    },
    {
     "name": "stdout",
     "output_type": "stream",
     "text": [
      "[CV 5/5] END activation=tanh, max_iter=500, solver=sgd;, score=0.629 total time=   1.3s\n"
     ]
    },
    {
     "name": "stderr",
     "output_type": "stream",
     "text": [
      "C:\\Users\\user\\anaconda3\\lib\\site-packages\\sklearn\\neural_network\\_multilayer_perceptron.py:617: ConvergenceWarning: Stochastic Optimizer: Maximum iterations (500) reached and the optimization hasn't converged yet.\n",
      "  % self.max_iter, ConvergenceWarning)\n"
     ]
    },
    {
     "name": "stdout",
     "output_type": "stream",
     "text": [
      "[CV 1/5] END activation=tanh, max_iter=500, solver=adam;, score=0.629 total time=   1.3s\n"
     ]
    },
    {
     "name": "stderr",
     "output_type": "stream",
     "text": [
      "C:\\Users\\user\\anaconda3\\lib\\site-packages\\sklearn\\neural_network\\_multilayer_perceptron.py:617: ConvergenceWarning: Stochastic Optimizer: Maximum iterations (500) reached and the optimization hasn't converged yet.\n",
      "  % self.max_iter, ConvergenceWarning)\n"
     ]
    },
    {
     "name": "stdout",
     "output_type": "stream",
     "text": [
      "[CV 2/5] END activation=tanh, max_iter=500, solver=adam;, score=0.614 total time=   1.4s\n"
     ]
    },
    {
     "name": "stderr",
     "output_type": "stream",
     "text": [
      "C:\\Users\\user\\anaconda3\\lib\\site-packages\\sklearn\\neural_network\\_multilayer_perceptron.py:617: ConvergenceWarning: Stochastic Optimizer: Maximum iterations (500) reached and the optimization hasn't converged yet.\n",
      "  % self.max_iter, ConvergenceWarning)\n"
     ]
    },
    {
     "name": "stdout",
     "output_type": "stream",
     "text": [
      "[CV 3/5] END activation=tanh, max_iter=500, solver=adam;, score=0.629 total time=   1.3s\n"
     ]
    },
    {
     "name": "stderr",
     "output_type": "stream",
     "text": [
      "C:\\Users\\user\\anaconda3\\lib\\site-packages\\sklearn\\neural_network\\_multilayer_perceptron.py:617: ConvergenceWarning: Stochastic Optimizer: Maximum iterations (500) reached and the optimization hasn't converged yet.\n",
      "  % self.max_iter, ConvergenceWarning)\n"
     ]
    },
    {
     "name": "stdout",
     "output_type": "stream",
     "text": [
      "[CV 4/5] END activation=tanh, max_iter=500, solver=adam;, score=0.586 total time=   1.3s\n"
     ]
    },
    {
     "name": "stderr",
     "output_type": "stream",
     "text": [
      "C:\\Users\\user\\anaconda3\\lib\\site-packages\\sklearn\\neural_network\\_multilayer_perceptron.py:617: ConvergenceWarning: Stochastic Optimizer: Maximum iterations (500) reached and the optimization hasn't converged yet.\n",
      "  % self.max_iter, ConvergenceWarning)\n"
     ]
    },
    {
     "name": "stdout",
     "output_type": "stream",
     "text": [
      "[CV 5/5] END activation=tanh, max_iter=500, solver=adam;, score=0.614 total time=   1.3s\n",
      "[CV 1/5] END activation=tanh, max_iter=600, solver=lbfgs;, score=0.629 total time=   0.0s\n",
      "[CV 2/5] END activation=tanh, max_iter=600, solver=lbfgs;, score=0.629 total time=   0.0s\n",
      "[CV 3/5] END activation=tanh, max_iter=600, solver=lbfgs;, score=0.586 total time=   0.0s\n",
      "[CV 4/5] END activation=tanh, max_iter=600, solver=lbfgs;, score=0.543 total time=   0.0s\n",
      "[CV 5/5] END activation=tanh, max_iter=600, solver=lbfgs;, score=0.571 total time=   0.0s\n",
      "[CV 1/5] END activation=tanh, max_iter=600, solver=sgd;, score=0.614 total time=   1.1s\n",
      "[CV 2/5] END activation=tanh, max_iter=600, solver=sgd;, score=0.571 total time=   1.3s\n",
      "[CV 3/5] END activation=tanh, max_iter=600, solver=sgd;, score=0.629 total time=   1.2s\n",
      "[CV 4/5] END activation=tanh, max_iter=600, solver=sgd;, score=0.643 total time=   1.1s\n",
      "[CV 5/5] END activation=tanh, max_iter=600, solver=sgd;, score=0.629 total time=   1.1s\n"
     ]
    },
    {
     "name": "stderr",
     "output_type": "stream",
     "text": [
      "C:\\Users\\user\\anaconda3\\lib\\site-packages\\sklearn\\neural_network\\_multilayer_perceptron.py:617: ConvergenceWarning: Stochastic Optimizer: Maximum iterations (600) reached and the optimization hasn't converged yet.\n",
      "  % self.max_iter, ConvergenceWarning)\n"
     ]
    },
    {
     "name": "stdout",
     "output_type": "stream",
     "text": [
      "[CV 1/5] END activation=tanh, max_iter=600, solver=adam;, score=0.643 total time=   1.5s\n"
     ]
    },
    {
     "name": "stderr",
     "output_type": "stream",
     "text": [
      "C:\\Users\\user\\anaconda3\\lib\\site-packages\\sklearn\\neural_network\\_multilayer_perceptron.py:617: ConvergenceWarning: Stochastic Optimizer: Maximum iterations (600) reached and the optimization hasn't converged yet.\n",
      "  % self.max_iter, ConvergenceWarning)\n"
     ]
    },
    {
     "name": "stdout",
     "output_type": "stream",
     "text": [
      "[CV 2/5] END activation=tanh, max_iter=600, solver=adam;, score=0.643 total time=   1.6s\n"
     ]
    },
    {
     "name": "stderr",
     "output_type": "stream",
     "text": [
      "C:\\Users\\user\\anaconda3\\lib\\site-packages\\sklearn\\neural_network\\_multilayer_perceptron.py:617: ConvergenceWarning: Stochastic Optimizer: Maximum iterations (600) reached and the optimization hasn't converged yet.\n",
      "  % self.max_iter, ConvergenceWarning)\n"
     ]
    },
    {
     "name": "stdout",
     "output_type": "stream",
     "text": [
      "[CV 3/5] END activation=tanh, max_iter=600, solver=adam;, score=0.600 total time=   1.6s\n"
     ]
    },
    {
     "name": "stderr",
     "output_type": "stream",
     "text": [
      "C:\\Users\\user\\anaconda3\\lib\\site-packages\\sklearn\\neural_network\\_multilayer_perceptron.py:617: ConvergenceWarning: Stochastic Optimizer: Maximum iterations (600) reached and the optimization hasn't converged yet.\n",
      "  % self.max_iter, ConvergenceWarning)\n"
     ]
    },
    {
     "name": "stdout",
     "output_type": "stream",
     "text": [
      "[CV 4/5] END activation=tanh, max_iter=600, solver=adam;, score=0.586 total time=   1.5s\n"
     ]
    },
    {
     "name": "stderr",
     "output_type": "stream",
     "text": [
      "C:\\Users\\user\\anaconda3\\lib\\site-packages\\sklearn\\neural_network\\_multilayer_perceptron.py:617: ConvergenceWarning: Stochastic Optimizer: Maximum iterations (600) reached and the optimization hasn't converged yet.\n",
      "  % self.max_iter, ConvergenceWarning)\n"
     ]
    },
    {
     "name": "stdout",
     "output_type": "stream",
     "text": [
      "[CV 5/5] END activation=tanh, max_iter=600, solver=adam;, score=0.643 total time=   1.5s\n",
      "[CV 1/5] END activation=relu, max_iter=300, solver=lbfgs;, score=0.629 total time=   0.0s\n",
      "[CV 2/5] END activation=relu, max_iter=300, solver=lbfgs;, score=0.657 total time=   0.0s\n",
      "[CV 3/5] END activation=relu, max_iter=300, solver=lbfgs;, score=0.614 total time=   0.0s\n",
      "[CV 4/5] END activation=relu, max_iter=300, solver=lbfgs;, score=0.614 total time=   0.0s\n",
      "[CV 5/5] END activation=relu, max_iter=300, solver=lbfgs;, score=0.657 total time=   0.0s\n"
     ]
    },
    {
     "name": "stderr",
     "output_type": "stream",
     "text": [
      "C:\\Users\\user\\anaconda3\\lib\\site-packages\\sklearn\\neural_network\\_multilayer_perceptron.py:617: ConvergenceWarning: Stochastic Optimizer: Maximum iterations (300) reached and the optimization hasn't converged yet.\n",
      "  % self.max_iter, ConvergenceWarning)\n"
     ]
    },
    {
     "name": "stdout",
     "output_type": "stream",
     "text": [
      "[CV 1/5] END activation=relu, max_iter=300, solver=sgd;, score=0.586 total time=   0.7s\n"
     ]
    },
    {
     "name": "stderr",
     "output_type": "stream",
     "text": [
      "C:\\Users\\user\\anaconda3\\lib\\site-packages\\sklearn\\neural_network\\_multilayer_perceptron.py:617: ConvergenceWarning: Stochastic Optimizer: Maximum iterations (300) reached and the optimization hasn't converged yet.\n",
      "  % self.max_iter, ConvergenceWarning)\n"
     ]
    },
    {
     "name": "stdout",
     "output_type": "stream",
     "text": [
      "[CV 2/5] END activation=relu, max_iter=300, solver=sgd;, score=0.614 total time=   0.6s\n"
     ]
    },
    {
     "name": "stderr",
     "output_type": "stream",
     "text": [
      "C:\\Users\\user\\anaconda3\\lib\\site-packages\\sklearn\\neural_network\\_multilayer_perceptron.py:617: ConvergenceWarning: Stochastic Optimizer: Maximum iterations (300) reached and the optimization hasn't converged yet.\n",
      "  % self.max_iter, ConvergenceWarning)\n"
     ]
    },
    {
     "name": "stdout",
     "output_type": "stream",
     "text": [
      "[CV 3/5] END activation=relu, max_iter=300, solver=sgd;, score=0.614 total time=   0.7s\n"
     ]
    },
    {
     "name": "stderr",
     "output_type": "stream",
     "text": [
      "C:\\Users\\user\\anaconda3\\lib\\site-packages\\sklearn\\neural_network\\_multilayer_perceptron.py:617: ConvergenceWarning: Stochastic Optimizer: Maximum iterations (300) reached and the optimization hasn't converged yet.\n",
      "  % self.max_iter, ConvergenceWarning)\n"
     ]
    },
    {
     "name": "stdout",
     "output_type": "stream",
     "text": [
      "[CV 4/5] END activation=relu, max_iter=300, solver=sgd;, score=0.614 total time=   0.7s\n"
     ]
    },
    {
     "name": "stderr",
     "output_type": "stream",
     "text": [
      "C:\\Users\\user\\anaconda3\\lib\\site-packages\\sklearn\\neural_network\\_multilayer_perceptron.py:617: ConvergenceWarning: Stochastic Optimizer: Maximum iterations (300) reached and the optimization hasn't converged yet.\n",
      "  % self.max_iter, ConvergenceWarning)\n"
     ]
    },
    {
     "name": "stdout",
     "output_type": "stream",
     "text": [
      "[CV 5/5] END activation=relu, max_iter=300, solver=sgd;, score=0.614 total time=   0.7s\n"
     ]
    },
    {
     "name": "stderr",
     "output_type": "stream",
     "text": [
      "C:\\Users\\user\\anaconda3\\lib\\site-packages\\sklearn\\neural_network\\_multilayer_perceptron.py:617: ConvergenceWarning: Stochastic Optimizer: Maximum iterations (300) reached and the optimization hasn't converged yet.\n",
      "  % self.max_iter, ConvergenceWarning)\n"
     ]
    },
    {
     "name": "stdout",
     "output_type": "stream",
     "text": [
      "[CV 1/5] END activation=relu, max_iter=300, solver=adam;, score=0.629 total time=   0.7s\n"
     ]
    },
    {
     "name": "stderr",
     "output_type": "stream",
     "text": [
      "C:\\Users\\user\\anaconda3\\lib\\site-packages\\sklearn\\neural_network\\_multilayer_perceptron.py:617: ConvergenceWarning: Stochastic Optimizer: Maximum iterations (300) reached and the optimization hasn't converged yet.\n",
      "  % self.max_iter, ConvergenceWarning)\n"
     ]
    },
    {
     "name": "stdout",
     "output_type": "stream",
     "text": [
      "[CV 2/5] END activation=relu, max_iter=300, solver=adam;, score=0.643 total time=   0.7s\n"
     ]
    },
    {
     "name": "stderr",
     "output_type": "stream",
     "text": [
      "C:\\Users\\user\\anaconda3\\lib\\site-packages\\sklearn\\neural_network\\_multilayer_perceptron.py:617: ConvergenceWarning: Stochastic Optimizer: Maximum iterations (300) reached and the optimization hasn't converged yet.\n",
      "  % self.max_iter, ConvergenceWarning)\n"
     ]
    },
    {
     "name": "stdout",
     "output_type": "stream",
     "text": [
      "[CV 3/5] END activation=relu, max_iter=300, solver=adam;, score=0.571 total time=   0.7s\n"
     ]
    },
    {
     "name": "stderr",
     "output_type": "stream",
     "text": [
      "C:\\Users\\user\\anaconda3\\lib\\site-packages\\sklearn\\neural_network\\_multilayer_perceptron.py:617: ConvergenceWarning: Stochastic Optimizer: Maximum iterations (300) reached and the optimization hasn't converged yet.\n",
      "  % self.max_iter, ConvergenceWarning)\n"
     ]
    },
    {
     "name": "stdout",
     "output_type": "stream",
     "text": [
      "[CV 4/5] END activation=relu, max_iter=300, solver=adam;, score=0.629 total time=   0.7s\n"
     ]
    },
    {
     "name": "stderr",
     "output_type": "stream",
     "text": [
      "C:\\Users\\user\\anaconda3\\lib\\site-packages\\sklearn\\neural_network\\_multilayer_perceptron.py:617: ConvergenceWarning: Stochastic Optimizer: Maximum iterations (300) reached and the optimization hasn't converged yet.\n",
      "  % self.max_iter, ConvergenceWarning)\n"
     ]
    },
    {
     "name": "stdout",
     "output_type": "stream",
     "text": [
      "[CV 5/5] END activation=relu, max_iter=300, solver=adam;, score=0.629 total time=   0.7s\n",
      "[CV 1/5] END activation=relu, max_iter=400, solver=lbfgs;, score=0.643 total time=   0.0s\n",
      "[CV 2/5] END activation=relu, max_iter=400, solver=lbfgs;, score=0.529 total time=   0.0s\n",
      "[CV 3/5] END activation=relu, max_iter=400, solver=lbfgs;, score=0.629 total time=   0.0s\n",
      "[CV 4/5] END activation=relu, max_iter=400, solver=lbfgs;, score=0.614 total time=   0.0s\n",
      "[CV 5/5] END activation=relu, max_iter=400, solver=lbfgs;, score=0.614 total time=   0.0s\n"
     ]
    },
    {
     "name": "stderr",
     "output_type": "stream",
     "text": [
      "C:\\Users\\user\\anaconda3\\lib\\site-packages\\sklearn\\neural_network\\_multilayer_perceptron.py:617: ConvergenceWarning: Stochastic Optimizer: Maximum iterations (400) reached and the optimization hasn't converged yet.\n",
      "  % self.max_iter, ConvergenceWarning)\n"
     ]
    },
    {
     "name": "stdout",
     "output_type": "stream",
     "text": [
      "[CV 1/5] END activation=relu, max_iter=400, solver=sgd;, score=0.600 total time=   0.9s\n"
     ]
    },
    {
     "name": "stderr",
     "output_type": "stream",
     "text": [
      "C:\\Users\\user\\anaconda3\\lib\\site-packages\\sklearn\\neural_network\\_multilayer_perceptron.py:617: ConvergenceWarning: Stochastic Optimizer: Maximum iterations (400) reached and the optimization hasn't converged yet.\n",
      "  % self.max_iter, ConvergenceWarning)\n"
     ]
    },
    {
     "name": "stdout",
     "output_type": "stream",
     "text": [
      "[CV 2/5] END activation=relu, max_iter=400, solver=sgd;, score=0.614 total time=   0.9s\n"
     ]
    },
    {
     "name": "stderr",
     "output_type": "stream",
     "text": [
      "C:\\Users\\user\\anaconda3\\lib\\site-packages\\sklearn\\neural_network\\_multilayer_perceptron.py:617: ConvergenceWarning: Stochastic Optimizer: Maximum iterations (400) reached and the optimization hasn't converged yet.\n",
      "  % self.max_iter, ConvergenceWarning)\n"
     ]
    },
    {
     "name": "stdout",
     "output_type": "stream",
     "text": [
      "[CV 3/5] END activation=relu, max_iter=400, solver=sgd;, score=0.643 total time=   1.0s\n"
     ]
    },
    {
     "name": "stderr",
     "output_type": "stream",
     "text": [
      "C:\\Users\\user\\anaconda3\\lib\\site-packages\\sklearn\\neural_network\\_multilayer_perceptron.py:617: ConvergenceWarning: Stochastic Optimizer: Maximum iterations (400) reached and the optimization hasn't converged yet.\n",
      "  % self.max_iter, ConvergenceWarning)\n"
     ]
    },
    {
     "name": "stdout",
     "output_type": "stream",
     "text": [
      "[CV 4/5] END activation=relu, max_iter=400, solver=sgd;, score=0.614 total time=   0.9s\n"
     ]
    },
    {
     "name": "stderr",
     "output_type": "stream",
     "text": [
      "C:\\Users\\user\\anaconda3\\lib\\site-packages\\sklearn\\neural_network\\_multilayer_perceptron.py:617: ConvergenceWarning: Stochastic Optimizer: Maximum iterations (400) reached and the optimization hasn't converged yet.\n",
      "  % self.max_iter, ConvergenceWarning)\n"
     ]
    },
    {
     "name": "stdout",
     "output_type": "stream",
     "text": [
      "[CV 5/5] END activation=relu, max_iter=400, solver=sgd;, score=0.586 total time=   0.9s\n"
     ]
    },
    {
     "name": "stderr",
     "output_type": "stream",
     "text": [
      "C:\\Users\\user\\anaconda3\\lib\\site-packages\\sklearn\\neural_network\\_multilayer_perceptron.py:617: ConvergenceWarning: Stochastic Optimizer: Maximum iterations (400) reached and the optimization hasn't converged yet.\n",
      "  % self.max_iter, ConvergenceWarning)\n"
     ]
    },
    {
     "name": "stdout",
     "output_type": "stream",
     "text": [
      "[CV 1/5] END activation=relu, max_iter=400, solver=adam;, score=0.657 total time=   1.0s\n"
     ]
    },
    {
     "name": "stderr",
     "output_type": "stream",
     "text": [
      "C:\\Users\\user\\anaconda3\\lib\\site-packages\\sklearn\\neural_network\\_multilayer_perceptron.py:617: ConvergenceWarning: Stochastic Optimizer: Maximum iterations (400) reached and the optimization hasn't converged yet.\n",
      "  % self.max_iter, ConvergenceWarning)\n"
     ]
    },
    {
     "name": "stdout",
     "output_type": "stream",
     "text": [
      "[CV 2/5] END activation=relu, max_iter=400, solver=adam;, score=0.657 total time=   1.0s\n"
     ]
    },
    {
     "name": "stderr",
     "output_type": "stream",
     "text": [
      "C:\\Users\\user\\anaconda3\\lib\\site-packages\\sklearn\\neural_network\\_multilayer_perceptron.py:617: ConvergenceWarning: Stochastic Optimizer: Maximum iterations (400) reached and the optimization hasn't converged yet.\n",
      "  % self.max_iter, ConvergenceWarning)\n"
     ]
    },
    {
     "name": "stdout",
     "output_type": "stream",
     "text": [
      "[CV 3/5] END activation=relu, max_iter=400, solver=adam;, score=0.571 total time=   1.0s\n"
     ]
    },
    {
     "name": "stderr",
     "output_type": "stream",
     "text": [
      "C:\\Users\\user\\anaconda3\\lib\\site-packages\\sklearn\\neural_network\\_multilayer_perceptron.py:617: ConvergenceWarning: Stochastic Optimizer: Maximum iterations (400) reached and the optimization hasn't converged yet.\n",
      "  % self.max_iter, ConvergenceWarning)\n"
     ]
    },
    {
     "name": "stdout",
     "output_type": "stream",
     "text": [
      "[CV 4/5] END activation=relu, max_iter=400, solver=adam;, score=0.629 total time=   1.0s\n"
     ]
    },
    {
     "name": "stderr",
     "output_type": "stream",
     "text": [
      "C:\\Users\\user\\anaconda3\\lib\\site-packages\\sklearn\\neural_network\\_multilayer_perceptron.py:617: ConvergenceWarning: Stochastic Optimizer: Maximum iterations (400) reached and the optimization hasn't converged yet.\n",
      "  % self.max_iter, ConvergenceWarning)\n"
     ]
    },
    {
     "name": "stdout",
     "output_type": "stream",
     "text": [
      "[CV 5/5] END activation=relu, max_iter=400, solver=adam;, score=0.600 total time=   1.0s\n",
      "[CV 1/5] END activation=relu, max_iter=500, solver=lbfgs;, score=0.629 total time=   0.0s\n",
      "[CV 2/5] END activation=relu, max_iter=500, solver=lbfgs;, score=0.571 total time=   0.0s\n",
      "[CV 3/5] END activation=relu, max_iter=500, solver=lbfgs;, score=0.529 total time=   0.0s\n",
      "[CV 4/5] END activation=relu, max_iter=500, solver=lbfgs;, score=0.600 total time=   0.0s\n",
      "[CV 5/5] END activation=relu, max_iter=500, solver=lbfgs;, score=0.657 total time=   0.0s\n"
     ]
    },
    {
     "name": "stderr",
     "output_type": "stream",
     "text": [
      "C:\\Users\\user\\anaconda3\\lib\\site-packages\\sklearn\\neural_network\\_multilayer_perceptron.py:617: ConvergenceWarning: Stochastic Optimizer: Maximum iterations (500) reached and the optimization hasn't converged yet.\n",
      "  % self.max_iter, ConvergenceWarning)\n"
     ]
    },
    {
     "name": "stdout",
     "output_type": "stream",
     "text": [
      "[CV 1/5] END activation=relu, max_iter=500, solver=sgd;, score=0.571 total time=   1.2s\n"
     ]
    },
    {
     "name": "stderr",
     "output_type": "stream",
     "text": [
      "C:\\Users\\user\\anaconda3\\lib\\site-packages\\sklearn\\neural_network\\_multilayer_perceptron.py:617: ConvergenceWarning: Stochastic Optimizer: Maximum iterations (500) reached and the optimization hasn't converged yet.\n",
      "  % self.max_iter, ConvergenceWarning)\n"
     ]
    },
    {
     "name": "stdout",
     "output_type": "stream",
     "text": [
      "[CV 2/5] END activation=relu, max_iter=500, solver=sgd;, score=0.629 total time=   1.4s\n"
     ]
    },
    {
     "name": "stderr",
     "output_type": "stream",
     "text": [
      "C:\\Users\\user\\anaconda3\\lib\\site-packages\\sklearn\\neural_network\\_multilayer_perceptron.py:617: ConvergenceWarning: Stochastic Optimizer: Maximum iterations (500) reached and the optimization hasn't converged yet.\n",
      "  % self.max_iter, ConvergenceWarning)\n"
     ]
    },
    {
     "name": "stdout",
     "output_type": "stream",
     "text": [
      "[CV 3/5] END activation=relu, max_iter=500, solver=sgd;, score=0.671 total time=   1.5s\n"
     ]
    },
    {
     "name": "stderr",
     "output_type": "stream",
     "text": [
      "C:\\Users\\user\\anaconda3\\lib\\site-packages\\sklearn\\neural_network\\_multilayer_perceptron.py:617: ConvergenceWarning: Stochastic Optimizer: Maximum iterations (500) reached and the optimization hasn't converged yet.\n",
      "  % self.max_iter, ConvergenceWarning)\n"
     ]
    },
    {
     "name": "stdout",
     "output_type": "stream",
     "text": [
      "[CV 4/5] END activation=relu, max_iter=500, solver=sgd;, score=0.614 total time=   1.3s\n"
     ]
    },
    {
     "name": "stderr",
     "output_type": "stream",
     "text": [
      "C:\\Users\\user\\anaconda3\\lib\\site-packages\\sklearn\\neural_network\\_multilayer_perceptron.py:617: ConvergenceWarning: Stochastic Optimizer: Maximum iterations (500) reached and the optimization hasn't converged yet.\n",
      "  % self.max_iter, ConvergenceWarning)\n"
     ]
    },
    {
     "name": "stdout",
     "output_type": "stream",
     "text": [
      "[CV 5/5] END activation=relu, max_iter=500, solver=sgd;, score=0.571 total time=   1.3s\n"
     ]
    },
    {
     "name": "stderr",
     "output_type": "stream",
     "text": [
      "C:\\Users\\user\\anaconda3\\lib\\site-packages\\sklearn\\neural_network\\_multilayer_perceptron.py:617: ConvergenceWarning: Stochastic Optimizer: Maximum iterations (500) reached and the optimization hasn't converged yet.\n",
      "  % self.max_iter, ConvergenceWarning)\n"
     ]
    },
    {
     "name": "stdout",
     "output_type": "stream",
     "text": [
      "[CV 1/5] END activation=relu, max_iter=500, solver=adam;, score=0.686 total time=   1.4s\n"
     ]
    },
    {
     "name": "stderr",
     "output_type": "stream",
     "text": [
      "C:\\Users\\user\\anaconda3\\lib\\site-packages\\sklearn\\neural_network\\_multilayer_perceptron.py:617: ConvergenceWarning: Stochastic Optimizer: Maximum iterations (500) reached and the optimization hasn't converged yet.\n",
      "  % self.max_iter, ConvergenceWarning)\n"
     ]
    },
    {
     "name": "stdout",
     "output_type": "stream",
     "text": [
      "[CV 2/5] END activation=relu, max_iter=500, solver=adam;, score=0.643 total time=   1.4s\n"
     ]
    },
    {
     "name": "stderr",
     "output_type": "stream",
     "text": [
      "C:\\Users\\user\\anaconda3\\lib\\site-packages\\sklearn\\neural_network\\_multilayer_perceptron.py:617: ConvergenceWarning: Stochastic Optimizer: Maximum iterations (500) reached and the optimization hasn't converged yet.\n",
      "  % self.max_iter, ConvergenceWarning)\n"
     ]
    },
    {
     "name": "stdout",
     "output_type": "stream",
     "text": [
      "[CV 3/5] END activation=relu, max_iter=500, solver=adam;, score=0.614 total time=   1.4s\n"
     ]
    },
    {
     "name": "stderr",
     "output_type": "stream",
     "text": [
      "C:\\Users\\user\\anaconda3\\lib\\site-packages\\sklearn\\neural_network\\_multilayer_perceptron.py:617: ConvergenceWarning: Stochastic Optimizer: Maximum iterations (500) reached and the optimization hasn't converged yet.\n",
      "  % self.max_iter, ConvergenceWarning)\n"
     ]
    },
    {
     "name": "stdout",
     "output_type": "stream",
     "text": [
      "[CV 4/5] END activation=relu, max_iter=500, solver=adam;, score=0.629 total time=   1.4s\n"
     ]
    },
    {
     "name": "stderr",
     "output_type": "stream",
     "text": [
      "C:\\Users\\user\\anaconda3\\lib\\site-packages\\sklearn\\neural_network\\_multilayer_perceptron.py:617: ConvergenceWarning: Stochastic Optimizer: Maximum iterations (500) reached and the optimization hasn't converged yet.\n",
      "  % self.max_iter, ConvergenceWarning)\n"
     ]
    },
    {
     "name": "stdout",
     "output_type": "stream",
     "text": [
      "[CV 5/5] END activation=relu, max_iter=500, solver=adam;, score=0.614 total time=   1.4s\n",
      "[CV 1/5] END activation=relu, max_iter=600, solver=lbfgs;, score=0.643 total time=   0.0s\n",
      "[CV 2/5] END activation=relu, max_iter=600, solver=lbfgs;, score=0.614 total time=   0.0s\n",
      "[CV 3/5] END activation=relu, max_iter=600, solver=lbfgs;, score=0.600 total time=   0.0s\n",
      "[CV 4/5] END activation=relu, max_iter=600, solver=lbfgs;, score=0.614 total time=   0.0s\n",
      "[CV 5/5] END activation=relu, max_iter=600, solver=lbfgs;, score=0.714 total time=   0.0s\n"
     ]
    },
    {
     "name": "stderr",
     "output_type": "stream",
     "text": [
      "C:\\Users\\user\\anaconda3\\lib\\site-packages\\sklearn\\neural_network\\_multilayer_perceptron.py:617: ConvergenceWarning: Stochastic Optimizer: Maximum iterations (600) reached and the optimization hasn't converged yet.\n",
      "  % self.max_iter, ConvergenceWarning)\n"
     ]
    },
    {
     "name": "stdout",
     "output_type": "stream",
     "text": [
      "[CV 1/5] END activation=relu, max_iter=600, solver=sgd;, score=0.557 total time=   1.6s\n"
     ]
    },
    {
     "name": "stderr",
     "output_type": "stream",
     "text": [
      "C:\\Users\\user\\anaconda3\\lib\\site-packages\\sklearn\\neural_network\\_multilayer_perceptron.py:617: ConvergenceWarning: Stochastic Optimizer: Maximum iterations (600) reached and the optimization hasn't converged yet.\n",
      "  % self.max_iter, ConvergenceWarning)\n"
     ]
    },
    {
     "name": "stdout",
     "output_type": "stream",
     "text": [
      "[CV 2/5] END activation=relu, max_iter=600, solver=sgd;, score=0.614 total time=   1.5s\n"
     ]
    },
    {
     "name": "stderr",
     "output_type": "stream",
     "text": [
      "C:\\Users\\user\\anaconda3\\lib\\site-packages\\sklearn\\neural_network\\_multilayer_perceptron.py:617: ConvergenceWarning: Stochastic Optimizer: Maximum iterations (600) reached and the optimization hasn't converged yet.\n",
      "  % self.max_iter, ConvergenceWarning)\n"
     ]
    },
    {
     "name": "stdout",
     "output_type": "stream",
     "text": [
      "[CV 3/5] END activation=relu, max_iter=600, solver=sgd;, score=0.614 total time=   1.4s\n"
     ]
    },
    {
     "name": "stderr",
     "output_type": "stream",
     "text": [
      "C:\\Users\\user\\anaconda3\\lib\\site-packages\\sklearn\\neural_network\\_multilayer_perceptron.py:617: ConvergenceWarning: Stochastic Optimizer: Maximum iterations (600) reached and the optimization hasn't converged yet.\n",
      "  % self.max_iter, ConvergenceWarning)\n"
     ]
    },
    {
     "name": "stdout",
     "output_type": "stream",
     "text": [
      "[CV 4/5] END activation=relu, max_iter=600, solver=sgd;, score=0.600 total time=   1.4s\n"
     ]
    },
    {
     "name": "stderr",
     "output_type": "stream",
     "text": [
      "C:\\Users\\user\\anaconda3\\lib\\site-packages\\sklearn\\neural_network\\_multilayer_perceptron.py:617: ConvergenceWarning: Stochastic Optimizer: Maximum iterations (600) reached and the optimization hasn't converged yet.\n",
      "  % self.max_iter, ConvergenceWarning)\n"
     ]
    },
    {
     "name": "stdout",
     "output_type": "stream",
     "text": [
      "[CV 5/5] END activation=relu, max_iter=600, solver=sgd;, score=0.600 total time=   1.4s\n"
     ]
    },
    {
     "name": "stderr",
     "output_type": "stream",
     "text": [
      "C:\\Users\\user\\anaconda3\\lib\\site-packages\\sklearn\\neural_network\\_multilayer_perceptron.py:617: ConvergenceWarning: Stochastic Optimizer: Maximum iterations (600) reached and the optimization hasn't converged yet.\n",
      "  % self.max_iter, ConvergenceWarning)\n"
     ]
    },
    {
     "name": "stdout",
     "output_type": "stream",
     "text": [
      "[CV 1/5] END activation=relu, max_iter=600, solver=adam;, score=0.686 total time=   1.5s\n"
     ]
    },
    {
     "name": "stderr",
     "output_type": "stream",
     "text": [
      "C:\\Users\\user\\anaconda3\\lib\\site-packages\\sklearn\\neural_network\\_multilayer_perceptron.py:617: ConvergenceWarning: Stochastic Optimizer: Maximum iterations (600) reached and the optimization hasn't converged yet.\n",
      "  % self.max_iter, ConvergenceWarning)\n"
     ]
    },
    {
     "name": "stdout",
     "output_type": "stream",
     "text": [
      "[CV 2/5] END activation=relu, max_iter=600, solver=adam;, score=0.643 total time=   1.5s\n"
     ]
    },
    {
     "name": "stderr",
     "output_type": "stream",
     "text": [
      "C:\\Users\\user\\anaconda3\\lib\\site-packages\\sklearn\\neural_network\\_multilayer_perceptron.py:617: ConvergenceWarning: Stochastic Optimizer: Maximum iterations (600) reached and the optimization hasn't converged yet.\n",
      "  % self.max_iter, ConvergenceWarning)\n"
     ]
    },
    {
     "name": "stdout",
     "output_type": "stream",
     "text": [
      "[CV 3/5] END activation=relu, max_iter=600, solver=adam;, score=0.629 total time=   1.5s\n"
     ]
    },
    {
     "name": "stderr",
     "output_type": "stream",
     "text": [
      "C:\\Users\\user\\anaconda3\\lib\\site-packages\\sklearn\\neural_network\\_multilayer_perceptron.py:617: ConvergenceWarning: Stochastic Optimizer: Maximum iterations (600) reached and the optimization hasn't converged yet.\n",
      "  % self.max_iter, ConvergenceWarning)\n"
     ]
    },
    {
     "name": "stdout",
     "output_type": "stream",
     "text": [
      "[CV 4/5] END activation=relu, max_iter=600, solver=adam;, score=0.686 total time=   1.5s\n"
     ]
    },
    {
     "name": "stderr",
     "output_type": "stream",
     "text": [
      "C:\\Users\\user\\anaconda3\\lib\\site-packages\\sklearn\\neural_network\\_multilayer_perceptron.py:617: ConvergenceWarning: Stochastic Optimizer: Maximum iterations (600) reached and the optimization hasn't converged yet.\n",
      "  % self.max_iter, ConvergenceWarning)\n"
     ]
    },
    {
     "name": "stdout",
     "output_type": "stream",
     "text": [
      "[CV 5/5] END activation=relu, max_iter=600, solver=adam;, score=0.629 total time=   1.5s\n"
     ]
    },
    {
     "name": "stderr",
     "output_type": "stream",
     "text": [
      "C:\\Users\\user\\anaconda3\\lib\\site-packages\\sklearn\\neural_network\\_multilayer_perceptron.py:617: ConvergenceWarning: Stochastic Optimizer: Maximum iterations (600) reached and the optimization hasn't converged yet.\n",
      "  % self.max_iter, ConvergenceWarning)\n"
     ]
    },
    {
     "data": {
      "text/plain": [
       "GridSearchCV(estimator=MLPClassifier(),\n",
       "             param_grid={'activation': ['identity', 'logistic', 'tanh', 'relu'],\n",
       "                         'max_iter': [300, 400, 500, 600],\n",
       "                         'solver': ['lbfgs', 'sgd', 'adam']},\n",
       "             verbose=3)"
      ]
     },
     "execution_count": 58,
     "metadata": {},
     "output_type": "execute_result"
    }
   ],
   "source": [
    "grid.fit(x_train,y_train)"
   ]
  },
  {
   "cell_type": "code",
   "execution_count": 59,
   "metadata": {},
   "outputs": [
    {
     "data": {
      "text/plain": [
       "{'activation': 'relu', 'max_iter': 600, 'solver': 'adam'}"
      ]
     },
     "execution_count": 59,
     "metadata": {},
     "output_type": "execute_result"
    }
   ],
   "source": [
    "grid.best_params_"
   ]
  },
  {
   "cell_type": "code",
   "execution_count": 60,
   "metadata": {},
   "outputs": [],
   "source": [
    "y_pred1=grid.predict(x_test)"
   ]
  },
  {
   "cell_type": "code",
   "execution_count": 61,
   "metadata": {},
   "outputs": [
    {
     "data": {
      "text/plain": [
       "0.6266666666666667"
      ]
     },
     "execution_count": 61,
     "metadata": {},
     "output_type": "execute_result"
    }
   ],
   "source": [
    "accuracy_score(y_test, y_pred1)"
   ]
  },
  {
   "cell_type": "code",
   "execution_count": null,
   "metadata": {},
   "outputs": [],
   "source": []
  }
 ],
 "metadata": {
  "kernelspec": {
   "display_name": "Python 3",
   "language": "python",
   "name": "python3"
  },
  "language_info": {
   "codemirror_mode": {
    "name": "ipython",
    "version": 3
   },
   "file_extension": ".py",
   "mimetype": "text/x-python",
   "name": "python",
   "nbconvert_exporter": "python",
   "pygments_lexer": "ipython3",
   "version": "3.7.6"
  }
 },
 "nbformat": 4,
 "nbformat_minor": 4
}
